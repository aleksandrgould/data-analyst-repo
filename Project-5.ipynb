{
 "cells": [
  {
   "cell_type": "markdown",
   "metadata": {},
   "source": [
    "# Taxi Start-Up Market Analysis #"
   ]
  },
  {
   "cell_type": "markdown",
   "metadata": {},
   "source": [
    "***Here, I explored passenger preferences and the impact of external factors on ride frequency, destination, and conducted hypothesis testing.***  "
   ]
  },
  {
   "cell_type": "code",
   "execution_count": 2,
   "metadata": {},
   "outputs": [
    {
     "name": "stdout",
     "output_type": "stream",
     "text": [
      "Requirement already satisfied: seaborn in /opt/conda/lib/python3.9/site-packages (0.11.1)\n",
      "Collecting seaborn\n",
      "  Downloading seaborn-0.11.2-py3-none-any.whl (292 kB)\n",
      "\u001b[K     |████████████████████████████████| 292 kB 1.4 MB/s eta 0:00:01\n",
      "\u001b[?25hRequirement already satisfied: numpy>=1.15 in /opt/conda/lib/python3.9/site-packages (from seaborn) (1.21.1)\n",
      "Requirement already satisfied: matplotlib>=2.2 in /opt/conda/lib/python3.9/site-packages (from seaborn) (3.3.4)\n",
      "Requirement already satisfied: pandas>=0.23 in /opt/conda/lib/python3.9/site-packages (from seaborn) (1.2.4)\n",
      "Requirement already satisfied: scipy>=1.0 in /opt/conda/lib/python3.9/site-packages (from seaborn) (1.8.0)\n",
      "Requirement already satisfied: kiwisolver>=1.0.1 in /opt/conda/lib/python3.9/site-packages (from matplotlib>=2.2->seaborn) (1.4.2)\n",
      "Requirement already satisfied: pillow>=6.2.0 in /opt/conda/lib/python3.9/site-packages (from matplotlib>=2.2->seaborn) (8.4.0)\n",
      "Requirement already satisfied: pyparsing!=2.0.4,!=2.1.2,!=2.1.6,>=2.0.3 in /opt/conda/lib/python3.9/site-packages (from matplotlib>=2.2->seaborn) (2.4.7)\n",
      "Requirement already satisfied: python-dateutil>=2.1 in /opt/conda/lib/python3.9/site-packages (from matplotlib>=2.2->seaborn) (2.8.1)\n",
      "Requirement already satisfied: cycler>=0.10 in /opt/conda/lib/python3.9/site-packages (from matplotlib>=2.2->seaborn) (0.11.0)\n",
      "Requirement already satisfied: pytz>=2017.3 in /opt/conda/lib/python3.9/site-packages (from pandas>=0.23->seaborn) (2021.1)\n",
      "Requirement already satisfied: six>=1.5 in /opt/conda/lib/python3.9/site-packages (from python-dateutil>=2.1->matplotlib>=2.2->seaborn) (1.16.0)\n",
      "Installing collected packages: seaborn\n",
      "  Attempting uninstall: seaborn\n",
      "    Found existing installation: seaborn 0.11.1\n",
      "    Uninstalling seaborn-0.11.1:\n",
      "      Successfully uninstalled seaborn-0.11.1\n",
      "Successfully installed seaborn-0.11.2\n",
      "Requirement already satisfied: matplotlib in /opt/conda/lib/python3.9/site-packages (3.3.4)\n",
      "Collecting matplotlib\n",
      "  Downloading matplotlib-3.5.2-cp39-cp39-manylinux_2_5_x86_64.manylinux1_x86_64.whl (11.2 MB)\n",
      "\u001b[K     |████████████████████████████████| 11.2 MB 2.1 MB/s eta 0:00:01\n",
      "\u001b[?25hRequirement already satisfied: pillow>=6.2.0 in /opt/conda/lib/python3.9/site-packages (from matplotlib) (8.4.0)\n",
      "Collecting fonttools>=4.22.0\n",
      "  Downloading fonttools-4.33.3-py3-none-any.whl (930 kB)\n",
      "\u001b[K     |████████████████████████████████| 930 kB 73.4 MB/s eta 0:00:01\n",
      "\u001b[?25hRequirement already satisfied: pyparsing>=2.2.1 in /opt/conda/lib/python3.9/site-packages (from matplotlib) (2.4.7)\n",
      "Requirement already satisfied: numpy>=1.17 in /opt/conda/lib/python3.9/site-packages (from matplotlib) (1.21.1)\n",
      "Requirement already satisfied: cycler>=0.10 in /opt/conda/lib/python3.9/site-packages (from matplotlib) (0.11.0)\n",
      "Requirement already satisfied: kiwisolver>=1.0.1 in /opt/conda/lib/python3.9/site-packages (from matplotlib) (1.4.2)\n",
      "Requirement already satisfied: python-dateutil>=2.7 in /opt/conda/lib/python3.9/site-packages (from matplotlib) (2.8.1)\n",
      "Requirement already satisfied: packaging>=20.0 in /opt/conda/lib/python3.9/site-packages (from matplotlib) (21.3)\n",
      "Requirement already satisfied: six>=1.5 in /opt/conda/lib/python3.9/site-packages (from python-dateutil>=2.7->matplotlib) (1.16.0)\n",
      "Installing collected packages: fonttools, matplotlib\n",
      "  Attempting uninstall: matplotlib\n",
      "    Found existing installation: matplotlib 3.3.4\n",
      "    Uninstalling matplotlib-3.3.4:\n",
      "      Successfully uninstalled matplotlib-3.3.4\n",
      "Successfully installed fonttools-4.33.3 matplotlib-3.5.2\n",
      "Collecting pywaffle\n",
      "  Downloading pywaffle-1.1.0-py2.py3-none-any.whl (30 kB)\n",
      "Requirement already satisfied: matplotlib in /opt/conda/lib/python3.9/site-packages (from pywaffle) (3.5.2)\n",
      "Collecting fontawesomefree\n",
      "  Downloading fontawesomefree-6.1.1-py3-none-any.whl (26.1 MB)\n",
      "\u001b[K     |████████████████████████████████| 26.1 MB 116 kB/s eta 0:00:01\n",
      "\u001b[?25hRequirement already satisfied: pillow>=6.2.0 in /opt/conda/lib/python3.9/site-packages (from matplotlib->pywaffle) (8.4.0)\n",
      "Requirement already satisfied: kiwisolver>=1.0.1 in /opt/conda/lib/python3.9/site-packages (from matplotlib->pywaffle) (1.4.2)\n",
      "Requirement already satisfied: python-dateutil>=2.7 in /opt/conda/lib/python3.9/site-packages (from matplotlib->pywaffle) (2.8.1)\n",
      "Requirement already satisfied: packaging>=20.0 in /opt/conda/lib/python3.9/site-packages (from matplotlib->pywaffle) (21.3)\n",
      "Requirement already satisfied: pyparsing>=2.2.1 in /opt/conda/lib/python3.9/site-packages (from matplotlib->pywaffle) (2.4.7)\n",
      "Requirement already satisfied: cycler>=0.10 in /opt/conda/lib/python3.9/site-packages (from matplotlib->pywaffle) (0.11.0)\n",
      "Requirement already satisfied: numpy>=1.17 in /opt/conda/lib/python3.9/site-packages (from matplotlib->pywaffle) (1.21.1)\n",
      "Requirement already satisfied: fonttools>=4.22.0 in /opt/conda/lib/python3.9/site-packages (from matplotlib->pywaffle) (4.33.3)\n",
      "Requirement already satisfied: six>=1.5 in /opt/conda/lib/python3.9/site-packages (from python-dateutil>=2.7->matplotlib->pywaffle) (1.16.0)\n",
      "Installing collected packages: fontawesomefree, pywaffle\n",
      "Successfully installed fontawesomefree-6.1.1 pywaffle-1.1.0\n"
     ]
    }
   ],
   "source": [
    "import pandas as pd\n",
    "from scipy import stats as st\n",
    "import numpy as np\n",
    "import matplotlib.pyplot as plt\n",
    "import seaborn as sns\n",
    "import math as mt\n",
    "from functools import reduce\n",
    "%matplotlib inline\n",
    "\n",
    "\n",
    "\n",
    "\n",
    "! pip install --upgrade seaborn\n",
    "! pip install --upgrade matplotlib\n",
    "! pip install pywaffle"
   ]
  },
  {
   "cell_type": "code",
   "execution_count": 3,
   "metadata": {},
   "outputs": [
    {
     "data": {
      "text/html": [
       "<div>\n",
       "<style scoped>\n",
       "    .dataframe tbody tr th:only-of-type {\n",
       "        vertical-align: middle;\n",
       "    }\n",
       "\n",
       "    .dataframe tbody tr th {\n",
       "        vertical-align: top;\n",
       "    }\n",
       "\n",
       "    .dataframe thead th {\n",
       "        text-align: right;\n",
       "    }\n",
       "</style>\n",
       "<table border=\"1\" class=\"dataframe\">\n",
       "  <thead>\n",
       "    <tr style=\"text-align: right;\">\n",
       "      <th></th>\n",
       "      <th>company_name</th>\n",
       "      <th>trips_amount</th>\n",
       "    </tr>\n",
       "  </thead>\n",
       "  <tbody>\n",
       "    <tr>\n",
       "      <th>0</th>\n",
       "      <td>Flash Cab</td>\n",
       "      <td>19558</td>\n",
       "    </tr>\n",
       "    <tr>\n",
       "      <th>1</th>\n",
       "      <td>Taxi Affiliation Services</td>\n",
       "      <td>11422</td>\n",
       "    </tr>\n",
       "    <tr>\n",
       "      <th>2</th>\n",
       "      <td>Medallion Leasing</td>\n",
       "      <td>10367</td>\n",
       "    </tr>\n",
       "    <tr>\n",
       "      <th>3</th>\n",
       "      <td>Yellow Cab</td>\n",
       "      <td>9888</td>\n",
       "    </tr>\n",
       "    <tr>\n",
       "      <th>4</th>\n",
       "      <td>Taxi Affiliation Service Yellow</td>\n",
       "      <td>9299</td>\n",
       "    </tr>\n",
       "    <tr>\n",
       "      <th>...</th>\n",
       "      <td>...</td>\n",
       "      <td>...</td>\n",
       "    </tr>\n",
       "    <tr>\n",
       "      <th>59</th>\n",
       "      <td>4053 - 40193 Adwar H. Nikola</td>\n",
       "      <td>7</td>\n",
       "    </tr>\n",
       "    <tr>\n",
       "      <th>60</th>\n",
       "      <td>2733 - 74600 Benny Jona</td>\n",
       "      <td>7</td>\n",
       "    </tr>\n",
       "    <tr>\n",
       "      <th>61</th>\n",
       "      <td>5874 - 73628 Sergey Cab Corp.</td>\n",
       "      <td>5</td>\n",
       "    </tr>\n",
       "    <tr>\n",
       "      <th>62</th>\n",
       "      <td>2241 - 44667 - Felman Corp</td>\n",
       "      <td>3</td>\n",
       "    </tr>\n",
       "    <tr>\n",
       "      <th>63</th>\n",
       "      <td>3556 - 36214 RC Andrews Cab</td>\n",
       "      <td>2</td>\n",
       "    </tr>\n",
       "  </tbody>\n",
       "</table>\n",
       "<p>64 rows × 2 columns</p>\n",
       "</div>"
      ],
      "text/plain": [
       "                       company_name  trips_amount\n",
       "0                         Flash Cab         19558\n",
       "1         Taxi Affiliation Services         11422\n",
       "2                 Medallion Leasing         10367\n",
       "3                        Yellow Cab          9888\n",
       "4   Taxi Affiliation Service Yellow          9299\n",
       "..                              ...           ...\n",
       "59     4053 - 40193 Adwar H. Nikola             7\n",
       "60          2733 - 74600 Benny Jona             7\n",
       "61    5874 - 73628 Sergey Cab Corp.             5\n",
       "62       2241 - 44667 - Felman Corp             3\n",
       "63      3556 - 36214 RC Andrews Cab             2\n",
       "\n",
       "[64 rows x 2 columns]"
      ]
     },
     "execution_count": 3,
     "metadata": {},
     "output_type": "execute_result"
    }
   ],
   "source": [
    "Company_Info = pd.read_csv('/datasets/project_sql_result_01.csv') #It contains the following data:company_name: taxi company name\n",
    "#trips_amount: the number of rides for each taxi company on November 15-16, 2017.\n",
    "Company_Info\n",
    "\n"
   ]
  },
  {
   "cell_type": "code",
   "execution_count": 4,
   "metadata": {},
   "outputs": [
    {
     "data": {
      "text/html": [
       "<div>\n",
       "<style scoped>\n",
       "    .dataframe tbody tr th:only-of-type {\n",
       "        vertical-align: middle;\n",
       "    }\n",
       "\n",
       "    .dataframe tbody tr th {\n",
       "        vertical-align: top;\n",
       "    }\n",
       "\n",
       "    .dataframe thead th {\n",
       "        text-align: right;\n",
       "    }\n",
       "</style>\n",
       "<table border=\"1\" class=\"dataframe\">\n",
       "  <thead>\n",
       "    <tr style=\"text-align: right;\">\n",
       "      <th></th>\n",
       "      <th>company_name</th>\n",
       "      <th>trips_amount</th>\n",
       "    </tr>\n",
       "  </thead>\n",
       "  <tbody>\n",
       "    <tr>\n",
       "      <th>0</th>\n",
       "      <td>FlashCab</td>\n",
       "      <td>19558</td>\n",
       "    </tr>\n",
       "    <tr>\n",
       "      <th>1</th>\n",
       "      <td>TaxiAffiliationServices</td>\n",
       "      <td>11422</td>\n",
       "    </tr>\n",
       "    <tr>\n",
       "      <th>2</th>\n",
       "      <td>MedallionLeasing</td>\n",
       "      <td>10367</td>\n",
       "    </tr>\n",
       "    <tr>\n",
       "      <th>3</th>\n",
       "      <td>YellowCab</td>\n",
       "      <td>9888</td>\n",
       "    </tr>\n",
       "    <tr>\n",
       "      <th>4</th>\n",
       "      <td>TaxiAffiliationServiceYellow</td>\n",
       "      <td>9299</td>\n",
       "    </tr>\n",
       "    <tr>\n",
       "      <th>...</th>\n",
       "      <td>...</td>\n",
       "      <td>...</td>\n",
       "    </tr>\n",
       "    <tr>\n",
       "      <th>59</th>\n",
       "      <td>4053-40193AdwarH.Nikola</td>\n",
       "      <td>7</td>\n",
       "    </tr>\n",
       "    <tr>\n",
       "      <th>60</th>\n",
       "      <td>2733-74600BennyJona</td>\n",
       "      <td>7</td>\n",
       "    </tr>\n",
       "    <tr>\n",
       "      <th>61</th>\n",
       "      <td>5874-73628SergeyCabCorp.</td>\n",
       "      <td>5</td>\n",
       "    </tr>\n",
       "    <tr>\n",
       "      <th>62</th>\n",
       "      <td>2241-44667-FelmanCorp</td>\n",
       "      <td>3</td>\n",
       "    </tr>\n",
       "    <tr>\n",
       "      <th>63</th>\n",
       "      <td>3556-36214RCAndrewsCab</td>\n",
       "      <td>2</td>\n",
       "    </tr>\n",
       "  </tbody>\n",
       "</table>\n",
       "<p>64 rows × 2 columns</p>\n",
       "</div>"
      ],
      "text/plain": [
       "                    company_name  trips_amount\n",
       "0                       FlashCab         19558\n",
       "1        TaxiAffiliationServices         11422\n",
       "2               MedallionLeasing         10367\n",
       "3                      YellowCab          9888\n",
       "4   TaxiAffiliationServiceYellow          9299\n",
       "..                           ...           ...\n",
       "59       4053-40193AdwarH.Nikola             7\n",
       "60           2733-74600BennyJona             7\n",
       "61      5874-73628SergeyCabCorp.             5\n",
       "62         2241-44667-FelmanCorp             3\n",
       "63        3556-36214RCAndrewsCab             2\n",
       "\n",
       "[64 rows x 2 columns]"
      ]
     },
     "execution_count": 4,
     "metadata": {},
     "output_type": "execute_result"
    }
   ],
   "source": [
    "Company_Info.replace(r'\\s*(.*?)\\s*', r'\\1', regex=True) "
   ]
  },
  {
   "cell_type": "code",
   "execution_count": 5,
   "metadata": {},
   "outputs": [
    {
     "name": "stdout",
     "output_type": "stream",
     "text": [
      "<class 'pandas.core.frame.DataFrame'>\n",
      "RangeIndex: 64 entries, 0 to 63\n",
      "Data columns (total 2 columns):\n",
      " #   Column        Non-Null Count  Dtype \n",
      "---  ------        --------------  ----- \n",
      " 0   company_name  64 non-null     object\n",
      " 1   trips_amount  64 non-null     int64 \n",
      "dtypes: int64(1), object(1)\n",
      "memory usage: 1.1+ KB\n"
     ]
    }
   ],
   "source": [
    "Company_Info.info()"
   ]
  },
  {
   "cell_type": "code",
   "execution_count": 6,
   "metadata": {},
   "outputs": [
    {
     "data": {
      "text/html": [
       "<div>\n",
       "<style scoped>\n",
       "    .dataframe tbody tr th:only-of-type {\n",
       "        vertical-align: middle;\n",
       "    }\n",
       "\n",
       "    .dataframe tbody tr th {\n",
       "        vertical-align: top;\n",
       "    }\n",
       "\n",
       "    .dataframe thead th {\n",
       "        text-align: right;\n",
       "    }\n",
       "</style>\n",
       "<table border=\"1\" class=\"dataframe\">\n",
       "  <thead>\n",
       "    <tr style=\"text-align: right;\">\n",
       "      <th></th>\n",
       "      <th>dropoff_location_name</th>\n",
       "      <th>average_trips</th>\n",
       "    </tr>\n",
       "  </thead>\n",
       "  <tbody>\n",
       "    <tr>\n",
       "      <th>0</th>\n",
       "      <td>Loop</td>\n",
       "      <td>10727.466667</td>\n",
       "    </tr>\n",
       "    <tr>\n",
       "      <th>1</th>\n",
       "      <td>River North</td>\n",
       "      <td>9523.666667</td>\n",
       "    </tr>\n",
       "    <tr>\n",
       "      <th>2</th>\n",
       "      <td>Streeterville</td>\n",
       "      <td>6664.666667</td>\n",
       "    </tr>\n",
       "    <tr>\n",
       "      <th>3</th>\n",
       "      <td>West Loop</td>\n",
       "      <td>5163.666667</td>\n",
       "    </tr>\n",
       "    <tr>\n",
       "      <th>4</th>\n",
       "      <td>O'Hare</td>\n",
       "      <td>2546.900000</td>\n",
       "    </tr>\n",
       "    <tr>\n",
       "      <th>...</th>\n",
       "      <td>...</td>\n",
       "      <td>...</td>\n",
       "    </tr>\n",
       "    <tr>\n",
       "      <th>89</th>\n",
       "      <td>Mount Greenwood</td>\n",
       "      <td>3.137931</td>\n",
       "    </tr>\n",
       "    <tr>\n",
       "      <th>90</th>\n",
       "      <td>Hegewisch</td>\n",
       "      <td>3.117647</td>\n",
       "    </tr>\n",
       "    <tr>\n",
       "      <th>91</th>\n",
       "      <td>Burnside</td>\n",
       "      <td>2.333333</td>\n",
       "    </tr>\n",
       "    <tr>\n",
       "      <th>92</th>\n",
       "      <td>East Side</td>\n",
       "      <td>1.961538</td>\n",
       "    </tr>\n",
       "    <tr>\n",
       "      <th>93</th>\n",
       "      <td>Riverdale</td>\n",
       "      <td>1.800000</td>\n",
       "    </tr>\n",
       "  </tbody>\n",
       "</table>\n",
       "<p>94 rows × 2 columns</p>\n",
       "</div>"
      ],
      "text/plain": [
       "   dropoff_location_name  average_trips\n",
       "0                   Loop   10727.466667\n",
       "1            River North    9523.666667\n",
       "2          Streeterville    6664.666667\n",
       "3              West Loop    5163.666667\n",
       "4                 O'Hare    2546.900000\n",
       "..                   ...            ...\n",
       "89       Mount Greenwood       3.137931\n",
       "90             Hegewisch       3.117647\n",
       "91              Burnside       2.333333\n",
       "92             East Side       1.961538\n",
       "93             Riverdale       1.800000\n",
       "\n",
       "[94 rows x 2 columns]"
      ]
     },
     "execution_count": 6,
     "metadata": {},
     "output_type": "execute_result"
    }
   ],
   "source": [
    "Locus_Info = pd.read_csv('/datasets/project_sql_result_04.csv') #It contains the following data:\n",
    "#dropoff_location_name: Chicago neighborhoods where rides ended\n",
    "#average_trips: the average number of rides that ended in each neighborhood in November 2017.\n",
    "Locus_Info"
   ]
  },
  {
   "cell_type": "code",
   "execution_count": 7,
   "metadata": {},
   "outputs": [
    {
     "name": "stdout",
     "output_type": "stream",
     "text": [
      "<class 'pandas.core.frame.DataFrame'>\n",
      "RangeIndex: 94 entries, 0 to 93\n",
      "Data columns (total 2 columns):\n",
      " #   Column                 Non-Null Count  Dtype  \n",
      "---  ------                 --------------  -----  \n",
      " 0   dropoff_location_name  94 non-null     object \n",
      " 1   average_trips          94 non-null     float64\n",
      "dtypes: float64(1), object(1)\n",
      "memory usage: 1.6+ KB\n"
     ]
    }
   ],
   "source": [
    "Locus_Info.info()"
   ]
  },
  {
   "cell_type": "code",
   "execution_count": 8,
   "metadata": {},
   "outputs": [
    {
     "data": {
      "text/html": [
       "<div>\n",
       "<style scoped>\n",
       "    .dataframe tbody tr th:only-of-type {\n",
       "        vertical-align: middle;\n",
       "    }\n",
       "\n",
       "    .dataframe tbody tr th {\n",
       "        vertical-align: top;\n",
       "    }\n",
       "\n",
       "    .dataframe thead th {\n",
       "        text-align: right;\n",
       "    }\n",
       "</style>\n",
       "<table border=\"1\" class=\"dataframe\">\n",
       "  <thead>\n",
       "    <tr style=\"text-align: right;\">\n",
       "      <th></th>\n",
       "      <th>start_ts</th>\n",
       "      <th>weather_conditions</th>\n",
       "      <th>duration_seconds</th>\n",
       "    </tr>\n",
       "  </thead>\n",
       "  <tbody>\n",
       "    <tr>\n",
       "      <th>0</th>\n",
       "      <td>2017-11-25 16:00:00</td>\n",
       "      <td>Good</td>\n",
       "      <td>2410.0</td>\n",
       "    </tr>\n",
       "    <tr>\n",
       "      <th>1</th>\n",
       "      <td>2017-11-25 14:00:00</td>\n",
       "      <td>Good</td>\n",
       "      <td>1920.0</td>\n",
       "    </tr>\n",
       "    <tr>\n",
       "      <th>2</th>\n",
       "      <td>2017-11-25 12:00:00</td>\n",
       "      <td>Good</td>\n",
       "      <td>1543.0</td>\n",
       "    </tr>\n",
       "    <tr>\n",
       "      <th>3</th>\n",
       "      <td>2017-11-04 10:00:00</td>\n",
       "      <td>Good</td>\n",
       "      <td>2512.0</td>\n",
       "    </tr>\n",
       "    <tr>\n",
       "      <th>4</th>\n",
       "      <td>2017-11-11 07:00:00</td>\n",
       "      <td>Good</td>\n",
       "      <td>1440.0</td>\n",
       "    </tr>\n",
       "    <tr>\n",
       "      <th>...</th>\n",
       "      <td>...</td>\n",
       "      <td>...</td>\n",
       "      <td>...</td>\n",
       "    </tr>\n",
       "    <tr>\n",
       "      <th>1063</th>\n",
       "      <td>2017-11-25 11:00:00</td>\n",
       "      <td>Good</td>\n",
       "      <td>0.0</td>\n",
       "    </tr>\n",
       "    <tr>\n",
       "      <th>1064</th>\n",
       "      <td>2017-11-11 10:00:00</td>\n",
       "      <td>Good</td>\n",
       "      <td>1318.0</td>\n",
       "    </tr>\n",
       "    <tr>\n",
       "      <th>1065</th>\n",
       "      <td>2017-11-11 13:00:00</td>\n",
       "      <td>Good</td>\n",
       "      <td>2100.0</td>\n",
       "    </tr>\n",
       "    <tr>\n",
       "      <th>1066</th>\n",
       "      <td>2017-11-11 08:00:00</td>\n",
       "      <td>Good</td>\n",
       "      <td>1380.0</td>\n",
       "    </tr>\n",
       "    <tr>\n",
       "      <th>1067</th>\n",
       "      <td>2017-11-04 16:00:00</td>\n",
       "      <td>Bad</td>\n",
       "      <td>2834.0</td>\n",
       "    </tr>\n",
       "  </tbody>\n",
       "</table>\n",
       "<p>1068 rows × 3 columns</p>\n",
       "</div>"
      ],
      "text/plain": [
       "                 start_ts weather_conditions  duration_seconds\n",
       "0     2017-11-25 16:00:00               Good            2410.0\n",
       "1     2017-11-25 14:00:00               Good            1920.0\n",
       "2     2017-11-25 12:00:00               Good            1543.0\n",
       "3     2017-11-04 10:00:00               Good            2512.0\n",
       "4     2017-11-11 07:00:00               Good            1440.0\n",
       "...                   ...                ...               ...\n",
       "1063  2017-11-25 11:00:00               Good               0.0\n",
       "1064  2017-11-11 10:00:00               Good            1318.0\n",
       "1065  2017-11-11 13:00:00               Good            2100.0\n",
       "1066  2017-11-11 08:00:00               Good            1380.0\n",
       "1067  2017-11-04 16:00:00                Bad            2834.0\n",
       "\n",
       "[1068 rows x 3 columns]"
      ]
     },
     "execution_count": 8,
     "metadata": {},
     "output_type": "execute_result"
    }
   ],
   "source": [
    "Weather_Info = pd.read_csv('/datasets/project_sql_result_07.csv')#It contains data on rides from the Loop to \n",
    "#O'Hare International Airport. #Remember, these are the table's field values:\n",
    "#start_ts\n",
    "#pickup date and time\n",
    "#weather_conditions\n",
    "#weather conditions at the moment the ride started\n",
    "#duration_seconds\n",
    "#ride duration in seconds\n",
    "Weather_Info"
   ]
  },
  {
   "cell_type": "code",
   "execution_count": 9,
   "metadata": {},
   "outputs": [
    {
     "name": "stdout",
     "output_type": "stream",
     "text": [
      "<class 'pandas.core.frame.DataFrame'>\n",
      "RangeIndex: 1068 entries, 0 to 1067\n",
      "Data columns (total 3 columns):\n",
      " #   Column              Non-Null Count  Dtype  \n",
      "---  ------              --------------  -----  \n",
      " 0   start_ts            1068 non-null   object \n",
      " 1   weather_conditions  1068 non-null   object \n",
      " 2   duration_seconds    1068 non-null   float64\n",
      "dtypes: float64(1), object(2)\n",
      "memory usage: 25.2+ KB\n"
     ]
    }
   ],
   "source": [
    "Weather_Info.info()"
   ]
  },
  {
   "cell_type": "markdown",
   "metadata": {},
   "source": [
    "**Convert Start_ts to datetime data type**"
   ]
  },
  {
   "cell_type": "code",
   "execution_count": 10,
   "metadata": {},
   "outputs": [],
   "source": [
    "Weather_Info['start_ts'] = pd.to_datetime(Weather_Info['start_ts'], format = '%Y/%m/%d %H:%M:%S')"
   ]
  },
  {
   "cell_type": "code",
   "execution_count": 11,
   "metadata": {},
   "outputs": [
    {
     "name": "stdout",
     "output_type": "stream",
     "text": [
      "<class 'pandas.core.frame.DataFrame'>\n",
      "RangeIndex: 1068 entries, 0 to 1067\n",
      "Data columns (total 3 columns):\n",
      " #   Column              Non-Null Count  Dtype         \n",
      "---  ------              --------------  -----         \n",
      " 0   start_ts            1068 non-null   datetime64[ns]\n",
      " 1   weather_conditions  1068 non-null   object        \n",
      " 2   duration_seconds    1068 non-null   float64       \n",
      "dtypes: datetime64[ns](1), float64(1), object(1)\n",
      "memory usage: 25.2+ KB\n"
     ]
    }
   ],
   "source": [
    "Weather_Info.info()"
   ]
  },
  {
   ]
  },
  {
   "cell_type": "code",
   "execution_count": 12,
   "metadata": {},
   "outputs": [
    {
     "data": {
      "text/plain": [
       "array(['Flash Cab', 'Taxi Affiliation Services', 'Medallion Leasing',\n",
       "       'Yellow Cab', 'Taxi Affiliation Service Yellow',\n",
       "       'Chicago Carriage Cab Corp', 'City Service', 'Sun Taxi',\n",
       "       'Star North Management LLC', 'Blue Ribbon Taxi Association Inc.',\n",
       "       'Choice Taxi Association', 'Globe Taxi',\n",
       "       'Dispatch Taxi Affiliation', 'Nova Taxi Affiliation Llc',\n",
       "       'Patriot Taxi Dba Peace Taxi Association',\n",
       "       'Checker Taxi Affiliation', 'Blue Diamond',\n",
       "       'Chicago Medallion Management', '24 Seven Taxi',\n",
       "       'Chicago Medallion Leasing INC', 'Checker Taxi', 'American United',\n",
       "       'Chicago Independents', 'KOAM Taxi Association', 'Chicago Taxicab',\n",
       "       'Top Cab Affiliation', 'Gold Coast Taxi',\n",
       "       'Service Taxi Association', '5 Star Taxi', '303 Taxi',\n",
       "       'Setare Inc', 'American United Taxi Affiliation', 'Leonard Cab Co',\n",
       "       'Metro Jet Taxi A', 'Norshore Cab', '6742 - 83735 Tasha Ride Inc',\n",
       "       '3591 - 63480 Chuks Cab', '1469 - 64126 Omar Jada',\n",
       "       '6743 - 78771 Luhak Corp', '0118 - 42111 Godfrey S. Awir',\n",
       "       '6574 - Babylon Express Inc.', 'Chicago Star Taxicab',\n",
       "       '1085 - 72312 N and W Cab Co', '2809 - 95474 C & D Cab Co Inc.',\n",
       "       '2092 - 61288 Sbeih Company', '3011 - 66308 JBL Cab Inc.',\n",
       "       '3620 - 52292 David K. Cab Corp.', '4615 - 83503 Tyrone Henderson',\n",
       "       '3623 - 72222 Arrington Enterprises', '5074 - 54002 Ahzmi Inc',\n",
       "       '2823 - 73307 Lee Express Inc', '4623 - 27290 Jay Kim',\n",
       "       '3721 - Santamaria Express', '5006 - 39261 Salifu Bawa',\n",
       "       '2192 - 73487 Zeymane Corp', '6057 - 24657 Richard Addo',\n",
       "       '5997 - 65283 AW Services Inc.', 'Metro Group',\n",
       "       '5062 - 34841 Sam Mestas', '4053 - 40193 Adwar H. Nikola',\n",
       "       '2733 - 74600 Benny Jona', '5874 - 73628 Sergey Cab Corp.',\n",
       "       '2241 - 44667 - Felman Corp', '3556 - 36214 RC Andrews Cab'],\n",
       "      dtype=object)"
      ]
     },
     "execution_count": 12,
     "metadata": {},
     "output_type": "execute_result"
    }
   ],
   "source": [
    "Company_Info.company_name.unique()  "
   ]
  },
  {
   "cell_type": "markdown",
   "metadata": {},
   "source": [
    "***Removing numbers from company names to enhance readability***"
   ]
  },
  {
   "cell_type": "code",
   "execution_count": 13,
   "metadata": {},
   "outputs": [],
   "source": [
    "Company_Info['company_name'] = Company_Info['company_name'].str.replace('\\d+', '', regex=True)"
   ]
  },
  {
   "cell_type": "code",
   "execution_count": 14,
   "metadata": {},
   "outputs": [],
   "source": [
    "Company_Info['company_name'] = Company_Info['company_name'].str.replace('-', '', regex=True)"
   ]
  },
  {
   "cell_type": "code",
   "execution_count": 15,
   "metadata": {},
   "outputs": [],
   "source": [
    "Company_Info['company_name'] = Company_Info['company_name'].apply(lambda x: x.strip())"
   ]
  },
  {
   "cell_type": "code",
   "execution_count": 16,
   "metadata": {},
   "outputs": [
    {
     "data": {
      "text/plain": [
       "array(['Flash Cab', 'Taxi Affiliation Services', 'Medallion Leasing',\n",
       "       'Yellow Cab', 'Taxi Affiliation Service Yellow',\n",
       "       'Chicago Carriage Cab Corp', 'City Service', 'Sun Taxi',\n",
       "       'Star North Management LLC', 'Blue Ribbon Taxi Association Inc.',\n",
       "       'Choice Taxi Association', 'Globe Taxi',\n",
       "       'Dispatch Taxi Affiliation', 'Nova Taxi Affiliation Llc',\n",
       "       'Patriot Taxi Dba Peace Taxi Association',\n",
       "       'Checker Taxi Affiliation', 'Blue Diamond',\n",
       "       'Chicago Medallion Management', 'Seven Taxi',\n",
       "       'Chicago Medallion Leasing INC', 'Checker Taxi', 'American United',\n",
       "       'Chicago Independents', 'KOAM Taxi Association', 'Chicago Taxicab',\n",
       "       'Top Cab Affiliation', 'Gold Coast Taxi',\n",
       "       'Service Taxi Association', 'Star Taxi', 'Taxi', 'Setare Inc',\n",
       "       'American United Taxi Affiliation', 'Leonard Cab Co',\n",
       "       'Metro Jet Taxi A', 'Norshore Cab', 'Tasha Ride Inc', 'Chuks Cab',\n",
       "       'Omar Jada', 'Luhak Corp', 'Godfrey S. Awir',\n",
       "       'Babylon Express Inc.', 'Chicago Star Taxicab', 'N and W Cab Co',\n",
       "       'C & D Cab Co Inc.', 'Sbeih Company', 'JBL Cab Inc.',\n",
       "       'David K. Cab Corp.', 'Tyrone Henderson', 'Arrington Enterprises',\n",
       "       'Ahzmi Inc', 'Lee Express Inc', 'Jay Kim', 'Santamaria Express',\n",
       "       'Salifu Bawa', 'Zeymane Corp', 'Richard Addo', 'AW Services Inc.',\n",
       "       'Metro Group', 'Sam Mestas', 'Adwar H. Nikola', 'Benny Jona',\n",
       "       'Sergey Cab Corp.', 'Felman Corp', 'RC Andrews Cab'], dtype=object)"
      ]
     },
     "execution_count": 16,
     "metadata": {},
     "output_type": "execute_result"
    }
   ],
   "source": [
    "Company_Info.company_name.unique()  "
   ]
  },
  {
   "cell_type": "markdown",
   "metadata": {},
   "source": [
    "**Taxi Companies v. Number of Rides  on November 15-16, 2017.** "
   ]
  },
  {
   "cell_type": "markdown",
   "metadata": {},
   "source": [
    ">>***Here, the data for the number of rides is typified by a right-skewed distribution wherein the number of rides is concentrated at the lower bounds; that is, the median / mean number number of rides for all 64 companies is about 179 / 2145. Upon filtering the data by the third quartile value of about 2000, for the whole data set, the 9 most popular taxi companies each have more than 40 times the amount of rides than the median of the whole data sample, and the market leader is \"Flash Cab\" with the outlier number of 19558, and comprises 16% of the market for November 15-16, 2017.***"
   ]
  },
  {
   "cell_type": "code",
   "execution_count": 17,
   "metadata": {},
   "outputs": [],
   "source": [
    "Co_Filter = Company_Info.query('trips_amount > 2000')"
   ]
  },
  {
   "cell_type": "code",
   "execution_count": 18,
   "metadata": {},
   "outputs": [
    {
     "data": {
      "text/html": [
       "<div>\n",
       "<style scoped>\n",
       "    .dataframe tbody tr th:only-of-type {\n",
       "        vertical-align: middle;\n",
       "    }\n",
       "\n",
       "    .dataframe tbody tr th {\n",
       "        vertical-align: top;\n",
       "    }\n",
       "\n",
       "    .dataframe thead th {\n",
       "        text-align: right;\n",
       "    }\n",
       "</style>\n",
       "<table border=\"1\" class=\"dataframe\">\n",
       "  <thead>\n",
       "    <tr style=\"text-align: right;\">\n",
       "      <th></th>\n",
       "      <th>trips_amount</th>\n",
       "    </tr>\n",
       "  </thead>\n",
       "  <tbody>\n",
       "    <tr>\n",
       "      <th>count</th>\n",
       "      <td>17.000000</td>\n",
       "    </tr>\n",
       "    <tr>\n",
       "      <th>mean</th>\n",
       "      <td>7160.058824</td>\n",
       "    </tr>\n",
       "    <tr>\n",
       "      <th>std</th>\n",
       "      <td>4465.387770</td>\n",
       "    </tr>\n",
       "    <tr>\n",
       "      <th>min</th>\n",
       "      <td>2070.000000</td>\n",
       "    </tr>\n",
       "    <tr>\n",
       "      <th>25%</th>\n",
       "      <td>3355.000000</td>\n",
       "    </tr>\n",
       "    <tr>\n",
       "      <th>50%</th>\n",
       "      <td>7455.000000</td>\n",
       "    </tr>\n",
       "    <tr>\n",
       "      <th>75%</th>\n",
       "      <td>9299.000000</td>\n",
       "    </tr>\n",
       "    <tr>\n",
       "      <th>max</th>\n",
       "      <td>19558.000000</td>\n",
       "    </tr>\n",
       "  </tbody>\n",
       "</table>\n",
       "</div>"
      ],
      "text/plain": [
       "       trips_amount\n",
       "count     17.000000\n",
       "mean    7160.058824\n",
       "std     4465.387770\n",
       "min     2070.000000\n",
       "25%     3355.000000\n",
       "50%     7455.000000\n",
       "75%     9299.000000\n",
       "max    19558.000000"
      ]
     },
     "execution_count": 18,
     "metadata": {},
     "output_type": "execute_result"
    }
   ],
   "source": [
    "Co_Filter.describe()"
   ]
  },
  {
   "cell_type": "code",
   "execution_count": 19,
   "metadata": {
    "scrolled": true
   },
   "outputs": [
    {
     "data": {
      "text/html": [
       "<div>\n",
       "<style scoped>\n",
       "    .dataframe tbody tr th:only-of-type {\n",
       "        vertical-align: middle;\n",
       "    }\n",
       "\n",
       "    .dataframe tbody tr th {\n",
       "        vertical-align: top;\n",
       "    }\n",
       "\n",
       "    .dataframe thead th {\n",
       "        text-align: right;\n",
       "    }\n",
       "</style>\n",
       "<table border=\"1\" class=\"dataframe\">\n",
       "  <thead>\n",
       "    <tr style=\"text-align: right;\">\n",
       "      <th></th>\n",
       "      <th>trips_amount</th>\n",
       "    </tr>\n",
       "  </thead>\n",
       "  <tbody>\n",
       "    <tr>\n",
       "      <th>count</th>\n",
       "      <td>64.000000</td>\n",
       "    </tr>\n",
       "    <tr>\n",
       "      <th>mean</th>\n",
       "      <td>2145.484375</td>\n",
       "    </tr>\n",
       "    <tr>\n",
       "      <th>std</th>\n",
       "      <td>3812.310186</td>\n",
       "    </tr>\n",
       "    <tr>\n",
       "      <th>min</th>\n",
       "      <td>2.000000</td>\n",
       "    </tr>\n",
       "    <tr>\n",
       "      <th>25%</th>\n",
       "      <td>20.750000</td>\n",
       "    </tr>\n",
       "    <tr>\n",
       "      <th>50%</th>\n",
       "      <td>178.500000</td>\n",
       "    </tr>\n",
       "    <tr>\n",
       "      <th>75%</th>\n",
       "      <td>2106.500000</td>\n",
       "    </tr>\n",
       "    <tr>\n",
       "      <th>max</th>\n",
       "      <td>19558.000000</td>\n",
       "    </tr>\n",
       "  </tbody>\n",
       "</table>\n",
       "</div>"
      ],
      "text/plain": [
       "       trips_amount\n",
       "count     64.000000\n",
       "mean    2145.484375\n",
       "std     3812.310186\n",
       "min        2.000000\n",
       "25%       20.750000\n",
       "50%      178.500000\n",
       "75%     2106.500000\n",
       "max    19558.000000"
      ]
     },
     "execution_count": 19,
     "metadata": {},
     "output_type": "execute_result"
    }
   ],
   "source": [
    "Company_Info.describe()"
   ]
  },
  {
   "cell_type": "code",
   "execution_count": 20,
   "metadata": {},
   "outputs": [
    {
     "data": {
      "image/png": "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",
      "text/plain": [
       "<Figure size 432x288 with 1 Axes>"
      ]
     },
     "metadata": {
      "needs_background": "light"
     },
     "output_type": "display_data"
    }
   ],
   "source": [
    "import warnings\n",
    "warnings.filterwarnings(\"ignore\")\n",
    "\n",
    "sns.distplot(Company_Info, x=Company_Info.trips_amount)\n",
    "plt.show()"
   ]
  },
  {
   "cell_type": "code",
   "execution_count": 21,
   "metadata": {},
   "outputs": [
    {
     "data": {
      "image/png": "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",
      "text/plain": [
       "<Figure size 1280x800 with 1 Axes>"
      ]
     },
     "metadata": {
      "needs_background": "light"
     },
     "output_type": "display_data"
    }
   ],
   "source": [
    "plt.figure(figsize=(16,10), dpi= 80)\n",
    "plt.bar(Co_Filter['company_name'], Co_Filter['trips_amount'], width=.5, color='pink')\n",
    "for i, val in enumerate(Co_Filter['trips_amount'].values):\n",
    "    plt.text(i, val, float(val), horizontalalignment='center', verticalalignment='bottom', fontdict={'fontweight':500, 'size':12})\n",
    "    plt.xticks(rotation=45)"
   ]
  },
  {
   "cell_type": "code",
   "execution_count": 22,
   "metadata": {},
   "outputs": [
    {
     "data": {
      "image/png": "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",
      "text/plain": [
       "<Figure size 720x720 with 1 Axes>"
      ]
     },
     "metadata": {},
     "output_type": "display_data"
    }
   ],
   "source": [
    "plt.figure(figsize = (10,10))\n",
    "plt.pie(Co_Filter.trips_amount, labels=Co_Filter.company_name, startangle=45,autopct='%2.0f%%', \n",
    "        textprops={'fontsize': 10})\n",
    "plt.text(x=-1.15, y=1.5, s='Amount of Trips, in %', fontsize=15)\n",
    "\n",
    "plt.show()"
   ]
  },
  {
   "cell_type": "markdown",
   "metadata": {},
   "source": [
    "## Top 10 Neighborhoods Drop-offs ## "
   ]
  },
  {
   "cell_type": "markdown",
   "metadata": {},
   "source": [
    ">>***Here, 3/4 of the drop-offs took place in 4 locations: 'Loop' - 10727, 'River North' - 9524, 'Streeterville' - 6665, and 'West Loop' - 5164. The foregoing locations comprise 23%, 21%, 15%, and 11% of the drop-offs, respectively.***"
   ]
  },
  {
   "cell_type": "code",
   "execution_count": 23,
   "metadata": {},
   "outputs": [
    {
     "data": {
      "text/plain": [
       "array(['Loop', 'River North', 'Streeterville', 'West Loop', \"O'Hare\",\n",
       "       'Lake View', 'Grant Park', 'Museum Campus', 'Gold Coast',\n",
       "       'Sheffield & DePaul', 'Lincoln Park', 'East Village',\n",
       "       'Little Italy, UIC', 'Uptown', 'Near South Side', 'Garfield Ridge',\n",
       "       'Logan Square', 'Edgewater', 'West Town', 'Old Town',\n",
       "       'Rush & Division', 'North Center', 'Lincoln Square', 'Rogers Park',\n",
       "       'West Ridge', 'Irving Park', 'Hyde Park', 'Avondale',\n",
       "       'Wicker Park', 'Albany Park', 'United Center', 'Lower West Side',\n",
       "       'Douglas', 'Portage Park', 'Humboldt Park', 'Norwood Park',\n",
       "       'Kenwood', 'Bridgeport', 'Armour Square', 'Jefferson Park',\n",
       "       'Bucktown', 'North Park', 'Garfield Park', 'Mckinley Park',\n",
       "       'Belmont Cragin', 'Boystown', 'Chinatown', 'Grand Boulevard',\n",
       "       'Austin', 'Sauganash,Forest Glen', 'South Shore', 'Woodlawn',\n",
       "       'Little Village', 'Jackson Park', 'North Lawndale', 'Dunning',\n",
       "       'Ukrainian Village', 'Hermosa', 'Englewood', 'Chatham', 'New City',\n",
       "       'Grand Crossing', 'Brighton Park', 'Andersonville', 'Oakland',\n",
       "       'Ashburn', 'Washington Park', 'Auburn Gresham', 'Clearing',\n",
       "       'Roseland', 'Wrigleyville', 'Edison Park', 'South Chicago',\n",
       "       'Chicago Lawn', 'Beverly', 'Calumet Heights', 'Washington Heights',\n",
       "       'Archer Heights', 'Gage Park', 'Fuller Park', 'West Lawn',\n",
       "       'Morgan Park', 'South Deering', 'Avalon Park', 'West Pullman',\n",
       "       'Montclare', 'West Elsdon', 'Pullman', 'Undef', 'Mount Greenwood',\n",
       "       'Hegewisch', 'Burnside', 'East Side', 'Riverdale'], dtype=object)"
      ]
     },
     "execution_count": 23,
     "metadata": {},
     "output_type": "execute_result"
    }
   ],
   "source": [
    "Locus_Info.dropoff_location_name.unique()"
   ]
  },
  {
   "cell_type": "code",
   "execution_count": 24,
   "metadata": {},
   "outputs": [],
   "source": [
    "Locus_Info['average_trips'] = round(Locus_Info['average_trips'])"
   ]
  },
  {
   "cell_type": "code",
   "execution_count": 25,
   "metadata": {},
   "outputs": [
    {
     "data": {
      "text/html": [
       "<div>\n",
       "<style scoped>\n",
       "    .dataframe tbody tr th:only-of-type {\n",
       "        vertical-align: middle;\n",
       "    }\n",
       "\n",
       "    .dataframe tbody tr th {\n",
       "        vertical-align: top;\n",
       "    }\n",
       "\n",
       "    .dataframe thead th {\n",
       "        text-align: right;\n",
       "    }\n",
       "</style>\n",
       "<table border=\"1\" class=\"dataframe\">\n",
       "  <thead>\n",
       "    <tr style=\"text-align: right;\">\n",
       "      <th></th>\n",
       "      <th>dropoff_location_name</th>\n",
       "      <th>average_trips</th>\n",
       "    </tr>\n",
       "  </thead>\n",
       "  <tbody>\n",
       "    <tr>\n",
       "      <th>0</th>\n",
       "      <td>Loop</td>\n",
       "      <td>10727.0</td>\n",
       "    </tr>\n",
       "    <tr>\n",
       "      <th>1</th>\n",
       "      <td>River North</td>\n",
       "      <td>9524.0</td>\n",
       "    </tr>\n",
       "    <tr>\n",
       "      <th>2</th>\n",
       "      <td>Streeterville</td>\n",
       "      <td>6665.0</td>\n",
       "    </tr>\n",
       "    <tr>\n",
       "      <th>3</th>\n",
       "      <td>West Loop</td>\n",
       "      <td>5164.0</td>\n",
       "    </tr>\n",
       "    <tr>\n",
       "      <th>4</th>\n",
       "      <td>O'Hare</td>\n",
       "      <td>2547.0</td>\n",
       "    </tr>\n",
       "    <tr>\n",
       "      <th>5</th>\n",
       "      <td>Lake View</td>\n",
       "      <td>2421.0</td>\n",
       "    </tr>\n",
       "    <tr>\n",
       "      <th>6</th>\n",
       "      <td>Grant Park</td>\n",
       "      <td>2069.0</td>\n",
       "    </tr>\n",
       "    <tr>\n",
       "      <th>7</th>\n",
       "      <td>Museum Campus</td>\n",
       "      <td>1510.0</td>\n",
       "    </tr>\n",
       "    <tr>\n",
       "      <th>8</th>\n",
       "      <td>Gold Coast</td>\n",
       "      <td>1364.0</td>\n",
       "    </tr>\n",
       "    <tr>\n",
       "      <th>9</th>\n",
       "      <td>Sheffield &amp; DePaul</td>\n",
       "      <td>1260.0</td>\n",
       "    </tr>\n",
       "  </tbody>\n",
       "</table>\n",
       "</div>"
      ],
      "text/plain": [
       "  dropoff_location_name  average_trips\n",
       "0                  Loop        10727.0\n",
       "1           River North         9524.0\n",
       "2         Streeterville         6665.0\n",
       "3             West Loop         5164.0\n",
       "4                O'Hare         2547.0\n",
       "5             Lake View         2421.0\n",
       "6            Grant Park         2069.0\n",
       "7         Museum Campus         1510.0\n",
       "8            Gold Coast         1364.0\n",
       "9    Sheffield & DePaul         1260.0"
      ]
     },
     "execution_count": 25,
     "metadata": {},
     "output_type": "execute_result"
    }
   ],
   "source": [
    "Locus_Info.nlargest(10, 'average_trips')"
   ]
  },
  {
   "cell_type": "code",
   "execution_count": 26,
   "metadata": {},
   "outputs": [],
   "source": [
    "top_10 = Locus_Info.nlargest(10, 'average_trips')"
   ]
  },
  {
   "cell_type": "code",
   "execution_count": 27,
   "metadata": {},
   "outputs": [
    {
     "data": {
      "image/png": "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",
      "text/plain": [
       "<Figure size 1280x800 with 1 Axes>"
      ]
     },
     "metadata": {
      "needs_background": "light"
     },
     "output_type": "display_data"
    }
   ],
   "source": [
    "plt.figure(figsize=(16,10), dpi= 80)\n",
    "plt.bar(top_10['dropoff_location_name'], top_10['average_trips'], color='silver', width=.5)\n",
    "for i, val in enumerate(top_10['average_trips'].values):\n",
    "    plt.text(i, val, float(val), horizontalalignment='center', verticalalignment='bottom', fontdict={'fontweight':500, 'size':12})\n",
    "    plt.xticks(rotation=45)"
   ]
  },
  {
   "cell_type": "code",
   "execution_count": 28,
   "metadata": {},
   "outputs": [
    {
     "data": {
      "image/png": "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",
      "text/plain": [
       "<Figure size 720x720 with 1 Axes>"
      ]
     },
     "metadata": {},
     "output_type": "display_data"
    }
   ],
   "source": [
    "plt.figure(figsize = (10,10))\n",
    "plt.pie(top_10.average_trips, labels=top_10.dropoff_location_name, startangle=45,autopct='%2.0f%%', \n",
    "        textprops={'fontsize': 10})\n",
    "plt.text(x=-1.15, y=1.5, s='Proportion of Drop-Offs, in %', fontsize=15)\n",
    "\n",
    "plt.show()"
   ]
  },
  {
   "cell_type": "markdown",
   "metadata": {},
   "source": [
    "## Hypothesis Testing ##"
   ]
  },
  {
   "cell_type": "markdown",
   "metadata": {},
   "source": [
    "H0: The average duration of rides from the Loop to O'Hare International Airport is the same on rainy Saturdays."
   ]
  },
  {
   "cell_type": "markdown",
   "metadata": {},
   "source": [
    "H1: The average duration of rides from the Loop to O'Hare International Airport changes on rainy Saturdays."
   ]
  },
  {
   "cell_type": "markdown",
   "metadata": {},
   "source": [
    "Here, the variances of the statistical populations are about the same. Consequently, an appropriate method is scipy.stats.ttest_ind(array1, array2, equal_var=True). Although there is no bright-line rule for the alpha value that determines statistical significance; nevertheless, 0.10, 0.05 and 0.01 are values commonly used therefor. Here, the decision to use \"0.05\" is based on a reasonable approach whereby the size of the populations are not so great, so that the corresponding   degree of freedom can be circumscribed by the most common alpha value. Furthermore, the lower the p-value, the greater the statistical significance of the observed difference between populations. Generally, a p-value of 0.05 or lower is likely statistically significant. Here, the P-Value is 6.517970327099473e-12, which tends to show an unequivocal differnce between the average duration of rides on rainy Saturdays. \n",
    ">>***Conclusion***:  **The average duration of rides changes on rainy Saturdays.**\n"
   ]
  },
  {
   "cell_type": "code",
   "execution_count": 29,
   "metadata": {},
   "outputs": [
    {
     "data": {
      "text/html": [
       "<div>\n",
       "<style scoped>\n",
       "    .dataframe tbody tr th:only-of-type {\n",
       "        vertical-align: middle;\n",
       "    }\n",
       "\n",
       "    .dataframe tbody tr th {\n",
       "        vertical-align: top;\n",
       "    }\n",
       "\n",
       "    .dataframe thead th {\n",
       "        text-align: right;\n",
       "    }\n",
       "</style>\n",
       "<table border=\"1\" class=\"dataframe\">\n",
       "  <thead>\n",
       "    <tr style=\"text-align: right;\">\n",
       "      <th></th>\n",
       "      <th>start_ts</th>\n",
       "      <th>weather_conditions</th>\n",
       "      <th>duration_seconds</th>\n",
       "    </tr>\n",
       "  </thead>\n",
       "  <tbody>\n",
       "    <tr>\n",
       "      <th>0</th>\n",
       "      <td>2017-11-25 16:00:00</td>\n",
       "      <td>Good</td>\n",
       "      <td>2410.0</td>\n",
       "    </tr>\n",
       "    <tr>\n",
       "      <th>1</th>\n",
       "      <td>2017-11-25 14:00:00</td>\n",
       "      <td>Good</td>\n",
       "      <td>1920.0</td>\n",
       "    </tr>\n",
       "    <tr>\n",
       "      <th>2</th>\n",
       "      <td>2017-11-25 12:00:00</td>\n",
       "      <td>Good</td>\n",
       "      <td>1543.0</td>\n",
       "    </tr>\n",
       "    <tr>\n",
       "      <th>3</th>\n",
       "      <td>2017-11-04 10:00:00</td>\n",
       "      <td>Good</td>\n",
       "      <td>2512.0</td>\n",
       "    </tr>\n",
       "    <tr>\n",
       "      <th>4</th>\n",
       "      <td>2017-11-11 07:00:00</td>\n",
       "      <td>Good</td>\n",
       "      <td>1440.0</td>\n",
       "    </tr>\n",
       "    <tr>\n",
       "      <th>...</th>\n",
       "      <td>...</td>\n",
       "      <td>...</td>\n",
       "      <td>...</td>\n",
       "    </tr>\n",
       "    <tr>\n",
       "      <th>1063</th>\n",
       "      <td>2017-11-25 11:00:00</td>\n",
       "      <td>Good</td>\n",
       "      <td>0.0</td>\n",
       "    </tr>\n",
       "    <tr>\n",
       "      <th>1064</th>\n",
       "      <td>2017-11-11 10:00:00</td>\n",
       "      <td>Good</td>\n",
       "      <td>1318.0</td>\n",
       "    </tr>\n",
       "    <tr>\n",
       "      <th>1065</th>\n",
       "      <td>2017-11-11 13:00:00</td>\n",
       "      <td>Good</td>\n",
       "      <td>2100.0</td>\n",
       "    </tr>\n",
       "    <tr>\n",
       "      <th>1066</th>\n",
       "      <td>2017-11-11 08:00:00</td>\n",
       "      <td>Good</td>\n",
       "      <td>1380.0</td>\n",
       "    </tr>\n",
       "    <tr>\n",
       "      <th>1067</th>\n",
       "      <td>2017-11-04 16:00:00</td>\n",
       "      <td>Bad</td>\n",
       "      <td>2834.0</td>\n",
       "    </tr>\n",
       "  </tbody>\n",
       "</table>\n",
       "<p>1068 rows × 3 columns</p>\n",
       "</div>"
      ],
      "text/plain": [
       "                start_ts weather_conditions  duration_seconds\n",
       "0    2017-11-25 16:00:00               Good            2410.0\n",
       "1    2017-11-25 14:00:00               Good            1920.0\n",
       "2    2017-11-25 12:00:00               Good            1543.0\n",
       "3    2017-11-04 10:00:00               Good            2512.0\n",
       "4    2017-11-11 07:00:00               Good            1440.0\n",
       "...                  ...                ...               ...\n",
       "1063 2017-11-25 11:00:00               Good               0.0\n",
       "1064 2017-11-11 10:00:00               Good            1318.0\n",
       "1065 2017-11-11 13:00:00               Good            2100.0\n",
       "1066 2017-11-11 08:00:00               Good            1380.0\n",
       "1067 2017-11-04 16:00:00                Bad            2834.0\n",
       "\n",
       "[1068 rows x 3 columns]"
      ]
     },
     "execution_count": 29,
     "metadata": {},
     "output_type": "execute_result"
    }
   ],
   "source": [
    "Weather_Info"
   ]
  },
  {
   "cell_type": "code",
   "execution_count": 30,
   "metadata": {},
   "outputs": [],
   "source": [
    "Inclement = Weather_Info.query('weather_conditions == \"Bad\"')"
   ]
  },
  {
   "cell_type": "code",
   "execution_count": 31,
   "metadata": {},
   "outputs": [],
   "source": [
    "Good = Weather_Info.query('weather_conditions == \"Good\"')"
   ]
  },
  {
   "cell_type": "code",
   "execution_count": 32,
   "metadata": {},
   "outputs": [],
   "source": [
    "Weather_Info['Day of Week'] = Weather_Info['start_ts'].dt.day_name()"
   ]
  },
  {
   "cell_type": "code",
   "execution_count": 33,
   "metadata": {},
   "outputs": [
    {
     "data": {
      "text/plain": [
       "0       Saturday\n",
       "1       Saturday\n",
       "2       Saturday\n",
       "3       Saturday\n",
       "4       Saturday\n",
       "          ...   \n",
       "1063    Saturday\n",
       "1064    Saturday\n",
       "1065    Saturday\n",
       "1066    Saturday\n",
       "1067    Saturday\n",
       "Name: Day of Week, Length: 1068, dtype: object"
      ]
     },
     "execution_count": 33,
     "metadata": {},
     "output_type": "execute_result"
    }
   ],
   "source": [
    "Weather_Info['Day of Week']"
   ]
  },
  {
   "cell_type": "code",
   "execution_count": 34,
   "metadata": {},
   "outputs": [
    {
     "data": {
      "text/plain": [
       "Saturday    1068\n",
       "Name: Day of Week, dtype: int64"
      ]
     },
     "execution_count": 34,
     "metadata": {},
     "output_type": "execute_result"
    }
   ],
   "source": [
    "Weather_Info['Day of Week'].value_counts()"
   ]
  },
  {
   "cell_type": "markdown",
   "metadata": {},
   "source": [
    "***Here, the variance of Saturdays with good weather and inclement weather are likely close enough to permit the use of st.ttest_ind(equal_var=True).*** "
   ]
  },
  {
   "cell_type": "code",
   "execution_count": 35,
   "metadata": {},
   "outputs": [
    {
     "data": {
      "text/plain": [
       "duration_seconds    517403.563302\n",
       "dtype: float64"
      ]
     },
     "execution_count": 35,
     "metadata": {},
     "output_type": "execute_result"
    }
   ],
   "source": [
    "np.var(Inclement)"
   ]
  },
  {
   "cell_type": "code",
   "execution_count": 36,
   "metadata": {},
   "outputs": [
    {
     "data": {
      "text/plain": [
       "duration_seconds    575732.93085\n",
       "dtype: float64"
      ]
     },
     "execution_count": 36,
     "metadata": {},
     "output_type": "execute_result"
    }
   ],
   "source": [
    "np.var(Good)"
   ]
  },
  {
   "cell_type": "code",
   "execution_count": 37,
   "metadata": {},
   "outputs": [],
   "source": [
    "alpha = 0.05"
   ]
  },
  {
   "cell_type": "code",
   "execution_count": 38,
   "metadata": {},
   "outputs": [
    {
     "name": "stdout",
     "output_type": "stream",
     "text": [
      "p-value:  6.517970327099473e-12\n",
      "\n",
      "The variance for Inclement Weather Saturdays: duration_seconds    517403.563302\n",
      "dtype: float64\n",
      "The variance for Good Weather Saturdays: duration_seconds    575732.93085\n",
      "dtype: float64\n",
      "\n",
      "6.517970327099473e-12\n",
      "We are rejecting null hypothesis\n"
     ]
    }
   ],
   "source": [
    "ttest = st.ttest_ind(Inclement.duration_seconds, Good.duration_seconds, equal_var=True)\n",
    "\n",
    "print('p-value: ', ttest.pvalue)\n",
    "print()\n",
    "print('The variance for Inclement Weather Saturdays:', np.var(Inclement))\n",
    "print('The variance for Good Weather Saturdays:', np.var(Good))\n",
    "print()\n",
    "print(ttest.pvalue)\n",
    "if ttest.pvalue < alpha:    # alpha value is 0.05 or 5%\n",
    "    print(\"We are rejecting null hypothesis\")\n",
    "else:\n",
    "    print(\"We are accepting null hypothesis\")"
   ]
  },
  {
   "cell_type": "markdown",
   "metadata": {},
   "source": [
    "**Below, 888 Saturday cab rides with good weather tend to have more frequent and shorter duration ridership and higher outlier durations; whereas the 180 inclement weather Saturday cab rides, on average, have less ridership, but have more longer duration trips.** "
   ]
  },
  {
   "cell_type": "code",
   "execution_count": 45,
   "metadata": {},
   "outputs": [
    {
     "data": {
      "image/png": "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",
      "text/plain": [
       "<Figure size 1080x720 with 1 Axes>"
      ]
     },
     "metadata": {
      "needs_background": "light"
     },
     "output_type": "display_data"
    }
   ],
   "source": [
    "Inclement.duration_seconds.hist(\n",
    "    bins=30, figsize=(15, 10), alpha=.5, density=True\n",
    ")\n",
    "\n",
    "Good.duration_seconds.hist(\n",
    "    bins=30, figsize=(15, 10), alpha=.5, density=True\n",
    ")\n",
    "plt.title('Inclement v. Good Weather Saturdays Impact on Duration')\n",
    "plt.ylabel('')\n",
    "plt.xlabel('Duration')\n",
    "plt.legend(['Inclement', 'Good'])\n",
    "\n",
    "plt.show()"
   ]
  },
  {
   "cell_type": "code",
   "execution_count": 40,
   "metadata": {},
   "outputs": [
    {
     "data": {
      "text/plain": [
       "<AxesSubplot:>"
      ]
     },
     "execution_count": 40,
     "metadata": {},
     "output_type": "execute_result"
    },
    {
     "data": {
      "image/png": "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",
      "text/plain": [
       "<Figure size 432x288 with 1 Axes>"
      ]
     },
     "metadata": {
      "needs_background": "light"
     },
     "output_type": "display_data"
    }
   ],
   "source": [
    "Inclement.duration_seconds.plot()"
   ]
  },
  {
   "cell_type": "code",
   "execution_count": 41,
   "metadata": {},
   "outputs": [
    {
     "data": {
      "text/plain": [
       "<AxesSubplot:>"
      ]
     },
     "execution_count": 41,
     "metadata": {},
     "output_type": "execute_result"
    },
    {
     "data": {
      "image/png": "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",
      "text/plain": [
       "<Figure size 432x288 with 1 Axes>"
      ]
     },
     "metadata": {
      "needs_background": "light"
     },
     "output_type": "display_data"
    }
   ],
   "source": [
    "Good.duration_seconds.plot()"
   ]
  },
  {
   "cell_type": "code",
   "execution_count": 42,
   "metadata": {},
   "outputs": [
    {
     "data": {
      "text/html": [
       "<div>\n",
       "<style scoped>\n",
       "    .dataframe tbody tr th:only-of-type {\n",
       "        vertical-align: middle;\n",
       "    }\n",
       "\n",
       "    .dataframe tbody tr th {\n",
       "        vertical-align: top;\n",
       "    }\n",
       "\n",
       "    .dataframe thead th {\n",
       "        text-align: right;\n",
       "    }\n",
       "</style>\n",
       "<table border=\"1\" class=\"dataframe\">\n",
       "  <thead>\n",
       "    <tr style=\"text-align: right;\">\n",
       "      <th></th>\n",
       "      <th>duration_seconds</th>\n",
       "    </tr>\n",
       "  </thead>\n",
       "  <tbody>\n",
       "    <tr>\n",
       "      <th>count</th>\n",
       "      <td>180.000000</td>\n",
       "    </tr>\n",
       "    <tr>\n",
       "      <th>mean</th>\n",
       "      <td>2427.205556</td>\n",
       "    </tr>\n",
       "    <tr>\n",
       "      <th>std</th>\n",
       "      <td>721.314138</td>\n",
       "    </tr>\n",
       "    <tr>\n",
       "      <th>min</th>\n",
       "      <td>480.000000</td>\n",
       "    </tr>\n",
       "    <tr>\n",
       "      <th>25%</th>\n",
       "      <td>1962.000000</td>\n",
       "    </tr>\n",
       "    <tr>\n",
       "      <th>50%</th>\n",
       "      <td>2540.000000</td>\n",
       "    </tr>\n",
       "    <tr>\n",
       "      <th>75%</th>\n",
       "      <td>2928.000000</td>\n",
       "    </tr>\n",
       "    <tr>\n",
       "      <th>max</th>\n",
       "      <td>4980.000000</td>\n",
       "    </tr>\n",
       "  </tbody>\n",
       "</table>\n",
       "</div>"
      ],
      "text/plain": [
       "       duration_seconds\n",
       "count        180.000000\n",
       "mean        2427.205556\n",
       "std          721.314138\n",
       "min          480.000000\n",
       "25%         1962.000000\n",
       "50%         2540.000000\n",
       "75%         2928.000000\n",
       "max         4980.000000"
      ]
     },
     "execution_count": 42,
     "metadata": {},
     "output_type": "execute_result"
    }
   ],
   "source": [
    "Inclement.describe()"
   ]
  },
  {
   "cell_type": "code",
   "execution_count": 43,
   "metadata": {},
   "outputs": [
    {
     "data": {
      "text/html": [
       "<div>\n",
       "<style scoped>\n",
       "    .dataframe tbody tr th:only-of-type {\n",
       "        vertical-align: middle;\n",
       "    }\n",
       "\n",
       "    .dataframe tbody tr th {\n",
       "        vertical-align: top;\n",
       "    }\n",
       "\n",
       "    .dataframe thead th {\n",
       "        text-align: right;\n",
       "    }\n",
       "</style>\n",
       "<table border=\"1\" class=\"dataframe\">\n",
       "  <thead>\n",
       "    <tr style=\"text-align: right;\">\n",
       "      <th></th>\n",
       "      <th>duration_seconds</th>\n",
       "    </tr>\n",
       "  </thead>\n",
       "  <tbody>\n",
       "    <tr>\n",
       "      <th>count</th>\n",
       "      <td>888.000000</td>\n",
       "    </tr>\n",
       "    <tr>\n",
       "      <th>mean</th>\n",
       "      <td>1999.675676</td>\n",
       "    </tr>\n",
       "    <tr>\n",
       "      <th>std</th>\n",
       "      <td>759.198268</td>\n",
       "    </tr>\n",
       "    <tr>\n",
       "      <th>min</th>\n",
       "      <td>0.000000</td>\n",
       "    </tr>\n",
       "    <tr>\n",
       "      <th>25%</th>\n",
       "      <td>1389.750000</td>\n",
       "    </tr>\n",
       "    <tr>\n",
       "      <th>50%</th>\n",
       "      <td>1800.000000</td>\n",
       "    </tr>\n",
       "    <tr>\n",
       "      <th>75%</th>\n",
       "      <td>2460.000000</td>\n",
       "    </tr>\n",
       "    <tr>\n",
       "      <th>max</th>\n",
       "      <td>7440.000000</td>\n",
       "    </tr>\n",
       "  </tbody>\n",
       "</table>\n",
       "</div>"
      ],
      "text/plain": [
       "       duration_seconds\n",
       "count        888.000000\n",
       "mean        1999.675676\n",
       "std          759.198268\n",
       "min            0.000000\n",
       "25%         1389.750000\n",
       "50%         1800.000000\n",
       "75%         2460.000000\n",
       "max         7440.000000"
      ]
     },
     "execution_count": 43,
     "metadata": {},
     "output_type": "execute_result"
    }
   ],
   "source": [
    "Good.describe()"
   ]
  },
  {
   "cell_type": "markdown",
   "metadata": {},
   "source": [
    "## Conclusion ##\n"
   ]
  },
  {
   "cell_type": "markdown",
   "metadata": {},
   "source": [
    "***The foregoing analysis tends to show that Zuber should likely capitalize on rider demand  for the most frequented neighborhoods in Chicago, whereby 3/4 of the drop-offs took place in 4 locations in November 2017: 'Loop' - 10727, 'River North' - 9524, 'Streeterville' - 6665, and 'West Loop' - 5164. The foregoing locations comprise 23%, 21%, 15%, and 11% of the drop-offs, respectively, and absent anomolous market influences, Zuber will likely benefit from ridership to and from these neighborhoods.*** \n",
    "\n",
    "***Further analysis should be devoted to Zuber's main competitors. 'Flash Cab', 'Taxi Affiliation Services', 'Medallion Leasing','Yellow Cab', 'Taxi Affiliation Service Yellow','Chicago Carriage Cab Corp', 'City Service', and 'Sun Taxi', whose substantial marketshare in Chicago may pose unyielding competition in gaining a foothold in the market without a large enough fleet of vehicles. That is, the most popular taxi companies each have more than 40 times the amount of rides than the median of the whole data sample, and the market leader is \"Flash Cab\" with the outlier number of 19558, which comprised 16% of the market for November 15-16, 2017.*** \n",
    "\n",
    "***Finally, Zuber's marketing, pricing, and capital expenditures should incorporate weather conditions and weekday/weekend/holiday - contingent variation in demand to maximize profit. E.g., Saturdays  888 Saturday cab rides with good weather tended to have more frequent and shorter duration ridership and higher outlier durations; whereas 180 inclement weather Saturday cab rides, on average, had less ridership, but had more longer duration trips. To that end, specical pricing may be introduced to appropriately address consumer demand, market conditions, and the constraints thereby posed to profitability.*** "
   ]
  }
 ],
 "metadata": {
  "ExecuteTimeLog": [
   {
    "duration": 13694,
    "start_time": "2022-04-14T01:36:54.252Z"
   },
   {
    "duration": 52,
    "start_time": "2022-04-14T01:45:36.137Z"
   },
   {
    "duration": 106,
    "start_time": "2022-04-14T01:52:49.083Z"
   },
   {
    "duration": 16,
    "start_time": "2022-04-14T01:52:50.224Z"
   },
   {
    "duration": 195,
    "start_time": "2022-04-14T01:52:51.018Z"
   },
   {
    "duration": 84,
    "start_time": "2022-04-14T01:53:30.380Z"
   },
   {
    "duration": 51,
    "start_time": "2022-04-14T02:01:24.297Z"
   },
   {
    "duration": 53,
    "start_time": "2022-04-14T02:01:33.684Z"
   },
   {
    "duration": 22,
    "start_time": "2022-04-14T02:01:36.425Z"
   },
   {
    "duration": 45,
    "start_time": "2022-04-14T02:04:46.838Z"
   },
   {
    "duration": 49,
    "start_time": "2022-04-14T02:05:06.838Z"
   },
   {
    "duration": 11,
    "start_time": "2022-04-14T02:05:34.149Z"
   },
   {
    "duration": 91,
    "start_time": "2022-04-14T02:05:52.929Z"
   },
   {
    "duration": 11,
    "start_time": "2022-04-14T02:05:56.839Z"
   },
   {
    "duration": 51,
    "start_time": "2022-04-14T02:06:59.613Z"
   },
   {
    "duration": 10,
    "start_time": "2022-04-14T02:07:04.828Z"
   },
   {
    "duration": 22,
    "start_time": "2022-04-14T02:07:11.775Z"
   },
   {
    "duration": 11,
    "start_time": "2022-04-14T02:07:12.849Z"
   },
   {
    "duration": 34,
    "start_time": "2022-04-14T02:07:13.573Z"
   },
   {
    "duration": 9,
    "start_time": "2022-04-14T02:07:14.385Z"
   },
   {
    "duration": 186,
    "start_time": "2022-04-14T02:18:21.272Z"
   },
   {
    "duration": 22,
    "start_time": "2022-04-14T02:19:05.165Z"
   },
   {
    "duration": 9,
    "start_time": "2022-04-14T02:19:05.922Z"
   },
   {
    "duration": 22,
    "start_time": "2022-04-14T02:19:06.689Z"
   },
   {
    "duration": 9,
    "start_time": "2022-04-14T02:19:07.250Z"
   },
   {
    "duration": 35,
    "start_time": "2022-04-14T02:19:07.880Z"
   },
   {
    "duration": 9,
    "start_time": "2022-04-14T02:19:08.495Z"
   },
   {
    "duration": 13,
    "start_time": "2022-04-14T02:24:27.423Z"
   },
   {
    "duration": 1875,
    "start_time": "2022-04-14T02:24:54.455Z"
   },
   {
    "duration": 9,
    "start_time": "2022-04-14T02:25:59.743Z"
   },
   {
    "duration": 6,
    "start_time": "2022-04-14T02:26:17.913Z"
   },
   {
    "duration": 5,
    "start_time": "2022-04-14T02:26:58.084Z"
   },
   {
    "duration": 17,
    "start_time": "2022-04-14T02:33:36.958Z"
   },
   {
    "duration": 1150,
    "start_time": "2022-04-14T02:34:06.383Z"
   },
   {
    "duration": 2,
    "start_time": "2022-04-14T02:35:46.649Z"
   },
   {
    "duration": 11,
    "start_time": "2022-04-14T02:35:53.219Z"
   },
   {
    "duration": 9,
    "start_time": "2022-04-14T02:36:11.673Z"
   },
   {
    "duration": 21,
    "start_time": "2022-04-14T02:37:42.757Z"
   },
   {
    "duration": 21,
    "start_time": "2022-04-14T02:38:49.888Z"
   },
   {
    "duration": 8,
    "start_time": "2022-04-14T02:39:02.716Z"
   },
   {
    "duration": 10,
    "start_time": "2022-04-14T02:39:25.059Z"
   },
   {
    "duration": 5,
    "start_time": "2022-04-14T02:39:37.766Z"
   },
   {
    "duration": 10,
    "start_time": "2022-04-14T02:39:51.826Z"
   },
   {
    "duration": 137,
    "start_time": "2022-04-14T02:40:15.574Z"
   },
   {
    "duration": 1366,
    "start_time": "2022-04-14T02:41:25.606Z"
   },
   {
    "duration": 153,
    "start_time": "2022-04-14T02:41:37.422Z"
   },
   {
    "duration": 129,
    "start_time": "2022-04-14T02:42:03.232Z"
   },
   {
    "duration": 131,
    "start_time": "2022-04-14T02:45:30.519Z"
   },
   {
    "duration": 115,
    "start_time": "2022-04-14T02:45:47.828Z"
   },
   {
    "duration": 250,
    "start_time": "2022-04-14T02:47:17.395Z"
   },
   {
    "duration": 13,
    "start_time": "2022-04-14T02:48:10.467Z"
   },
   {
    "duration": 9,
    "start_time": "2022-04-14T02:48:17.106Z"
   },
   {
    "duration": 151,
    "start_time": "2022-04-14T02:49:07.491Z"
   },
   {
    "duration": 11,
    "start_time": "2022-04-14T02:56:32.650Z"
   },
   {
    "duration": 12,
    "start_time": "2022-04-14T02:57:00.241Z"
   },
   {
    "duration": 219,
    "start_time": "2022-04-14T02:57:08.232Z"
   },
   {
    "duration": 242,
    "start_time": "2022-04-14T02:58:17.221Z"
   },
   {
    "duration": 3,
    "start_time": "2022-04-14T03:04:12.607Z"
   },
   {
    "duration": 8,
    "start_time": "2022-04-14T03:04:14.113Z"
   },
   {
    "duration": 5,
    "start_time": "2022-04-14T03:04:30.790Z"
   },
   {
    "duration": 303,
    "start_time": "2022-04-14T03:04:31.460Z"
   },
   {
    "duration": 11,
    "start_time": "2022-04-14T03:04:51.050Z"
   },
   {
    "duration": 3,
    "start_time": "2022-04-14T03:04:58.943Z"
   },
   {
    "duration": 8,
    "start_time": "2022-04-14T03:04:59.843Z"
   },
   {
    "duration": 5,
    "start_time": "2022-04-14T03:05:00.713Z"
   },
   {
    "duration": 221,
    "start_time": "2022-04-14T03:05:02.082Z"
   },
   {
    "duration": 9,
    "start_time": "2022-04-14T03:10:06.426Z"
   },
   {
    "duration": 8,
    "start_time": "2022-04-14T03:10:47.736Z"
   },
   {
    "duration": 5,
    "start_time": "2022-04-14T03:11:08.807Z"
   },
   {
    "duration": 4,
    "start_time": "2022-04-14T03:17:33.701Z"
   },
   {
    "duration": 10,
    "start_time": "2022-04-14T03:17:58.987Z"
   },
   {
    "duration": 5,
    "start_time": "2022-04-14T03:18:14.191Z"
   },
   {
    "duration": 11,
    "start_time": "2022-04-14T03:19:31.483Z"
   },
   {
    "duration": 5,
    "start_time": "2022-04-14T03:20:58.490Z"
   },
   {
    "duration": 5,
    "start_time": "2022-04-14T03:21:05.544Z"
   },
   {
    "duration": 4,
    "start_time": "2022-04-14T03:25:06.034Z"
   },
   {
    "duration": 5,
    "start_time": "2022-04-14T03:25:07.319Z"
   },
   {
    "duration": 184,
    "start_time": "2022-04-14T03:28:25.752Z"
   },
   {
    "duration": 10,
    "start_time": "2022-04-14T03:31:28.874Z"
   },
   {
    "duration": 5,
    "start_time": "2022-04-14T03:31:31.331Z"
   },
   {
    "duration": 4,
    "start_time": "2022-04-14T03:31:39.740Z"
   },
   {
    "duration": 4,
    "start_time": "2022-04-14T03:31:40.319Z"
   },
   {
    "duration": 10,
    "start_time": "2022-04-14T03:31:58.702Z"
   },
   {
    "duration": 11,
    "start_time": "2022-04-14T03:34:51.682Z"
   },
   {
    "duration": 748,
    "start_time": "2022-04-14T03:41:58.443Z"
   },
   {
    "duration": 34,
    "start_time": "2022-04-14T03:42:54.196Z"
   },
   {
    "duration": 9,
    "start_time": "2022-04-14T03:42:55.140Z"
   },
   {
    "duration": 21,
    "start_time": "2022-04-14T03:42:56.002Z"
   },
   {
    "duration": 10,
    "start_time": "2022-04-14T03:42:56.811Z"
   },
   {
    "duration": 34,
    "start_time": "2022-04-14T03:42:57.705Z"
   },
   {
    "duration": 10,
    "start_time": "2022-04-14T03:42:58.506Z"
   },
   {
    "duration": 10,
    "start_time": "2022-04-14T03:43:00.142Z"
   },
   {
    "duration": 6,
    "start_time": "2022-04-14T03:43:10.532Z"
   },
   {
    "duration": 4,
    "start_time": "2022-04-14T03:43:18.511Z"
   },
   {
    "duration": 4,
    "start_time": "2022-04-14T03:43:20.150Z"
   },
   {
    "duration": 842,
    "start_time": "2022-04-14T03:43:21.271Z"
   },
   {
    "duration": 13,
    "start_time": "2022-04-14T03:46:27.353Z"
   },
   {
    "duration": 10,
    "start_time": "2022-04-14T03:46:39.158Z"
   },
   {
    "duration": 22,
    "start_time": "2022-04-14T03:46:40.139Z"
   },
   {
    "duration": 9,
    "start_time": "2022-04-14T03:46:41.520Z"
   },
   {
    "duration": 36,
    "start_time": "2022-04-14T03:46:42.047Z"
   },
   {
    "duration": 10,
    "start_time": "2022-04-14T03:46:42.588Z"
   },
   {
    "duration": 5,
    "start_time": "2022-04-14T03:46:44.884Z"
   },
   {
    "duration": 4,
    "start_time": "2022-04-14T03:46:47.819Z"
   },
   {
    "duration": 3,
    "start_time": "2022-04-14T03:46:48.615Z"
   },
   {
    "duration": 785,
    "start_time": "2022-04-14T03:46:49.999Z"
   },
   {
    "duration": 5,
    "start_time": "2022-04-14T03:46:52.239Z"
   },
   {
    "duration": 3,
    "start_time": "2022-04-14T03:47:15.189Z"
   },
   {
    "duration": 5,
    "start_time": "2022-04-14T03:47:16.910Z"
   },
   {
    "duration": 4,
    "start_time": "2022-04-14T03:47:29.933Z"
   },
   {
    "duration": 3,
    "start_time": "2022-04-14T03:47:30.609Z"
   },
   {
    "duration": 7,
    "start_time": "2022-04-14T03:47:31.465Z"
   },
   {
    "duration": 5,
    "start_time": "2022-04-14T03:47:32.170Z"
   },
   {
    "duration": 208,
    "start_time": "2022-04-14T03:47:33.488Z"
   },
   {
    "duration": 202,
    "start_time": "2022-04-14T04:16:16.704Z"
   },
   {
    "duration": 103,
    "start_time": "2022-04-14T04:16:28.623Z"
   },
   {
    "duration": 10,
    "start_time": "2022-04-14T04:25:48.128Z"
   },
   {
    "duration": 170,
    "start_time": "2022-04-14T04:41:19.861Z"
   },
   {
    "duration": 184,
    "start_time": "2022-04-14T04:42:11.763Z"
   },
   {
    "duration": 174,
    "start_time": "2022-04-14T04:42:32.984Z"
   },
   {
    "duration": 162,
    "start_time": "2022-04-14T04:42:45.295Z"
   },
   {
    "duration": 5,
    "start_time": "2022-04-14T04:44:23.522Z"
   },
   {
    "duration": 170,
    "start_time": "2022-04-14T04:45:05.891Z"
   },
   {
    "duration": 217,
    "start_time": "2022-04-14T04:46:01.269Z"
   },
   {
    "duration": 306,
    "start_time": "2022-04-14T04:48:14.282Z"
   },
   {
    "duration": 386,
    "start_time": "2022-04-14T04:48:53.573Z"
   },
   {
    "duration": 313,
    "start_time": "2022-04-14T04:49:04.323Z"
   },
   {
    "duration": 284,
    "start_time": "2022-04-14T04:49:48.680Z"
   },
   {
    "duration": 144,
    "start_time": "2022-04-14T04:50:34.437Z"
   },
   {
    "duration": 150,
    "start_time": "2022-04-14T04:50:37.906Z"
   },
   {
    "duration": 290,
    "start_time": "2022-04-14T04:50:43.337Z"
   },
   {
    "duration": 12,
    "start_time": "2022-04-14T05:20:38.055Z"
   },
   {
    "duration": 12,
    "start_time": "2022-04-14T05:20:54.678Z"
   },
   {
    "duration": 215,
    "start_time": "2022-04-14T05:21:09.142Z"
   },
   {
    "duration": 11,
    "start_time": "2022-04-14T05:22:03.135Z"
   },
   {
    "duration": 3541,
    "start_time": "2022-04-14T05:22:37.783Z"
   },
   {
    "duration": 8,
    "start_time": "2022-04-14T05:22:52.146Z"
   },
   {
    "duration": 17,
    "start_time": "2022-04-14T05:25:22.838Z"
   },
   {
    "duration": 10,
    "start_time": "2022-04-14T05:25:55.594Z"
   },
   {
    "duration": 111522,
    "start_time": "2022-04-14T05:27:02.809Z"
   },
   {
    "duration": 14,
    "start_time": "2022-04-14T05:29:23.394Z"
   },
   {
    "duration": 22,
    "start_time": "2022-04-14T05:29:35.782Z"
   },
   {
    "duration": 23,
    "start_time": "2022-04-14T05:30:01.453Z"
   },
   {
    "duration": 131243,
    "start_time": "2022-04-14T06:17:54.731Z"
   },
   {
    "duration": 0,
    "start_time": "2022-04-14T06:20:05.994Z"
   },
   {
    "duration": 10,
    "start_time": "2022-04-14T06:20:22.051Z"
   },
   {
    "duration": 4741,
    "start_time": "2022-04-14T06:20:29.710Z"
   },
   {
    "duration": 332,
    "start_time": "2022-04-14T06:21:58.736Z"
   },
   {
    "duration": 3405,
    "start_time": "2022-04-14T06:22:31.170Z"
   },
   {
    "duration": 271,
    "start_time": "2022-04-14T06:23:14.217Z"
   },
   {
    "duration": 127697,
    "start_time": "2022-04-14T06:25:56.770Z"
   },
   {
    "duration": 4831,
    "start_time": "2022-04-14T06:28:04.469Z"
   },
   {
    "duration": 12604,
    "start_time": "2022-04-14T06:30:34.372Z"
   },
   {
    "duration": 309,
    "start_time": "2022-04-14T06:32:05.495Z"
   },
   {
    "duration": 785,
    "start_time": "2022-04-14T06:32:18.053Z"
   },
   {
    "duration": 968,
    "start_time": "2022-04-14T06:32:55.224Z"
   },
   {
    "duration": 665,
    "start_time": "2022-04-14T06:33:09.636Z"
   },
   {
    "duration": 0,
    "start_time": "2022-04-14T06:44:17.529Z"
   },
   {
    "duration": 0,
    "start_time": "2022-04-14T06:44:17.532Z"
   },
   {
    "duration": 0,
    "start_time": "2022-04-14T06:44:17.535Z"
   },
   {
    "duration": 0,
    "start_time": "2022-04-14T06:44:17.536Z"
   },
   {
    "duration": 0,
    "start_time": "2022-04-14T06:44:17.538Z"
   },
   {
    "duration": 0,
    "start_time": "2022-04-14T06:44:17.540Z"
   },
   {
    "duration": 0,
    "start_time": "2022-04-14T06:44:17.541Z"
   },
   {
    "duration": 0,
    "start_time": "2022-04-14T06:44:17.543Z"
   },
   {
    "duration": 6163,
    "start_time": "2022-04-14T06:44:23.626Z"
   },
   {
    "duration": 2470,
    "start_time": "2022-04-14T06:44:29.792Z"
   },
   {
    "duration": 36,
    "start_time": "2022-04-14T06:44:32.263Z"
   },
   {
    "duration": 13,
    "start_time": "2022-04-14T06:44:32.302Z"
   },
   {
    "duration": 10,
    "start_time": "2022-04-14T06:44:32.392Z"
   },
   {
    "duration": 23,
    "start_time": "2022-04-14T06:44:34.582Z"
   },
   {
    "duration": 10,
    "start_time": "2022-04-14T06:44:35.493Z"
   },
   {
    "duration": 37,
    "start_time": "2022-04-14T06:44:36.207Z"
   },
   {
    "duration": 10,
    "start_time": "2022-04-14T06:44:37.021Z"
   },
   {
    "duration": 5,
    "start_time": "2022-04-14T06:44:38.538Z"
   },
   {
    "duration": 4,
    "start_time": "2022-04-14T06:44:40.268Z"
   },
   {
    "duration": 5,
    "start_time": "2022-04-14T06:44:40.733Z"
   },
   {
    "duration": 4,
    "start_time": "2022-04-14T06:44:41.203Z"
   },
   {
    "duration": 5,
    "start_time": "2022-04-14T06:44:42.197Z"
   },
   {
    "duration": 5,
    "start_time": "2022-04-14T06:44:44.064Z"
   },
   {
    "duration": 546,
    "start_time": "2022-04-14T06:44:44.808Z"
   },
   {
    "duration": 129303,
    "start_time": "2022-04-14T06:44:46.425Z"
   },
   {
    "duration": 4395,
    "start_time": "2022-04-14T06:46:55.730Z"
   },
   {
    "duration": 0,
    "start_time": "2022-04-14T06:47:00.127Z"
   },
   {
    "duration": 5,
    "start_time": "2022-04-14T06:47:07.202Z"
   },
   {
    "duration": 3,
    "start_time": "2022-04-14T06:47:10.058Z"
   },
   {
    "duration": 8,
    "start_time": "2022-04-14T06:47:10.703Z"
   },
   {
    "duration": 6,
    "start_time": "2022-04-14T06:47:13.378Z"
   },
   {
    "duration": 389,
    "start_time": "2022-04-14T06:47:13.964Z"
   },
   {
    "duration": 274,
    "start_time": "2022-04-14T06:47:33.875Z"
   },
   {
    "duration": 336,
    "start_time": "2022-04-14T06:48:34.924Z"
   },
   {
    "duration": 323,
    "start_time": "2022-04-14T06:48:56.116Z"
   },
   {
    "duration": 334,
    "start_time": "2022-04-14T06:49:04.751Z"
   },
   {
    "duration": 10,
    "start_time": "2022-04-14T06:50:06.412Z"
   },
   {
    "duration": 337,
    "start_time": "2022-04-14T06:50:16.734Z"
   },
   {
    "duration": 10,
    "start_time": "2022-04-14T06:54:53.550Z"
   },
   {
    "duration": 196,
    "start_time": "2022-04-14T06:55:08.238Z"
   },
   {
    "duration": 328,
    "start_time": "2022-04-14T06:56:30.021Z"
   },
   {
    "duration": 320,
    "start_time": "2022-04-14T06:57:52.273Z"
   },
   {
    "duration": 319,
    "start_time": "2022-04-14T06:57:59.875Z"
   },
   {
    "duration": 364,
    "start_time": "2022-04-14T06:58:08.488Z"
   },
   {
    "duration": 366,
    "start_time": "2022-04-14T06:58:22.479Z"
   },
   {
    "duration": 346,
    "start_time": "2022-04-14T06:58:29.705Z"
   },
   {
    "duration": 13,
    "start_time": "2022-04-14T06:59:12.412Z"
   },
   {
    "duration": 375,
    "start_time": "2022-04-14T06:59:22.522Z"
   },
   {
    "duration": 354,
    "start_time": "2022-04-14T07:00:43.281Z"
   },
   {
    "duration": 358,
    "start_time": "2022-04-14T07:01:00.200Z"
   },
   {
    "duration": 387,
    "start_time": "2022-04-14T07:02:02.266Z"
   },
   {
    "duration": 621,
    "start_time": "2022-04-14T07:02:54.256Z"
   },
   {
    "duration": 136560,
    "start_time": "2022-04-14T07:03:16.967Z"
   },
   {
    "duration": 11,
    "start_time": "2022-04-14T07:07:06.451Z"
   },
   {
    "duration": 11,
    "start_time": "2022-04-14T07:07:47.301Z"
   },
   {
    "duration": 4648,
    "start_time": "2022-04-14T07:49:59.910Z"
   },
   {
    "duration": 9,
    "start_time": "2022-04-14T07:51:34.479Z"
   },
   {
    "duration": 8,
    "start_time": "2022-04-14T07:51:43.362Z"
   },
   {
    "duration": 9,
    "start_time": "2022-04-14T07:52:15.568Z"
   },
   {
    "duration": 180,
    "start_time": "2022-04-14T07:52:21.954Z"
   },
   {
    "duration": 9,
    "start_time": "2022-04-14T07:52:31.265Z"
   },
   {
    "duration": 266,
    "start_time": "2022-04-14T07:52:38.881Z"
   },
   {
    "duration": 312,
    "start_time": "2022-04-14T08:06:37.495Z"
   },
   {
    "duration": 202,
    "start_time": "2022-04-14T08:08:32.244Z"
   },
   {
    "duration": 352,
    "start_time": "2022-04-14T08:08:37.506Z"
   },
   {
    "duration": 6,
    "start_time": "2022-04-14T08:14:56.305Z"
   },
   {
    "duration": 317,
    "start_time": "2022-04-14T08:17:11.432Z"
   },
   {
    "duration": 653,
    "start_time": "2022-04-14T09:15:33.829Z"
   },
   {
    "duration": 135290,
    "start_time": "2022-04-14T09:16:00.762Z"
   },
   {
    "duration": 11,
    "start_time": "2022-04-14T09:28:54.920Z"
   },
   {
    "duration": 5,
    "start_time": "2022-04-14T09:32:03.267Z"
   },
   {
    "duration": 5,
    "start_time": "2022-04-14T09:32:45.856Z"
   },
   {
    "duration": 9,
    "start_time": "2022-04-14T09:37:50.238Z"
   },
   {
    "duration": 3123,
    "start_time": "2022-04-14T09:38:22.540Z"
   },
   {
    "duration": 1553,
    "start_time": "2022-04-14T09:38:36.740Z"
   },
   {
    "duration": 3594,
    "start_time": "2022-04-14T09:39:40.323Z"
   },
   {
    "duration": 5665,
    "start_time": "2022-04-14T09:40:10.178Z"
   },
   {
    "duration": 3172,
    "start_time": "2022-04-14T09:40:44.168Z"
   },
   {
    "duration": 6,
    "start_time": "2022-04-14T09:41:09.780Z"
   },
   {
    "duration": 10,
    "start_time": "2022-04-14T09:41:36.594Z"
   },
   {
    "duration": 5,
    "start_time": "2022-04-14T09:41:58.872Z"
   },
   {
    "duration": 11,
    "start_time": "2022-04-14T09:42:02.000Z"
   },
   {
    "duration": 10,
    "start_time": "2022-04-14T09:42:17.419Z"
   },
   {
    "duration": 4454,
    "start_time": "2022-04-14T09:42:20.011Z"
   },
   {
    "duration": 12,
    "start_time": "2022-04-14T09:42:24.467Z"
   },
   {
    "duration": 11,
    "start_time": "2022-04-14T09:44:12.878Z"
   },
   {
    "duration": 5,
    "start_time": "2022-04-14T09:45:33.093Z"
   },
   {
    "duration": 9,
    "start_time": "2022-04-14T09:46:10.802Z"
   },
   {
    "duration": 112,
    "start_time": "2022-04-14T09:47:11.733Z"
   },
   {
    "duration": 101,
    "start_time": "2022-04-14T09:47:39.203Z"
   },
   {
    "duration": 6,
    "start_time": "2022-04-14T09:48:42.646Z"
   },
   {
    "duration": 13,
    "start_time": "2022-04-14T09:50:55.727Z"
   },
   {
    "duration": 10,
    "start_time": "2022-04-14T09:51:25.676Z"
   },
   {
    "duration": 7,
    "start_time": "2022-04-14T09:51:38.431Z"
   },
   {
    "duration": 6,
    "start_time": "2022-04-14T09:51:38.993Z"
   },
   {
    "duration": 4,
    "start_time": "2022-04-14T09:51:39.696Z"
   },
   {
    "duration": 6,
    "start_time": "2022-04-14T09:51:40.373Z"
   },
   {
    "duration": 7,
    "start_time": "2022-04-14T09:51:41.068Z"
   },
   {
    "duration": 7,
    "start_time": "2022-04-14T09:51:41.989Z"
   },
   {
    "duration": 11,
    "start_time": "2022-04-14T09:54:47.528Z"
   },
   {
    "duration": 7,
    "start_time": "2022-04-14T09:55:03.846Z"
   },
   {
    "duration": 255,
    "start_time": "2022-04-14T09:58:37.261Z"
   },
   {
    "duration": 16,
    "start_time": "2022-04-14T10:00:46.681Z"
   },
   {
    "duration": 6,
    "start_time": "2022-04-14T10:00:51.574Z"
   },
   {
    "duration": 6,
    "start_time": "2022-04-14T10:00:56.445Z"
   },
   {
    "duration": 5,
    "start_time": "2022-04-14T10:00:56.907Z"
   },
   {
    "duration": 5,
    "start_time": "2022-04-14T10:00:57.343Z"
   },
   {
    "duration": 6,
    "start_time": "2022-04-14T10:00:57.844Z"
   },
   {
    "duration": 6,
    "start_time": "2022-04-14T10:00:58.523Z"
   },
   {
    "duration": 10,
    "start_time": "2022-04-14T10:01:02.103Z"
   },
   {
    "duration": 10,
    "start_time": "2022-04-14T10:01:02.603Z"
   },
   {
    "duration": 224,
    "start_time": "2022-04-14T10:01:03.424Z"
   },
   {
    "duration": 219,
    "start_time": "2022-04-14T10:13:03.908Z"
   },
   {
    "duration": 208,
    "start_time": "2022-04-14T10:16:40.985Z"
   },
   {
    "duration": 19,
    "start_time": "2022-04-14T10:18:29.089Z"
   },
   {
    "duration": 3,
    "start_time": "2022-04-14T10:19:43.452Z"
   },
   {
    "duration": 11,
    "start_time": "2022-04-14T10:19:44.832Z"
   },
   {
    "duration": 16,
    "start_time": "2022-04-14T10:44:40.476Z"
   },
   {
    "duration": 6,
    "start_time": "2022-04-14T10:44:40.944Z"
   },
   {
    "duration": 7,
    "start_time": "2022-04-14T10:44:41.405Z"
   },
   {
    "duration": 5,
    "start_time": "2022-04-14T10:44:41.828Z"
   },
   {
    "duration": 6,
    "start_time": "2022-04-14T10:44:42.049Z"
   },
   {
    "duration": 6,
    "start_time": "2022-04-14T10:44:42.326Z"
   },
   {
    "duration": 6,
    "start_time": "2022-04-14T10:44:42.933Z"
   },
   {
    "duration": 7,
    "start_time": "2022-04-14T10:44:43.211Z"
   },
   {
    "duration": 3,
    "start_time": "2022-04-14T10:44:43.452Z"
   },
   {
    "duration": 11,
    "start_time": "2022-04-14T10:44:43.679Z"
   },
   {
    "duration": 70,
    "start_time": "2022-04-15T12:56:14.585Z"
   },
   {
    "duration": 15341,
    "start_time": "2022-04-15T12:56:38.247Z"
   },
   {
    "duration": 4315,
    "start_time": "2022-04-15T12:56:53.591Z"
   },
   {
    "duration": 65,
    "start_time": "2022-04-15T12:56:57.909Z"
   },
   {
    "duration": 18,
    "start_time": "2022-04-15T12:56:57.976Z"
   },
   {
    "duration": 11813,
    "start_time": "2022-04-15T12:57:16.590Z"
   },
   {
    "duration": 29,
    "start_time": "2022-04-15T12:57:38.488Z"
   },
   {
    "duration": 18,
    "start_time": "2022-04-15T12:57:40.124Z"
   },
   {
    "duration": 17,
    "start_time": "2022-04-15T12:57:43.874Z"
   },
   {
    "duration": 59,
    "start_time": "2022-04-15T12:57:45.593Z"
   },
   {
    "duration": 15,
    "start_time": "2022-04-15T12:57:49.199Z"
   },
   {
    "duration": 76,
    "start_time": "2022-04-15T12:57:49.996Z"
   },
   {
    "duration": 16,
    "start_time": "2022-04-15T12:57:50.755Z"
   },
   {
    "duration": 7,
    "start_time": "2022-04-15T12:57:52.121Z"
   },
   {
    "duration": 17,
    "start_time": "2022-04-15T12:58:00.473Z"
   },
   {
    "duration": 7,
    "start_time": "2022-04-15T12:58:11.207Z"
   },
   {
    "duration": 8,
    "start_time": "2022-04-15T12:58:18.645Z"
   },
   {
    "duration": 5,
    "start_time": "2022-04-15T12:58:19.107Z"
   },
   {
    "duration": 5,
    "start_time": "2022-04-15T12:58:19.589Z"
   },
   {
    "duration": 6,
    "start_time": "2022-04-15T12:58:22.285Z"
   },
   {
    "duration": 13,
    "start_time": "2022-04-15T12:58:31.986Z"
   },
   {
    "duration": 16,
    "start_time": "2022-04-15T12:58:32.680Z"
   },
   {
    "duration": 15,
    "start_time": "2022-04-15T12:58:33.430Z"
   },
   {
    "duration": 261,
    "start_time": "2022-04-15T12:58:34.449Z"
   },
   {
    "duration": 583,
    "start_time": "2022-04-15T12:58:50.331Z"
   },
   {
    "duration": 240,
    "start_time": "2022-04-15T13:00:20.186Z"
   },
   {
    "duration": 259,
    "start_time": "2022-04-15T13:00:35.517Z"
   },
   {
    "duration": 111,
    "start_time": "2022-04-15T13:01:58.575Z"
   },
   {
    "duration": 8,
    "start_time": "2022-04-15T13:02:09.332Z"
   },
   {
    "duration": 202342,
    "start_time": "2022-04-15T13:02:10.927Z"
   },
   {
    "duration": 7,
    "start_time": "2022-04-15T13:05:33.271Z"
   },
   {
    "duration": 18,
    "start_time": "2022-04-15T13:05:33.279Z"
   },
   {
    "duration": 14,
    "start_time": "2022-04-15T13:05:33.299Z"
   },
   {
    "duration": 26,
    "start_time": "2022-04-15T13:05:38.510Z"
   },
   {
    "duration": 17,
    "start_time": "2022-04-15T13:05:39.193Z"
   },
   {
    "duration": 15,
    "start_time": "2022-04-15T13:05:39.797Z"
   },
   {
    "duration": 32,
    "start_time": "2022-04-15T13:05:40.467Z"
   },
   {
    "duration": 15,
    "start_time": "2022-04-15T13:05:41.098Z"
   },
   {
    "duration": 39,
    "start_time": "2022-04-15T13:05:41.731Z"
   },
   {
    "duration": 15,
    "start_time": "2022-04-15T13:05:42.284Z"
   },
   {
    "duration": 7,
    "start_time": "2022-04-15T13:05:43.388Z"
   },
   {
    "duration": 16,
    "start_time": "2022-04-15T13:05:43.966Z"
   },
   {
    "duration": 7,
    "start_time": "2022-04-15T13:05:45.691Z"
   },
   {
    "duration": 5,
    "start_time": "2022-04-15T13:05:47.057Z"
   },
   {
    "duration": 5,
    "start_time": "2022-04-15T13:05:47.355Z"
   },
   {
    "duration": 7,
    "start_time": "2022-04-15T13:05:47.681Z"
   },
   {
    "duration": 7,
    "start_time": "2022-04-15T13:05:47.979Z"
   },
   {
    "duration": 7,
    "start_time": "2022-04-15T13:05:49.244Z"
   },
   {
    "duration": 16,
    "start_time": "2022-04-15T13:05:50.989Z"
   },
   {
    "duration": 15,
    "start_time": "2022-04-15T13:05:51.624Z"
   },
   {
    "duration": 4193,
    "start_time": "2022-04-15T13:05:52.481Z"
   },
   {
    "duration": 871,
    "start_time": "2022-04-15T13:05:56.676Z"
   },
   {
    "duration": 640,
    "start_time": "2022-04-15T13:05:57.549Z"
   },
   {
    "duration": 8,
    "start_time": "2022-04-15T13:06:11.962Z"
   },
   {
    "duration": 4,
    "start_time": "2022-04-15T13:06:12.693Z"
   },
   {
    "duration": 11,
    "start_time": "2022-04-15T13:06:13.410Z"
   },
   {
    "duration": 14,
    "start_time": "2022-04-15T13:06:14.084Z"
   },
   {
    "duration": 7,
    "start_time": "2022-04-15T13:06:14.727Z"
   },
   {
    "duration": 14,
    "start_time": "2022-04-15T13:07:14.038Z"
   },
   {
    "duration": 6,
    "start_time": "2022-04-15T13:07:37.939Z"
   },
   {
    "duration": 586,
    "start_time": "2022-04-15T13:07:39.917Z"
   },
   {
    "duration": 583,
    "start_time": "2022-04-15T13:09:03.551Z"
   },
   {
    "duration": 435,
    "start_time": "2022-04-15T13:10:12.473Z"
   },
   {
    "duration": 426,
    "start_time": "2022-04-15T13:10:56.659Z"
   },
   {
    "duration": 16,
    "start_time": "2022-04-15T13:13:36.900Z"
   },
   {
    "duration": 10,
    "start_time": "2022-04-15T13:13:39.373Z"
   },
   {
    "duration": 9,
    "start_time": "2022-04-15T13:13:40.192Z"
   },
   {
    "duration": 7,
    "start_time": "2022-04-15T13:13:42.932Z"
   },
   {
    "duration": 7,
    "start_time": "2022-04-15T13:13:43.444Z"
   },
   {
    "duration": 8,
    "start_time": "2022-04-15T13:13:44.138Z"
   },
   {
    "duration": 9,
    "start_time": "2022-04-15T13:13:45.534Z"
   },
   {
    "duration": 9,
    "start_time": "2022-04-15T13:13:48.769Z"
   },
   {
    "duration": 3,
    "start_time": "2022-04-15T13:13:49.889Z"
   },
   {
    "duration": 14,
    "start_time": "2022-04-15T13:14:16.671Z"
   },
   {
    "duration": 694,
    "start_time": "2022-04-15T13:28:30.981Z"
   },
   {
    "duration": 670,
    "start_time": "2022-04-15T13:29:13.666Z"
   },
   {
    "duration": 722,
    "start_time": "2022-04-15T13:30:06.097Z"
   },
   {
    "duration": 693,
    "start_time": "2022-04-15T13:31:13.583Z"
   },
   {
    "duration": 406,
    "start_time": "2022-04-15T13:36:59.308Z"
   },
   {
    "duration": 504,
    "start_time": "2022-04-15T13:37:45.367Z"
   },
   {
    "duration": 57845,
    "start_time": "2022-04-15T13:40:05.703Z"
   },
   {
    "duration": 369,
    "start_time": "2022-04-15T13:41:44.426Z"
   },
   {
    "duration": 285,
    "start_time": "2022-04-15T13:42:02.776Z"
   },
   {
    "duration": 341,
    "start_time": "2022-04-15T13:42:38.818Z"
   },
   {
    "duration": 5,
    "start_time": "2022-04-15T13:44:01.559Z"
   },
   {
    "duration": 6,
    "start_time": "2022-04-15T13:44:16.367Z"
   },
   {
    "duration": 16,
    "start_time": "2022-04-15T13:45:21.568Z"
   },
   {
    "duration": 19,
    "start_time": "2022-04-15T13:45:45.635Z"
   },
   {
    "duration": 53,
    "start_time": "2022-06-09T14:08:42.364Z"
   },
   {
    "duration": 18107,
    "start_time": "2022-06-09T14:08:49.065Z"
   },
   {
    "duration": 93,
    "start_time": "2022-06-09T14:09:07.174Z"
   },
   {
    "duration": 20,
    "start_time": "2022-06-09T14:09:07.268Z"
   },
   {
    "duration": 27,
    "start_time": "2022-06-09T14:09:07.290Z"
   },
   {
    "duration": 72,
    "start_time": "2022-06-09T14:09:07.319Z"
   },
   {
    "duration": 11,
    "start_time": "2022-06-09T14:09:09.558Z"
   },
   {
    "duration": 87,
    "start_time": "2022-06-09T14:09:09.824Z"
   },
   {
    "duration": 10,
    "start_time": "2022-06-09T14:09:10.059Z"
   },
   {
    "duration": 5,
    "start_time": "2022-06-09T14:09:10.417Z"
   },
   {
    "duration": 11,
    "start_time": "2022-06-09T14:09:10.593Z"
   },
   {
    "duration": 4,
    "start_time": "2022-06-09T14:09:11.121Z"
   },
   {
    "duration": 4,
    "start_time": "2022-06-09T14:09:11.717Z"
   },
   {
    "duration": 4,
    "start_time": "2022-06-09T14:09:25.363Z"
   },
   {
    "duration": 3,
    "start_time": "2022-06-09T14:09:25.858Z"
   },
   {
    "duration": 5,
    "start_time": "2022-06-09T14:09:26.105Z"
   },
   {
    "duration": 10,
    "start_time": "2022-06-09T14:09:28.154Z"
   },
   {
    "duration": 13,
    "start_time": "2022-06-09T14:09:28.451Z"
   },
   {
    "duration": 11,
    "start_time": "2022-06-09T14:09:28.730Z"
   },
   {
    "duration": 183,
    "start_time": "2022-06-09T14:09:28.958Z"
   },
   {
    "duration": 355,
    "start_time": "2022-06-09T14:09:29.194Z"
   },
   {
    "duration": 331,
    "start_time": "2022-06-09T14:09:29.802Z"
   },
   {
    "duration": 6,
    "start_time": "2022-06-09T14:09:30.895Z"
   },
   {
    "duration": 5,
    "start_time": "2022-06-09T14:09:31.163Z"
   },
   {
    "duration": 12,
    "start_time": "2022-06-09T14:09:31.451Z"
   },
   {
    "duration": 23,
    "start_time": "2022-06-09T14:09:31.697Z"
   },
   {
    "duration": 226,
    "start_time": "2022-06-09T14:09:32.203Z"
   },
   {
    "duration": 168,
    "start_time": "2022-06-09T14:09:32.659Z"
   },
   {
    "duration": 13,
    "start_time": "2022-06-09T14:09:33.709Z"
   },
   {
    "duration": 4,
    "start_time": "2022-06-09T14:09:33.972Z"
   },
   {
    "duration": 6,
    "start_time": "2022-06-09T14:09:34.202Z"
   },
   {
    "duration": 5,
    "start_time": "2022-06-09T14:09:34.412Z"
   },
   {
    "duration": 6,
    "start_time": "2022-06-09T14:09:34.627Z"
   },
   {
    "duration": 5,
    "start_time": "2022-06-09T14:09:34.860Z"
   },
   {
    "duration": 6,
    "start_time": "2022-06-09T14:09:35.415Z"
   },
   {
    "duration": 7,
    "start_time": "2022-06-09T14:09:35.730Z"
   },
   {
    "duration": 3,
    "start_time": "2022-06-09T14:09:35.957Z"
   },
   {
    "duration": 10,
    "start_time": "2022-06-09T14:09:36.460Z"
   },
   {
    "duration": 80,
    "start_time": "2022-06-09T14:09:37.953Z"
   },
   {
    "duration": 571,
    "start_time": "2022-06-09T14:09:38.215Z"
   },
   {
    "duration": 134,
    "start_time": "2022-06-09T14:09:38.787Z"
   },
   {
    "duration": 15,
    "start_time": "2022-06-09T14:09:38.923Z"
   },
   {
    "duration": 12,
    "start_time": "2022-06-09T14:09:39.256Z"
   },
   {
    "duration": 168,
    "start_time": "2022-06-09T14:10:39.666Z"
   },
   {
    "duration": 400,
    "start_time": "2022-06-09T14:10:55.015Z"
   }
  ],
  "interpreter": {
   "hash": "bd85fe06485a6095c216e1748c7545c217b7430081d38a92308211bf04b5a254"
  },
  "kernelspec": {
   "display_name": "Python 3.9.7 ('base')",
   "language": "python",
   "name": "python3"
  },
  "language_info": {
   "codemirror_mode": {
    "name": "ipython",
    "version": 3
   },
   "file_extension": ".py",
   "mimetype": "text/x-python",
   "name": "python",
   "nbconvert_exporter": "python",
   "pygments_lexer": "ipython3",
   "version": "3.9.7"
  },
  "toc": {
   "base_numbering": 1,
   "nav_menu": {},
   "number_sections": true,
   "sideBar": true,
   "skip_h1_title": true,
   "title_cell": "Table of Contents",
   "title_sidebar": "Contents",
   "toc_cell": false,
   "toc_position": {},
   "toc_section_display": true,
   "toc_window_display": false
  }
 },
 "nbformat": 4,
 "nbformat_minor": 2
}
