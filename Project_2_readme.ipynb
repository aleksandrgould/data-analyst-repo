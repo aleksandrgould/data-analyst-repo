{
 "cells": [
  {
   "cell_type": "markdown",
   "metadata": {},
   "source": [
    "# Data\n",
    "- price\n",
    "- model_year\n",
    "- model\n",
    "- condition\n",
    "- cylinders\n",
    "- fuel — gas, diesel, etc.\n",
    "- odometer — the vehicle's mileage when the ad was published\n",
    "- transmission\n",
    "- paint_color\n",
    "- is_4wd — whether the vehicle has 4-wheel drive (Boolean type)\n",
    "- date_posted — the date the ad was published\n",
    "- days_listed — from publication to removal\n",
    "\n",
    "# Goal\n",
    "Determine which factors influence vehicle price by analyzing used vehicle data\n",
    "\n",
    "# Libraries\n",
    "*pandas, matplotlib, numpy*"
   ]
  },
  {
   "cell_type": "markdown",
   "metadata": {},
   "source": []
  }
 ],
 "metadata": {
  "language_info": {
   "name": "python"
  },
  "orig_nbformat": 4
 },
 "nbformat": 4,
 "nbformat_minor": 2
}
