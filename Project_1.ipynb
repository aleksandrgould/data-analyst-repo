{
 "cells": [
  {
   "cell_type": "markdown",
   "metadata": {},
   "source": [
    "# Analyzing borrowers’ risk of defaulting\n",
    "\n",
    "Here, I have prepared a report for a bank’s loan division, which analyzes whether a customer’s marital status and number of children has an impact on loan repayment.\n"
   ]
  },
  {
   "cell_type": "code",
   "execution_count": 1,
   "metadata": {},
   "outputs": [
    {
     "data": {
      "text/plain": [
       "<pandas.core.groupby.generic.SeriesGroupBy object at 0x7ff4835b9fd0>"
      ]
     },
     "execution_count": 1,
     "metadata": {},
     "output_type": "execute_result"
    }
   ],
   "source": [
    "import pandas as pd\n",
    "import numpy as np\n",
    "\n",
    "credit_scoring_eng = pd.read_csv('/datasets/credit_scoring_eng.csv')\n",
    "\n",
    "credit_scoring_eng.groupby('days_employed')['total_income']\n"
   ]
  },
  {
   "cell_type": "markdown",
   "metadata": {},
   "source": [
    "##  Description of the data\n",
    "\n",
    "****\n",
    "- `children` - the number of children in the family\n",
    "- `days_employed` - work experience in days\n",
    "- `dob_years` - client's age in years\n",
    "- `education` - client's education\n",
    "- `education_id` - education identifier\n",
    "- `family_status` - marital status\n",
    "- `family_status_id` - marital status identifier\n",
    "- `gender` - gender of the client\n",
    "- `income_type` - type of employment\n",
    "- `debt` - was there any debt on loan repayment\n",
    "- `total_income` - monthly income\n",
    "- `purpose` - the purpose of obtaining a loan\n",
    "\n"
   ]
  },
  {
   "cell_type": "code",
   "execution_count": 2,
   "metadata": {
    "scrolled": true
   },
   "outputs": [
    {
     "name": "stdout",
     "output_type": "stream",
     "text": [
      "<class 'pandas.core.frame.DataFrame'>\n",
      "RangeIndex: 21525 entries, 0 to 21524\n",
      "Data columns (total 12 columns):\n",
      " #   Column            Non-Null Count  Dtype  \n",
      "---  ------            --------------  -----  \n",
      " 0   children          21525 non-null  int64  \n",
      " 1   days_employed     19351 non-null  float64\n",
      " 2   dob_years         21525 non-null  int64  \n",
      " 3   education         21525 non-null  object \n",
      " 4   education_id      21525 non-null  int64  \n",
      " 5   family_status     21525 non-null  object \n",
      " 6   family_status_id  21525 non-null  int64  \n",
      " 7   gender            21525 non-null  object \n",
      " 8   income_type       21525 non-null  object \n",
      " 9   debt              21525 non-null  int64  \n",
      " 10  total_income      19351 non-null  float64\n",
      " 11  purpose           21525 non-null  object \n",
      "dtypes: float64(2), int64(5), object(5)\n",
      "memory usage: 2.0+ MB\n"
     ]
    }
   ],
   "source": [
    "credit_scoring_eng.info()"
   ]
  },
  {
   "cell_type": "markdown",
   "metadata": {},
   "source": []
  },
  {
   "cell_type": "markdown",
   "metadata": {
    "scrolled": false
   },
   "source": [
    "The [days_employed] column has negative values, which may be addressed by creating a separate [days_unemployed] column, \n",
    "    if this step wll  optimize further data analysis and clarity. \n",
    "    \n",
    "[days_employed] and [total_income] both have missing quantitative values, which may be resolved by applying \n",
    "    representative values such as the median values of the releveant corresponding educational and socieconomic sample. \n",
    "    \n",
    "[days_employed] and [total_income] should be further subdivided into ranges of days and total income to make\n",
    " the data more manageable.\n",
    "    \n",
    "\n",
    "[dob_years] and  [family_status_id] column names may be ambiguous, \n",
    "and, if upon further analysis this ambiguity is, in fact, counterproductive, the columns should be renamed for clarity;\n",
    "\n",
    "The age should be grouped in ranges to make the data more manageable\n",
    "\n",
    "There are varying cell formats in  in the [education] column; that is, some are capitalized, \n",
    "whilst other cells are lower case. This may be remedied by applying a function to make all values lower case.\n",
    "\n",
    "The row indexes are unnamed, which may indicate that this dataframe is an amalgam of a raw, unorganized data set.  \n",
    "\n",
    "\n"
   ]
  },
  {
   "cell_type": "markdown",
   "metadata": {},
   "source": [
    "[days_employed] and [total_income] both have missing quantitative values, which may be correlated variables, \n",
    "and, are likely significant variables of interest."
   ]
  },
  {
   "cell_type": "code",
   "execution_count": 4,
   "metadata": {
    "scrolled": true
   },
   "outputs": [
    {
     "data": {
      "text/plain": [
       "0         -8437.673028\n",
       "1         -4024.803754\n",
       "2         -5623.422610\n",
       "3         -4124.747207\n",
       "4        340266.072047\n",
       "             ...      \n",
       "21520     -4529.316663\n",
       "21521    343937.404131\n",
       "21522     -2113.346888\n",
       "21523     -3112.481705\n",
       "21524     -1984.507589\n",
       "Name: days_employed, Length: 21525, dtype: float64"
      ]
     },
     "execution_count": 4,
     "metadata": {},
     "output_type": "execute_result"
    }
   ],
   "source": [
    "credit_scoring_eng.iloc[:,1] "
   ]
  },
  {
   "cell_type": "code",
   "execution_count": 5,
   "metadata": {},
   "outputs": [
    {
     "data": {
      "text/plain": [
       "children            0.000000\n",
       "days_employed       0.100999\n",
       "dob_years           0.000000\n",
       "education           0.000000\n",
       "education_id        0.000000\n",
       "family_status       0.000000\n",
       "family_status_id    0.000000\n",
       "gender              0.000000\n",
       "income_type         0.000000\n",
       "debt                0.000000\n",
       "total_income        0.100999\n",
       "purpose             0.000000\n",
       "dtype: float64"
      ]
     },
     "execution_count": 5,
     "metadata": {},
     "output_type": "execute_result"
    }
   ],
   "source": [
    "credit_scoring_eng.isnull().sum()/len(credit_scoring_eng)"
   ]
  },
  {
   "cell_type": "code",
   "execution_count": 6,
   "metadata": {},
   "outputs": [
    {
     "data": {
      "text/html": [
       "<div>\n",
       "<style scoped>\n",
       "    .dataframe tbody tr th:only-of-type {\n",
       "        vertical-align: middle;\n",
       "    }\n",
       "\n",
       "    .dataframe tbody tr th {\n",
       "        vertical-align: top;\n",
       "    }\n",
       "\n",
       "    .dataframe thead th {\n",
       "        text-align: right;\n",
       "    }\n",
       "</style>\n",
       "<table border=\"1\" class=\"dataframe\">\n",
       "  <thead>\n",
       "    <tr style=\"text-align: right;\">\n",
       "      <th></th>\n",
       "      <th>missing_values</th>\n",
       "      <th>%</th>\n",
       "    </tr>\n",
       "  </thead>\n",
       "  <tbody>\n",
       "    <tr>\n",
       "      <th>days_employed</th>\n",
       "      <td>2174</td>\n",
       "      <td>0.101</td>\n",
       "    </tr>\n",
       "    <tr>\n",
       "      <th>total_income</th>\n",
       "      <td>2174</td>\n",
       "      <td>0.101</td>\n",
       "    </tr>\n",
       "    <tr>\n",
       "      <th>children</th>\n",
       "      <td>0</td>\n",
       "      <td>0.000</td>\n",
       "    </tr>\n",
       "    <tr>\n",
       "      <th>dob_years</th>\n",
       "      <td>0</td>\n",
       "      <td>0.000</td>\n",
       "    </tr>\n",
       "    <tr>\n",
       "      <th>education</th>\n",
       "      <td>0</td>\n",
       "      <td>0.000</td>\n",
       "    </tr>\n",
       "    <tr>\n",
       "      <th>education_id</th>\n",
       "      <td>0</td>\n",
       "      <td>0.000</td>\n",
       "    </tr>\n",
       "    <tr>\n",
       "      <th>family_status</th>\n",
       "      <td>0</td>\n",
       "      <td>0.000</td>\n",
       "    </tr>\n",
       "    <tr>\n",
       "      <th>family_status_id</th>\n",
       "      <td>0</td>\n",
       "      <td>0.000</td>\n",
       "    </tr>\n",
       "    <tr>\n",
       "      <th>gender</th>\n",
       "      <td>0</td>\n",
       "      <td>0.000</td>\n",
       "    </tr>\n",
       "    <tr>\n",
       "      <th>income_type</th>\n",
       "      <td>0</td>\n",
       "      <td>0.000</td>\n",
       "    </tr>\n",
       "    <tr>\n",
       "      <th>debt</th>\n",
       "      <td>0</td>\n",
       "      <td>0.000</td>\n",
       "    </tr>\n",
       "    <tr>\n",
       "      <th>purpose</th>\n",
       "      <td>0</td>\n",
       "      <td>0.000</td>\n",
       "    </tr>\n",
       "  </tbody>\n",
       "</table>\n",
       "</div>"
      ],
      "text/plain": [
       "                  missing_values      %\n",
       "days_employed               2174  0.101\n",
       "total_income                2174  0.101\n",
       "children                       0  0.000\n",
       "dob_years                      0  0.000\n",
       "education                      0  0.000\n",
       "education_id                   0  0.000\n",
       "family_status                  0  0.000\n",
       "family_status_id               0  0.000\n",
       "gender                         0  0.000\n",
       "income_type                    0  0.000\n",
       "debt                           0  0.000\n",
       "purpose                        0  0.000"
      ]
     },
     "execution_count": 6,
     "metadata": {},
     "output_type": "execute_result"
    }
   ],
   "source": [
    "mis_values = credit_scoring_eng.isnull().sum().to_frame('missing_values')\n",
    "mis_values['%'] = round(credit_scoring_eng.isnull().sum()/len(credit_scoring_eng),3)# What does the \",3\" parameter do?\n",
    "\n",
    "mis_values.sort_values(by='%', ascending=False)"
   ]
  },
  {
   "cell_type": "code",
   "execution_count": 7,
   "metadata": {},
   "outputs": [
    {
     "data": {
      "text/plain": [
       "children            0.000000\n",
       "days_employed       0.100999\n",
       "dob_years           0.000000\n",
       "education           0.000000\n",
       "education_id        0.000000\n",
       "family_status       0.000000\n",
       "family_status_id    0.000000\n",
       "gender              0.000000\n",
       "income_type         0.000000\n",
       "debt                0.000000\n",
       "total_income        0.100999\n",
       "purpose             0.000000\n",
       "dtype: float64"
      ]
     },
     "execution_count": 7,
     "metadata": {},
     "output_type": "execute_result"
    }
   ],
   "source": [
    "credit_scoring_eng.isnull().sum()/len(credit_scoring_eng)"
   ]
  },
  {
   "cell_type": "markdown",
   "metadata": {},
   "source": [
    "Filtering data in the \"days_employed\" column "
   ]
  },
  {
   "cell_type": "code",
   "execution_count": 8,
   "metadata": {},
   "outputs": [
    {
     "data": {
      "text/plain": [
       "-327.685916     1\n",
       "-1580.622577    1\n",
       "-4122.460569    1\n",
       "-2828.237691    1\n",
       "-2636.090517    1\n",
       "               ..\n",
       "-7120.517564    1\n",
       "-2146.884040    1\n",
       "-881.454684     1\n",
       "-794.666350     1\n",
       "-3382.113891    1\n",
       "Name: days_employed, Length: 19351, dtype: int64"
      ]
     },
     "execution_count": 8,
     "metadata": {},
     "output_type": "execute_result"
    }
   ],
   "source": [
    "credit_scoring_eng['days_employed'].value_counts()"
   ]
  },
  {
   "cell_type": "markdown",
   "metadata": {},
   "source": [
    "The following test indicates that the number of missing values is symmetrical; \n",
    "that is, the number of missing values in the ['total_income'] column equals to the umber of missing values in the ['days_employed'] column. "
   ]
  },
  {
   "cell_type": "code",
   "execution_count": 9,
   "metadata": {},
   "outputs": [
    {
     "data": {
      "text/plain": [
       "True"
      ]
     },
     "execution_count": 9,
     "metadata": {},
     "output_type": "execute_result"
    }
   ],
   "source": [
    "credit_scoring_eng['days_employed'].isna().sum() == credit_scoring_eng['total_income'].isna().sum()"
   ]
  },
  {
   "cell_type": "code",
   "execution_count": 10,
   "metadata": {},
   "outputs": [
    {
     "data": {
      "text/plain": [
       "2174"
      ]
     },
     "execution_count": 10,
     "metadata": {},
     "output_type": "execute_result"
    }
   ],
   "source": [
    "credit_scoring_eng['days_employed'].isna().sum() # >>>>> 2174 clients = 21525 entries total - 19351 ['days_employed']        \n",
    "credit_scoring_eng['total_income'].isna().sum()# >>>>>>>>2174 clients = 21525 entries total - 19351 ['total_income']"
   ]
  },
  {
   "cell_type": "markdown",
   "metadata": {},
   "source": [
    "There are implicit duplicate categorical values in the ['purpose'] column.\n"
   ]
  },
  {
   "cell_type": "code",
   "execution_count": 11,
   "metadata": {},
   "outputs": [
    {
     "data": {
      "text/plain": [
       "array(['purchase of the house', 'car purchase', 'supplementary education',\n",
       "       'to have a wedding', 'housing transactions', 'education',\n",
       "       'having a wedding', 'purchase of the house for my family',\n",
       "       'buy real estate', 'buy commercial real estate',\n",
       "       'buy residential real estate', 'construction of own property',\n",
       "       'property', 'building a property', 'buying a second-hand car',\n",
       "       'buying my own car', 'transactions with commercial real estate',\n",
       "       'building a real estate', 'housing',\n",
       "       'transactions with my real estate', 'cars', 'to become educated',\n",
       "       'second-hand car purchase', 'getting an education', 'car',\n",
       "       'wedding ceremony', 'to get a supplementary education',\n",
       "       'purchase of my own house', 'real estate transactions',\n",
       "       'getting higher education', 'to own a car', 'purchase of a car',\n",
       "       'profile education', 'university education',\n",
       "       'buying property for renting out', 'to buy a car',\n",
       "       'housing renovation', 'going to university'], dtype=object)"
      ]
     },
     "execution_count": 11,
     "metadata": {},
     "output_type": "execute_result"
    }
   ],
   "source": [
    "credit_scoring_eng['purpose'].unique()"
   ]
  },
  {
   "cell_type": "markdown",
   "metadata": {},
   "source": [
    "Checking for the number of rows with a negative number of \"days employed.\""
   ]
  },
  {
   "cell_type": "code",
   "execution_count": 12,
   "metadata": {},
   "outputs": [
    {
     "data": {
      "text/plain": [
       "15906"
      ]
     },
     "execution_count": 12,
     "metadata": {},
     "output_type": "execute_result"
    }
   ],
   "source": [
    "len(credit_scoring_eng.index[credit_scoring_eng['days_employed'] < 0])"
   ]
  },
  {
   "cell_type": "markdown",
   "metadata": {},
   "source": [
    "15906 clients negative values days employed checking for pattern in rows with negative [days_employed] values. "
   ]
  },
  {
   "cell_type": "code",
   "execution_count": 13,
   "metadata": {},
   "outputs": [
    {
     "data": {
      "text/plain": [
       "income_type\n",
       "business                        5085\n",
       "civil servant                   1459\n",
       "employee                       11119\n",
       "entrepreneur                       2\n",
       "paternity / maternity leave        1\n",
       "retiree                         3856\n",
       "student                            1\n",
       "unemployed                         2\n",
       "dtype: int64"
      ]
     },
     "execution_count": 13,
     "metadata": {},
     "output_type": "execute_result"
    }
   ],
   "source": [
    "credit_scoring_eng.groupby('income_type').size()"
   ]
  },
  {
   "cell_type": "code",
   "execution_count": 14,
   "metadata": {},
   "outputs": [
    {
     "name": "stdout",
     "output_type": "stream",
     "text": [
      "<class 'pandas.core.frame.DataFrame'>\n",
      "RangeIndex: 21525 entries, 0 to 21524\n",
      "Data columns (total 12 columns):\n",
      " #   Column            Non-Null Count  Dtype  \n",
      "---  ------            --------------  -----  \n",
      " 0   children          21525 non-null  int64  \n",
      " 1   days_employed     19351 non-null  float64\n",
      " 2   dob_years         21525 non-null  int64  \n",
      " 3   education         21525 non-null  object \n",
      " 4   education_id      21525 non-null  int64  \n",
      " 5   family_status     21525 non-null  object \n",
      " 6   family_status_id  21525 non-null  int64  \n",
      " 7   gender            21525 non-null  object \n",
      " 8   income_type       21525 non-null  object \n",
      " 9   debt              21525 non-null  int64  \n",
      " 10  total_income      19351 non-null  float64\n",
      " 11  purpose           21525 non-null  object \n",
      "dtypes: float64(2), int64(5), object(5)\n",
      "memory usage: 2.0+ MB\n"
     ]
    }
   ],
   "source": [
    "credit_scoring_eng.info()"
   ]
  },
  {
   "cell_type": "code",
   "execution_count": 15,
   "metadata": {},
   "outputs": [
    {
     "data": {
      "text/plain": [
       "2173"
      ]
     },
     "execution_count": 15,
     "metadata": {},
     "output_type": "execute_result"
    }
   ],
   "source": [
    "len(credit_scoring_eng[credit_scoring_eng.duplicated(subset='days_employed')])"
   ]
  },
  {
   "cell_type": "markdown",
   "metadata": {},
   "source": [
    "Checking to see whether the negative days employed has anything to do with being unemployed.\n",
    "\n",
    "One can conclude that there is no connection between negative days and being unemployed because the only two client that reported being unemployed, have positive values in the days employed column; although the values are anomolous, because the number of days is the equivalent of more than 800 years."
   ]
  },
  {
   "cell_type": "code",
   "execution_count": 16,
   "metadata": {},
   "outputs": [
    {
     "data": {
      "text/html": [
       "<div>\n",
       "<style scoped>\n",
       "    .dataframe tbody tr th:only-of-type {\n",
       "        vertical-align: middle;\n",
       "    }\n",
       "\n",
       "    .dataframe tbody tr th {\n",
       "        vertical-align: top;\n",
       "    }\n",
       "\n",
       "    .dataframe thead th {\n",
       "        text-align: right;\n",
       "    }\n",
       "</style>\n",
       "<table border=\"1\" class=\"dataframe\">\n",
       "  <thead>\n",
       "    <tr style=\"text-align: right;\">\n",
       "      <th></th>\n",
       "      <th>children</th>\n",
       "      <th>days_employed</th>\n",
       "      <th>dob_years</th>\n",
       "      <th>education</th>\n",
       "      <th>education_id</th>\n",
       "      <th>family_status</th>\n",
       "      <th>family_status_id</th>\n",
       "      <th>gender</th>\n",
       "      <th>income_type</th>\n",
       "      <th>debt</th>\n",
       "      <th>total_income</th>\n",
       "      <th>purpose</th>\n",
       "    </tr>\n",
       "  </thead>\n",
       "  <tbody>\n",
       "    <tr>\n",
       "      <th>3133</th>\n",
       "      <td>1</td>\n",
       "      <td>337524.466835</td>\n",
       "      <td>31</td>\n",
       "      <td>secondary education</td>\n",
       "      <td>1</td>\n",
       "      <td>married</td>\n",
       "      <td>0</td>\n",
       "      <td>M</td>\n",
       "      <td>unemployed</td>\n",
       "      <td>1</td>\n",
       "      <td>9593.119</td>\n",
       "      <td>buying property for renting out</td>\n",
       "    </tr>\n",
       "    <tr>\n",
       "      <th>14798</th>\n",
       "      <td>0</td>\n",
       "      <td>395302.838654</td>\n",
       "      <td>45</td>\n",
       "      <td>Bachelor's Degree</td>\n",
       "      <td>0</td>\n",
       "      <td>civil partnership</td>\n",
       "      <td>1</td>\n",
       "      <td>F</td>\n",
       "      <td>unemployed</td>\n",
       "      <td>0</td>\n",
       "      <td>32435.602</td>\n",
       "      <td>housing renovation</td>\n",
       "    </tr>\n",
       "  </tbody>\n",
       "</table>\n",
       "</div>"
      ],
      "text/plain": [
       "       children  days_employed  dob_years            education  education_id  \\\n",
       "3133          1  337524.466835         31  secondary education             1   \n",
       "14798         0  395302.838654         45    Bachelor's Degree             0   \n",
       "\n",
       "           family_status  family_status_id gender income_type  debt  \\\n",
       "3133             married                 0      M  unemployed     1   \n",
       "14798  civil partnership                 1      F  unemployed     0   \n",
       "\n",
       "       total_income                          purpose  \n",
       "3133       9593.119  buying property for renting out  \n",
       "14798     32435.602               housing renovation  "
      ]
     },
     "execution_count": 16,
     "metadata": {},
     "output_type": "execute_result"
    }
   ],
   "source": [
    "credit_scoring_eng[credit_scoring_eng['income_type'] == 'unemployed']"
   ]
  },
  {
   "cell_type": "code",
   "execution_count": 17,
   "metadata": {},
   "outputs": [
    {
     "data": {
      "text/plain": [
       "0"
      ]
     },
     "execution_count": 17,
     "metadata": {},
     "output_type": "execute_result"
    }
   ],
   "source": [
    "# Checking distribution\n",
    "#credit_scoring_eng.isna().sum().sum()#the total number of missing values in the dataframe is 4240.\n",
    "#credit_scoring_eng.decsribe()\n",
    "credit_scoring_eng['income_type'].isna().sum()"
   ]
  },
  {
   "cell_type": "markdown",
   "metadata": {},
   "source": [
    "The proportion of missing values in the dataframe to the whole data set is about 20%.\n",
    "\n",
    "The values may be missing because some clients did not indicate explicitly that they are unemployed, and instead indicate the days since their last employment ended. Also, some retirees may have ommitted there employment income because they are technially unemployed.\n"
   ]
  },
  {
   "cell_type": "markdown",
   "metadata": {},
   "source": [
    "Checking the statistics in the whole dataset"
   ]
  },
  {
   "cell_type": "code",
   "execution_count": 18,
   "metadata": {},
   "outputs": [
    {
     "data": {
      "text/html": [
       "<div>\n",
       "<style scoped>\n",
       "    .dataframe tbody tr th:only-of-type {\n",
       "        vertical-align: middle;\n",
       "    }\n",
       "\n",
       "    .dataframe tbody tr th {\n",
       "        vertical-align: top;\n",
       "    }\n",
       "\n",
       "    .dataframe thead th {\n",
       "        text-align: right;\n",
       "    }\n",
       "</style>\n",
       "<table border=\"1\" class=\"dataframe\">\n",
       "  <thead>\n",
       "    <tr style=\"text-align: right;\">\n",
       "      <th></th>\n",
       "      <th>children</th>\n",
       "      <th>days_employed</th>\n",
       "      <th>dob_years</th>\n",
       "      <th>education_id</th>\n",
       "      <th>family_status_id</th>\n",
       "      <th>debt</th>\n",
       "      <th>total_income</th>\n",
       "    </tr>\n",
       "  </thead>\n",
       "  <tbody>\n",
       "    <tr>\n",
       "      <th>count</th>\n",
       "      <td>21525.000000</td>\n",
       "      <td>19351.000000</td>\n",
       "      <td>21525.000000</td>\n",
       "      <td>21525.000000</td>\n",
       "      <td>21525.000000</td>\n",
       "      <td>21525.000000</td>\n",
       "      <td>19351.000000</td>\n",
       "    </tr>\n",
       "    <tr>\n",
       "      <th>mean</th>\n",
       "      <td>0.538908</td>\n",
       "      <td>63046.497661</td>\n",
       "      <td>43.293380</td>\n",
       "      <td>0.817236</td>\n",
       "      <td>0.972544</td>\n",
       "      <td>0.080883</td>\n",
       "      <td>26787.568355</td>\n",
       "    </tr>\n",
       "    <tr>\n",
       "      <th>std</th>\n",
       "      <td>1.381587</td>\n",
       "      <td>140827.311974</td>\n",
       "      <td>12.574584</td>\n",
       "      <td>0.548138</td>\n",
       "      <td>1.420324</td>\n",
       "      <td>0.272661</td>\n",
       "      <td>16475.450632</td>\n",
       "    </tr>\n",
       "    <tr>\n",
       "      <th>min</th>\n",
       "      <td>-1.000000</td>\n",
       "      <td>-18388.949901</td>\n",
       "      <td>0.000000</td>\n",
       "      <td>0.000000</td>\n",
       "      <td>0.000000</td>\n",
       "      <td>0.000000</td>\n",
       "      <td>3306.762000</td>\n",
       "    </tr>\n",
       "    <tr>\n",
       "      <th>25%</th>\n",
       "      <td>0.000000</td>\n",
       "      <td>-2747.423625</td>\n",
       "      <td>33.000000</td>\n",
       "      <td>1.000000</td>\n",
       "      <td>0.000000</td>\n",
       "      <td>0.000000</td>\n",
       "      <td>16488.504500</td>\n",
       "    </tr>\n",
       "    <tr>\n",
       "      <th>50%</th>\n",
       "      <td>0.000000</td>\n",
       "      <td>-1203.369529</td>\n",
       "      <td>42.000000</td>\n",
       "      <td>1.000000</td>\n",
       "      <td>0.000000</td>\n",
       "      <td>0.000000</td>\n",
       "      <td>23202.870000</td>\n",
       "    </tr>\n",
       "    <tr>\n",
       "      <th>75%</th>\n",
       "      <td>1.000000</td>\n",
       "      <td>-291.095954</td>\n",
       "      <td>53.000000</td>\n",
       "      <td>1.000000</td>\n",
       "      <td>1.000000</td>\n",
       "      <td>0.000000</td>\n",
       "      <td>32549.611000</td>\n",
       "    </tr>\n",
       "    <tr>\n",
       "      <th>max</th>\n",
       "      <td>20.000000</td>\n",
       "      <td>401755.400475</td>\n",
       "      <td>75.000000</td>\n",
       "      <td>4.000000</td>\n",
       "      <td>4.000000</td>\n",
       "      <td>1.000000</td>\n",
       "      <td>362496.645000</td>\n",
       "    </tr>\n",
       "  </tbody>\n",
       "</table>\n",
       "</div>"
      ],
      "text/plain": [
       "           children  days_employed     dob_years  education_id  \\\n",
       "count  21525.000000   19351.000000  21525.000000  21525.000000   \n",
       "mean       0.538908   63046.497661     43.293380      0.817236   \n",
       "std        1.381587  140827.311974     12.574584      0.548138   \n",
       "min       -1.000000  -18388.949901      0.000000      0.000000   \n",
       "25%        0.000000   -2747.423625     33.000000      1.000000   \n",
       "50%        0.000000   -1203.369529     42.000000      1.000000   \n",
       "75%        1.000000    -291.095954     53.000000      1.000000   \n",
       "max       20.000000  401755.400475     75.000000      4.000000   \n",
       "\n",
       "       family_status_id          debt   total_income  \n",
       "count      21525.000000  21525.000000   19351.000000  \n",
       "mean           0.972544      0.080883   26787.568355  \n",
       "std            1.420324      0.272661   16475.450632  \n",
       "min            0.000000      0.000000    3306.762000  \n",
       "25%            0.000000      0.000000   16488.504500  \n",
       "50%            0.000000      0.000000   23202.870000  \n",
       "75%            1.000000      0.000000   32549.611000  \n",
       "max            4.000000      1.000000  362496.645000  "
      ]
     },
     "execution_count": 18,
     "metadata": {},
     "output_type": "execute_result"
    }
   ],
   "source": [
    "credit_scoring_eng.describe()"
   ]
  },
  {
   "cell_type": "markdown",
   "metadata": {},
   "source": [
    "The percentage of the missing values compared to the whole dataset is about 20%."
   ]
  },
  {
   "cell_type": "code",
   "execution_count": 19,
   "metadata": {},
   "outputs": [
    {
     "data": {
      "text/plain": [
       "0.20199767711962835"
      ]
     },
     "execution_count": 19,
     "metadata": {},
     "output_type": "execute_result"
    }
   ],
   "source": [
    "credit_scoring_eng.isna().sum().sum() / len(credit_scoring_eng)"
   ]
  },
  {
   "cell_type": "code",
   "execution_count": 20,
   "metadata": {},
   "outputs": [
    {
     "data": {
      "text/plain": [
       "count     19351.000000\n",
       "mean      63046.497661\n",
       "std      140827.311974\n",
       "min      -18388.949901\n",
       "25%       -2747.423625\n",
       "50%       -1203.369529\n",
       "75%        -291.095954\n",
       "max      401755.400475\n",
       "Name: days_employed, dtype: float64"
      ]
     },
     "execution_count": 20,
     "metadata": {},
     "output_type": "execute_result"
    }
   ],
   "source": [
    "# Check for other reasons and patterns that could lead to missing values\n",
    "\n",
    "credit_scoring_eng['days_employed'].describe()\n"
   ]
  },
  {
   "cell_type": "markdown",
   "metadata": {},
   "source": [
    "We can conclude that the missing values are the result of a mistake, and are not random errors."
   ]
  },
  {
   "cell_type": "markdown",
   "metadata": {},
   "source": [
    "## Data transformation\n",
    "\n",
    "\n",
    "\n"
   ]
  },
  {
   "cell_type": "markdown",
   "metadata": {},
   "source": [
    "Checking all values in education column to check if and what spellings will need to be fixed."
   ]
  },
  {
   "cell_type": "code",
   "execution_count": 21,
   "metadata": {},
   "outputs": [
    {
     "data": {
      "text/plain": [
       "array([\"bachelor's degree\", 'secondary education', 'Secondary Education',\n",
       "       'SECONDARY EDUCATION', \"BACHELOR'S DEGREE\", 'some college',\n",
       "       'primary education', \"Bachelor's Degree\", 'SOME COLLEGE',\n",
       "       'Some College', 'PRIMARY EDUCATION', 'Primary Education',\n",
       "       'Graduate Degree', 'GRADUATE DEGREE', 'graduate degree'],\n",
       "      dtype=object)"
      ]
     },
     "execution_count": 21,
     "metadata": {},
     "output_type": "execute_result"
    }
   ],
   "source": [
    "\n",
    "credit_scoring_eng['education'].unique()\n"
   ]
  },
  {
   "cell_type": "markdown",
   "metadata": {},
   "source": [
    "Making all row values in \"education\", \"purpose\" columns  lowercase."
   ]
  },
  {
   "cell_type": "code",
   "execution_count": 22,
   "metadata": {
    "scrolled": true
   },
   "outputs": [
    {
     "data": {
      "text/plain": [
       "count     21525\n",
       "unique        2\n",
       "top        True\n",
       "freq      21520\n",
       "Name: education, dtype: object"
      ]
     },
     "execution_count": 22,
     "metadata": {},
     "output_type": "execute_result"
    }
   ],
   "source": [
    "credit_scoring_eng['education'] = credit_scoring_eng['education'].str.lower()\n",
    "credit_scoring_eng['purpose'] = credit_scoring_eng['purpose'].str.lower()\n",
    "credit_scoring_eng['education'].duplicated().describe()\n"
   ]
  },
  {
   "cell_type": "markdown",
   "metadata": {},
   "source": [
    "Confirming there are no duplicates."
   ]
  },
  {
   "cell_type": "code",
   "execution_count": 23,
   "metadata": {},
   "outputs": [
    {
     "data": {
      "text/plain": [
       "0"
      ]
     },
     "execution_count": 23,
     "metadata": {},
     "output_type": "execute_result"
    }
   ],
   "source": [
    "len(credit_scoring_eng.index[credit_scoring_eng['education'] == credit_scoring_eng['education'].duplicated()])"
   ]
  },
  {
   "cell_type": "code",
   "execution_count": 24,
   "metadata": {},
   "outputs": [
    {
     "data": {
      "text/plain": [
       "array([\"bachelor's degree\", 'secondary education', 'some college',\n",
       "       'primary education', 'graduate degree'], dtype=object)"
      ]
     },
     "execution_count": 24,
     "metadata": {},
     "output_type": "execute_result"
    }
   ],
   "source": [
    "credit_scoring_eng['education'].unique()"
   ]
  },
  {
   "cell_type": "markdown",
   "metadata": {},
   "source": [
    "Checking children column values."
   ]
  },
  {
   "cell_type": "code",
   "execution_count": 25,
   "metadata": {},
   "outputs": [
    {
     "data": {
      "text/plain": [
       " 0     14149\n",
       " 1      4818\n",
       " 2      2055\n",
       " 3       330\n",
       " 20       76\n",
       "-1        47\n",
       " 4        41\n",
       " 5         9\n",
       "Name: children, dtype: int64"
      ]
     },
     "execution_count": 25,
     "metadata": {},
     "output_type": "execute_result"
    }
   ],
   "source": [
    "credit_scoring_eng['children'].value_counts()"
   ]
  },
  {
   "cell_type": "code",
   "execution_count": 26,
   "metadata": {},
   "outputs": [
    {
     "data": {
      "text/plain": [
       "count    21525.000000\n",
       "mean         0.538908\n",
       "std          1.381587\n",
       "min         -1.000000\n",
       "25%          0.000000\n",
       "50%          0.000000\n",
       "75%          1.000000\n",
       "max         20.000000\n",
       "Name: children, dtype: float64"
      ]
     },
     "execution_count": 26,
     "metadata": {},
     "output_type": "execute_result"
    }
   ],
   "source": [
    "credit_scoring_eng['children'].describe()\n"
   ]
  },
  {
   "cell_type": "markdown",
   "metadata": {},
   "source": [
    "Some clients report 20 kids."
   ]
  },
  {
   "cell_type": "code",
   "execution_count": 27,
   "metadata": {},
   "outputs": [
    {
     "data": {
      "text/plain": [
       "array([ 1,  0,  3,  2, -1,  4, 20,  5])"
      ]
     },
     "execution_count": 27,
     "metadata": {},
     "output_type": "execute_result"
    }
   ],
   "source": [
    "credit_scoring_eng['children'].unique()"
   ]
  },
  {
   "cell_type": "markdown",
   "metadata": {},
   "source": [
    "Counting the number of clients that report having 20 kids."
   ]
  },
  {
   "cell_type": "code",
   "execution_count": 28,
   "metadata": {},
   "outputs": [
    {
     "data": {
      "text/plain": [
       "76"
      ]
     },
     "execution_count": 28,
     "metadata": {},
     "output_type": "execute_result"
    }
   ],
   "source": [
    "len(credit_scoring_eng.index[credit_scoring_eng['children'] == 20])"
   ]
  },
  {
   "cell_type": "markdown",
   "metadata": {},
   "source": [
    "About 0.35% percent of all clients report 20 kids, which tends to show that there is an error, that must be remedied with the average or median number of kids."
   ]
  },
  {
   "cell_type": "code",
   "execution_count": 29,
   "metadata": {},
   "outputs": [
    {
     "data": {
      "text/plain": [
       "0.0035307781649245064"
      ]
     },
     "execution_count": 29,
     "metadata": {},
     "output_type": "execute_result"
    }
   ],
   "source": [
    "len(credit_scoring_eng.index[credit_scoring_eng['children'] == 20]) / len(credit_scoring_eng)"
   ]
  },
  {
   "cell_type": "code",
   "execution_count": 30,
   "metadata": {},
   "outputs": [
    {
     "data": {
      "text/plain": [
       "family_status      children\n",
       "civil partnership   0          2752\n",
       "                    1           998\n",
       "                    2           344\n",
       "                    3            56\n",
       "                    20           12\n",
       "                    4             8\n",
       "                   -1             5\n",
       "                    5             2\n",
       "divorced            0           784\n",
       "                    1           312\n",
       "                    2            81\n",
       "                    3            11\n",
       "                   -1             4\n",
       "                    20            2\n",
       "                    4             1\n",
       "married             0          7500\n",
       "                    1          2982\n",
       "                    2          1535\n",
       "                    3           249\n",
       "                    20           49\n",
       "                   -1            29\n",
       "                    4            29\n",
       "                    5             7\n",
       "unmarried           0          2265\n",
       "                    1           449\n",
       "                    2            75\n",
       "                    20            9\n",
       "                    3             8\n",
       "                   -1             5\n",
       "                    4             2\n",
       "widow / widower     0           848\n",
       "                    1            77\n",
       "                    2            20\n",
       "                    3             6\n",
       "                   -1             4\n",
       "                    20            4\n",
       "                    4             1\n",
       "Name: children, dtype: int64"
      ]
     },
     "execution_count": 30,
     "metadata": {},
     "output_type": "execute_result"
    }
   ],
   "source": [
    "credit_scoring_eng.groupby('family_status')['children'].value_counts()"
   ]
  },
  {
   "cell_type": "markdown",
   "metadata": {},
   "source": [
    "[Are there any strange things in the column? If yes, how high is the percentage of problematic data? How could they have occurred? Make a decision on what you will do with this data and explain you reasoning.]"
   ]
  },
  {
   "cell_type": "markdown",
   "metadata": {},
   "source": [
    "47 clients reported negative number for kids"
   ]
  },
  {
   "cell_type": "code",
   "execution_count": 31,
   "metadata": {},
   "outputs": [
    {
     "data": {
      "text/plain": [
       "47"
      ]
     },
     "execution_count": 31,
     "metadata": {},
     "output_type": "execute_result"
    }
   ],
   "source": [
    "len(credit_scoring_eng.index[credit_scoring_eng['children'] < 0])"
   ]
  },
  {
   "cell_type": "markdown",
   "metadata": {},
   "source": [
    "Calculating percentage of problematic values in kids column \n",
    "\n",
    "    About 0.6% of values in the children column are problematic."
   ]
  },
  {
   "cell_type": "code",
   "execution_count": 32,
   "metadata": {},
   "outputs": [
    {
     "data": {
      "text/plain": [
       "0.005714285714285714"
      ]
     },
     "execution_count": 32,
     "metadata": {},
     "output_type": "execute_result"
    }
   ],
   "source": [
    "problem_child_neg = len(credit_scoring_eng.index[credit_scoring_eng['children'] < 0]) # number of [children] columns with negative values  \n",
    "problem_child_20 = len(credit_scoring_eng.index[credit_scoring_eng['children'] == 20])# 76 cleints report having 20 kids\n",
    "total_child = credit_scoring_eng['children'].count()\n",
    "(problem_child_neg + problem_child_20) / total_child\n"
   ]
  },
  {
   "cell_type": "markdown",
   "metadata": {},
   "source": [
    "Getting the absolute value of the negative values, and dropping columns with 20 kids because this only comprises 76 clients, which is negligible for a dataset of this size."
   ]
  },
  {
   "cell_type": "code",
   "execution_count": 33,
   "metadata": {},
   "outputs": [],
   "source": [
    "credit_scoring_eng['children'] = credit_scoring_eng['children'].abs()"
   ]
  },
  {
   "cell_type": "code",
   "execution_count": 34,
   "metadata": {},
   "outputs": [],
   "source": [
    "credit_scoring_eng = credit_scoring_eng.loc[credit_scoring_eng['children'] != 20]"
   ]
  },
  {
   "cell_type": "markdown",
   "metadata": {},
   "source": [
    "Confirming that the negative '20' values have been fixed. "
   ]
  },
  {
   "cell_type": "code",
   "execution_count": 35,
   "metadata": {},
   "outputs": [
    {
     "data": {
      "text/plain": [
       "array([1, 0, 3, 2, 4, 5])"
      ]
     },
     "execution_count": 35,
     "metadata": {},
     "output_type": "execute_result"
    }
   ],
   "source": [
    "credit_scoring_eng['children'].unique()"
   ]
  },
  {
   "cell_type": "code",
   "execution_count": 36,
   "metadata": {},
   "outputs": [],
   "source": [
    "credit_scoring_eng = credit_scoring_eng.loc[credit_scoring_eng['children'] != 20]# dropped clients with 20 kids because it comprises a negligible proportion of dataframe\n",
    "#***Tests for ['children'] column***\n",
    "#credit_scoring_eng.iloc[291]\n",
    "#credit_scoring_eng.iloc[705]\n",
    "#credit_scoring_eng.iloc[11604]\n",
    "#credit_scoring_eng.iloc[19373]\n"
   ]
  },
  {
   "cell_type": "code",
   "execution_count": 37,
   "metadata": {},
   "outputs": [
    {
     "data": {
      "text/plain": [
       "0"
      ]
     },
     "execution_count": 37,
     "metadata": {},
     "output_type": "execute_result"
    }
   ],
   "source": [
    "len(credit_scoring_eng.index[credit_scoring_eng['children'] == 20])# clients with 20 kids dropped"
   ]
  },
  {
   "cell_type": "code",
   "execution_count": 38,
   "metadata": {},
   "outputs": [
    {
     "data": {
      "text/plain": [
       "0"
      ]
     },
     "execution_count": 38,
     "metadata": {},
     "output_type": "execute_result"
    }
   ],
   "source": [
    "len(credit_scoring_eng.index[credit_scoring_eng['children'] < 0]) # Confirmed that all negative value converted to absolute values"
   ]
  },
  {
   "cell_type": "markdown",
   "metadata": {},
   "source": [
    "Checking the data in the `days_employed` column. "
   ]
  },
  {
   "cell_type": "code",
   "execution_count": 39,
   "metadata": {},
   "outputs": [
    {
     "data": {
      "text/plain": [
       "count     19284.000000\n",
       "mean      63141.233527\n",
       "std      140910.281638\n",
       "min      -18388.949901\n",
       "25%       -2747.876441\n",
       "50%       -1204.164714\n",
       "75%        -290.206221\n",
       "max      401755.400475\n",
       "Name: days_employed, dtype: float64"
      ]
     },
     "execution_count": 39,
     "metadata": {},
     "output_type": "execute_result"
    }
   ],
   "source": [
    "credit_scoring_eng['days_employed'].describe()"
   ]
  },
  {
   "cell_type": "markdown",
   "metadata": {},
   "source": [
    "The maximum value for the ['days_employed'] column is 401755, the equivalent of 1100 years. There are negaive values and floating-point numbers in the column, which is likely innaproriate for counting days."
   ]
  },
  {
   "cell_type": "code",
   "execution_count": 40,
   "metadata": {},
   "outputs": [
    {
     "data": {
      "text/plain": [
       "children                              0\n",
       "days_employed             401755.400475\n",
       "dob_years                            56\n",
       "education           secondary education\n",
       "education_id                          1\n",
       "family_status           widow / widower\n",
       "family_status_id                      2\n",
       "gender                                F\n",
       "income_type                     retiree\n",
       "debt                                  0\n",
       "total_income                  28204.551\n",
       "purpose              housing renovation\n",
       "Name: 6954, dtype: object"
      ]
     },
     "execution_count": 40,
     "metadata": {},
     "output_type": "execute_result"
    }
   ],
   "source": [
    "credit_scoring_eng.loc[credit_scoring_eng['days_employed'].idxmax()]"
   ]
  },
  {
   "cell_type": "markdown",
   "metadata": {},
   "source": [
    "15846 clients indicated they worked 45 years or less."
   ]
  },
  {
   "cell_type": "code",
   "execution_count": 41,
   "metadata": {},
   "outputs": [
    {
     "data": {
      "text/plain": [
       "15846"
      ]
     },
     "execution_count": 41,
     "metadata": {},
     "output_type": "execute_result"
    }
   ],
   "source": [
    "len(credit_scoring_eng.index[credit_scoring_eng['days_employed'] < 16500])"
   ]
  },
  {
   "cell_type": "markdown",
   "metadata": {},
   "source": [
    " 15846 clients reported negative values for days worked."
   ]
  },
  {
   "cell_type": "code",
   "execution_count": 42,
   "metadata": {},
   "outputs": [
    {
     "data": {
      "text/plain": [
       "15846"
      ]
     },
     "execution_count": 42,
     "metadata": {},
     "output_type": "execute_result"
    }
   ],
   "source": [
    "len(credit_scoring_eng[credit_scoring_eng['days_employed'] < 0])"
   ]
  },
  {
   "cell_type": "markdown",
   "metadata": {},
   "source": [
    "3438 clients that worked more than 45 years"
   ]
  },
  {
   "cell_type": "code",
   "execution_count": 43,
   "metadata": {},
   "outputs": [
    {
     "data": {
      "text/plain": [
       "3438"
      ]
     },
     "execution_count": 43,
     "metadata": {},
     "output_type": "execute_result"
    }
   ],
   "source": [
    "len(credit_scoring_eng.index[credit_scoring_eng['days_employed'] > 16500])"
   ]
  },
  {
   "cell_type": "markdown",
   "metadata": {},
   "source": [
    "3438 clients that worked more than 50 years"
   ]
  },
  {
   "cell_type": "code",
   "execution_count": 44,
   "metadata": {},
   "outputs": [
    {
     "data": {
      "text/plain": [
       "3438"
      ]
     },
     "execution_count": 44,
     "metadata": {},
     "output_type": "execute_result"
    }
   ],
   "source": [
    "len(credit_scoring_eng.index[credit_scoring_eng['days_employed'] > 18250])"
   ]
  },
  {
   "cell_type": "markdown",
   "metadata": {},
   "source": [
    "Checking for missing values in days employed column"
   ]
  },
  {
   "cell_type": "code",
   "execution_count": 45,
   "metadata": {},
   "outputs": [
    {
     "data": {
      "text/plain": [
       "2165"
      ]
     },
     "execution_count": 45,
     "metadata": {},
     "output_type": "execute_result"
    }
   ],
   "source": [
    "credit_scoring_eng['days_employed'].isna().sum() #2165 clients with missing values"
   ]
  },
  {
   "cell_type": "markdown",
   "metadata": {},
   "source": [
    "Fixing problematic data in days_employed column."
   ]
  },
  {
   "cell_type": "code",
   "execution_count": 46,
   "metadata": {},
   "outputs": [
    {
     "ename": "NameError",
     "evalue": "name 'days_empl_median' is not defined",
     "output_type": "error",
     "traceback": [
      "\u001b[0;31m---------------------------------------------------------------------------\u001b[0m",
      "\u001b[0;31mNameError\u001b[0m                                 Traceback (most recent call last)",
      "\u001b[0;32m/tmp/ipykernel_24/3689433164.py\u001b[0m in \u001b[0;36m<module>\u001b[0;34m\u001b[0m\n\u001b[1;32m     10\u001b[0m \u001b[0;31m#Converted values to absolute values.\u001b[0m\u001b[0;34m\u001b[0m\u001b[0;34m\u001b[0m\u001b[0m\n\u001b[1;32m     11\u001b[0m \u001b[0;34m\u001b[0m\u001b[0m\n\u001b[0;32m---> 12\u001b[0;31m \u001b[0mcredit_scoring_eng\u001b[0m\u001b[0;34m[\u001b[0m\u001b[0;34m'days_employed'\u001b[0m\u001b[0;34m]\u001b[0m\u001b[0;34m.\u001b[0m\u001b[0mfillna\u001b[0m\u001b[0;34m(\u001b[0m\u001b[0mvalue\u001b[0m\u001b[0;34m=\u001b[0m\u001b[0mdays_empl_median\u001b[0m\u001b[0;34m,\u001b[0m \u001b[0minplace\u001b[0m\u001b[0;34m=\u001b[0m\u001b[0;32mTrue\u001b[0m \u001b[0;34m)\u001b[0m\u001b[0;34m\u001b[0m\u001b[0;34m\u001b[0m\u001b[0m\n\u001b[0m\u001b[1;32m     13\u001b[0m \u001b[0;31m# replace missing values wityh median values in [days_employed] column\u001b[0m\u001b[0;34m\u001b[0m\u001b[0;34m\u001b[0m\u001b[0m\n",
      "\u001b[0;31mNameError\u001b[0m: name 'days_empl_median' is not defined"
     ]
    }
   ],
   "source": [
    "import warnings\n",
    "warnings.filterwarnings(\"ignore\")\n",
    "\n",
    "workdays_median = int(credit_scoring_eng['days_employed'].median())\n",
    "\n",
    "credit_scoring_eng['days_employed'] = credit_scoring_eng['days_employed'].fillna(workdays_median)\n",
    "#Replaced mising values with median.\n",
    "\n",
    "credit_scoring_eng['days_employed'] = credit_scoring_eng['days_employed'].abs()\n",
    "#Converted values to absolute values.\n",
    "\n",
    "credit_scoring_eng['days_employed'].fillna(value=days_empl_median, inplace=True )\n",
    "# replace missing values wityh median values in [days_employed] column\n"
   ]
  },
  {
   "cell_type": "code",
   "execution_count": null,
   "metadata": {},
   "outputs": [],
   "source": [
    "credit_scoring_eng['days_employed'] = np.where((credit_scoring_eng.days_employed > 20000), workdays_median, credit_scoring_eng.days_employed)\n",
    "#replaced extreme number of days e.g. the equivalent of ~1000 years"
   ]
  },
  {
   "cell_type": "markdown",
   "metadata": {},
   "source": [
    "*Confirming whether problematic data is fixed.*"
   ]
  },
  {
   "cell_type": "code",
   "execution_count": null,
   "metadata": {},
   "outputs": [],
   "source": [
    "credit_scoring_eng['days_employed'].isna().sum()"
   ]
  },
  {
   "cell_type": "code",
   "execution_count": null,
   "metadata": {},
   "outputs": [],
   "source": [
    "credit_scoring_eng['days_employed'].describe()"
   ]
  },
  {
   "cell_type": "markdown",
   "metadata": {},
   "source": [
    "*Checking for issues in the client's age in 'dob_years' column.* "
   ]
  },
  {
   "cell_type": "code",
   "execution_count": null,
   "metadata": {
    "scrolled": true
   },
   "outputs": [],
   "source": [
    "credit_scoring_eng['dob_years'].unique()"
   ]
  },
  {
   "cell_type": "code",
   "execution_count": null,
   "metadata": {},
   "outputs": [],
   "source": [
    "len(credit_scoring_eng.index[credit_scoring_eng['dob_years'] == 0])# 100 clients didn't report their age \n",
    "                                                                    "
   ]
  },
  {
   "cell_type": "code",
   "execution_count": null,
   "metadata": {},
   "outputs": [],
   "source": [
    "dob_prob_pct =  len(credit_scoring_eng.index[credit_scoring_eng['dob_years'] == 0]) / len(credit_scoring_eng.index[credit_scoring_eng['dob_years']])\n",
    "dob_prob_pct\n",
    "#about 0.5% of clients reported 0 as age."
   ]
  },
  {
   "cell_type": "markdown",
   "metadata": {},
   "source": [
    "Using the average age for missing values will be more approriate because it will be more representative of the dataset than the median."
   ]
  },
  {
   "cell_type": "code",
   "execution_count": null,
   "metadata": {},
   "outputs": [],
   "source": [
    "age_avg = int(credit_scoring_eng['dob_years'].mean())\n",
    "\n",
    "credit_scoring_eng['dob_years'].replace({ 0: int(age_avg)}, inplace=True)#replaced 0 with mean age of 42"
   ]
  },
  {
   "cell_type": "markdown",
   "metadata": {},
   "source": [
    "*Confirming the \"0\" value has been remedied.*"
   ]
  },
  {
   "cell_type": "code",
   "execution_count": null,
   "metadata": {},
   "outputs": [],
   "source": [
    "\n",
    "len(credit_scoring_eng.loc[credit_scoring_eng['dob_years'] == 0])"
   ]
  },
  {
   "cell_type": "markdown",
   "metadata": {},
   "source": [
    "Checking the `family_status` column. "
   ]
  },
  {
   "cell_type": "code",
   "execution_count": null,
   "metadata": {},
   "outputs": [],
   "source": [
    "credit_scoring_eng['family_status'].unique()"
   ]
  },
  {
   "cell_type": "code",
   "execution_count": null,
   "metadata": {},
   "outputs": [],
   "source": [
    "credit_scoring_eng['family_status'].isna().sum()"
   ]
  },
  {
   "cell_type": "code",
   "execution_count": null,
   "metadata": {},
   "outputs": [],
   "source": [
    "credit_scoring_eng['family_status'].describe()"
   ]
  },
  {
   "cell_type": "code",
   "execution_count": null,
   "metadata": {},
   "outputs": [],
   "source": [
    "# Address the problematic values in `family_status`, if they exist\n",
    "\n",
    "credit_scoring_eng['family_status'].value_counts()\n",
    "#credit_scoring_eng['family_status'].unique()"
   ]
  },
  {
   "cell_type": "markdown",
   "metadata": {},
   "source": [
    "Checking the `gender` column. "
   ]
  },
  {
   "cell_type": "code",
   "execution_count": null,
   "metadata": {},
   "outputs": [],
   "source": [
    "credit_scoring_eng['gender'].unique()"
   ]
  },
  {
   "cell_type": "code",
   "execution_count": null,
   "metadata": {},
   "outputs": [],
   "source": [
    "credit_scoring_eng[credit_scoring_eng['gender'] == 'XNA'] \n",
    "#politically loaded question in the west of whether there's something other than male and femal gender"
   ]
  },
  {
   "cell_type": "code",
   "execution_count": null,
   "metadata": {},
   "outputs": [],
   "source": [
    "credit_scoring_eng.loc[credit_scoring_eng['gender'] == 'M'].count() #7279 male clients\n",
    "credit_scoring_eng.loc[credit_scoring_eng['gender'] == 'F'].count() #14174 female clients\n",
    "credit_scoring_eng[credit_scoring_eng['gender'] == 'XNA'] \n",
    "credit_scoring_eng.info() # 7279 + 14174 = 21,453 No row is missing a gender value, except one."
   ]
  },
  {
   "cell_type": "markdown",
   "metadata": {},
   "source": [
    "*Fixing the gender column.*"
   ]
  },
  {
   "cell_type": "code",
   "execution_count": null,
   "metadata": {},
   "outputs": [],
   "source": [
    "credit_scoring_eng.index[credit_scoring_eng['gender'] == 'XNA'] # row with XNA gender is index 10701\n",
    "credit_scoring_eng = credit_scoring_eng.drop(10701)# deletes row with gender 'XNA'"
   ]
  },
  {
   "cell_type": "markdown",
   "metadata": {},
   "source": [
    "*Confirming gender column issues are fixed.*"
   ]
  },
  {
   "cell_type": "code",
   "execution_count": null,
   "metadata": {},
   "outputs": [],
   "source": [
    "len(credit_scoring_eng[credit_scoring_eng['gender'] == 'XNA']) # deleted row"
   ]
  },
  {
   "cell_type": "markdown",
   "metadata": {},
   "source": [
    "*Checking `income_type` column.*"
   ]
  },
  {
   "cell_type": "code",
   "execution_count": null,
   "metadata": {},
   "outputs": [],
   "source": [
    "credit_scoring_eng['income_type'].describe()"
   ]
  },
  {
   "cell_type": "code",
   "execution_count": null,
   "metadata": {},
   "outputs": [],
   "source": [
    "credit_scoring_eng['income_type'].unique()"
   ]
  },
  {
   "cell_type": "code",
   "execution_count": null,
   "metadata": {},
   "outputs": [],
   "source": [
    "credit_scoring_eng['income_type'].isna().sum()"
   ]
  },
  {
   "cell_type": "code",
   "execution_count": null,
   "metadata": {},
   "outputs": [],
   "source": [
    "credit_scoring_eng['income_type'].value_counts()"
   ]
  },
  {
   "cell_type": "markdown",
   "metadata": {},
   "source": [
    "*Checking for duplicates in dataframe*"
   ]
  },
  {
   "cell_type": "code",
   "execution_count": null,
   "metadata": {},
   "outputs": [],
   "source": [
    "credit_scoring_eng.duplicated().sum()"
   ]
  },
  {
   "cell_type": "code",
   "execution_count": null,
   "metadata": {},
   "outputs": [],
   "source": [
    "duplicated = credit_scoring_eng[credit_scoring_eng.duplicated()]\n",
    "duplicated"
   ]
  },
  {
   "cell_type": "code",
   "execution_count": null,
   "metadata": {},
   "outputs": [],
   "source": [
    "#credit_scoring_eng.iloc[2849] == credit_scoring_eng.iloc[3290]\n",
    "\n",
    "#credit_scoring_eng.iloc[20297] == credit_scoring_eng.iloc[20662]\n",
    "\n",
    "#credit_scoring_eng.duplicated().sum()"
   ]
  },
  {
   "cell_type": "markdown",
   "metadata": {},
   "source": [
    "Removing Dupliates"
   ]
  },
  {
   "cell_type": "code",
   "execution_count": null,
   "metadata": {},
   "outputs": [],
   "source": [
    "credit_scoring_eng = credit_scoring_eng.drop_duplicates().reset_index(drop=True)"
   ]
  },
  {
   "cell_type": "code",
   "execution_count": null,
   "metadata": {},
   "outputs": [],
   "source": [
    "credit_scoring_eng.duplicated().sum()"
   ]
  },
  {
   "cell_type": "code",
   "execution_count": null,
   "metadata": {
    "scrolled": true
   },
   "outputs": [],
   "source": [
    "credit_scoring_eng.info()"
   ]
  },
  {
   "cell_type": "markdown",
   "metadata": {},
   "source": [
    "*Here, 71 duplicate indexes have been removed, which comprises 0.3% of the total dataframe.* \n"
   ]
  },
  {
   "cell_type": "markdown",
   "metadata": {},
   "source": [
    "# Working with missing values"
   ]
  },
  {
   "cell_type": "markdown",
   "metadata": {},
   "source": [
    "[To speed up working with some data, you may want to work with dictionaries for some values, where IDs are provided. Explain why and which dictionaries you will work with.]"
   ]
  },
  {
   "cell_type": "markdown",
   "metadata": {},
   "source": [
    "\n",
    "\n",
    "\n"
   ]
  },
  {
   "cell_type": "markdown",
   "metadata": {},
   "source": [
    "### Restoring missing values in `total_income`"
   ]
  },
  {
   "cell_type": "markdown",
   "metadata": {},
   "source": [
    "Renaming dob_years to age:"
   ]
  },
  {
   "cell_type": "code",
   "execution_count": null,
   "metadata": {},
   "outputs": [],
   "source": [
    "credit_scoring_eng = credit_scoring_eng.rename(columns={'dob_years': \"age\"})"
   ]
  },
  {
   "cell_type": "code",
   "execution_count": null,
   "metadata": {},
   "outputs": [],
   "source": [
    "credit_scoring_eng.columns#confirming column renamed to 'age'"
   ]
  },
  {
   "cell_type": "code",
   "execution_count": null,
   "metadata": {},
   "outputs": [],
   "source": [
    "credit_scoring_eng['total_income'].describe()"
   ]
  },
  {
   "cell_type": "code",
   "execution_count": null,
   "metadata": {},
   "outputs": [],
   "source": [
    "credit_scoring_eng['age'] = credit_scoring_eng['age'].astype(int)# coverted age to integers"
   ]
  },
  {
   "cell_type": "markdown",
   "metadata": {},
   "source": [
    "Applying function to organize age groups in generations and creating a new 'generation' column"
   ]
  },
  {
   "cell_type": "code",
   "execution_count": null,
   "metadata": {},
   "outputs": [],
   "source": [
    "def age_groups(years):\n",
    "    \n",
    "    if 8 < years < 25:\n",
    "        return '18-24'\n",
    "    if 24 < years < 41:\n",
    "        return '25-40'\n",
    "    if 40 < years < 57:\n",
    "        return '41-56'\n",
    "    if 56 < years < 67:\n",
    "        return '57-66'\n",
    "    if  66 < years < 76:\n",
    "        return '67-75'\n",
    "    if  75 < years < 94:\n",
    "        return '76-93'\n",
    "    return 'age unknown'\n",
    "\n",
    "\n",
    "credit_scoring_eng['generation'] = credit_scoring_eng.age.apply(age_groups)#grouped ages by generation to make dataframe more organized"
   ]
  },
  {
   "cell_type": "code",
   "execution_count": null,
   "metadata": {},
   "outputs": [],
   "source": [
    "credit_scoring_eng.columns# confirming generation column has been created"
   ]
  },
  {
   "cell_type": "markdown",
   "metadata": {},
   "source": [
    "Filling missing values in total_income column with median income."
   ]
  },
  {
   "cell_type": "code",
   "execution_count": null,
   "metadata": {},
   "outputs": [],
   "source": [
    "income_median = credit_scoring_eng['total_income'].median()\n",
    "\n",
    "credit_scoring_eng['total_income'] = credit_scoring_eng['total_income'].fillna(int(income_median))"
   ]
  },
  {
   "cell_type": "code",
   "execution_count": null,
   "metadata": {},
   "outputs": [],
   "source": [
    "credit_scoring_eng['total_income'].isna().sum()"
   ]
  },
  {
   "cell_type": "code",
   "execution_count": null,
   "metadata": {},
   "outputs": [],
   "source": [
    "credit_scoring_eng.head()"
   ]
  },
  {
   "cell_type": "markdown",
   "metadata": {},
   "source": [
    "Conforming the generation column function is working properly:"
   ]
  },
  {
   "cell_type": "code",
   "execution_count": null,
   "metadata": {},
   "outputs": [],
   "source": [
    "#credit_scoring_eng.columns # changed dob_years to age\n",
    "gens = credit_scoring_eng.groupby(['generation', 'gender']).agg({'debt': 'sum'})\n",
    "gens"
   ]
  },
  {
   "cell_type": "code",
   "execution_count": null,
   "metadata": {},
   "outputs": [],
   "source": [
    "# Creating new column based on function\n",
    "credit_scoring_eng['total_income'].median()\n"
   ]
  },
  {
   "cell_type": "markdown",
   "metadata": {},
   "source": [
    "Factors that influence income:"
   ]
  },
  {
   "cell_type": "code",
   "execution_count": null,
   "metadata": {},
   "outputs": [],
   "source": [
    "grouped_df_education = credit_scoring_eng.groupby('education').agg({'total_income': ['median', 'mean',  'min', 'max']})\n",
    "grouped_df_education"
   ]
  },
  {
   "cell_type": "code",
   "execution_count": null,
   "metadata": {},
   "outputs": [],
   "source": [
    "grouped_df_family_stat = credit_scoring_eng.groupby('family_status').agg({'total_income': ['median', 'mean',  'min', 'max']})\n",
    "grouped_df_family_stat"
   ]
  },
  {
   "cell_type": "code",
   "execution_count": null,
   "metadata": {},
   "outputs": [],
   "source": [
    "grouped_df_gender = credit_scoring_eng.groupby('gender').agg({'total_income': ['median', 'mean',  'min', 'max']})\n",
    "grouped_df_gender"
   ]
  },
  {
   "cell_type": "code",
   "execution_count": null,
   "metadata": {},
   "outputs": [],
   "source": [
    "grouped_df_income_type = credit_scoring_eng.groupby('income_type').agg({'total_income': ['median', 'mean',  'min', 'max']})\n",
    "grouped_df_income_type "
   ]
  },
  {
   "cell_type": "markdown",
   "metadata": {},
   "source": [
    "***Mean Values***"
   ]
  },
  {
   "cell_type": "code",
   "execution_count": null,
   "metadata": {},
   "outputs": [],
   "source": [
    "#Grouped by age: $24900\n",
    "#Grouped by education: $26870.50\n",
    "#Grouped by age: $25878.40\n",
    "#Grouped by gender: F\t$24506.897740\n",
    "                   #M\t$30193.488521\n",
    "    "
   ]
  },
  {
   "cell_type": "code",
   "execution_count": null,
   "metadata": {},
   "outputs": [],
   "source": [
    "# Grouped by income type"
   ]
  },
  {
   "cell_type": "code",
   "execution_count": null,
   "metadata": {},
   "outputs": [],
   "source": [
    "#grouped_df_age.describe()\n",
    "#grouped_df_education.describe()\n",
    "#grouped_df_family_stat.describe()\n",
    "#grouped_df_gender"
   ]
  },
  {
   "cell_type": "markdown",
   "metadata": {},
   "source": [
    "Gender and income-type markedly influence income.       "
   ]
  },
  {
   "cell_type": "code",
   "execution_count": null,
   "metadata": {},
   "outputs": [],
   "source": [
    "# Checking the number of entries in the columns"
   ]
  },
  {
   "cell_type": "code",
   "execution_count": null,
   "metadata": {},
   "outputs": [],
   "source": [
    "credit_scoring_eng['total_income'].describe()"
   ]
  },
  {
   "cell_type": "code",
   "execution_count": null,
   "metadata": {},
   "outputs": [],
   "source": [
    "credit_scoring_eng['total_income'].isna().sum() == credit_scoring_eng['days_employed'].isna().sum()"
   ]
  },
  {
   "cell_type": "markdown",
   "metadata": {},
   "source": [
    "###  Restoring values in `days_employed`"
   ]
  },
  {
   "cell_type": "markdown",
   "metadata": {
    "pycharm": {
     "name": "#%%\n"
    }
   },
   "source": [
    "Distribution of `days_employed` medians based on identified parameters"
   ]
  },
  {
   "cell_type": "code",
   "execution_count": null,
   "metadata": {
    "pycharm": {
     "name": "#%%\n"
    }
   },
   "outputs": [],
   "source": [
    "data_grouped_d_empl_median = credit_scoring_eng.groupby(['income_type', 'gender', 'debt']).agg({'days_employed': 'median'})\n",
    "data_grouped_d_empl_mean =  credit_scoring_eng.groupby(['income_type', 'gender', 'debt']).agg({'days_employed': 'mean'}) \n",
    "data_grouped_d_empl_median"
   ]
  },
  {
   "cell_type": "code",
   "execution_count": null,
   "metadata": {
    "pycharm": {
     "name": "#%%\n"
    }
   },
   "outputs": [],
   "source": [
    "data_grouped_d_empl_generation_mean =  credit_scoring_eng.groupby(['generation', 'gender']).agg({'days_employed': 'mean', 'debt': 'sum'})\n",
    "data_grouped_d_empl_generation_median = credit_scoring_eng.groupby(['generation', 'gender']).agg({'days_employed': 'median', 'debt': 'sum'})\n",
    "data_grouped_d_empl_generation_median"
   ]
  },
  {
   "cell_type": "code",
   "execution_count": null,
   "metadata": {
    "pycharm": {
     "name": "#%%\n"
    }
   },
   "outputs": [],
   "source": [
    "data_grouped_d_empl_fam_stat_mean =  credit_scoring_eng.groupby(['family_status', 'gender', 'debt']).agg({'days_employed': 'mean'})\n",
    "data_grouped_d_empl_fam_stat_median = credit_scoring_eng.groupby(['family_status', 'gender', 'debt']).agg({'days_employed': 'median'})\n",
    "data_grouped_d_empl_fam_stat_median"
   ]
  },
  {
   "cell_type": "markdown",
   "metadata": {},
   "source": [
    "Distribution of `days_employed` means based on identified parameters"
   ]
  },
  {
   "cell_type": "markdown",
   "metadata": {},
   "source": [
    "# Family Status / Gender / Debt:"
   ]
  },
  {
   "cell_type": "code",
   "execution_count": null,
   "metadata": {},
   "outputs": [],
   "source": [
    "#\t\t\tdays_employed\n",
    "#family_status\tgender\tdebt\t\n",
    "#civil partnership\tF\t0\t2221.549833\n",
    "#1\t1849.067175\n",
    "#M\t0\t1909.715280\n",
    "#1\t1452.369555\n",
    "#divorced\tF\t0\t2294.504442\n",
    "#1\t1964.130937\n",
    "#M\t0\t2104.587216\n",
    "#1\t1663.758442\n",
    "#married\tF\t0\t2363.065689\n",
    "#1\t1906.176708\n",
    "#M\t0\t2143.139645\n",
    "#1\t1789.180760\n",
    "#unmarried\tF\t0\t1965.226182\n",
    "#1\t1753.034656\n",
    "#M\t0\t1550.102812\n",
    "#1\t1292.566716\n",
    "#widow / widower\tF\t0\t2287.664101\n",
    "#1\t2078.679486\n",
    "#M\t0\t1845.726838\n",
    "#1\t1589.485209"
   ]
  },
  {
   "cell_type": "markdown",
   "metadata": {},
   "source": [
    "# Age / Gender / Debt"
   ]
  },
  {
   "cell_type": "code",
   "execution_count": null,
   "metadata": {},
   "outputs": [],
   "source": [
    "#days_employed\n",
    "#generation\tgender\tdebt\t\n",
    "#25-40\tF\t0\t3257.812273\n",
    "#1\t3747.840984\n",
    "#M\t0\t3498.460011\n",
    "#1\t3943.789394\n",
    "#31-56\tF\t0\t54930.892025\n",
    "#1\t42321.479467\n",
    "#M\t0\t26274.503337\n",
    "#1\t24758.179326\n",
    "#57-66\tF\t0\t239597.301356\n",
    "#1\t253364.498976\n",
    "#M\t0\t166009.142271\n",
    "#1\t113800.421905\n",
    "#67-75\tF\t0\t301579.403077\n",
    "#1\t305771.498679\n",
    "#M\t0\t294264.924119\n",
    "#1\t258008.324704\n",
    "#9-24\tF\t0\t1377.339466\n",
    "#1\t508.326735\n",
    "#M\t0\t605.898204\n",
    "#1\t707.671945"
   ]
  },
  {
   "cell_type": "markdown",
   "metadata": {},
   "source": [
    "# Income Type / Gender / Debt"
   ]
  },
  {
   "cell_type": "code",
   "execution_count": null,
   "metadata": {},
   "outputs": [],
   "source": [
    "#\tdays_employed\n",
    "#income_type\tgender\tdebt\t\n",
    "#business\tF\t0\t1857.433161\n",
    "#1\t1591.263221\n",
    "#M\t0\t1737.892368\n",
    "#1\t1348.705277\n",
    "#civil servant\tF\t0\t3028.018352\n",
    "#1\t3169.096762\n",
    "#M\t0\t2762.776949\n",
    "#1\t1708.575287\n",
    "#employee\tF\t0\t2205.528858\n",
    "#1\t1599.899829\n",
    "#M\t0\t1759.121787\n",
    "#1\t1373.095800\n",
    "#entrepreneur\tF\t0\t520.848083\n",
    "#M\t0\t-1204.164714\n",
    "#paternity / maternity leave\tF\t1\t3296.759962\n",
    "#retiree\tF\t0\t328548.985374\n",
    "#1\t306370.257129\n",
    "#M\t0\t333953.246867\n",
    "#1\t305710.439988\n",
    "#student\tM\t0\t578.751554\n",
    "#unemployed\tF\t0\t395302.838654\n",
    "#M\t1\t337524.466835"
   ]
  },
  {
   "cell_type": "markdown",
   "metadata": {},
   "source": [
    "Median values will reflect a more accurate representation of the sample, as a whole, whereby value extremes will not skew a reprentative mean value. However, the mean may be more approrpiate when analyzing values the range age groups. "
   ]
  },
  {
   "cell_type": "markdown",
   "metadata": {},
   "source": [
    "Days Employed Median Function"
   ]
  },
  {
   "cell_type": "code",
   "execution_count": null,
   "metadata": {},
   "outputs": [],
   "source": [
    "workdays_median = int(credit_scoring_eng['days_employed'].median())\n",
    "\n",
    "credit_scoring_eng['days_employed'] = credit_scoring_eng['days_employed'].fillna(workdays_median)\n",
    "credit_scoring_eng['days_employed'] = credit_scoring_eng['days_employed'].abs()\n",
    "\n",
    "credit_scoring_eng['days_employed'] = np.where((credit_scoring_eng.days_employed > 20000), workdays_median, credit_scoring_eng.days_employed)\n",
    "#replaced extreme number of days e.g. the equivalent of ~1000 years"
   ]
  },
  {
   "cell_type": "code",
   "execution_count": null,
   "metadata": {},
   "outputs": [],
   "source": [
    "# Check that the function works\n",
    "credit_scoring_eng['days_employed'].iloc[6931]# '401755.40047533' changed to median value of '1823'\n",
    "credit_scoring_eng.describe()\n",
    "#credit_scoring_eng.info()\n",
    "#credit_scoring_eng['days_employed'].value_counts()\n"
   ]
  },
  {
   "cell_type": "markdown",
   "metadata": {},
   "source": [
    " `total_income` number of values in column matches the number of values in other ones"
   ]
  },
  {
   "cell_type": "code",
   "execution_count": null,
   "metadata": {},
   "outputs": [],
   "source": [
    "credit_scoring_eng.info()"
   ]
  },
  {
   "cell_type": "code",
   "execution_count": null,
   "metadata": {},
   "outputs": [],
   "source": [
    "credit_scoring_eng.describe()"
   ]
  },
  {
   "cell_type": "markdown",
   "metadata": {},
   "source": [
    "<div class=\"alert alert-success\" role=\"alert\">\n",
    "<b>Reviewer's comment v1:</b>\n",
    "    \n",
    "Very detailed analisis of missing data. And you correctly identified columns with missing or strange values.\n",
    "Also very cool that you created functions to partially automate your code."
   ]
  },
  {
   "cell_type": "markdown",
   "metadata": {},
   "source": [
    "## Categorization of data"
   ]
  },
  {
   "cell_type": "code",
   "execution_count": null,
   "metadata": {},
   "outputs": [],
   "source": [
    "# Print the values for your selected data for categorization\n",
    "data_pivot_1 = credit_scoring_eng.pivot_table(index='gender', values='total_income', aggfunc='median')\n",
    "data_pivot_1"
   ]
  },
  {
   "cell_type": "code",
   "execution_count": null,
   "metadata": {},
   "outputs": [],
   "source": [
    "data_pivot_2 = credit_scoring_eng.pivot_table(index='education', values='total_income', aggfunc='mean')\n",
    "data_pivot_2"
   ]
  },
  {
   "cell_type": "code",
   "execution_count": null,
   "metadata": {},
   "outputs": [],
   "source": [
    "data_pivot_3 = credit_scoring_eng.pivot_table(index='income_type', values='total_income', aggfunc='median') \n",
    "data_pivot_3"
   ]
  },
  {
   "cell_type": "code",
   "execution_count": null,
   "metadata": {},
   "outputs": [],
   "source": [
    "data_pivot_4 = credit_scoring_eng.pivot_table(index='debt', values='total_income', aggfunc='mean')# changed aggfunc to mean because no difference in median\n",
    "data_pivot_4"
   ]
  },
  {
   "cell_type": "code",
   "execution_count": null,
   "metadata": {},
   "outputs": [],
   "source": [
    "data_pivot_5 = credit_scoring_eng.pivot_table(index='family_status', values='total_income', aggfunc='median')#no difference in total income based on family status, except widowers had the lowest income\n",
    "data_pivot_5                                                                                                  #and more variation amongst the median values but still negligible differences'"
   ]
  },
  {
   "cell_type": "markdown",
   "metadata": {},
   "source": [
    "#Total income of a borrwer is a fundamental criterion for assessing a borrower's ability to pay back a loan; and, the two columnns that were typififed by the widest range was when grouping by the means of \"income type\" and 'gender'."
   ]
  },
  {
   "cell_type": "code",
   "execution_count": null,
   "metadata": {},
   "outputs": [],
   "source": [
    "data_grouped = credit_scoring_eng.groupby(['income_type', 'gender', 'debt']).agg({'total_income': 'mean'})\n",
    "data_grouped"
   ]
  },
  {
   "cell_type": "code",
   "execution_count": null,
   "metadata": {},
   "outputs": [],
   "source": [
    "            \n",
    "data_grouped_income_median = credit_scoring_eng.groupby(['income_type', 'gender', 'debt']).agg({'total_income': 'median'})\n",
    "data_grouped_income_mean =  credit_scoring_eng.groupby(['income_type', 'gender', 'debt']).agg({'total_income': 'mean'}) \n",
    "\n",
    "data_grouped_income_median"
   ]
  },
  {
   "cell_type": "code",
   "execution_count": null,
   "metadata": {},
   "outputs": [],
   "source": [
    "data_grouped_income_generation_mean =  credit_scoring_eng.groupby(['generation', 'gender', 'debt']).agg({'total_income': 'mean'})\n",
    "data_grouped_income_generation_median = credit_scoring_eng.groupby(['generation', 'gender', 'debt']).agg({'total_income': 'median'})\n",
    "\n",
    "data_grouped_income_generation_median"
   ]
  },
  {
   "cell_type": "code",
   "execution_count": null,
   "metadata": {},
   "outputs": [],
   "source": [
    "data_grouped_income_fam_stat_mean =  credit_scoring_eng.groupby(['family_status', 'gender', 'debt']).agg({'total_income': 'mean'})\n",
    "data_grouped_income_fam_stat_median = credit_scoring_eng.groupby(['family_status', 'gender', 'debt']).agg({'total_income': 'median'})\n",
    "\n",
    "data_grouped_income_fam_stat_median"
   ]
  },
  {
   "cell_type": "code",
   "execution_count": null,
   "metadata": {},
   "outputs": [],
   "source": [
    "            \n",
    "multi_group_mean =  credit_scoring_eng.groupby(['family_status', 'generation', 'gender', 'debt']).agg({'total_income': 'mean'})\n",
    "multi_group_median = credit_scoring_eng.groupby(['family_status', 'gender']).agg({'total_income': 'median', 'debt': 'sum'})\n",
    "\n",
    "multi_group_median "
   ]
  },
  {
   "cell_type": "code",
   "execution_count": null,
   "metadata": {},
   "outputs": [],
   "source": [
    "purpose_group_median = credit_scoring_eng.groupby(['generation','purpose']).agg({'debt': 'sum', 'purpose': 'count'}) \n",
    "purpose_group_median"
   ]
  },
  {
   "cell_type": "markdown",
   "metadata": {},
   "source": [
    "***Removing Implicit Duplicates in Loan Puprose Column*** "
   ]
  },
  {
   "cell_type": "code",
   "execution_count": null,
   "metadata": {},
   "outputs": [],
   "source": [
    "def replace_wrong_values_prop(wrong_values, correct_value): # passing a list of wrong values and a string with the correct value on the function's input\n",
    "    for wrong_value in wrong_values: # looping over misspelled names\n",
    "        credit_scoring_eng['purpose'] = credit_scoring_eng['purpose'].replace(wrong_value, correct_value) # calling replace() for each wrong name\n",
    "\n",
    "duplicates = ['building a property', 'building a real estate','buy commercial real estate', 'buy real estate', 'buy residential real estate', 'buying property for renting out', 'construction of own property', 'housing', 'housing renovation', 'housing transactions', 'property', 'purchase of my own house', 'purchase of the house', 'purchase of the house for my family', 'real estate transactions', 'transactions with commercial real estate', 'transactions with my real estate'] # a list of misspelled names\n",
    "property_purp = 'real property' # correct name\n",
    "replace_wrong_values_prop(duplicates, property_purp) # function call, replace() will be called twice\n",
    " # the new DataFrame without duplicates \n",
    "credit_scoring_eng['purpose'].unique()"
   ]
  },
  {
   "cell_type": "code",
   "execution_count": null,
   "metadata": {},
   "outputs": [],
   "source": [
    "def replace_wrong_values_car(wrong_values, correct_value): # passing a list of wrong values and a string with the correct value on the function's input\n",
    "    for wrong_value in wrong_values: # looping over misspelled names\n",
    "        credit_scoring_eng['purpose'] = credit_scoring_eng['purpose'].replace(wrong_value, correct_value) # calling replace() for each wrong name\n",
    "\n",
    "duplicates_car = ['car purchase', 'buying a second-hand car', 'buying my own car', 'cars', 'second-hand car purchase', 'car', 'to own a car', 'purchase of a car', 'to buy a car'] # a list of misspelled names\n",
    "car_purp = 'car loan' # correct name\n",
    "replace_wrong_values_car(duplicates_car, car_purp) # function call, replace() will be called twice\n",
    " # the new DataFrame without duplicates \n",
    "credit_scoring_eng['purpose'].unique()"
   ]
  },
  {
   "cell_type": "code",
   "execution_count": null,
   "metadata": {},
   "outputs": [],
   "source": [
    "def replace_wrong_values_edu(wrong_values, correct_value): # passing a list of wrong values and a string with the correct value on the function's input\n",
    "    for wrong_value in wrong_values: # looping over misspelled names\n",
    "        credit_scoring_eng['purpose'] = credit_scoring_eng['purpose'].replace(wrong_value, correct_value) # calling replace() for each wrong name\n",
    "\n",
    "duplicates_edu = ['supplementary education', 'education', 'to become educated', 'getting an education', 'to get a supplementary education', 'getting higher education', 'profile education', 'university education', 'going to university'] # a list of misspelled names\n",
    "edu_purp = 'education loan' # correct name\n",
    "replace_wrong_values_car(duplicates_edu, edu_purp) # function call, replace() will be called twice\n",
    " # the new DataFrame without duplicates \n",
    "credit_scoring_eng['purpose'].unique()"
   ]
  },
  {
   "cell_type": "code",
   "execution_count": null,
   "metadata": {},
   "outputs": [],
   "source": [
    "def replace_wrong_values_wed(wrong_values, correct_value): # passing a list of wrong values and a string with the correct value on the function's input\n",
    "    for wrong_value in wrong_values: # looping over misspelled names\n",
    "        credit_scoring_eng['purpose'] = credit_scoring_eng['purpose'].replace(wrong_value, correct_value) # calling replace() for each wrong name\n",
    "\n",
    "duplicates_wed = ['to have a wedding', 'having a wedding', 'wedding ceremony'] \n",
    "wed_purp = 'wedding loan' # correct name\n",
    "replace_wrong_values_wed(duplicates_wed, wed_purp) # function call, replace() will be called twice\n",
    " # the new DataFrame without duplicates \n",
    "credit_scoring_eng['purpose'].unique()"
   ]
  },
  {
   "cell_type": "code",
   "execution_count": null,
   "metadata": {
    "scrolled": true
   },
   "outputs": [],
   "source": [
    "purpose_group_median_2 = credit_scoring_eng.groupby(['purpose', 'gender']).agg({'debt': 'sum', 'purpose': 'count'}) \n",
    "purpose_group_median_2"
   ]
  },
  {
   "cell_type": "markdown",
   "metadata": {
    "scrolled": true
   },
   "source": [
    "# Observations\n",
    "The income type tended to be  inversely correlated, in most samples, with the  outstanding debt.\n",
    "\n",
    "5236 Bachelors Degrees earn more than 6 Graduate Degrees in this sample and 15112 Seconday Education Clients.\n",
    "\n",
    "There are significant dipsarities amongst clients' income based on income type\n",
    "\n",
    "Although women worked more days than men, irrepsective of the age group; nevertheless, they earned less money, and tended to have higher loan deliquency rates. \n",
    "\n",
    "\n"
   ]
  },
  {
   "cell_type": "markdown",
   "metadata": {},
   "source": [
    "## Checking the Hypotheses\n"
   ]
  },
  {
   "cell_type": "markdown",
   "metadata": {},
   "source": [
    "**Is there a correlation between having children and paying back on time?**"
   ]
  },
  {
   "cell_type": "markdown",
   "metadata": {},
   "source": [
    "Checking the children data and paying back on time:"
   ]
  },
  {
   "cell_type": "code",
   "execution_count": null,
   "metadata": {},
   "outputs": [],
   "source": [
    "child_debt_count =  credit_scoring_eng.groupby(['children']).agg({'debt': 'sum', 'children': 'count'})\n",
    "\n",
    "child_debt_count\n",
    "# Calculating default-rate based on the number of children"
   ]
  },
  {
   "cell_type": "markdown",
   "metadata": {},
   "source": [
    "*The foregoing table tends to show that there is positive correlation betweeen having kids and paying back on time; that is, likelihood of default tends to decrease with each successive number of kids.*"
   ]
  },
  {
   "cell_type": "markdown",
   "metadata": {},
   "source": [
    "**Conclusion**\n",
    "\n",
    "*Real property loan clients have a 7.2% default rate, and the most applications. Car loan clients have a 9.3% default rate second highets number of applications. Education loan clients have a 9.2% default rate and third in number of applications. Wedding loans comprise the least amount of applications and are typified by a 7.8% default rate.*\n",
    "\n",
    "*The 25-40 year old age bracket has the most loans. Applications for real estate-related loans have the most applications irrespective of age group.*\n"
   ]
  },
  {
   "cell_type": "markdown",
   "metadata": {},
   "source": [
    "<div class=\"alert alert-warning\" role=\"alert\">\n",
    "<b>Reviewer's comment v1</b>\n",
    "\n",
    "What conclusions can you make based on the aggregated tables?"
   ]
  },
  {
   "cell_type": "markdown",
   "metadata": {},
   "source": [
    "**Is there a correlation between family status and paying back on time?**"
   ]
  },
  {
   "cell_type": "markdown",
   "metadata": {},
   "source": [
    "*Below, the dataframe sustantially confirms one's intuitive predictions when considering a person's ability to make loan payments on time based on their family status, that is, married households tend to have more debt, but their median income is also higher, hich likely explains their relatively low default rates. Interestingly, the dataset suggests that the more children one has, the less likely one will default, which is somewhat counterintuitive, but may be explained on more experience with frugality and capital efficiency. Also, though there are almost twice as many women as men represented in the dataset, 14127 to 7250, repectively; unmarried men are more liley to default than unamrried women, 14% to 6.8% default rate,  which may be explained by males having less responisibilities and urgency to become financially stable to establish a family, or women having additional supplementary financial support.* "
   ]
  },
  {
   "cell_type": "code",
   "execution_count": null,
   "metadata": {},
   "outputs": [],
   "source": [
    "# Check the family status data and paying back on time\n",
    "\n",
    "famstat_debt_count =  credit_scoring_eng.groupby(['family_status', 'gender']).agg({'debt': 'sum', 'family_status': 'count'})\n",
    "\n",
    "famstat_debt_count"
   ]
  },
  {
   "cell_type": "markdown",
   "metadata": {},
   "source": [
    "***Family Status Default rate*** "
   ]
  },
  {
   "cell_type": "code",
   "execution_count": null,
   "metadata": {},
   "outputs": [],
   "source": [
    "famstat_debt_count['debt'] / famstat_debt_count['family_status']"
   ]
  },
  {
   "cell_type": "markdown",
   "metadata": {},
   "source": [
    "*Calculating default-rate based on family status*"
   ]
  },
  {
   "cell_type": "code",
   "execution_count": null,
   "metadata": {},
   "outputs": [],
   "source": [
    "famstat_debt_count_2 =  credit_scoring_eng.groupby(['family_status']).agg({'debt': 'sum', 'family_status': 'count'})\n",
    "famstat_debt_count_2"
   ]
  },
  {
   "cell_type": "markdown",
   "metadata": {},
   "source": [
    "**Family Status Default Rate Totals** "
   ]
  },
  {
   "cell_type": "code",
   "execution_count": null,
   "metadata": {},
   "outputs": [],
   "source": [
    "famstat_debt_count_2['debt'] / famstat_debt_count_2['family_status']"
   ]
  },
  {
   "cell_type": "markdown",
   "metadata": {},
   "source": [
    "**Conclusion**\n",
    "\n",
    "Married households and widows/widowers have the lowest default rates because, the former likely enjoys more than one income source, and supplemnetary sources of income to address the relatively capital intensive ambitions of a family, and the latter probably requires a much more ascetic and frugal lifestyle because their partner has died, and the concomitant expenses of family life during child rearing are not required.   "
   ]
  },
  {
   "cell_type": "markdown",
   "metadata": {},
   "source": [
    "**Is there a correlation between income level and paying back on time?**"
   ]
  },
  {
   "cell_type": "markdown",
   "metadata": {},
   "source": [
    "Amongst employees, retirees, civil servants, and business owners, there is enough data to infer that the more income one has, the less liley default will occur. Here, retirees enjoy the lowest default rates, followed by civil servants,  business owners, and employees. Employees make the least amount of money, which makes default more likely. However, due to the small sample sizes of \"maternity leave,\" \"entrepeneurs,\" \"students\" and the \"unemployed,\" there is not enough data to speculate about any correlative tendencies.  "
   ]
  },
  {
   "cell_type": "code",
   "execution_count": null,
   "metadata": {},
   "outputs": [],
   "source": [
    "            \n",
    "data_grouped_income_median_2 = credit_scoring_eng.groupby(['income_type']).agg({'total_income': 'median', 'debt': 'sum', 'income_type': 'count'})\n",
    "data_grouped_income_median_2"
   ]
  },
  {
   "cell_type": "code",
   "execution_count": null,
   "metadata": {},
   "outputs": [],
   "source": [
    "data_grouped_income_median_2['debt'] / data_grouped_income_median_2['income_type']"
   ]
  },
  {
   "cell_type": "code",
   "execution_count": null,
   "metadata": {},
   "outputs": [],
   "source": [
    "# Check the income level data and paying back on time\n",
    "famstat_debt_count = credit_scoring_eng.groupby(['income_type']).agg({'total_income': 'median', 'debt': 'sum', 'income_type': 'count' })\n",
    "famstat_debt_count\n",
    "# Calculating default-rate based on income level"
   ]
  },
  {
   "cell_type": "code",
   "execution_count": null,
   "metadata": {},
   "outputs": [],
   "source": [
    "#employee                       11041,,,.....9.5% default rate\n",
    "#business                        5055,,,.....7.3% default rate\n",
    "#retiree                         3820,,,.....9.5% default rate\n",
    "#civil servant                   1455,,,.....5.6% default rate\n",
    "#entrepreneur                       2,,,.....0% default rate\n",
    "#unemployed                         2,,,.....50% default rate\n",
    "#paternity / maternity leave        1,,,.....100% default rate\n",
    "#student                            1,,,.....0% default rate\n",
    "\n",
    "\n",
    "\n",
    "\n",
    "\n",
    "\n",
    "#credit_scoring_eng[credit_scoring_eng['income_type'] == 'student']\n",
    "#credit_scoring_eng['income_type'].value_cou7.3nts\n",
    "#credit_scoring_eng['income_type'].value_counts()"
   ]
  },
  {
   "cell_type": "markdown",
   "metadata": {},
   "source": [
    "**How does credit purpose affect the default rate?**"
   ]
  },
  {
   "cell_type": "markdown",
   "metadata": {},
   "source": [
    "*Default rates by loan purpose tend to show that car loans and education loans have the highest default rates, 9.3% and 9.2%, respectively. This may be due to the more financially precarious nature of debtors' financial circumstances and the corresponding urgency of repayment when compared to expenses for life necessities, such as food and shelter.*"
   ]
  },
  {
   "cell_type": "code",
   "execution_count": null,
   "metadata": {},
   "outputs": [],
   "source": [
    "purpose_debt_count = credit_scoring_eng.groupby(['purpose']).agg({'debt': 'sum', 'purpose': 'count'})\n",
    "purpose_debt_count "
   ]
  },
  {
   "cell_type": "code",
   "execution_count": null,
   "metadata": {},
   "outputs": [],
   "source": [
    "purpose_debt_count['debt'] / purpose_debt_count['purpose'] # default rate calculation by purpose"
   ]
  },
  {
   "cell_type": "code",
   "execution_count": null,
   "metadata": {},
   "outputs": [],
   "source": [
    "#default percenatge by purpose\n",
    "#purpose\n",
    "#building a property                         0.087237\n",
    "#building a real estate                      0.077047\n",
    "#buy commercial real estate                  0.069909\n",
    "#buy real estate                             0.069579\n",
    "#buy residential real estate                 0.067881\n",
    "#buying a second-hand car                    0.074153\n",
    "#buying my own car                           0.091089\n",
    "#buying property for renting out             0.080000\n",
    "#car                                         0.085193\n",
    "#car purchase                                0.091106\n",
    "#cars                                        0.092243\n",
    "#construction of own property                0.065183\n",
    "#education                                   0.071910\n",
    "#getting an education                        0.081633\n",
    "#getting higher education                    0.108235\n",
    "#going to university                         0.086694\n",
    "#having a wedding                            0.079843\n",
    "#housing                                     0.071651\n",
    "#housing renovation                          0.057851\n",
    "#housing transactions                        0.074074\n",
    "#profile education                           0.101382\n",
    "#property                                    0.066456\n",
    "#purchase of a car                           0.109890\n",
    "#purchase of my own house                    0.054839\n",
    "#purchase of the house                       0.074650\n",
    "#purchase of the house for my family         0.070644\n",
    "#real estate transactions                    0.081602\n",
    "#second-hand car purchase                    0.105809\n",
    "#supplementary education                     0.083151\n",
    "#to become educated                          0.095588\n",
    "#to buy a car                                0.093617\n",
    "#to get a supplementary education            0.114607\n",
    "#to have a wedding                           0.076216\n",
    "#to own a car                                0.098947\n",
    "#transactions with commercial real estate    0.080495\n",
    "#transactions with my real estate            0.079872\n",
    "#university education                        0.089485\n",
    "#wedding ceremony                            0.081013\n",
    "\n",
    "#purpose_debt_count"
   ]
  },
  {
   "cell_type": "markdown",
   "metadata": {},
   "source": [
    "<div class=\"alert alert-success\" role=\"alert\">\n",
    "<b>Reviewer's comment v1</b>\n",
    "\n",
    "Great that you used groupby to test hypotheses. You can also apply pivot tables here. \n",
    "\n",
    "https://pandas.pydata.org/pandas-docs/stable/reference/api/pandas.pivot_table.html"
   ]
  },
  {
   "cell_type": "markdown",
   "metadata": {},
   "source": [
    "***Total Dataset Composition by Gender***"
   ]
  },
  {
   "cell_type": "code",
   "execution_count": null,
   "metadata": {},
   "outputs": [],
   "source": [
    "gender_count = credit_scoring_eng.groupby(['gender']).agg({'gender': 'count'})\n",
    "gender_count"
   ]
  },
  {
   "cell_type": "markdown",
   "metadata": {},
   "source": [
    "# General Conclusion \n"
   ]
  },
  {
   "cell_type": "markdown",
   "metadata": {},
   "source": [
    "***Is there a connection between having kids and repaying a loan on time?***\n",
    "\n",
    ">***Technical Application***: Converted negative values to absolute, and removed entries with 20 kids.\n",
    "\n",
    ">***Conclusion***: The pivot table with number of kids and the count of clients with for each categogy may show that there is positive correlation betweeen having kids and paying back on time; that is, likelihood of default tends to decrease with each successive additional number of kids.\n",
    "\n"
   ]
  },
  {
   "cell_type": "markdown",
   "metadata": {},
   "source": [
    "***Is there a connection between marital status and repaying a loan on time?***\n",
    "\n",
    ">***Technical Application***: N/A\n",
    "\n",
    ">***Conclusion***: Here, in relative magnitudes, married couples tend to have a lower default rate than civil partnerships and the unmarried, coupled with a higher average income; however, married couples still have a higher default rate than divorced individuals and widowed. Commensenisical narratives may offer explanations for such dynammics, e.g., officially married indiividuals may be more socioeconomically stable insofar as they are further in their professional careers with concomitant salaries, and correpsonding subsatntial family expenses, which may lead to financial strain; whereas, the lives of the divorced and unmarried people are more self-sufficient and less ambitious and capital intensive lifestyles."
   ]
  },
  {
   "cell_type": "markdown",
   "metadata": {},
   "source": [
    "***Is there a connection between income level and repaying a loan on time?***\n",
    "\n",
    ">***Technical Application***: Substituted median income of the dataset for missing values.\n",
    "\n",
    ">***Conclusion***:There may be some correlation between income level and the incidence of loan defaults, but the highest default ratio\n",
    "was by employees, and civil servants, whose median income was 23202, amongst 11041 clients, adn 14555, respectively. The next highest sample and default rate was the 5055 business clients whose income was $26002. Furthermore, the numbers tend to inidicate there is an inverse correlation between income level and default rate."
   ]
  },
  {
   "cell_type": "markdown",
   "metadata": {},
   "source": [
    "***How do different loan purposes affect on-time loan repayment?***\n",
    "\n",
    ">***Technical Application***: Applied a function to remove implicit duplicates in the 'loan purpose' column.\n",
    "\n",
    ">***Conclusion***: Although the analysis is more nuanced than this data set permits because macroeconomic factors, monetary policy, inflation, unemployment rates all have a substantial impact on overall solvency and ability to meet financial obligations; nonetheless, these data tend to indicate that at this bank, most people apply for real estate-related loans, with nore than 4000 applications in the , but have the lowest deliquency rate amongst loan purposes. Clients seek almost an equal amount of car and education loans, and are attended by the highest default rates.  \n",
    "Real property loan clients have a 7.2% default rate, and the most applications. Car loan clients have a 9.3% default rate second highets number of applications. Education loan clients have a 9.2% default rate and third in number of applications. Wedding loans comprise the least a mount of applications and are typified by a 7.8% default rate."
   ]
  },
  {
   "cell_type": "markdown",
   "metadata": {},
   "source": [
    "<div class=\"alert alert-warning\">\n",
    "<b>Reviewer's comment v1:</b>\n",
    "\n",
    "You have made correct conclusions based on the data that you have obtained.\n",
    "\n",
    "On a real project, a general conclusion is probably the only thing the business will read. Therefore, it is crucial to also indicate shortly the answers to both key business questions you investigated and overall steps you accomplished in this project.\n",
    "    \n",
    "    \n",
    "    For example:\n",
    "    1. Replaced missing values in the following data with the following method.\n",
    "    2. Replaced data types in the following columns.\n",
    "    3. etc.\n",
    "    4. etc.    \n",
    "\n",
    "    \n",
    "Additionally, I would recommend using structured project formating to keep jupyter notebook neat. For example to keep conclusions after each step as a text in a markdown cell. Here is some useful information regarding how to format text in Jupyter Notebook with Markdown.   \n",
    "    \n",
    "- https://www.markdownguide.org/basic-syntax/\n",
    "- https://www.markdowntutorial.com/"
   ]
  }
 ],
 "metadata": {
  "ExecuteTimeLog": [
   {
    "duration": 2741,
    "start_time": "2021-10-21T01:08:49.480Z"
   },
   {
    "duration": 52,
    "start_time": "2021-10-21T01:08:53.315Z"
   },
   {
    "duration": 49,
    "start_time": "2021-10-21T01:08:57.432Z"
   },
   {
    "duration": 70,
    "start_time": "2021-10-21T01:09:07.706Z"
   },
   {
    "duration": 450,
    "start_time": "2021-12-13T17:08:25.071Z"
   },
   {
    "duration": 1530,
    "start_time": "2021-12-13T17:08:47.613Z"
   },
   {
    "duration": 514,
    "start_time": "2021-12-13T17:08:53.859Z"
   },
   {
    "duration": 331,
    "start_time": "2021-12-13T17:10:32.921Z"
   },
   {
    "duration": 59,
    "start_time": "2021-12-13T17:18:10.708Z"
   },
   {
    "duration": 46,
    "start_time": "2021-12-13T17:20:53.018Z"
   },
   {
    "duration": 18,
    "start_time": "2021-12-13T17:21:46.604Z"
   },
   {
    "duration": 3,
    "start_time": "2021-12-13T17:22:57.382Z"
   },
   {
    "duration": 374,
    "start_time": "2021-12-13T18:02:37.656Z"
   },
   {
    "duration": 387,
    "start_time": "2021-12-13T18:03:02.426Z"
   },
   {
    "duration": 405,
    "start_time": "2021-12-13T18:03:44.463Z"
   },
   {
    "duration": 386,
    "start_time": "2021-12-13T18:03:58.363Z"
   },
   {
    "duration": 402,
    "start_time": "2021-12-13T18:06:00.684Z"
   },
   {
    "duration": 359,
    "start_time": "2021-12-13T18:07:09.181Z"
   },
   {
    "duration": 368,
    "start_time": "2021-12-13T18:07:16.990Z"
   },
   {
    "duration": 442,
    "start_time": "2021-12-13T18:07:55.903Z"
   },
   {
    "duration": 417,
    "start_time": "2021-12-13T18:08:21.714Z"
   },
   {
    "duration": 445,
    "start_time": "2021-12-13T18:09:42.746Z"
   },
   {
    "duration": 460,
    "start_time": "2021-12-13T18:10:07.662Z"
   },
   {
    "duration": 55,
    "start_time": "2021-12-13T18:11:23.023Z"
   },
   {
    "duration": 416,
    "start_time": "2021-12-13T18:12:00.296Z"
   },
   {
    "duration": 30,
    "start_time": "2021-12-13T18:12:05.125Z"
   },
   {
    "duration": 12,
    "start_time": "2021-12-13T18:12:34.797Z"
   },
   {
    "duration": -2712,
    "start_time": "2021-12-13T18:15:01.588Z"
   },
   {
    "duration": -1821,
    "start_time": "2021-12-13T18:15:19.845Z"
   },
   {
    "duration": 9542,
    "start_time": "2021-12-13T18:15:39.420Z"
   },
   {
    "duration": 8,
    "start_time": "2021-12-13T18:16:25.076Z"
   },
   {
    "duration": 392,
    "start_time": "2021-12-13T18:17:14.504Z"
   },
   {
    "duration": 385,
    "start_time": "2021-12-13T18:17:22.099Z"
   },
   {
    "duration": 378,
    "start_time": "2021-12-13T18:17:31.746Z"
   },
   {
    "duration": 27,
    "start_time": "2021-12-13T18:18:16.160Z"
   },
   {
    "duration": 13,
    "start_time": "2021-12-13T18:20:55.400Z"
   },
   {
    "duration": 18,
    "start_time": "2021-12-13T18:22:20.514Z"
   },
   {
    "duration": 13,
    "start_time": "2021-12-13T18:22:42.954Z"
   },
   {
    "duration": 13,
    "start_time": "2021-12-13T18:22:51.659Z"
   },
   {
    "duration": 861,
    "start_time": "2021-12-13T20:48:08.492Z"
   },
   {
    "duration": 370,
    "start_time": "2021-12-13T20:49:24.215Z"
   },
   {
    "duration": 394,
    "start_time": "2021-12-13T20:49:48.968Z"
   },
   {
    "duration": 8,
    "start_time": "2021-12-13T20:52:39.678Z"
   },
   {
    "duration": 386,
    "start_time": "2021-12-13T20:53:40.798Z"
   },
   {
    "duration": 7,
    "start_time": "2021-12-13T20:54:28.560Z"
   },
   {
    "duration": 9,
    "start_time": "2021-12-13T20:55:04.439Z"
   },
   {
    "duration": 7,
    "start_time": "2021-12-13T20:55:14.364Z"
   },
   {
    "duration": 13,
    "start_time": "2021-12-13T20:55:28.767Z"
   },
   {
    "duration": 6,
    "start_time": "2021-12-13T20:55:56.635Z"
   },
   {
    "duration": 12,
    "start_time": "2021-12-13T20:59:28.840Z"
   },
   {
    "duration": 7,
    "start_time": "2021-12-13T21:09:13.305Z"
   },
   {
    "duration": 74,
    "start_time": "2021-12-13T21:14:39.590Z"
   },
   {
    "duration": 18,
    "start_time": "2021-12-13T21:14:46.801Z"
   },
   {
    "duration": 30,
    "start_time": "2021-12-13T21:16:20.114Z"
   },
   {
    "duration": 8,
    "start_time": "2021-12-13T21:16:30.753Z"
   },
   {
    "duration": 7,
    "start_time": "2021-12-13T21:16:34.653Z"
   },
   {
    "duration": 14,
    "start_time": "2021-12-13T21:23:53.121Z"
   },
   {
    "duration": 55,
    "start_time": "2021-12-13T21:27:31.227Z"
   },
   {
    "duration": 411,
    "start_time": "2021-12-13T21:27:36.425Z"
   },
   {
    "duration": 30,
    "start_time": "2021-12-13T21:29:06.165Z"
   },
   {
    "duration": 39,
    "start_time": "2021-12-13T21:30:13.284Z"
   },
   {
    "duration": 32,
    "start_time": "2021-12-13T21:33:00.843Z"
   },
   {
    "duration": 11070,
    "start_time": "2021-12-13T21:39:58.921Z"
   },
   {
    "duration": 32,
    "start_time": "2021-12-13T21:40:20.024Z"
   },
   {
    "duration": 16,
    "start_time": "2021-12-13T21:48:17.648Z"
   },
   {
    "duration": 6,
    "start_time": "2021-12-13T21:48:38.178Z"
   },
   {
    "duration": 8,
    "start_time": "2021-12-13T21:49:00.325Z"
   },
   {
    "duration": 408,
    "start_time": "2021-12-13T21:49:08.310Z"
   },
   {
    "duration": 432,
    "start_time": "2021-12-13T21:49:19.157Z"
   },
   {
    "duration": 366,
    "start_time": "2021-12-13T21:49:39.813Z"
   },
   {
    "duration": 35,
    "start_time": "2021-12-13T21:55:39.479Z"
   },
   {
    "duration": 34,
    "start_time": "2021-12-13T21:55:56.305Z"
   },
   {
    "duration": 37,
    "start_time": "2021-12-13T21:57:38.332Z"
   },
   {
    "duration": 14,
    "start_time": "2021-12-13T21:58:14.473Z"
   },
   {
    "duration": 35,
    "start_time": "2021-12-13T21:59:06.820Z"
   },
   {
    "duration": 363,
    "start_time": "2021-12-13T22:02:02.413Z"
   },
   {
    "duration": 387,
    "start_time": "2021-12-13T22:02:32.811Z"
   },
   {
    "duration": 363,
    "start_time": "2021-12-13T22:02:41.999Z"
   },
   {
    "duration": 37,
    "start_time": "2021-12-13T22:02:53.151Z"
   },
   {
    "duration": 3,
    "start_time": "2021-12-13T22:04:10.445Z"
   },
   {
    "duration": 14,
    "start_time": "2021-12-13T22:08:16.482Z"
   },
   {
    "duration": 6,
    "start_time": "2021-12-13T22:10:15.113Z"
   },
   {
    "duration": 491,
    "start_time": "2021-12-13T22:11:26.755Z"
   },
   {
    "duration": -40,
    "start_time": "2021-12-13T22:11:44.535Z"
   },
   {
    "duration": 136,
    "start_time": "2021-12-13T22:14:51.538Z"
   },
   {
    "duration": 124,
    "start_time": "2021-12-13T22:16:12.342Z"
   },
   {
    "duration": 133,
    "start_time": "2021-12-13T22:16:34.475Z"
   },
   {
    "duration": 134,
    "start_time": "2021-12-13T22:16:52.692Z"
   },
   {
    "duration": 122,
    "start_time": "2021-12-13T22:17:10.969Z"
   },
   {
    "duration": 436,
    "start_time": "2021-12-13T22:17:43.667Z"
   },
   {
    "duration": 1328,
    "start_time": "2021-12-13T22:18:07.850Z"
   },
   {
    "duration": 16,
    "start_time": "2021-12-13T22:18:10.058Z"
   },
   {
    "duration": 30,
    "start_time": "2021-12-13T22:18:12.978Z"
   },
   {
    "duration": 3,
    "start_time": "2021-12-13T22:18:16.112Z"
   },
   {
    "duration": 8,
    "start_time": "2021-12-13T22:18:21.267Z"
   },
   {
    "duration": 7,
    "start_time": "2021-12-13T22:18:28.148Z"
   },
   {
    "duration": 39,
    "start_time": "2021-12-13T22:21:03.834Z"
   },
   {
    "duration": 6,
    "start_time": "2021-12-13T22:23:43.839Z"
   },
   {
    "duration": 7,
    "start_time": "2021-12-13T22:23:55.926Z"
   },
   {
    "duration": 6,
    "start_time": "2021-12-13T22:24:02.136Z"
   },
   {
    "duration": 560,
    "start_time": "2021-12-13T22:25:25.949Z"
   },
   {
    "duration": 7,
    "start_time": "2021-12-13T22:25:35.448Z"
   },
   {
    "duration": 8,
    "start_time": "2021-12-13T22:26:19.157Z"
   },
   {
    "duration": 6,
    "start_time": "2021-12-13T22:26:46.763Z"
   },
   {
    "duration": 477,
    "start_time": "2021-12-14T16:36:54.400Z"
   },
   {
    "duration": 1078,
    "start_time": "2021-12-14T16:37:15.752Z"
   },
   {
    "duration": 11,
    "start_time": "2021-12-14T16:37:17.305Z"
   },
   {
    "duration": 10,
    "start_time": "2021-12-14T16:37:20.266Z"
   },
   {
    "duration": 383,
    "start_time": "2021-12-14T16:37:29.986Z"
   },
   {
    "duration": 5,
    "start_time": "2021-12-14T16:38:45.735Z"
   },
   {
    "duration": 7,
    "start_time": "2021-12-14T16:40:19.372Z"
   },
   {
    "duration": 5,
    "start_time": "2021-12-14T16:40:49.824Z"
   },
   {
    "duration": 6,
    "start_time": "2021-12-14T16:41:00.011Z"
   },
   {
    "duration": 359,
    "start_time": "2021-12-14T16:41:10.809Z"
   },
   {
    "duration": 53,
    "start_time": "2021-12-14T16:48:44.670Z"
   },
   {
    "duration": 399,
    "start_time": "2021-12-14T16:56:41.379Z"
   },
   {
    "duration": 45,
    "start_time": "2021-12-14T16:57:01.286Z"
   },
   {
    "duration": -1290,
    "start_time": "2021-12-14T16:57:38.504Z"
   },
   {
    "duration": 8700,
    "start_time": "2021-12-14T16:57:38.281Z"
   },
   {
    "duration": 16,
    "start_time": "2021-12-14T16:58:25.314Z"
   },
   {
    "duration": 10,
    "start_time": "2021-12-14T16:58:48.611Z"
   },
   {
    "duration": 23,
    "start_time": "2021-12-14T16:59:22.161Z"
   },
   {
    "duration": 169,
    "start_time": "2021-12-14T17:03:15.988Z"
   },
   {
    "duration": 6,
    "start_time": "2021-12-14T17:03:20.309Z"
   },
   {
    "duration": 44,
    "start_time": "2021-12-14T17:06:49.624Z"
   },
   {
    "duration": 430,
    "start_time": "2021-12-14T17:07:02.349Z"
   },
   {
    "duration": 451,
    "start_time": "2021-12-14T17:07:15.269Z"
   },
   {
    "duration": 46,
    "start_time": "2021-12-14T17:07:21.889Z"
   },
   {
    "duration": 46,
    "start_time": "2021-12-14T17:09:23.199Z"
   },
   {
    "duration": 7,
    "start_time": "2021-12-14T17:16:41.339Z"
   },
   {
    "duration": 6,
    "start_time": "2021-12-14T17:18:24.520Z"
   },
   {
    "duration": 125,
    "start_time": "2021-12-14T17:21:24.667Z"
   },
   {
    "duration": 6,
    "start_time": "2021-12-14T17:21:43.391Z"
   },
   {
    "duration": 6,
    "start_time": "2021-12-14T17:22:02.902Z"
   },
   {
    "duration": 7,
    "start_time": "2021-12-14T17:22:26.724Z"
   },
   {
    "duration": 23,
    "start_time": "2021-12-14T17:22:47.659Z"
   },
   {
    "duration": 9402,
    "start_time": "2021-12-14T17:23:55.686Z"
   },
   {
    "duration": 17,
    "start_time": "2021-12-14T17:24:13.390Z"
   },
   {
    "duration": 5,
    "start_time": "2021-12-14T17:26:49.197Z"
   },
   {
    "duration": 26,
    "start_time": "2021-12-14T17:27:04.059Z"
   },
   {
    "duration": 23,
    "start_time": "2021-12-14T17:27:32.167Z"
   },
   {
    "duration": 25,
    "start_time": "2021-12-14T17:27:43.567Z"
   },
   {
    "duration": 22,
    "start_time": "2021-12-14T17:28:00.945Z"
   },
   {
    "duration": 57,
    "start_time": "2021-12-14T17:32:24.021Z"
   },
   {
    "duration": 46,
    "start_time": "2021-12-14T17:32:36.101Z"
   },
   {
    "duration": 60,
    "start_time": "2021-12-14T17:32:46.349Z"
   },
   {
    "duration": 55,
    "start_time": "2021-12-14T17:32:52.965Z"
   },
   {
    "duration": 51,
    "start_time": "2021-12-14T17:33:06.475Z"
   },
   {
    "duration": 68,
    "start_time": "2021-12-14T17:33:34.749Z"
   },
   {
    "duration": 23,
    "start_time": "2021-12-14T17:41:11.122Z"
   },
   {
    "duration": 32,
    "start_time": "2021-12-14T17:42:11.236Z"
   },
   {
    "duration": 5,
    "start_time": "2021-12-14T17:51:59.925Z"
   },
   {
    "duration": 5,
    "start_time": "2021-12-14T17:52:33.106Z"
   },
   {
    "duration": 344,
    "start_time": "2021-12-14T17:55:10.460Z"
   },
   {
    "duration": 10,
    "start_time": "2021-12-14T17:55:29.777Z"
   },
   {
    "duration": 365,
    "start_time": "2021-12-14T17:56:56.669Z"
   },
   {
    "duration": 1461,
    "start_time": "2021-12-14T17:57:00.143Z"
   },
   {
    "duration": 11620,
    "start_time": "2021-12-14T17:57:11.351Z"
   },
   {
    "duration": 654,
    "start_time": "2021-12-14T17:58:36.250Z"
   },
   {
    "duration": 6409,
    "start_time": "2021-12-14T17:58:44.959Z"
   },
   {
    "duration": 6682,
    "start_time": "2021-12-14T17:59:11.254Z"
   },
   {
    "duration": 11905,
    "start_time": "2021-12-14T17:59:21.977Z"
   },
   {
    "duration": 136,
    "start_time": "2021-12-14T17:59:54.558Z"
   },
   {
    "duration": 6825,
    "start_time": "2021-12-14T18:00:06.212Z"
   },
   {
    "duration": 5,
    "start_time": "2021-12-14T18:04:47.849Z"
   },
   {
    "duration": 391,
    "start_time": "2021-12-14T18:05:11.978Z"
   },
   {
    "duration": 339,
    "start_time": "2021-12-14T18:05:16.069Z"
   },
   {
    "duration": 10,
    "start_time": "2021-12-14T18:05:23.731Z"
   },
   {
    "duration": 11,
    "start_time": "2021-12-14T18:05:41.244Z"
   },
   {
    "duration": 11,
    "start_time": "2021-12-14T18:05:46.045Z"
   },
   {
    "duration": 53,
    "start_time": "2021-12-14T18:06:55.065Z"
   },
   {
    "duration": 12,
    "start_time": "2021-12-14T18:07:00.982Z"
   },
   {
    "duration": 44,
    "start_time": "2021-12-14T18:09:32.993Z"
   },
   {
    "duration": 16,
    "start_time": "2021-12-14T18:09:35.837Z"
   },
   {
    "duration": 49,
    "start_time": "2021-12-14T18:34:42.568Z"
   },
   {
    "duration": 69,
    "start_time": "2021-12-14T18:35:02.723Z"
   },
   {
    "duration": 70,
    "start_time": "2021-12-14T18:37:08.529Z"
   },
   {
    "duration": 11,
    "start_time": "2021-12-14T18:37:12.313Z"
   },
   {
    "duration": 55,
    "start_time": "2021-12-14T18:37:43.972Z"
   },
   {
    "duration": 11,
    "start_time": "2021-12-14T18:37:46.725Z"
   },
   {
    "duration": 5,
    "start_time": "2021-12-14T18:37:48.419Z"
   },
   {
    "duration": 2,
    "start_time": "2021-12-14T18:37:52.268Z"
   },
   {
    "duration": 5,
    "start_time": "2021-12-14T18:37:54.163Z"
   },
   {
    "duration": 25,
    "start_time": "2021-12-14T18:37:56.240Z"
   },
   {
    "duration": 21,
    "start_time": "2021-12-14T18:37:58.049Z"
   },
   {
    "duration": 9,
    "start_time": "2021-12-14T18:37:59.875Z"
   },
   {
    "duration": 10,
    "start_time": "2021-12-14T18:38:34.315Z"
   },
   {
    "duration": 13,
    "start_time": "2021-12-14T18:47:44.318Z"
   },
   {
    "duration": 6643,
    "start_time": "2021-12-14T18:50:06.536Z"
   },
   {
    "duration": 6,
    "start_time": "2021-12-14T18:50:22.520Z"
   },
   {
    "duration": 5,
    "start_time": "2021-12-14T18:50:29.027Z"
   },
   {
    "duration": 6,
    "start_time": "2021-12-14T18:50:36.406Z"
   },
   {
    "duration": 6,
    "start_time": "2021-12-14T18:57:57.765Z"
   },
   {
    "duration": 25,
    "start_time": "2021-12-14T18:58:07.571Z"
   },
   {
    "duration": 24,
    "start_time": "2021-12-14T19:00:02.518Z"
   },
   {
    "duration": 55,
    "start_time": "2021-12-14T19:01:13.045Z"
   },
   {
    "duration": 13,
    "start_time": "2021-12-14T19:01:15.421Z"
   },
   {
    "duration": 58,
    "start_time": "2021-12-14T19:02:24.422Z"
   },
   {
    "duration": 10,
    "start_time": "2021-12-14T19:02:25.542Z"
   },
   {
    "duration": 13,
    "start_time": "2021-12-14T19:02:30.655Z"
   },
   {
    "duration": 3,
    "start_time": "2021-12-14T19:02:32.992Z"
   },
   {
    "duration": 6,
    "start_time": "2021-12-14T19:02:36.102Z"
   },
   {
    "duration": 3,
    "start_time": "2021-12-14T19:02:39.955Z"
   },
   {
    "duration": 22,
    "start_time": "2021-12-14T19:02:47.397Z"
   },
   {
    "duration": 10,
    "start_time": "2021-12-14T19:02:48.466Z"
   },
   {
    "duration": 9,
    "start_time": "2021-12-14T19:02:56.793Z"
   },
   {
    "duration": 14,
    "start_time": "2021-12-14T19:04:33.186Z"
   },
   {
    "duration": 9,
    "start_time": "2021-12-14T19:07:06.349Z"
   },
   {
    "duration": 20,
    "start_time": "2021-12-14T19:07:13.164Z"
   },
   {
    "duration": 9,
    "start_time": "2021-12-14T19:07:37.411Z"
   },
   {
    "duration": 109,
    "start_time": "2021-12-14T19:09:44.491Z"
   },
   {
    "duration": 9,
    "start_time": "2021-12-14T19:09:52.484Z"
   },
   {
    "duration": 13,
    "start_time": "2021-12-14T19:10:24.562Z"
   },
   {
    "duration": 66,
    "start_time": "2021-12-14T19:18:05.203Z"
   },
   {
    "duration": 11,
    "start_time": "2021-12-14T19:18:07.004Z"
   },
   {
    "duration": 12,
    "start_time": "2021-12-14T19:18:14.943Z"
   },
   {
    "duration": 2,
    "start_time": "2021-12-14T19:18:16.464Z"
   },
   {
    "duration": 5,
    "start_time": "2021-12-14T19:18:17.811Z"
   },
   {
    "duration": 2,
    "start_time": "2021-12-14T19:18:19.388Z"
   },
   {
    "duration": 3,
    "start_time": "2021-12-14T19:18:20.550Z"
   },
   {
    "duration": 9,
    "start_time": "2021-12-14T19:18:22.208Z"
   },
   {
    "duration": 9,
    "start_time": "2021-12-14T19:18:24.662Z"
   },
   {
    "duration": 2,
    "start_time": "2021-12-14T19:18:27.847Z"
   },
   {
    "duration": 3,
    "start_time": "2021-12-14T19:18:29.653Z"
   },
   {
    "duration": 4,
    "start_time": "2021-12-14T19:48:38.598Z"
   },
   {
    "duration": 10,
    "start_time": "2021-12-14T19:49:32.008Z"
   },
   {
    "duration": 6,
    "start_time": "2021-12-14T19:49:46.059Z"
   },
   {
    "duration": 7,
    "start_time": "2021-12-14T19:55:31.676Z"
   },
   {
    "duration": 357,
    "start_time": "2021-12-14T20:16:06.019Z"
   },
   {
    "duration": 350,
    "start_time": "2021-12-14T20:16:09.990Z"
   },
   {
    "duration": 8,
    "start_time": "2021-12-14T20:16:43.691Z"
   },
   {
    "duration": 343,
    "start_time": "2021-12-14T20:19:28.551Z"
   },
   {
    "duration": 7,
    "start_time": "2021-12-14T20:20:27.931Z"
   },
   {
    "duration": 6,
    "start_time": "2021-12-14T20:20:53.530Z"
   },
   {
    "duration": 11,
    "start_time": "2021-12-14T20:33:02.723Z"
   },
   {
    "duration": 6,
    "start_time": "2021-12-14T20:33:20.123Z"
   },
   {
    "duration": 8,
    "start_time": "2021-12-14T20:33:32.955Z"
   },
   {
    "duration": 350,
    "start_time": "2021-12-14T20:33:49.718Z"
   },
   {
    "duration": 7,
    "start_time": "2021-12-14T20:34:29.235Z"
   },
   {
    "duration": 360,
    "start_time": "2021-12-14T20:34:51.187Z"
   },
   {
    "duration": 6,
    "start_time": "2021-12-14T20:35:01.302Z"
   },
   {
    "duration": 13,
    "start_time": "2021-12-14T20:36:26.634Z"
   },
   {
    "duration": 11,
    "start_time": "2021-12-14T20:36:39.481Z"
   },
   {
    "duration": 6,
    "start_time": "2021-12-14T20:37:45.312Z"
   },
   {
    "duration": 64,
    "start_time": "2021-12-14T20:38:13.762Z"
   },
   {
    "duration": 13,
    "start_time": "2021-12-14T20:38:15.210Z"
   },
   {
    "duration": 13,
    "start_time": "2021-12-14T20:38:38.635Z"
   },
   {
    "duration": 7,
    "start_time": "2021-12-14T20:39:04.311Z"
   },
   {
    "duration": 7,
    "start_time": "2021-12-14T20:41:45.281Z"
   },
   {
    "duration": 6,
    "start_time": "2021-12-14T20:43:41.660Z"
   },
   {
    "duration": 6,
    "start_time": "2021-12-14T20:47:34.675Z"
   },
   {
    "duration": 393,
    "start_time": "2021-12-14T20:53:18.370Z"
   },
   {
    "duration": 5,
    "start_time": "2021-12-14T20:53:30.023Z"
   },
   {
    "duration": 6,
    "start_time": "2021-12-14T20:53:43.723Z"
   },
   {
    "duration": 16,
    "start_time": "2021-12-14T20:54:07.899Z"
   },
   {
    "duration": 11,
    "start_time": "2021-12-14T20:55:45.275Z"
   },
   {
    "duration": 367,
    "start_time": "2021-12-14T20:58:13.103Z"
   },
   {
    "duration": 383,
    "start_time": "2021-12-14T20:58:28.655Z"
   },
   {
    "duration": 349,
    "start_time": "2021-12-14T21:01:15.939Z"
   },
   {
    "duration": 326,
    "start_time": "2021-12-14T21:02:19.697Z"
   },
   {
    "duration": 340,
    "start_time": "2021-12-14T21:03:29.186Z"
   },
   {
    "duration": 343,
    "start_time": "2021-12-14T21:03:51.914Z"
   },
   {
    "duration": 399,
    "start_time": "2021-12-14T21:04:39.521Z"
   },
   {
    "duration": 62,
    "start_time": "2021-12-14T21:04:49.469Z"
   },
   {
    "duration": 11,
    "start_time": "2021-12-14T21:04:50.369Z"
   },
   {
    "duration": 13,
    "start_time": "2021-12-14T21:04:53.481Z"
   },
   {
    "duration": 3,
    "start_time": "2021-12-14T21:04:56.084Z"
   },
   {
    "duration": 5,
    "start_time": "2021-12-14T21:04:57.394Z"
   },
   {
    "duration": 370,
    "start_time": "2021-12-14T21:04:58.718Z"
   },
   {
    "duration": 3,
    "start_time": "2021-12-14T21:05:02.674Z"
   },
   {
    "duration": 10,
    "start_time": "2021-12-14T21:05:03.320Z"
   },
   {
    "duration": 11,
    "start_time": "2021-12-14T21:05:06.243Z"
   },
   {
    "duration": 3,
    "start_time": "2021-12-14T21:05:08.779Z"
   },
   {
    "duration": 2,
    "start_time": "2021-12-14T21:05:10.246Z"
   },
   {
    "duration": 5,
    "start_time": "2021-12-14T21:05:12.328Z"
   },
   {
    "duration": 22,
    "start_time": "2021-12-14T21:05:13.685Z"
   },
   {
    "duration": 16,
    "start_time": "2021-12-14T21:06:40.958Z"
   },
   {
    "duration": 5,
    "start_time": "2021-12-14T21:06:42.327Z"
   },
   {
    "duration": 11,
    "start_time": "2021-12-14T21:06:50.156Z"
   },
   {
    "duration": 21,
    "start_time": "2021-12-14T21:07:25.675Z"
   },
   {
    "duration": 6,
    "start_time": "2021-12-14T21:07:27.031Z"
   },
   {
    "duration": 11,
    "start_time": "2021-12-14T21:07:29.866Z"
   },
   {
    "duration": 19,
    "start_time": "2021-12-14T21:08:10.421Z"
   },
   {
    "duration": 16,
    "start_time": "2021-12-14T21:08:27.526Z"
   },
   {
    "duration": 5,
    "start_time": "2021-12-14T21:15:44.308Z"
   },
   {
    "duration": 6,
    "start_time": "2021-12-14T21:15:51.244Z"
   },
   {
    "duration": 5,
    "start_time": "2021-12-14T21:16:32.567Z"
   },
   {
    "duration": 6,
    "start_time": "2021-12-14T21:17:41.905Z"
   },
   {
    "duration": 11,
    "start_time": "2021-12-14T21:18:32.423Z"
   },
   {
    "duration": 11,
    "start_time": "2021-12-14T21:18:38.049Z"
   },
   {
    "duration": 8,
    "start_time": "2021-12-14T21:19:25.073Z"
   },
   {
    "duration": 16,
    "start_time": "2021-12-14T21:23:31.039Z"
   },
   {
    "duration": 402,
    "start_time": "2021-12-14T21:24:26.088Z"
   },
   {
    "duration": 12,
    "start_time": "2021-12-14T21:24:30.569Z"
   },
   {
    "duration": 6,
    "start_time": "2021-12-14T21:26:46.564Z"
   },
   {
    "duration": 2833,
    "start_time": "2021-12-14T21:27:16.130Z"
   },
   {
    "duration": 2405,
    "start_time": "2021-12-14T21:27:40.893Z"
   },
   {
    "duration": 344,
    "start_time": "2021-12-14T21:28:10.792Z"
   },
   {
    "duration": 350,
    "start_time": "2021-12-14T21:28:32.476Z"
   },
   {
    "duration": 343,
    "start_time": "2021-12-14T21:28:39.681Z"
   },
   {
    "duration": 5,
    "start_time": "2021-12-14T21:33:53.086Z"
   },
   {
    "duration": 18,
    "start_time": "2021-12-14T21:34:05.113Z"
   },
   {
    "duration": 356,
    "start_time": "2021-12-14T21:34:57.615Z"
   },
   {
    "duration": 6,
    "start_time": "2021-12-14T21:35:15.277Z"
   },
   {
    "duration": 8,
    "start_time": "2021-12-14T21:37:10.818Z"
   },
   {
    "duration": 12,
    "start_time": "2021-12-14T21:37:58.362Z"
   },
   {
    "duration": 358,
    "start_time": "2021-12-14T21:38:04.026Z"
   },
   {
    "duration": 11,
    "start_time": "2021-12-14T21:38:09.274Z"
   },
   {
    "duration": 11,
    "start_time": "2021-12-14T21:38:16.232Z"
   },
   {
    "duration": 9,
    "start_time": "2021-12-14T21:38:30.401Z"
   },
   {
    "duration": 11,
    "start_time": "2021-12-14T21:38:53.406Z"
   },
   {
    "duration": 6,
    "start_time": "2021-12-14T21:40:35.336Z"
   },
   {
    "duration": 3,
    "start_time": "2021-12-14T21:40:41.752Z"
   },
   {
    "duration": 2,
    "start_time": "2021-12-14T21:40:55.195Z"
   },
   {
    "duration": 6,
    "start_time": "2021-12-14T21:41:31.640Z"
   },
   {
    "duration": 7,
    "start_time": "2021-12-14T21:42:42.811Z"
   },
   {
    "duration": 2,
    "start_time": "2021-12-14T21:42:45.072Z"
   },
   {
    "duration": 8,
    "start_time": "2021-12-14T21:48:42.736Z"
   },
   {
    "duration": 335,
    "start_time": "2021-12-14T21:50:12.941Z"
   },
   {
    "duration": 31,
    "start_time": "2021-12-14T21:50:17.592Z"
   },
   {
    "duration": 31,
    "start_time": "2021-12-14T21:50:24.547Z"
   },
   {
    "duration": 342,
    "start_time": "2021-12-14T21:53:15.341Z"
   },
   {
    "duration": 343,
    "start_time": "2021-12-14T21:53:20.072Z"
   },
   {
    "duration": 8,
    "start_time": "2021-12-14T21:53:25.801Z"
   },
   {
    "duration": 114,
    "start_time": "2021-12-14T21:56:30.042Z"
   },
   {
    "duration": 6,
    "start_time": "2021-12-14T21:56:35.707Z"
   },
   {
    "duration": 5,
    "start_time": "2021-12-14T21:56:54.280Z"
   },
   {
    "duration": 5,
    "start_time": "2021-12-14T22:00:32.123Z"
   },
   {
    "duration": 5,
    "start_time": "2021-12-14T22:01:33.747Z"
   },
   {
    "duration": 8,
    "start_time": "2021-12-14T22:01:42.104Z"
   },
   {
    "duration": 6,
    "start_time": "2021-12-14T22:02:33.214Z"
   },
   {
    "duration": 5,
    "start_time": "2021-12-14T22:02:49.468Z"
   },
   {
    "duration": 8,
    "start_time": "2021-12-14T22:03:09.300Z"
   },
   {
    "duration": 7,
    "start_time": "2021-12-14T22:04:46.289Z"
   },
   {
    "duration": 6,
    "start_time": "2021-12-14T22:04:53.174Z"
   },
   {
    "duration": 6,
    "start_time": "2021-12-14T22:05:09.523Z"
   },
   {
    "duration": 9,
    "start_time": "2021-12-14T22:06:00.844Z"
   },
   {
    "duration": 6,
    "start_time": "2021-12-14T22:08:36.576Z"
   },
   {
    "duration": 5,
    "start_time": "2021-12-14T22:08:54.152Z"
   },
   {
    "duration": 356,
    "start_time": "2021-12-14T22:10:13.392Z"
   },
   {
    "duration": 123,
    "start_time": "2021-12-14T22:10:25.662Z"
   },
   {
    "duration": 113,
    "start_time": "2021-12-14T22:10:58.808Z"
   },
   {
    "duration": 110,
    "start_time": "2021-12-14T22:11:19.133Z"
   },
   {
    "duration": 5,
    "start_time": "2021-12-14T22:11:26.319Z"
   },
   {
    "duration": 9,
    "start_time": "2021-12-14T22:15:06.737Z"
   },
   {
    "duration": 14,
    "start_time": "2021-12-14T22:15:28.404Z"
   },
   {
    "duration": 9,
    "start_time": "2021-12-14T22:16:13.172Z"
   },
   {
    "duration": 354,
    "start_time": "2021-12-14T22:17:50.239Z"
   },
   {
    "duration": 353,
    "start_time": "2021-12-14T22:17:55.031Z"
   },
   {
    "duration": 359,
    "start_time": "2021-12-14T22:19:22.259Z"
   },
   {
    "duration": 8,
    "start_time": "2021-12-14T22:20:04.264Z"
   },
   {
    "duration": 8,
    "start_time": "2021-12-14T22:20:37.488Z"
   },
   {
    "duration": 123,
    "start_time": "2021-12-14T22:22:04.196Z"
   },
   {
    "duration": 137,
    "start_time": "2021-12-14T22:22:13.082Z"
   },
   {
    "duration": 109,
    "start_time": "2021-12-14T22:22:26.226Z"
   },
   {
    "duration": 127,
    "start_time": "2021-12-14T22:25:26.031Z"
   },
   {
    "duration": 131,
    "start_time": "2021-12-14T22:25:44.856Z"
   },
   {
    "duration": 8,
    "start_time": "2021-12-14T22:26:05.782Z"
   },
   {
    "duration": 127,
    "start_time": "2021-12-14T22:26:30.857Z"
   },
   {
    "duration": 4,
    "start_time": "2021-12-14T22:26:43.328Z"
   },
   {
    "duration": 4,
    "start_time": "2021-12-14T22:26:46.412Z"
   },
   {
    "duration": 5,
    "start_time": "2021-12-14T22:26:49.177Z"
   },
   {
    "duration": 2,
    "start_time": "2021-12-14T22:26:50.326Z"
   },
   {
    "duration": 6,
    "start_time": "2021-12-14T22:27:07.225Z"
   },
   {
    "duration": 352,
    "start_time": "2021-12-14T22:27:29.807Z"
   },
   {
    "duration": -731,
    "start_time": "2021-12-14T22:27:43.815Z"
   },
   {
    "duration": -703,
    "start_time": "2021-12-14T22:28:11.884Z"
   },
   {
    "duration": -708,
    "start_time": "2021-12-14T22:28:11.890Z"
   },
   {
    "duration": -710,
    "start_time": "2021-12-14T22:28:22.111Z"
   },
   {
    "duration": 7069,
    "start_time": "2021-12-14T22:28:41.145Z"
   },
   {
    "duration": -838,
    "start_time": "2021-12-14T22:28:49.055Z"
   },
   {
    "duration": -725,
    "start_time": "2021-12-14T22:29:11.422Z"
   },
   {
    "duration": 359,
    "start_time": "2021-12-14T22:29:41.097Z"
   },
   {
    "duration": 411,
    "start_time": "2021-12-14T22:29:43.514Z"
   },
   {
    "duration": 113,
    "start_time": "2021-12-14T22:30:03.959Z"
   },
   {
    "duration": 4,
    "start_time": "2021-12-14T22:30:09.645Z"
   },
   {
    "duration": 6479,
    "start_time": "2021-12-14T22:30:39.827Z"
   },
   {
    "duration": 350,
    "start_time": "2021-12-14T22:31:43.365Z"
   },
   {
    "duration": 6,
    "start_time": "2021-12-14T22:32:20.470Z"
   },
   {
    "duration": 107,
    "start_time": "2021-12-14T22:32:52.261Z"
   },
   {
    "duration": 104,
    "start_time": "2021-12-14T22:33:00.444Z"
   },
   {
    "duration": 122,
    "start_time": "2021-12-14T22:33:07.870Z"
   },
   {
    "duration": 345,
    "start_time": "2021-12-14T22:33:14.776Z"
   },
   {
    "duration": 27,
    "start_time": "2021-12-14T22:33:22.146Z"
   },
   {
    "duration": 16,
    "start_time": "2021-12-14T22:33:47.631Z"
   },
   {
    "duration": 10,
    "start_time": "2021-12-14T22:33:56.513Z"
   },
   {
    "duration": 15,
    "start_time": "2021-12-14T22:34:01.072Z"
   },
   {
    "duration": 7,
    "start_time": "2021-12-14T22:41:19.287Z"
   },
   {
    "duration": 6,
    "start_time": "2021-12-14T22:41:43.302Z"
   },
   {
    "duration": 6,
    "start_time": "2021-12-14T22:42:10.080Z"
   },
   {
    "duration": 9,
    "start_time": "2021-12-14T22:45:05.982Z"
   },
   {
    "duration": 531,
    "start_time": "2021-12-15T15:04:45.319Z"
   },
   {
    "duration": 1387,
    "start_time": "2021-12-15T15:05:04.119Z"
   },
   {
    "duration": 15,
    "start_time": "2021-12-15T15:05:05.617Z"
   },
   {
    "duration": 3,
    "start_time": "2021-12-15T15:05:08.356Z"
   },
   {
    "duration": 4,
    "start_time": "2021-12-15T15:05:10.741Z"
   },
   {
    "duration": 16,
    "start_time": "2021-12-15T15:05:16.446Z"
   },
   {
    "duration": 3,
    "start_time": "2021-12-15T15:05:18.390Z"
   },
   {
    "duration": 4,
    "start_time": "2021-12-15T15:05:23.234Z"
   },
   {
    "duration": 429,
    "start_time": "2021-12-15T15:05:24.348Z"
   },
   {
    "duration": 47,
    "start_time": "2021-12-15T15:05:59.093Z"
   },
   {
    "duration": 1164,
    "start_time": "2021-12-15T15:06:31.278Z"
   },
   {
    "duration": 609,
    "start_time": "2021-12-15T15:06:34.855Z"
   },
   {
    "duration": 377,
    "start_time": "2021-12-15T15:07:03.717Z"
   },
   {
    "duration": 11,
    "start_time": "2021-12-15T15:07:11.409Z"
   },
   {
    "duration": 18,
    "start_time": "2021-12-15T15:07:21.158Z"
   },
   {
    "duration": 9,
    "start_time": "2021-12-15T15:09:31.429Z"
   },
   {
    "duration": -1822,
    "start_time": "2021-12-15T15:28:53.659Z"
   },
   {
    "duration": 11,
    "start_time": "2021-12-15T15:31:14.969Z"
   },
   {
    "duration": 12,
    "start_time": "2021-12-15T15:42:16.392Z"
   },
   {
    "duration": 34,
    "start_time": "2021-12-15T15:42:43.632Z"
   },
   {
    "duration": 12,
    "start_time": "2021-12-15T15:42:49.797Z"
   },
   {
    "duration": 9,
    "start_time": "2021-12-15T15:43:00.460Z"
   },
   {
    "duration": 9,
    "start_time": "2021-12-15T15:46:31.087Z"
   },
   {
    "duration": 7,
    "start_time": "2021-12-15T15:47:04.518Z"
   },
   {
    "duration": 12,
    "start_time": "2021-12-15T15:49:22.356Z"
   },
   {
    "duration": 125,
    "start_time": "2021-12-15T15:57:23.135Z"
   },
   {
    "duration": 12,
    "start_time": "2021-12-15T15:57:32.431Z"
   },
   {
    "duration": 14,
    "start_time": "2021-12-15T15:57:53.785Z"
   },
   {
    "duration": 12,
    "start_time": "2021-12-15T15:58:46.127Z"
   },
   {
    "duration": 12,
    "start_time": "2021-12-15T15:59:48.896Z"
   },
   {
    "duration": 12,
    "start_time": "2021-12-15T16:02:09.925Z"
   },
   {
    "duration": 12,
    "start_time": "2021-12-15T16:03:17.754Z"
   },
   {
    "duration": 13,
    "start_time": "2021-12-15T16:03:42.948Z"
   },
   {
    "duration": 10,
    "start_time": "2021-12-15T16:04:08.124Z"
   },
   {
    "duration": 12,
    "start_time": "2021-12-15T16:07:08.904Z"
   },
   {
    "duration": 3012,
    "start_time": "2021-12-15T16:07:28.920Z"
   },
   {
    "duration": 8,
    "start_time": "2021-12-15T16:07:53.608Z"
   },
   {
    "duration": 12,
    "start_time": "2021-12-15T16:08:43.090Z"
   },
   {
    "duration": 30,
    "start_time": "2021-12-15T16:10:59.524Z"
   },
   {
    "duration": 27,
    "start_time": "2021-12-15T16:11:08.853Z"
   },
   {
    "duration": 399,
    "start_time": "2021-12-15T16:12:53.532Z"
   },
   {
    "duration": 435,
    "start_time": "2021-12-15T16:13:00.532Z"
   },
   {
    "duration": 3,
    "start_time": "2021-12-15T16:13:35.087Z"
   },
   {
    "duration": 9,
    "start_time": "2021-12-15T16:13:38.322Z"
   },
   {
    "duration": 19,
    "start_time": "2021-12-15T16:16:41.508Z"
   },
   {
    "duration": 14,
    "start_time": "2021-12-15T16:17:38.046Z"
   },
   {
    "duration": 8,
    "start_time": "2021-12-15T16:20:18.300Z"
   },
   {
    "duration": 37,
    "start_time": "2021-12-15T16:22:44.931Z"
   },
   {
    "duration": 8,
    "start_time": "2021-12-15T16:22:45.980Z"
   },
   {
    "duration": 11,
    "start_time": "2021-12-15T16:22:49.616Z"
   },
   {
    "duration": 4,
    "start_time": "2021-12-15T16:22:51.340Z"
   },
   {
    "duration": 6,
    "start_time": "2021-12-15T16:22:55.752Z"
   },
   {
    "duration": 8,
    "start_time": "2021-12-15T16:22:58.659Z"
   },
   {
    "duration": 13,
    "start_time": "2021-12-15T16:23:24.590Z"
   },
   {
    "duration": 10,
    "start_time": "2021-12-15T16:23:31.932Z"
   },
   {
    "duration": 419,
    "start_time": "2021-12-15T16:26:57.578Z"
   },
   {
    "duration": 444,
    "start_time": "2021-12-15T16:28:31.245Z"
   },
   {
    "duration": 477,
    "start_time": "2021-12-15T16:28:45.824Z"
   },
   {
    "duration": 461,
    "start_time": "2021-12-15T16:29:30.797Z"
   },
   {
    "duration": 1293,
    "start_time": "2021-12-15T16:30:29.972Z"
   },
   {
    "duration": 696,
    "start_time": "2021-12-15T16:30:40.016Z"
   },
   {
    "duration": 381,
    "start_time": "2021-12-15T16:31:25.798Z"
   },
   {
    "duration": 152,
    "start_time": "2021-12-15T16:32:30.735Z"
   },
   {
    "duration": 120,
    "start_time": "2021-12-15T16:32:47.690Z"
   },
   {
    "duration": 8,
    "start_time": "2021-12-15T16:32:56.163Z"
   },
   {
    "duration": 9,
    "start_time": "2021-12-15T16:33:53.746Z"
   },
   {
    "duration": 7,
    "start_time": "2021-12-15T16:34:00.751Z"
   },
   {
    "duration": 6,
    "start_time": "2021-12-15T16:43:53.677Z"
   },
   {
    "duration": 481,
    "start_time": "2021-12-15T16:51:04.789Z"
   },
   {
    "duration": 6,
    "start_time": "2021-12-15T16:55:09.158Z"
   },
   {
    "duration": 392,
    "start_time": "2021-12-15T16:55:20.112Z"
   },
   {
    "duration": 382,
    "start_time": "2021-12-15T16:55:39.305Z"
   },
   {
    "duration": 436,
    "start_time": "2021-12-15T16:56:30.857Z"
   },
   {
    "duration": 455,
    "start_time": "2021-12-15T17:00:21.167Z"
   },
   {
    "duration": 483,
    "start_time": "2021-12-15T17:03:15.413Z"
   },
   {
    "duration": 497,
    "start_time": "2021-12-15T17:03:33.886Z"
   },
   {
    "duration": 1141,
    "start_time": "2021-12-15T17:04:23.735Z"
   },
   {
    "duration": 567,
    "start_time": "2021-12-15T17:04:38.617Z"
   },
   {
    "duration": 1949,
    "start_time": "2021-12-15T17:06:17.712Z"
   },
   {
    "duration": 77,
    "start_time": "2021-12-15T17:06:51.888Z"
   },
   {
    "duration": 14,
    "start_time": "2021-12-15T17:06:53.337Z"
   },
   {
    "duration": 2,
    "start_time": "2021-12-15T17:06:54.814Z"
   },
   {
    "duration": 3,
    "start_time": "2021-12-15T17:06:57.226Z"
   },
   {
    "duration": 14,
    "start_time": "2021-12-15T17:07:04.445Z"
   },
   {
    "duration": 2,
    "start_time": "2021-12-15T17:07:05.616Z"
   },
   {
    "duration": 20,
    "start_time": "2021-12-15T17:07:09.893Z"
   },
   {
    "duration": 9,
    "start_time": "2021-12-15T17:07:26.203Z"
   },
   {
    "duration": 9,
    "start_time": "2021-12-15T17:07:28.673Z"
   },
   {
    "duration": 3,
    "start_time": "2021-12-15T17:07:34.141Z"
   },
   {
    "duration": 68,
    "start_time": "2021-12-15T17:07:55.128Z"
   },
   {
    "duration": 16,
    "start_time": "2021-12-15T17:08:01.254Z"
   },
   {
    "duration": 12,
    "start_time": "2021-12-15T17:08:05.686Z"
   },
   {
    "duration": 3,
    "start_time": "2021-12-15T17:08:18.315Z"
   },
   {
    "duration": 7,
    "start_time": "2021-12-15T17:08:24.924Z"
   },
   {
    "duration": 35,
    "start_time": "2021-12-15T17:08:25.751Z"
   },
   {
    "duration": 6,
    "start_time": "2021-12-15T17:08:26.534Z"
   },
   {
    "duration": 11,
    "start_time": "2021-12-15T17:08:30.911Z"
   },
   {
    "duration": 6,
    "start_time": "2021-12-15T17:08:48.129Z"
   },
   {
    "duration": 6,
    "start_time": "2021-12-15T17:08:52.216Z"
   },
   {
    "duration": 1488,
    "start_time": "2021-12-15T17:10:17.911Z"
   },
   {
    "duration": 1488,
    "start_time": "2021-12-15T17:11:07.415Z"
   },
   {
    "duration": 13,
    "start_time": "2021-12-15T17:11:23.667Z"
   },
   {
    "duration": 383,
    "start_time": "2021-12-15T17:13:27.228Z"
   },
   {
    "duration": 417,
    "start_time": "2021-12-15T17:15:33.867Z"
   },
   {
    "duration": 478,
    "start_time": "2021-12-15T17:19:51.689Z"
   },
   {
    "duration": 467,
    "start_time": "2021-12-15T17:21:17.077Z"
   },
   {
    "duration": 79,
    "start_time": "2021-12-15T17:21:41.608Z"
   },
   {
    "duration": 14,
    "start_time": "2021-12-15T17:21:42.457Z"
   },
   {
    "duration": 19,
    "start_time": "2021-12-15T17:21:45.177Z"
   },
   {
    "duration": 4,
    "start_time": "2021-12-15T17:21:47.321Z"
   },
   {
    "duration": 8,
    "start_time": "2021-12-15T17:21:48.640Z"
   },
   {
    "duration": 10,
    "start_time": "2021-12-15T17:21:50.476Z"
   },
   {
    "duration": 3,
    "start_time": "2021-12-15T17:21:52.319Z"
   },
   {
    "duration": 3,
    "start_time": "2021-12-15T17:21:52.924Z"
   },
   {
    "duration": 53,
    "start_time": "2021-12-15T17:21:54.309Z"
   },
   {
    "duration": 14,
    "start_time": "2021-12-15T17:21:58.407Z"
   },
   {
    "duration": 4,
    "start_time": "2021-12-15T17:22:02.436Z"
   },
   {
    "duration": 6,
    "start_time": "2021-12-15T17:22:09.337Z"
   },
   {
    "duration": 36,
    "start_time": "2021-12-15T17:22:09.903Z"
   },
   {
    "duration": 7,
    "start_time": "2021-12-15T17:22:10.512Z"
   },
   {
    "duration": 12,
    "start_time": "2021-12-15T17:22:11.754Z"
   },
   {
    "duration": 5,
    "start_time": "2021-12-15T17:22:13.823Z"
   },
   {
    "duration": 7,
    "start_time": "2021-12-15T17:22:14.551Z"
   },
   {
    "duration": 7,
    "start_time": "2021-12-15T17:22:53.412Z"
   },
   {
    "duration": 7,
    "start_time": "2021-12-15T17:23:12.280Z"
   },
   {
    "duration": 7,
    "start_time": "2021-12-15T17:23:25.299Z"
   },
   {
    "duration": 8,
    "start_time": "2021-12-15T17:23:31.962Z"
   },
   {
    "duration": 391,
    "start_time": "2021-12-15T17:24:49.284Z"
   },
   {
    "duration": 381,
    "start_time": "2021-12-15T17:24:57.623Z"
   },
   {
    "duration": 386,
    "start_time": "2021-12-15T17:27:20.450Z"
   },
   {
    "duration": 396,
    "start_time": "2021-12-15T17:27:49.674Z"
   },
   {
    "duration": 700,
    "start_time": "2021-12-15T17:29:50.583Z"
   },
   {
    "duration": 430,
    "start_time": "2021-12-15T17:38:54.728Z"
   },
   {
    "duration": 662,
    "start_time": "2021-12-15T17:39:35.851Z"
   },
   {
    "duration": 414,
    "start_time": "2021-12-15T17:42:32.050Z"
   },
   {
    "duration": 18,
    "start_time": "2021-12-15T18:34:08.350Z"
   },
   {
    "duration": 8,
    "start_time": "2021-12-15T18:35:20.311Z"
   },
   {
    "duration": 21,
    "start_time": "2021-12-15T18:38:55.198Z"
   },
   {
    "duration": 15,
    "start_time": "2021-12-15T18:39:09.847Z"
   },
   {
    "duration": 14,
    "start_time": "2021-12-15T18:41:54.736Z"
   },
   {
    "duration": 158,
    "start_time": "2021-12-15T18:50:10.481Z"
   },
   {
    "duration": 113,
    "start_time": "2021-12-15T18:50:17.049Z"
   },
   {
    "duration": 264,
    "start_time": "2021-12-15T18:50:23.128Z"
   },
   {
    "duration": 5,
    "start_time": "2021-12-15T18:50:28.728Z"
   },
   {
    "duration": 9,
    "start_time": "2021-12-15T18:51:40.308Z"
   },
   {
    "duration": 10,
    "start_time": "2021-12-15T18:51:58.415Z"
   },
   {
    "duration": 11,
    "start_time": "2021-12-15T18:52:15.948Z"
   },
   {
    "duration": 6,
    "start_time": "2021-12-15T18:53:00.334Z"
   },
   {
    "duration": 9,
    "start_time": "2021-12-15T18:54:03.642Z"
   },
   {
    "duration": 6,
    "start_time": "2021-12-15T18:54:14.579Z"
   },
   {
    "duration": 77,
    "start_time": "2021-12-15T18:54:47.197Z"
   },
   {
    "duration": 19,
    "start_time": "2021-12-15T18:54:48.103Z"
   },
   {
    "duration": 19,
    "start_time": "2021-12-15T18:54:49.369Z"
   },
   {
    "duration": 4,
    "start_time": "2021-12-15T18:54:51.040Z"
   },
   {
    "duration": 8,
    "start_time": "2021-12-15T18:54:52.178Z"
   },
   {
    "duration": 15,
    "start_time": "2021-12-15T18:54:54.129Z"
   },
   {
    "duration": 3,
    "start_time": "2021-12-15T18:54:56.233Z"
   },
   {
    "duration": 3,
    "start_time": "2021-12-15T18:54:56.865Z"
   },
   {
    "duration": 49,
    "start_time": "2021-12-15T18:54:58.291Z"
   },
   {
    "duration": 13,
    "start_time": "2021-12-15T18:55:01.149Z"
   },
   {
    "duration": 4,
    "start_time": "2021-12-15T18:55:03.064Z"
   },
   {
    "duration": 7,
    "start_time": "2021-12-15T18:55:08.152Z"
   },
   {
    "duration": 35,
    "start_time": "2021-12-15T18:55:08.807Z"
   },
   {
    "duration": 7,
    "start_time": "2021-12-15T18:55:09.419Z"
   },
   {
    "duration": 12,
    "start_time": "2021-12-15T18:55:10.743Z"
   },
   {
    "duration": 5,
    "start_time": "2021-12-15T18:55:12.157Z"
   },
   {
    "duration": 6,
    "start_time": "2021-12-15T18:55:14.668Z"
   },
   {
    "duration": 7,
    "start_time": "2021-12-15T18:55:16.288Z"
   },
   {
    "duration": 8,
    "start_time": "2021-12-15T18:55:48.903Z"
   },
   {
    "duration": 8,
    "start_time": "2021-12-15T18:57:34.480Z"
   },
   {
    "duration": 6,
    "start_time": "2021-12-15T20:14:59.853Z"
   },
   {
    "duration": 153,
    "start_time": "2021-12-15T20:22:30.362Z"
   },
   {
    "duration": 469,
    "start_time": "2021-12-15T20:22:35.339Z"
   },
   {
    "duration": 490,
    "start_time": "2021-12-15T20:23:40.863Z"
   },
   {
    "duration": 391,
    "start_time": "2021-12-15T20:31:02.149Z"
   },
   {
    "duration": 7,
    "start_time": "2021-12-15T20:47:22.714Z"
   },
   {
    "duration": 7,
    "start_time": "2021-12-15T20:47:32.567Z"
   },
   {
    "duration": 9,
    "start_time": "2021-12-15T20:47:40.137Z"
   },
   {
    "duration": 7,
    "start_time": "2021-12-15T20:47:55.649Z"
   },
   {
    "duration": 8,
    "start_time": "2021-12-15T20:48:04.964Z"
   },
   {
    "duration": 6,
    "start_time": "2021-12-15T20:48:35.513Z"
   },
   {
    "duration": 503,
    "start_time": "2021-12-15T20:48:48.248Z"
   },
   {
    "duration": 12,
    "start_time": "2021-12-15T20:48:52.877Z"
   },
   {
    "duration": 8,
    "start_time": "2021-12-15T20:48:57.567Z"
   },
   {
    "duration": 424,
    "start_time": "2021-12-15T20:50:44.453Z"
   },
   {
    "duration": 387,
    "start_time": "2021-12-15T20:51:03.765Z"
   },
   {
    "duration": 37,
    "start_time": "2021-12-15T20:51:15.117Z"
   },
   {
    "duration": 14,
    "start_time": "2021-12-15T20:51:25.261Z"
   },
   {
    "duration": 23,
    "start_time": "2021-12-15T20:52:14.585Z"
   },
   {
    "duration": 15,
    "start_time": "2021-12-15T20:52:43.607Z"
   },
   {
    "duration": 16,
    "start_time": "2021-12-15T20:53:08.370Z"
   },
   {
    "duration": 57,
    "start_time": "2021-12-15T20:54:33.260Z"
   },
   {
    "duration": 24,
    "start_time": "2021-12-15T20:54:45.801Z"
   },
   {
    "duration": 24,
    "start_time": "2021-12-15T20:55:40.282Z"
   },
   {
    "duration": 13,
    "start_time": "2021-12-15T20:56:34.663Z"
   },
   {
    "duration": 433,
    "start_time": "2021-12-15T20:57:10.583Z"
   },
   {
    "duration": 13,
    "start_time": "2021-12-15T20:57:15.248Z"
   },
   {
    "duration": 7,
    "start_time": "2021-12-15T20:57:27.810Z"
   },
   {
    "duration": 7,
    "start_time": "2021-12-15T20:57:37.763Z"
   },
   {
    "duration": 121,
    "start_time": "2021-12-15T21:08:32.243Z"
   },
   {
    "duration": 24,
    "start_time": "2021-12-15T21:08:37.768Z"
   },
   {
    "duration": 3,
    "start_time": "2021-12-15T21:42:47.270Z"
   },
   {
    "duration": 366,
    "start_time": "2021-12-15T21:45:12.959Z"
   },
   {
    "duration": 12,
    "start_time": "2021-12-15T21:45:17.419Z"
   },
   {
    "duration": 288,
    "start_time": "2021-12-16T15:19:21.453Z"
   },
   {
    "duration": 253,
    "start_time": "2021-12-16T15:19:34.966Z"
   },
   {
    "duration": 92,
    "start_time": "2021-12-16T15:20:00.805Z"
   },
   {
    "duration": 280,
    "start_time": "2021-12-16T15:20:09.558Z"
   },
   {
    "duration": 754,
    "start_time": "2021-12-16T15:20:19.683Z"
   },
   {
    "duration": 11,
    "start_time": "2021-12-16T15:20:20.889Z"
   },
   {
    "duration": 18,
    "start_time": "2021-12-16T15:20:23.541Z"
   },
   {
    "duration": 3,
    "start_time": "2021-12-16T15:20:25.653Z"
   },
   {
    "duration": 8,
    "start_time": "2021-12-16T15:20:27.015Z"
   },
   {
    "duration": 12,
    "start_time": "2021-12-16T15:20:28.937Z"
   },
   {
    "duration": 3,
    "start_time": "2021-12-16T15:20:33.701Z"
   },
   {
    "duration": 3,
    "start_time": "2021-12-16T15:20:34.218Z"
   },
   {
    "duration": 32,
    "start_time": "2021-12-16T15:20:42.478Z"
   },
   {
    "duration": 9,
    "start_time": "2021-12-16T15:20:59.134Z"
   },
   {
    "duration": 2,
    "start_time": "2021-12-16T15:21:02.251Z"
   },
   {
    "duration": 5,
    "start_time": "2021-12-16T15:21:05.263Z"
   },
   {
    "duration": 25,
    "start_time": "2021-12-16T15:21:06.229Z"
   },
   {
    "duration": 5,
    "start_time": "2021-12-16T15:21:07.030Z"
   },
   {
    "duration": 9,
    "start_time": "2021-12-16T15:21:08.890Z"
   },
   {
    "duration": 4,
    "start_time": "2021-12-16T15:21:13.045Z"
   },
   {
    "duration": 6,
    "start_time": "2021-12-16T15:21:32.216Z"
   },
   {
    "duration": 5,
    "start_time": "2021-12-16T15:21:36.544Z"
   },
   {
    "duration": 290,
    "start_time": "2021-12-16T15:21:47.725Z"
   },
   {
    "duration": 91,
    "start_time": "2021-12-16T15:22:03.529Z"
   },
   {
    "duration": 4,
    "start_time": "2021-12-16T15:22:10.565Z"
   },
   {
    "duration": 9,
    "start_time": "2021-12-16T15:22:21.606Z"
   },
   {
    "duration": 10,
    "start_time": "2021-12-16T15:22:22.467Z"
   },
   {
    "duration": 7,
    "start_time": "2021-12-16T15:22:51.228Z"
   },
   {
    "duration": 6,
    "start_time": "2021-12-16T15:23:19.335Z"
   },
   {
    "duration": 2,
    "start_time": "2021-12-16T15:23:21.500Z"
   },
   {
    "duration": 9,
    "start_time": "2021-12-16T15:23:38.967Z"
   },
   {
    "duration": 5,
    "start_time": "2021-12-16T15:23:52.461Z"
   },
   {
    "duration": 11,
    "start_time": "2021-12-16T15:24:32.792Z"
   },
   {
    "duration": 8,
    "start_time": "2021-12-16T15:25:05.142Z"
   },
   {
    "duration": 15,
    "start_time": "2021-12-16T15:25:30.744Z"
   },
   {
    "duration": 6,
    "start_time": "2021-12-16T15:36:01.675Z"
   },
   {
    "duration": 4,
    "start_time": "2021-12-16T15:36:24.373Z"
   },
   {
    "duration": 20,
    "start_time": "2021-12-16T15:38:51.115Z"
   },
   {
    "duration": 7,
    "start_time": "2021-12-16T15:40:44.122Z"
   },
   {
    "duration": 9,
    "start_time": "2021-12-16T15:40:56.573Z"
   },
   {
    "duration": 8,
    "start_time": "2021-12-16T15:41:25.289Z"
   },
   {
    "duration": 314,
    "start_time": "2021-12-16T15:43:30.885Z"
   },
   {
    "duration": 280,
    "start_time": "2021-12-16T15:43:44.044Z"
   },
   {
    "duration": 6,
    "start_time": "2021-12-16T15:43:49.125Z"
   },
   {
    "duration": 5,
    "start_time": "2021-12-16T15:44:18.278Z"
   },
   {
    "duration": -627,
    "start_time": "2021-12-16T16:19:15.541Z"
   },
   {
    "duration": 6883,
    "start_time": "2021-12-16T16:19:21.790Z"
   },
   {
    "duration": 14,
    "start_time": "2021-12-16T16:20:16.112Z"
   },
   {
    "duration": 12,
    "start_time": "2021-12-16T16:20:22.109Z"
   },
   {
    "duration": 5,
    "start_time": "2021-12-16T16:24:45.976Z"
   },
   {
    "duration": 4,
    "start_time": "2021-12-16T16:24:53.081Z"
   },
   {
    "duration": 29,
    "start_time": "2021-12-16T16:28:11.907Z"
   },
   {
    "duration": 10,
    "start_time": "2021-12-16T16:36:38.569Z"
   },
   {
    "duration": 95,
    "start_time": "2021-12-16T16:36:45.799Z"
   },
   {
    "duration": 245,
    "start_time": "2021-12-16T16:36:50.344Z"
   },
   {
    "duration": 265,
    "start_time": "2021-12-16T16:37:30.508Z"
   },
   {
    "duration": 20,
    "start_time": "2021-12-16T16:47:56.776Z"
   },
   {
    "duration": 6,
    "start_time": "2021-12-16T16:49:11.470Z"
   },
   {
    "duration": 84,
    "start_time": "2021-12-16T16:49:31.105Z"
   },
   {
    "duration": 5,
    "start_time": "2021-12-16T16:49:36.545Z"
   },
   {
    "duration": 8,
    "start_time": "2021-12-16T16:52:37.115Z"
   },
   {
    "duration": 601,
    "start_time": "2021-12-16T16:59:02.246Z"
   },
   {
    "duration": 6,
    "start_time": "2021-12-16T18:08:26.663Z"
   },
   {
    "duration": 21,
    "start_time": "2021-12-16T18:09:07.976Z"
   },
   {
    "duration": 5,
    "start_time": "2021-12-16T18:09:18.016Z"
   },
   {
    "duration": 6,
    "start_time": "2021-12-16T18:09:20.463Z"
   },
   {
    "duration": 22,
    "start_time": "2021-12-16T18:09:22.115Z"
   },
   {
    "duration": 343,
    "start_time": "2021-12-16T18:11:19.745Z"
   },
   {
    "duration": 24,
    "start_time": "2021-12-16T18:11:24.019Z"
   },
   {
    "duration": 263,
    "start_time": "2021-12-16T18:11:54.185Z"
   },
   {
    "duration": 20,
    "start_time": "2021-12-16T18:11:55.470Z"
   },
   {
    "duration": 263,
    "start_time": "2021-12-16T18:12:10.284Z"
   },
   {
    "duration": 5,
    "start_time": "2021-12-16T18:15:33.960Z"
   },
   {
    "duration": 5,
    "start_time": "2021-12-16T18:16:44.742Z"
   },
   {
    "duration": 9,
    "start_time": "2021-12-16T18:16:46.083Z"
   },
   {
    "duration": 8,
    "start_time": "2021-12-16T18:17:33.305Z"
   },
   {
    "duration": 79,
    "start_time": "2021-12-16T18:18:50.381Z"
   },
   {
    "duration": 86,
    "start_time": "2021-12-16T18:18:54.090Z"
   },
   {
    "duration": 482,
    "start_time": "2021-12-16T18:19:02.029Z"
   },
   {
    "duration": 450,
    "start_time": "2021-12-16T18:19:31.419Z"
   },
   {
    "duration": 92,
    "start_time": "2021-12-16T18:19:38.326Z"
   },
   {
    "duration": 9,
    "start_time": "2021-12-16T18:19:50.474Z"
   },
   {
    "duration": 9,
    "start_time": "2021-12-16T18:19:58.463Z"
   },
   {
    "duration": 7,
    "start_time": "2021-12-16T18:20:06.776Z"
   },
   {
    "duration": 270,
    "start_time": "2021-12-16T18:20:37.724Z"
   },
   {
    "duration": 93,
    "start_time": "2021-12-16T18:20:44.616Z"
   },
   {
    "duration": 8,
    "start_time": "2021-12-16T18:23:20.150Z"
   },
   {
    "duration": 10,
    "start_time": "2021-12-16T18:24:12.566Z"
   },
   {
    "duration": 278,
    "start_time": "2021-12-16T18:24:39.916Z"
   },
   {
    "duration": 14,
    "start_time": "2021-12-16T18:24:46.145Z"
   },
   {
    "duration": 5,
    "start_time": "2021-12-16T18:25:08.341Z"
   },
   {
    "duration": 7,
    "start_time": "2021-12-16T18:25:21.782Z"
   },
   {
    "duration": 10,
    "start_time": "2021-12-16T18:25:42.998Z"
   },
   {
    "duration": 5,
    "start_time": "2021-12-16T18:26:11.823Z"
   },
   {
    "duration": 13,
    "start_time": "2021-12-16T18:27:10.832Z"
   },
   {
    "duration": 7,
    "start_time": "2021-12-16T18:34:22.525Z"
   },
   {
    "duration": 7,
    "start_time": "2021-12-16T18:35:00.738Z"
   },
   {
    "duration": 16,
    "start_time": "2021-12-16T18:35:40.345Z"
   },
   {
    "duration": 16,
    "start_time": "2021-12-16T18:37:07.049Z"
   },
   {
    "duration": 15,
    "start_time": "2021-12-16T18:37:22.004Z"
   },
   {
    "duration": 17,
    "start_time": "2021-12-16T18:37:36.985Z"
   },
   {
    "duration": 18,
    "start_time": "2021-12-16T18:37:48.186Z"
   },
   {
    "duration": 247,
    "start_time": "2021-12-16T18:38:02.352Z"
   },
   {
    "duration": 16,
    "start_time": "2021-12-16T18:39:00.683Z"
   },
   {
    "duration": 6,
    "start_time": "2021-12-16T18:41:01.822Z"
   },
   {
    "duration": 3,
    "start_time": "2021-12-16T18:45:23.189Z"
   },
   {
    "duration": 5,
    "start_time": "2021-12-16T18:45:36.172Z"
   },
   {
    "duration": 5,
    "start_time": "2021-12-16T18:47:12.666Z"
   },
   {
    "duration": 17,
    "start_time": "2021-12-16T18:48:00.890Z"
   },
   {
    "duration": 15,
    "start_time": "2021-12-16T18:48:15.660Z"
   },
   {
    "duration": 104,
    "start_time": "2021-12-16T18:48:36.977Z"
   },
   {
    "duration": 95,
    "start_time": "2021-12-16T18:49:16.184Z"
   },
   {
    "duration": 85,
    "start_time": "2021-12-16T18:49:19.478Z"
   },
   {
    "duration": 123,
    "start_time": "2021-12-16T18:49:34.560Z"
   },
   {
    "duration": 10,
    "start_time": "2021-12-16T18:50:30.528Z"
   },
   {
    "duration": 9,
    "start_time": "2021-12-16T18:50:39.261Z"
   },
   {
    "duration": 5,
    "start_time": "2021-12-16T18:56:40.006Z"
   },
   {
    "duration": 4352,
    "start_time": "2021-12-16T18:59:36.098Z"
   },
   {
    "duration": 4,
    "start_time": "2021-12-16T19:01:13.977Z"
   },
   {
    "duration": 5,
    "start_time": "2021-12-16T19:01:22.480Z"
   },
   {
    "duration": 5,
    "start_time": "2021-12-16T19:05:23.651Z"
   },
   {
    "duration": 5,
    "start_time": "2021-12-16T19:06:29.470Z"
   },
   {
    "duration": 289,
    "start_time": "2021-12-16T19:09:26.773Z"
   },
   {
    "duration": 21,
    "start_time": "2021-12-16T19:11:09.285Z"
   },
   {
    "duration": 20,
    "start_time": "2021-12-16T19:13:18.064Z"
   },
   {
    "duration": 24,
    "start_time": "2021-12-16T19:15:56.025Z"
   },
   {
    "duration": 26,
    "start_time": "2021-12-16T19:18:36.984Z"
   },
   {
    "duration": 33,
    "start_time": "2021-12-16T19:18:58.745Z"
   },
   {
    "duration": 6,
    "start_time": "2021-12-16T19:25:21.835Z"
   },
   {
    "duration": 5,
    "start_time": "2021-12-16T19:27:11.983Z"
   },
   {
    "duration": 3,
    "start_time": "2021-12-16T19:27:15.303Z"
   },
   {
    "duration": 26,
    "start_time": "2021-12-16T19:27:25.785Z"
   },
   {
    "duration": 22,
    "start_time": "2021-12-16T19:29:07.735Z"
   },
   {
    "duration": 22,
    "start_time": "2021-12-16T19:30:32.973Z"
   },
   {
    "duration": 22,
    "start_time": "2021-12-16T19:31:34.947Z"
   },
   {
    "duration": 18,
    "start_time": "2021-12-16T19:39:27.055Z"
   },
   {
    "duration": 22,
    "start_time": "2021-12-16T19:39:34.694Z"
   },
   {
    "duration": 24,
    "start_time": "2021-12-16T19:41:09.012Z"
   },
   {
    "duration": 7,
    "start_time": "2021-12-16T19:41:52.192Z"
   },
   {
    "duration": 5,
    "start_time": "2021-12-16T19:44:36.078Z"
   },
   {
    "duration": 12,
    "start_time": "2021-12-16T19:44:58.123Z"
   },
   {
    "duration": 14,
    "start_time": "2021-12-16T19:50:56.808Z"
   },
   {
    "duration": 9,
    "start_time": "2021-12-16T19:51:02.227Z"
   },
   {
    "duration": 7,
    "start_time": "2021-12-16T19:51:52.297Z"
   },
   {
    "duration": 5,
    "start_time": "2021-12-16T19:51:57.535Z"
   },
   {
    "duration": 5,
    "start_time": "2021-12-16T19:52:03.674Z"
   },
   {
    "duration": 5,
    "start_time": "2021-12-16T19:55:31.697Z"
   },
   {
    "duration": 85,
    "start_time": "2021-12-16T20:00:42.572Z"
   },
   {
    "duration": 6,
    "start_time": "2021-12-16T20:00:50.686Z"
   },
   {
    "duration": 8,
    "start_time": "2021-12-16T20:01:55.482Z"
   },
   {
    "duration": 10,
    "start_time": "2021-12-16T20:05:08.426Z"
   },
   {
    "duration": 301,
    "start_time": "2021-12-16T20:11:13.985Z"
   },
   {
    "duration": 8,
    "start_time": "2021-12-16T20:11:22.513Z"
   },
   {
    "duration": 7,
    "start_time": "2021-12-16T20:12:02.502Z"
   },
   {
    "duration": 2,
    "start_time": "2021-12-16T20:12:04.301Z"
   },
   {
    "duration": 9,
    "start_time": "2021-12-16T20:12:07.214Z"
   },
   {
    "duration": 96,
    "start_time": "2021-12-16T20:20:01.643Z"
   },
   {
    "duration": 249,
    "start_time": "2021-12-16T20:20:05.120Z"
   },
   {
    "duration": 422,
    "start_time": "2021-12-16T20:23:50.043Z"
   },
   {
    "duration": 430,
    "start_time": "2021-12-16T20:24:10.733Z"
   },
   {
    "duration": 431,
    "start_time": "2021-12-16T20:24:43.449Z"
   },
   {
    "duration": 410,
    "start_time": "2021-12-16T20:25:06.459Z"
   },
   {
    "duration": 7,
    "start_time": "2021-12-16T20:25:23.151Z"
   },
   {
    "duration": 794,
    "start_time": "2021-12-17T20:32:12.554Z"
   },
   {
    "duration": 11,
    "start_time": "2021-12-17T20:32:14.044Z"
   },
   {
    "duration": 18,
    "start_time": "2021-12-17T20:32:14.143Z"
   },
   {
    "duration": 14,
    "start_time": "2021-12-17T20:32:42.469Z"
   },
   {
    "duration": 16,
    "start_time": "2021-12-17T20:32:43.259Z"
   },
   {
    "duration": 3,
    "start_time": "2021-12-17T20:32:45.577Z"
   },
   {
    "duration": 5,
    "start_time": "2021-12-17T20:32:47.134Z"
   },
   {
    "duration": 11,
    "start_time": "2021-12-17T20:32:49.601Z"
   },
   {
    "duration": 21,
    "start_time": "2021-12-17T20:33:07.138Z"
   },
   {
    "duration": 2,
    "start_time": "2021-12-17T20:33:23.636Z"
   },
   {
    "duration": 5,
    "start_time": "2021-12-17T20:33:25.105Z"
   },
   {
    "duration": 37,
    "start_time": "2021-12-17T20:33:27.243Z"
   },
   {
    "duration": 43,
    "start_time": "2021-12-17T21:50:18.652Z"
   },
   {
    "duration": 55,
    "start_time": "2021-12-17T21:50:22.351Z"
   },
   {
    "duration": 55,
    "start_time": "2021-12-17T21:52:28.852Z"
   },
   {
    "duration": 426,
    "start_time": "2021-12-17T21:52:45.217Z"
   },
   {
    "duration": 54,
    "start_time": "2021-12-17T21:53:08.268Z"
   },
   {
    "duration": 304,
    "start_time": "2021-12-17T21:54:40.159Z"
   },
   {
    "duration": 87,
    "start_time": "2021-12-17T21:54:47.586Z"
   },
   {
    "duration": 15,
    "start_time": "2021-12-17T21:54:53.607Z"
   },
   {
    "duration": 296,
    "start_time": "2021-12-17T21:55:01.642Z"
   },
   {
    "duration": 15,
    "start_time": "2021-12-17T21:55:08.830Z"
   },
   {
    "duration": 16,
    "start_time": "2021-12-17T21:55:29.877Z"
   },
   {
    "duration": 112,
    "start_time": "2021-12-17T21:58:30.337Z"
   },
   {
    "duration": 19,
    "start_time": "2021-12-17T21:58:40.758Z"
   },
   {
    "duration": 22,
    "start_time": "2021-12-17T21:59:05.453Z"
   },
   {
    "duration": 5,
    "start_time": "2021-12-17T21:59:06.256Z"
   },
   {
    "duration": 5,
    "start_time": "2021-12-17T22:00:28.329Z"
   },
   {
    "duration": 5,
    "start_time": "2021-12-17T22:00:40.638Z"
   },
   {
    "duration": 6,
    "start_time": "2021-12-17T22:02:51.647Z"
   },
   {
    "duration": 8,
    "start_time": "2021-12-17T22:02:58.217Z"
   },
   {
    "duration": 7,
    "start_time": "2021-12-17T22:03:12.577Z"
   },
   {
    "duration": 10,
    "start_time": "2021-12-17T22:03:28.593Z"
   },
   {
    "duration": 29,
    "start_time": "2021-12-17T22:04:05.006Z"
   },
   {
    "duration": 8,
    "start_time": "2021-12-17T22:04:27.232Z"
   },
   {
    "duration": 8,
    "start_time": "2021-12-17T22:04:43.632Z"
   },
   {
    "duration": 8,
    "start_time": "2021-12-17T22:04:58.052Z"
   },
   {
    "duration": 5,
    "start_time": "2021-12-17T22:05:59.685Z"
   },
   {
    "duration": 5,
    "start_time": "2021-12-17T22:08:35.278Z"
   },
   {
    "duration": 4,
    "start_time": "2021-12-17T22:09:28.215Z"
   },
   {
    "duration": 5,
    "start_time": "2021-12-17T22:10:26.670Z"
   },
   {
    "duration": 2,
    "start_time": "2021-12-17T22:10:31.520Z"
   },
   {
    "duration": 9,
    "start_time": "2021-12-17T22:10:32.513Z"
   },
   {
    "duration": 9,
    "start_time": "2021-12-17T22:10:57.997Z"
   },
   {
    "duration": 5,
    "start_time": "2021-12-17T22:11:14.524Z"
   },
   {
    "duration": 9,
    "start_time": "2021-12-17T22:11:19.044Z"
   },
   {
    "duration": 9,
    "start_time": "2021-12-17T22:11:23.622Z"
   },
   {
    "duration": 8,
    "start_time": "2021-12-17T22:11:24.532Z"
   },
   {
    "duration": 2,
    "start_time": "2021-12-17T22:11:30.390Z"
   },
   {
    "duration": 14,
    "start_time": "2021-12-17T22:11:38.195Z"
   },
   {
    "duration": 5,
    "start_time": "2021-12-17T22:17:52.807Z"
   },
   {
    "duration": 6,
    "start_time": "2021-12-17T22:18:56.491Z"
   },
   {
    "duration": 261,
    "start_time": "2021-12-17T22:19:18.707Z"
   },
   {
    "duration": 269,
    "start_time": "2021-12-17T22:28:43.356Z"
   },
   {
    "duration": 275,
    "start_time": "2021-12-17T22:29:31.511Z"
   },
   {
    "duration": 677,
    "start_time": "2021-12-17T22:30:39.086Z"
   },
   {
    "duration": 277,
    "start_time": "2021-12-17T22:32:18.903Z"
   },
   {
    "duration": 312,
    "start_time": "2021-12-17T22:34:41.548Z"
   },
   {
    "duration": 56,
    "start_time": "2021-12-17T22:35:05.569Z"
   },
   {
    "duration": 11,
    "start_time": "2021-12-17T22:35:07.002Z"
   },
   {
    "duration": 12,
    "start_time": "2021-12-17T22:35:07.909Z"
   },
   {
    "duration": 3,
    "start_time": "2021-12-17T22:35:18.962Z"
   },
   {
    "duration": 5,
    "start_time": "2021-12-17T22:35:20.303Z"
   },
   {
    "duration": 11,
    "start_time": "2021-12-17T22:35:21.818Z"
   },
   {
    "duration": 2,
    "start_time": "2021-12-17T22:35:24.394Z"
   },
   {
    "duration": 2,
    "start_time": "2021-12-17T22:35:25.065Z"
   },
   {
    "duration": 31,
    "start_time": "2021-12-17T22:35:26.180Z"
   },
   {
    "duration": 9,
    "start_time": "2021-12-17T22:35:29.331Z"
   },
   {
    "duration": 3,
    "start_time": "2021-12-17T22:35:30.985Z"
   },
   {
    "duration": 4,
    "start_time": "2021-12-17T22:35:32.759Z"
   },
   {
    "duration": 25,
    "start_time": "2021-12-17T22:35:33.439Z"
   },
   {
    "duration": 5,
    "start_time": "2021-12-17T22:35:35.673Z"
   },
   {
    "duration": 3,
    "start_time": "2021-12-17T22:35:36.988Z"
   },
   {
    "duration": 4,
    "start_time": "2021-12-17T22:35:38.148Z"
   },
   {
    "duration": 5,
    "start_time": "2021-12-17T22:35:38.792Z"
   },
   {
    "duration": 4,
    "start_time": "2021-12-17T22:35:41.001Z"
   },
   {
    "duration": 3,
    "start_time": "2021-12-17T22:35:43.108Z"
   },
   {
    "duration": 8,
    "start_time": "2021-12-17T22:35:43.903Z"
   },
   {
    "duration": 7,
    "start_time": "2021-12-17T22:35:45.922Z"
   },
   {
    "duration": 5,
    "start_time": "2021-12-17T22:35:48.901Z"
   },
   {
    "duration": 10,
    "start_time": "2021-12-17T22:35:50.592Z"
   },
   {
    "duration": 9,
    "start_time": "2021-12-17T22:35:52.838Z"
   },
   {
    "duration": 7,
    "start_time": "2021-12-17T22:35:54.274Z"
   },
   {
    "duration": 2,
    "start_time": "2021-12-17T22:35:54.948Z"
   },
   {
    "duration": 14,
    "start_time": "2021-12-17T22:35:59.180Z"
   },
   {
    "duration": 12,
    "start_time": "2021-12-17T22:36:00.743Z"
   },
   {
    "duration": 273,
    "start_time": "2021-12-17T22:36:21.305Z"
   },
   {
    "duration": 271,
    "start_time": "2021-12-17T22:36:28.938Z"
   },
   {
    "duration": 9,
    "start_time": "2021-12-17T22:36:34.204Z"
   },
   {
    "duration": 7,
    "start_time": "2021-12-17T22:36:34.725Z"
   },
   {
    "duration": 3,
    "start_time": "2021-12-17T22:36:35.499Z"
   },
   {
    "duration": 10,
    "start_time": "2021-12-17T22:36:37.975Z"
   },
   {
    "duration": 257,
    "start_time": "2021-12-17T22:36:38.878Z"
   },
   {
    "duration": 58,
    "start_time": "2021-12-17T22:36:45.575Z"
   },
   {
    "duration": 16,
    "start_time": "2021-12-17T22:36:45.898Z"
   },
   {
    "duration": 13,
    "start_time": "2021-12-17T22:36:46.063Z"
   },
   {
    "duration": 2,
    "start_time": "2021-12-17T22:36:46.369Z"
   },
   {
    "duration": 6,
    "start_time": "2021-12-17T22:36:46.730Z"
   },
   {
    "duration": 11,
    "start_time": "2021-12-17T22:36:47.071Z"
   },
   {
    "duration": 3,
    "start_time": "2021-12-17T22:36:47.458Z"
   },
   {
    "duration": 2,
    "start_time": "2021-12-17T22:36:47.649Z"
   },
   {
    "duration": 31,
    "start_time": "2021-12-17T22:36:48.098Z"
   },
   {
    "duration": 8,
    "start_time": "2021-12-17T22:36:49.365Z"
   },
   {
    "duration": 3,
    "start_time": "2021-12-17T22:36:50.319Z"
   },
   {
    "duration": 5,
    "start_time": "2021-12-17T22:36:52.874Z"
   },
   {
    "duration": 18,
    "start_time": "2021-12-17T22:36:53.335Z"
   },
   {
    "duration": 6,
    "start_time": "2021-12-17T22:36:53.759Z"
   },
   {
    "duration": 2,
    "start_time": "2021-12-17T22:36:54.948Z"
   },
   {
    "duration": 3,
    "start_time": "2021-12-17T22:36:56.299Z"
   },
   {
    "duration": 5,
    "start_time": "2021-12-17T22:36:56.978Z"
   },
   {
    "duration": 5,
    "start_time": "2021-12-17T22:36:58.133Z"
   },
   {
    "duration": 2,
    "start_time": "2021-12-17T22:36:59.349Z"
   },
   {
    "duration": 8,
    "start_time": "2021-12-17T22:37:00.180Z"
   },
   {
    "duration": 9,
    "start_time": "2021-12-17T22:37:01.364Z"
   },
   {
    "duration": 6,
    "start_time": "2021-12-17T22:37:02.924Z"
   },
   {
    "duration": 13,
    "start_time": "2021-12-17T22:37:03.931Z"
   },
   {
    "duration": 12,
    "start_time": "2021-12-17T22:37:05.430Z"
   },
   {
    "duration": 11,
    "start_time": "2021-12-17T22:37:07.114Z"
   },
   {
    "duration": 3,
    "start_time": "2021-12-17T22:37:08.075Z"
   },
   {
    "duration": 20,
    "start_time": "2021-12-17T22:37:11.207Z"
   },
   {
    "duration": 17,
    "start_time": "2021-12-17T22:37:16.858Z"
   },
   {
    "duration": 9,
    "start_time": "2021-12-17T22:37:29.525Z"
   },
   {
    "duration": 10,
    "start_time": "2021-12-17T22:37:43.962Z"
   },
   {
    "duration": 7,
    "start_time": "2021-12-17T22:37:49.878Z"
   },
   {
    "duration": 2,
    "start_time": "2021-12-17T22:37:53.128Z"
   },
   {
    "duration": 17,
    "start_time": "2021-12-17T22:37:58.483Z"
   },
   {
    "duration": 18,
    "start_time": "2021-12-17T22:38:08.671Z"
   },
   {
    "duration": 16,
    "start_time": "2021-12-17T22:38:10.069Z"
   },
   {
    "duration": 11,
    "start_time": "2021-12-17T22:38:12.784Z"
   },
   {
    "duration": 7,
    "start_time": "2021-12-17T22:38:20.656Z"
   },
   {
    "duration": 6,
    "start_time": "2021-12-17T22:38:29.731Z"
   },
   {
    "duration": 4,
    "start_time": "2021-12-17T22:38:31.183Z"
   },
   {
    "duration": 2,
    "start_time": "2021-12-17T22:38:38.112Z"
   },
   {
    "duration": 3,
    "start_time": "2021-12-17T22:38:40.672Z"
   },
   {
    "duration": 263,
    "start_time": "2021-12-17T22:38:45.749Z"
   },
   {
    "duration": 11,
    "start_time": "2021-12-17T22:39:20.079Z"
   },
   {
    "duration": 4,
    "start_time": "2021-12-17T22:39:20.758Z"
   },
   {
    "duration": 2,
    "start_time": "2021-12-17T22:39:21.974Z"
   },
   {
    "duration": 3,
    "start_time": "2021-12-17T22:39:30.634Z"
   },
   {
    "duration": 27,
    "start_time": "2021-12-17T22:39:33.202Z"
   },
   {
    "duration": 7,
    "start_time": "2021-12-17T22:39:41.361Z"
   },
   {
    "duration": 2,
    "start_time": "2021-12-17T22:40:28.310Z"
   },
   {
    "duration": 2,
    "start_time": "2021-12-17T22:40:29.619Z"
   },
   {
    "duration": 3,
    "start_time": "2021-12-17T22:40:30.144Z"
   },
   {
    "duration": 2,
    "start_time": "2021-12-17T22:40:30.625Z"
   },
   {
    "duration": 2,
    "start_time": "2021-12-17T22:40:31.164Z"
   },
   {
    "duration": 2,
    "start_time": "2021-12-17T22:40:34.268Z"
   },
   {
    "duration": 3,
    "start_time": "2021-12-17T22:40:35.270Z"
   },
   {
    "duration": -1895,
    "start_time": "2021-12-17T22:41:45.614Z"
   },
   {
    "duration": 11,
    "start_time": "2021-12-17T22:41:44.040Z"
   },
   {
    "duration": 5,
    "start_time": "2021-12-17T22:41:44.501Z"
   },
   {
    "duration": 9,
    "start_time": "2021-12-17T22:41:45.207Z"
   },
   {
    "duration": 10,
    "start_time": "2021-12-17T22:41:46.456Z"
   },
   {
    "duration": 7,
    "start_time": "2021-12-17T22:41:47.654Z"
   },
   {
    "duration": 7,
    "start_time": "2021-12-17T22:41:54.920Z"
   },
   {
    "duration": 2,
    "start_time": "2021-12-17T22:41:55.488Z"
   },
   {
    "duration": 18,
    "start_time": "2021-12-17T22:41:59.678Z"
   },
   {
    "duration": 18,
    "start_time": "2021-12-17T22:42:00.568Z"
   },
   {
    "duration": 16,
    "start_time": "2021-12-17T22:42:04.735Z"
   },
   {
    "duration": 10,
    "start_time": "2021-12-17T22:42:07.313Z"
   },
   {
    "duration": 3,
    "start_time": "2021-12-17T22:42:10.175Z"
   },
   {
    "duration": 6474,
    "start_time": "2021-12-17T22:42:19.089Z"
   },
   {
    "duration": -1896,
    "start_time": "2021-12-17T22:42:27.461Z"
   },
   {
    "duration": -1900,
    "start_time": "2021-12-17T22:42:27.466Z"
   },
   {
    "duration": -1904,
    "start_time": "2021-12-17T22:42:27.471Z"
   },
   {
    "duration": 25,
    "start_time": "2021-12-17T22:42:28.589Z"
   },
   {
    "duration": 29,
    "start_time": "2021-12-17T22:43:01.729Z"
   },
   {
    "duration": 24,
    "start_time": "2021-12-17T22:44:17.833Z"
   },
   {
    "duration": 33,
    "start_time": "2021-12-17T22:44:48.469Z"
   },
   {
    "duration": 20,
    "start_time": "2021-12-17T22:46:15.237Z"
   },
   {
    "duration": 30,
    "start_time": "2021-12-17T22:46:24.039Z"
   },
   {
    "duration": 266,
    "start_time": "2021-12-17T22:49:13.263Z"
   },
   {
    "duration": 375,
    "start_time": "2021-12-18T18:11:40.081Z"
   },
   {
    "duration": 923,
    "start_time": "2021-12-18T18:11:44.951Z"
   },
   {
    "duration": 17,
    "start_time": "2021-12-18T18:11:50.525Z"
   },
   {
    "duration": 26,
    "start_time": "2021-12-18T18:11:51.747Z"
   },
   {
    "duration": 9,
    "start_time": "2021-12-18T18:13:20.563Z"
   },
   {
    "duration": 20,
    "start_time": "2021-12-18T18:18:35.669Z"
   },
   {
    "duration": 11,
    "start_time": "2021-12-18T18:19:30.857Z"
   },
   {
    "duration": 76,
    "start_time": "2021-12-18T18:22:22.278Z"
   },
   {
    "duration": 78,
    "start_time": "2021-12-18T18:22:26.165Z"
   },
   {
    "duration": 76,
    "start_time": "2021-12-18T18:22:30.258Z"
   },
   {
    "duration": 14,
    "start_time": "2021-12-18T18:22:31.586Z"
   },
   {
    "duration": 23,
    "start_time": "2021-12-18T18:22:33.776Z"
   },
   {
    "duration": 8,
    "start_time": "2021-12-18T18:22:36.765Z"
   },
   {
    "duration": 8,
    "start_time": "2021-12-18T18:22:59.158Z"
   },
   {
    "duration": 37,
    "start_time": "2021-12-18T18:23:14.527Z"
   },
   {
    "duration": 11,
    "start_time": "2021-12-18T18:23:28.498Z"
   },
   {
    "duration": 43,
    "start_time": "2021-12-18T18:23:53.459Z"
   },
   {
    "duration": 12,
    "start_time": "2021-12-18T18:24:04.042Z"
   },
   {
    "duration": 38,
    "start_time": "2021-12-18T18:25:20.017Z"
   },
   {
    "duration": 14,
    "start_time": "2021-12-18T18:25:41.330Z"
   },
   {
    "duration": 55,
    "start_time": "2021-12-18T18:26:33.798Z"
   },
   {
    "duration": 17,
    "start_time": "2021-12-18T18:26:39.392Z"
   },
   {
    "duration": 12,
    "start_time": "2021-12-18T18:26:54.517Z"
   },
   {
    "duration": 7,
    "start_time": "2021-12-18T18:27:14.711Z"
   },
   {
    "duration": 30,
    "start_time": "2021-12-18T18:27:18.272Z"
   },
   {
    "duration": 27,
    "start_time": "2021-12-18T18:27:29.740Z"
   },
   {
    "duration": 7,
    "start_time": "2021-12-18T18:27:38.327Z"
   },
   {
    "duration": 345,
    "start_time": "2021-12-18T18:30:25.451Z"
   },
   {
    "duration": 265,
    "start_time": "2021-12-18T18:30:40.358Z"
   },
   {
    "duration": 11,
    "start_time": "2021-12-18T18:30:58.770Z"
   },
   {
    "duration": 14,
    "start_time": "2021-12-18T18:31:03.583Z"
   },
   {
    "duration": 7,
    "start_time": "2021-12-18T18:31:22.788Z"
   },
   {
    "duration": 4,
    "start_time": "2021-12-18T18:31:51.958Z"
   },
   {
    "duration": 24,
    "start_time": "2021-12-18T18:31:55.813Z"
   },
   {
    "duration": 8,
    "start_time": "2021-12-18T18:32:07.958Z"
   },
   {
    "duration": 7,
    "start_time": "2021-12-18T18:33:11.779Z"
   },
   {
    "duration": 9,
    "start_time": "2021-12-18T18:33:31.194Z"
   },
   {
    "duration": 6,
    "start_time": "2021-12-18T18:34:55.001Z"
   },
   {
    "duration": 10,
    "start_time": "2021-12-18T18:36:37.896Z"
   },
   {
    "duration": 110,
    "start_time": "2021-12-18T18:38:32.102Z"
   },
   {
    "duration": 89,
    "start_time": "2021-12-18T18:38:43.816Z"
   },
   {
    "duration": 109,
    "start_time": "2021-12-18T18:40:18.813Z"
   },
   {
    "duration": 135,
    "start_time": "2021-12-18T18:40:29.073Z"
   },
   {
    "duration": 173,
    "start_time": "2021-12-18T18:43:03.977Z"
   },
   {
    "duration": 10,
    "start_time": "2021-12-18T18:43:33.240Z"
   },
   {
    "duration": 15,
    "start_time": "2021-12-18T18:43:55.026Z"
   },
   {
    "duration": 12,
    "start_time": "2021-12-18T18:46:40.623Z"
   },
   {
    "duration": 11,
    "start_time": "2021-12-18T18:46:41.473Z"
   },
   {
    "duration": 8,
    "start_time": "2021-12-18T18:48:46.369Z"
   },
   {
    "duration": 9,
    "start_time": "2021-12-18T18:49:40.432Z"
   },
   {
    "duration": 314,
    "start_time": "2021-12-18T18:49:56.786Z"
   },
   {
    "duration": 8,
    "start_time": "2021-12-18T18:52:12.353Z"
   },
   {
    "duration": 7,
    "start_time": "2021-12-18T18:52:19.216Z"
   },
   {
    "duration": 16,
    "start_time": "2021-12-18T18:57:22.471Z"
   },
   {
    "duration": 11,
    "start_time": "2021-12-18T18:57:50.595Z"
   },
   {
    "duration": 18,
    "start_time": "2021-12-18T19:02:38.770Z"
   },
   {
    "duration": 15,
    "start_time": "2021-12-18T19:02:54.933Z"
   },
   {
    "duration": 9,
    "start_time": "2021-12-18T19:03:49.723Z"
   },
   {
    "duration": 13,
    "start_time": "2021-12-18T19:04:52.915Z"
   },
   {
    "duration": 20,
    "start_time": "2021-12-18T19:05:17.063Z"
   },
   {
    "duration": 6,
    "start_time": "2021-12-18T19:05:49.053Z"
   },
   {
    "duration": 13,
    "start_time": "2021-12-18T19:05:50.299Z"
   },
   {
    "duration": 6,
    "start_time": "2021-12-18T19:06:27.903Z"
   },
   {
    "duration": 11,
    "start_time": "2021-12-18T19:06:51.160Z"
   },
   {
    "duration": 14,
    "start_time": "2021-12-18T19:07:09.624Z"
   },
   {
    "duration": 15,
    "start_time": "2021-12-18T19:07:21.180Z"
   },
   {
    "duration": 6,
    "start_time": "2021-12-18T19:07:26.359Z"
   },
   {
    "duration": 13,
    "start_time": "2021-12-18T19:07:32.011Z"
   },
   {
    "duration": 13,
    "start_time": "2021-12-18T19:07:43.394Z"
   },
   {
    "duration": 6,
    "start_time": "2021-12-18T19:07:53.515Z"
   },
   {
    "duration": 450,
    "start_time": "2021-12-18T19:08:52.396Z"
   },
   {
    "duration": 272,
    "start_time": "2021-12-18T19:09:06.894Z"
   },
   {
    "duration": 6,
    "start_time": "2021-12-18T19:09:18.141Z"
   },
   {
    "duration": 13,
    "start_time": "2021-12-18T19:09:27.696Z"
   },
   {
    "duration": 17,
    "start_time": "2021-12-18T19:09:44.385Z"
   },
   {
    "duration": 7,
    "start_time": "2021-12-18T19:09:58.619Z"
   },
   {
    "duration": 3,
    "start_time": "2021-12-18T19:10:10.723Z"
   },
   {
    "duration": 9,
    "start_time": "2021-12-18T19:10:24.071Z"
   },
   {
    "duration": 27,
    "start_time": "2021-12-18T19:10:30.370Z"
   },
   {
    "duration": 9,
    "start_time": "2021-12-18T19:10:56.025Z"
   },
   {
    "duration": 21,
    "start_time": "2021-12-18T19:10:57.758Z"
   },
   {
    "duration": 265,
    "start_time": "2021-12-18T19:11:20.853Z"
   },
   {
    "duration": 260,
    "start_time": "2021-12-18T19:11:25.159Z"
   },
   {
    "duration": 15,
    "start_time": "2021-12-18T19:11:35.151Z"
   },
   {
    "duration": 86,
    "start_time": "2021-12-18T19:11:40.238Z"
   },
   {
    "duration": 16,
    "start_time": "2021-12-18T19:11:42.538Z"
   },
   {
    "duration": 24,
    "start_time": "2021-12-18T19:11:43.548Z"
   },
   {
    "duration": 5,
    "start_time": "2021-12-18T19:11:44.775Z"
   },
   {
    "duration": 9,
    "start_time": "2021-12-18T19:11:45.695Z"
   },
   {
    "duration": 3,
    "start_time": "2021-12-18T19:11:46.918Z"
   },
   {
    "duration": 11,
    "start_time": "2021-12-18T19:11:48.063Z"
   },
   {
    "duration": 7,
    "start_time": "2021-12-18T19:11:48.610Z"
   },
   {
    "duration": 3,
    "start_time": "2021-12-18T19:11:49.829Z"
   },
   {
    "duration": 13,
    "start_time": "2021-12-18T19:11:50.922Z"
   },
   {
    "duration": 4,
    "start_time": "2021-12-18T19:11:52.295Z"
   },
   {
    "duration": 7,
    "start_time": "2021-12-18T19:11:53.745Z"
   },
   {
    "duration": 23,
    "start_time": "2021-12-18T19:11:54.526Z"
   },
   {
    "duration": 10,
    "start_time": "2021-12-18T19:11:55.084Z"
   },
   {
    "duration": 5,
    "start_time": "2021-12-18T19:12:16.870Z"
   },
   {
    "duration": 10,
    "start_time": "2021-12-18T19:12:21.135Z"
   },
   {
    "duration": 8,
    "start_time": "2021-12-18T19:12:23.029Z"
   },
   {
    "duration": 7,
    "start_time": "2021-12-18T19:12:29.378Z"
   },
   {
    "duration": 7,
    "start_time": "2021-12-18T19:13:03.839Z"
   },
   {
    "duration": 7,
    "start_time": "2021-12-18T19:13:05.233Z"
   },
   {
    "duration": 7,
    "start_time": "2021-12-18T19:13:10.118Z"
   },
   {
    "duration": 9,
    "start_time": "2021-12-18T19:13:40.076Z"
   },
   {
    "duration": 16,
    "start_time": "2021-12-18T19:13:43.217Z"
   },
   {
    "duration": 4,
    "start_time": "2021-12-18T19:13:48.176Z"
   },
   {
    "duration": 11,
    "start_time": "2021-12-18T19:13:48.698Z"
   },
   {
    "duration": 3,
    "start_time": "2021-12-18T19:13:51.523Z"
   },
   {
    "duration": 9,
    "start_time": "2021-12-18T19:14:06.866Z"
   },
   {
    "duration": 14,
    "start_time": "2021-12-18T19:14:09.335Z"
   },
   {
    "duration": 15,
    "start_time": "2021-12-18T19:14:18.364Z"
   },
   {
    "duration": 10,
    "start_time": "2021-12-18T19:14:24.383Z"
   },
   {
    "duration": 280,
    "start_time": "2021-12-18T19:15:01.451Z"
   },
   {
    "duration": 6,
    "start_time": "2021-12-18T19:15:04.423Z"
   },
   {
    "duration": 10,
    "start_time": "2021-12-18T19:15:55.743Z"
   },
   {
    "duration": 3,
    "start_time": "2021-12-18T19:15:57.016Z"
   },
   {
    "duration": 26,
    "start_time": "2021-12-18T19:16:02.236Z"
   },
   {
    "duration": 32,
    "start_time": "2021-12-18T19:16:34.358Z"
   },
   {
    "duration": 282,
    "start_time": "2021-12-18T19:17:05.939Z"
   },
   {
    "duration": 298,
    "start_time": "2021-12-18T19:17:10.123Z"
   },
   {
    "duration": 260,
    "start_time": "2021-12-18T19:17:14.190Z"
   },
   {
    "duration": 25,
    "start_time": "2021-12-18T19:17:21.924Z"
   },
   {
    "duration": 25,
    "start_time": "2021-12-18T19:17:26.359Z"
   },
   {
    "duration": 23,
    "start_time": "2021-12-18T19:17:29.620Z"
   },
   {
    "duration": 25,
    "start_time": "2021-12-18T19:20:30.239Z"
   },
   {
    "duration": 283,
    "start_time": "2021-12-18T19:20:37.109Z"
   },
   {
    "duration": 278,
    "start_time": "2021-12-18T19:20:41.288Z"
   },
   {
    "duration": 24,
    "start_time": "2021-12-18T19:20:49.795Z"
   },
   {
    "duration": 35,
    "start_time": "2021-12-18T19:20:51.559Z"
   },
   {
    "duration": 7,
    "start_time": "2021-12-18T19:21:49.649Z"
   },
   {
    "duration": 269,
    "start_time": "2021-12-18T19:24:45.640Z"
   },
   {
    "duration": 265,
    "start_time": "2021-12-18T19:24:49.135Z"
   },
   {
    "duration": 286,
    "start_time": "2021-12-18T19:24:53.661Z"
   },
   {
    "duration": 273,
    "start_time": "2021-12-18T19:25:04.206Z"
   },
   {
    "duration": 4,
    "start_time": "2021-12-18T19:25:58.051Z"
   },
   {
    "duration": 319,
    "start_time": "2021-12-18T19:25:59.082Z"
   },
   {
    "duration": 371,
    "start_time": "2021-12-18T19:26:09.004Z"
   },
   {
    "duration": 255,
    "start_time": "2021-12-18T19:26:26.303Z"
   },
   {
    "duration": -2976,
    "start_time": "2021-12-18T19:26:29.537Z"
   },
   {
    "duration": -2987,
    "start_time": "2021-12-18T19:26:29.551Z"
   },
   {
    "duration": 896,
    "start_time": "2021-12-18T19:26:39.710Z"
   },
   {
    "duration": 73,
    "start_time": "2021-12-18T19:26:59.851Z"
   },
   {
    "duration": 15,
    "start_time": "2021-12-18T19:27:02.038Z"
   },
   {
    "duration": 22,
    "start_time": "2021-12-18T19:27:04.425Z"
   },
   {
    "duration": 3,
    "start_time": "2021-12-18T19:27:19.516Z"
   },
   {
    "duration": 7,
    "start_time": "2021-12-18T19:27:21.964Z"
   },
   {
    "duration": 3,
    "start_time": "2021-12-18T19:27:26.165Z"
   },
   {
    "duration": 12,
    "start_time": "2021-12-18T19:27:32.781Z"
   },
   {
    "duration": 7,
    "start_time": "2021-12-18T19:27:33.757Z"
   },
   {
    "duration": 13,
    "start_time": "2021-12-18T19:27:55.154Z"
   },
   {
    "duration": 3,
    "start_time": "2021-12-18T19:28:08.393Z"
   },
   {
    "duration": 12,
    "start_time": "2021-12-18T19:28:11.156Z"
   },
   {
    "duration": 3,
    "start_time": "2021-12-18T19:28:15.211Z"
   },
   {
    "duration": 7,
    "start_time": "2021-12-18T19:28:17.811Z"
   },
   {
    "duration": 28,
    "start_time": "2021-12-18T19:28:18.772Z"
   },
   {
    "duration": 7,
    "start_time": "2021-12-18T19:28:19.486Z"
   },
   {
    "duration": 3,
    "start_time": "2021-12-18T19:28:23.922Z"
   },
   {
    "duration": 10,
    "start_time": "2021-12-18T19:28:29.596Z"
   },
   {
    "duration": 9,
    "start_time": "2021-12-18T19:28:37.578Z"
   },
   {
    "duration": 4,
    "start_time": "2021-12-18T19:28:51.796Z"
   },
   {
    "duration": 7,
    "start_time": "2021-12-18T19:28:56.414Z"
   },
   {
    "duration": 8,
    "start_time": "2021-12-18T19:28:58.246Z"
   },
   {
    "duration": 7,
    "start_time": "2021-12-18T19:29:04.174Z"
   },
   {
    "duration": 7,
    "start_time": "2021-12-18T19:31:36.099Z"
   },
   {
    "duration": 16,
    "start_time": "2021-12-18T19:31:37.435Z"
   },
   {
    "duration": 4,
    "start_time": "2021-12-18T19:31:51.256Z"
   },
   {
    "duration": 11,
    "start_time": "2021-12-18T19:31:52.414Z"
   },
   {
    "duration": 3,
    "start_time": "2021-12-18T19:31:53.497Z"
   },
   {
    "duration": 21,
    "start_time": "2021-12-18T19:32:00.314Z"
   },
   {
    "duration": 12,
    "start_time": "2021-12-18T19:32:01.763Z"
   },
   {
    "duration": 335,
    "start_time": "2021-12-18T19:32:09.317Z"
   },
   {
    "duration": 9,
    "start_time": "2021-12-18T19:32:21.849Z"
   },
   {
    "duration": 15,
    "start_time": "2021-12-18T19:32:42.355Z"
   },
   {
    "duration": 11,
    "start_time": "2021-12-18T19:32:46.572Z"
   },
   {
    "duration": 3,
    "start_time": "2021-12-18T19:32:47.383Z"
   },
   {
    "duration": 13,
    "start_time": "2021-12-18T19:32:48.387Z"
   },
   {
    "duration": 8,
    "start_time": "2021-12-18T19:32:49.361Z"
   },
   {
    "duration": 13,
    "start_time": "2021-12-18T19:32:50.127Z"
   },
   {
    "duration": 15,
    "start_time": "2021-12-18T19:32:59.166Z"
   },
   {
    "duration": 21,
    "start_time": "2021-12-18T19:32:59.524Z"
   },
   {
    "duration": 4,
    "start_time": "2021-12-18T19:33:00.321Z"
   },
   {
    "duration": 9,
    "start_time": "2021-12-18T19:33:01.037Z"
   },
   {
    "duration": 5,
    "start_time": "2021-12-18T19:33:02.391Z"
   },
   {
    "duration": 14,
    "start_time": "2021-12-18T19:33:03.225Z"
   },
   {
    "duration": 9,
    "start_time": "2021-12-18T19:33:03.656Z"
   },
   {
    "duration": 3,
    "start_time": "2021-12-18T19:33:05.639Z"
   },
   {
    "duration": 14,
    "start_time": "2021-12-18T20:39:44.650Z"
   },
   {
    "duration": 4,
    "start_time": "2021-12-18T20:39:46.064Z"
   },
   {
    "duration": 7,
    "start_time": "2021-12-18T20:39:49.732Z"
   },
   {
    "duration": 7,
    "start_time": "2021-12-18T20:40:04.902Z"
   },
   {
    "duration": 32,
    "start_time": "2021-12-18T20:40:05.748Z"
   },
   {
    "duration": 7,
    "start_time": "2021-12-18T20:40:06.648Z"
   },
   {
    "duration": 3,
    "start_time": "2021-12-18T20:40:09.039Z"
   },
   {
    "duration": 9,
    "start_time": "2021-12-18T20:40:12.358Z"
   },
   {
    "duration": 8,
    "start_time": "2021-12-18T20:40:13.936Z"
   },
   {
    "duration": 3,
    "start_time": "2021-12-18T20:40:15.775Z"
   },
   {
    "duration": 7,
    "start_time": "2021-12-18T20:40:21.388Z"
   },
   {
    "duration": 6,
    "start_time": "2021-12-18T20:40:25.623Z"
   },
   {
    "duration": 7,
    "start_time": "2021-12-18T20:40:32.259Z"
   },
   {
    "duration": 8,
    "start_time": "2021-12-18T20:40:57.193Z"
   },
   {
    "duration": 6,
    "start_time": "2021-12-18T20:41:12.552Z"
   },
   {
    "duration": 13,
    "start_time": "2021-12-18T20:41:19.444Z"
   },
   {
    "duration": 3,
    "start_time": "2021-12-18T20:41:26.178Z"
   },
   {
    "duration": 11,
    "start_time": "2021-12-18T20:41:27.682Z"
   },
   {
    "duration": 3,
    "start_time": "2021-12-18T20:41:28.409Z"
   },
   {
    "duration": 13,
    "start_time": "2021-12-18T20:41:32.998Z"
   },
   {
    "duration": 7,
    "start_time": "2021-12-18T20:41:34.040Z"
   },
   {
    "duration": 14,
    "start_time": "2021-12-18T20:41:35.918Z"
   },
   {
    "duration": 7,
    "start_time": "2021-12-18T20:41:39.647Z"
   },
   {
    "duration": 11,
    "start_time": "2021-12-18T20:41:43.025Z"
   },
   {
    "duration": 8,
    "start_time": "2021-12-18T20:41:54.052Z"
   },
   {
    "duration": 3,
    "start_time": "2021-12-18T20:42:00.198Z"
   },
   {
    "duration": 3,
    "start_time": "2021-12-18T20:42:01.034Z"
   },
   {
    "duration": 24,
    "start_time": "2021-12-18T20:42:05.603Z"
   },
   {
    "duration": 7,
    "start_time": "2021-12-18T20:43:31.594Z"
   },
   {
    "duration": 7,
    "start_time": "2021-12-18T20:43:34.024Z"
   },
   {
    "duration": 7,
    "start_time": "2021-12-18T20:43:39.980Z"
   },
   {
    "duration": 6,
    "start_time": "2021-12-18T20:43:48.618Z"
   },
   {
    "duration": 13,
    "start_time": "2021-12-18T20:43:50.728Z"
   },
   {
    "duration": 3,
    "start_time": "2021-12-18T20:43:53.075Z"
   },
   {
    "duration": 10,
    "start_time": "2021-12-18T20:43:54.375Z"
   },
   {
    "duration": 3,
    "start_time": "2021-12-18T20:43:55.363Z"
   },
   {
    "duration": 13,
    "start_time": "2021-12-18T20:43:57.293Z"
   },
   {
    "duration": 9,
    "start_time": "2021-12-18T20:43:58.235Z"
   },
   {
    "duration": 13,
    "start_time": "2021-12-18T20:44:00.519Z"
   },
   {
    "duration": 6,
    "start_time": "2021-12-18T20:44:03.028Z"
   },
   {
    "duration": 3,
    "start_time": "2021-12-18T20:44:05.534Z"
   },
   {
    "duration": 3,
    "start_time": "2021-12-18T20:44:07.333Z"
   },
   {
    "duration": 23,
    "start_time": "2021-12-18T20:44:09.669Z"
   },
   {
    "duration": 6,
    "start_time": "2021-12-18T20:47:39.570Z"
   },
   {
    "duration": 6,
    "start_time": "2021-12-18T20:47:48.986Z"
   },
   {
    "duration": 87,
    "start_time": "2021-12-18T20:50:09.831Z"
   },
   {
    "duration": 87,
    "start_time": "2021-12-18T20:50:22.105Z"
   },
   {
    "duration": 103,
    "start_time": "2021-12-18T20:50:37.143Z"
   },
   {
    "duration": 89,
    "start_time": "2021-12-18T20:50:41.723Z"
   },
   {
    "duration": 84,
    "start_time": "2021-12-18T20:50:50.008Z"
   },
   {
    "duration": 91,
    "start_time": "2021-12-18T20:51:27.753Z"
   },
   {
    "duration": 102,
    "start_time": "2021-12-18T20:51:39.503Z"
   },
   {
    "duration": 92,
    "start_time": "2021-12-18T20:52:16.143Z"
   },
   {
    "duration": 93,
    "start_time": "2021-12-18T20:52:28.439Z"
   },
   {
    "duration": 96,
    "start_time": "2021-12-18T20:52:39.680Z"
   },
   {
    "duration": 110,
    "start_time": "2021-12-18T20:52:44.801Z"
   },
   {
    "duration": 9,
    "start_time": "2021-12-18T20:54:33.576Z"
   },
   {
    "duration": 9,
    "start_time": "2021-12-18T20:54:51.793Z"
   },
   {
    "duration": 7,
    "start_time": "2021-12-18T20:56:00.041Z"
   },
   {
    "duration": 6,
    "start_time": "2021-12-18T20:56:16.035Z"
   },
   {
    "duration": 12,
    "start_time": "2021-12-18T20:56:16.807Z"
   },
   {
    "duration": 4,
    "start_time": "2021-12-18T20:56:20.323Z"
   },
   {
    "duration": 14,
    "start_time": "2021-12-18T20:56:23.293Z"
   },
   {
    "duration": 3,
    "start_time": "2021-12-18T20:56:26.062Z"
   },
   {
    "duration": 13,
    "start_time": "2021-12-18T20:56:27.436Z"
   },
   {
    "duration": 16,
    "start_time": "2021-12-18T20:56:38.510Z"
   },
   {
    "duration": 8,
    "start_time": "2021-12-18T20:56:39.458Z"
   },
   {
    "duration": 13,
    "start_time": "2021-12-18T20:56:40.204Z"
   },
   {
    "duration": 7,
    "start_time": "2021-12-18T20:56:41.634Z"
   },
   {
    "duration": 4,
    "start_time": "2021-12-18T20:56:42.291Z"
   },
   {
    "duration": 3,
    "start_time": "2021-12-18T20:56:43.064Z"
   },
   {
    "duration": 27,
    "start_time": "2021-12-18T20:56:44.621Z"
   },
   {
    "duration": 79,
    "start_time": "2021-12-18T20:56:53.756Z"
   },
   {
    "duration": 15,
    "start_time": "2021-12-18T20:56:54.918Z"
   },
   {
    "duration": 28,
    "start_time": "2021-12-18T20:56:55.981Z"
   },
   {
    "duration": 4,
    "start_time": "2021-12-18T20:56:57.871Z"
   },
   {
    "duration": 8,
    "start_time": "2021-12-18T20:56:58.803Z"
   },
   {
    "duration": 4,
    "start_time": "2021-12-18T20:57:00.137Z"
   },
   {
    "duration": 12,
    "start_time": "2021-12-18T20:57:01.186Z"
   },
   {
    "duration": 7,
    "start_time": "2021-12-18T20:57:01.690Z"
   },
   {
    "duration": 3,
    "start_time": "2021-12-18T20:57:02.709Z"
   },
   {
    "duration": 12,
    "start_time": "2021-12-18T20:57:03.585Z"
   },
   {
    "duration": 3,
    "start_time": "2021-12-18T20:57:04.614Z"
   },
   {
    "duration": 15,
    "start_time": "2021-12-18T20:57:05.854Z"
   },
   {
    "duration": 24,
    "start_time": "2021-12-18T20:57:06.360Z"
   },
   {
    "duration": 8,
    "start_time": "2021-12-18T20:57:08.131Z"
   },
   {
    "duration": 4,
    "start_time": "2021-12-18T20:57:08.178Z"
   },
   {
    "duration": 9,
    "start_time": "2021-12-18T20:57:09.227Z"
   },
   {
    "duration": 8,
    "start_time": "2021-12-18T20:57:09.709Z"
   },
   {
    "duration": 3,
    "start_time": "2021-12-18T20:57:10.777Z"
   },
   {
    "duration": 10,
    "start_time": "2021-12-18T20:57:12.124Z"
   },
   {
    "duration": 8,
    "start_time": "2021-12-18T20:57:15.339Z"
   },
   {
    "duration": 8,
    "start_time": "2021-12-18T20:57:17.035Z"
   },
   {
    "duration": 8,
    "start_time": "2021-12-18T20:57:20.813Z"
   },
   {
    "duration": 15,
    "start_time": "2021-12-18T20:57:21.993Z"
   },
   {
    "duration": 3,
    "start_time": "2021-12-18T20:57:24.920Z"
   },
   {
    "duration": 10,
    "start_time": "2021-12-18T20:57:25.606Z"
   },
   {
    "duration": 3,
    "start_time": "2021-12-18T20:57:26.061Z"
   },
   {
    "duration": 20,
    "start_time": "2021-12-18T20:57:27.554Z"
   },
   {
    "duration": 8,
    "start_time": "2021-12-18T20:57:31.696Z"
   },
   {
    "duration": 19,
    "start_time": "2021-12-18T20:57:34.434Z"
   },
   {
    "duration": 11,
    "start_time": "2021-12-18T20:58:06.938Z"
   },
   {
    "duration": 15,
    "start_time": "2021-12-18T20:58:08.675Z"
   },
   {
    "duration": 268,
    "start_time": "2021-12-18T20:59:43.480Z"
   },
   {
    "duration": 265,
    "start_time": "2021-12-18T20:59:49.320Z"
   },
   {
    "duration": 13,
    "start_time": "2021-12-18T20:59:52.724Z"
   },
   {
    "duration": 344,
    "start_time": "2021-12-18T20:59:53.554Z"
   },
   {
    "duration": 278,
    "start_time": "2021-12-18T21:00:05.381Z"
   },
   {
    "duration": 14,
    "start_time": "2021-12-18T21:00:08.479Z"
   },
   {
    "duration": 424,
    "start_time": "2021-12-18T21:00:09.689Z"
   },
   {
    "duration": 73,
    "start_time": "2021-12-18T21:00:29.341Z"
   },
   {
    "duration": 15,
    "start_time": "2021-12-18T21:00:31.895Z"
   },
   {
    "duration": 20,
    "start_time": "2021-12-18T21:00:32.650Z"
   },
   {
    "duration": 3,
    "start_time": "2021-12-18T21:00:33.940Z"
   },
   {
    "duration": 8,
    "start_time": "2021-12-18T21:00:35.095Z"
   },
   {
    "duration": 4,
    "start_time": "2021-12-18T21:00:36.244Z"
   },
   {
    "duration": 11,
    "start_time": "2021-12-18T21:00:37.339Z"
   },
   {
    "duration": 8,
    "start_time": "2021-12-18T21:00:37.874Z"
   },
   {
    "duration": 3,
    "start_time": "2021-12-18T21:00:39.760Z"
   },
   {
    "duration": 12,
    "start_time": "2021-12-18T21:00:41.158Z"
   },
   {
    "duration": 4,
    "start_time": "2021-12-18T21:00:42.213Z"
   },
   {
    "duration": 7,
    "start_time": "2021-12-18T21:00:43.484Z"
   },
   {
    "duration": 25,
    "start_time": "2021-12-18T21:00:43.979Z"
   },
   {
    "duration": 7,
    "start_time": "2021-12-18T21:00:44.510Z"
   },
   {
    "duration": 4,
    "start_time": "2021-12-18T21:00:45.501Z"
   },
   {
    "duration": 10,
    "start_time": "2021-12-18T21:00:46.971Z"
   },
   {
    "duration": 8,
    "start_time": "2021-12-18T21:00:48.974Z"
   },
   {
    "duration": 4,
    "start_time": "2021-12-18T21:00:50.564Z"
   },
   {
    "duration": 8,
    "start_time": "2021-12-18T21:00:51.970Z"
   },
   {
    "duration": 6,
    "start_time": "2021-12-18T21:00:55.581Z"
   },
   {
    "duration": 6,
    "start_time": "2021-12-18T21:00:57.146Z"
   },
   {
    "duration": 6,
    "start_time": "2021-12-18T21:01:01.155Z"
   },
   {
    "duration": 12,
    "start_time": "2021-12-18T21:01:01.876Z"
   },
   {
    "duration": 3,
    "start_time": "2021-12-18T21:01:06.633Z"
   },
   {
    "duration": 10,
    "start_time": "2021-12-18T21:01:07.561Z"
   },
   {
    "duration": 3,
    "start_time": "2021-12-18T21:01:08.309Z"
   },
   {
    "duration": 18,
    "start_time": "2021-12-18T21:01:10.314Z"
   },
   {
    "duration": 12,
    "start_time": "2021-12-18T21:01:11.625Z"
   },
   {
    "duration": 301,
    "start_time": "2021-12-18T21:01:15.485Z"
   },
   {
    "duration": 273,
    "start_time": "2021-12-18T21:01:36.931Z"
   },
   {
    "duration": 272,
    "start_time": "2021-12-18T21:01:38.131Z"
   },
   {
    "duration": 308,
    "start_time": "2021-12-18T21:01:40.459Z"
   },
   {
    "duration": 3,
    "start_time": "2021-12-18T21:01:40.939Z"
   },
   {
    "duration": 258,
    "start_time": "2021-12-18T21:01:43.480Z"
   },
   {
    "duration": 298,
    "start_time": "2021-12-18T21:01:46.204Z"
   },
   {
    "duration": 75,
    "start_time": "2021-12-18T21:01:52.071Z"
   },
   {
    "duration": 15,
    "start_time": "2021-12-18T21:01:53.949Z"
   },
   {
    "duration": 29,
    "start_time": "2021-12-18T21:01:54.448Z"
   },
   {
    "duration": 3,
    "start_time": "2021-12-18T21:01:55.458Z"
   },
   {
    "duration": 8,
    "start_time": "2021-12-18T21:01:56.211Z"
   },
   {
    "duration": 3,
    "start_time": "2021-12-18T21:01:56.811Z"
   },
   {
    "duration": 14,
    "start_time": "2021-12-18T21:01:57.531Z"
   },
   {
    "duration": 8,
    "start_time": "2021-12-18T21:01:57.873Z"
   },
   {
    "duration": 3,
    "start_time": "2021-12-18T21:01:58.479Z"
   },
   {
    "duration": 12,
    "start_time": "2021-12-18T21:01:59.109Z"
   },
   {
    "duration": 3,
    "start_time": "2021-12-18T21:01:59.890Z"
   },
   {
    "duration": 6,
    "start_time": "2021-12-18T21:02:01.609Z"
   },
   {
    "duration": 34,
    "start_time": "2021-12-18T21:02:03.196Z"
   },
   {
    "duration": 7,
    "start_time": "2021-12-18T21:02:06.041Z"
   },
   {
    "duration": 4,
    "start_time": "2021-12-18T21:02:07.874Z"
   },
   {
    "duration": 10,
    "start_time": "2021-12-18T21:02:31.621Z"
   },
   {
    "duration": 8,
    "start_time": "2021-12-18T21:02:32.194Z"
   },
   {
    "duration": 4,
    "start_time": "2021-12-18T21:02:33.607Z"
   },
   {
    "duration": 7,
    "start_time": "2021-12-18T21:02:35.636Z"
   },
   {
    "duration": 6,
    "start_time": "2021-12-18T21:02:36.760Z"
   },
   {
    "duration": 8,
    "start_time": "2021-12-18T21:02:38.699Z"
   },
   {
    "duration": 6,
    "start_time": "2021-12-18T21:02:40.339Z"
   },
   {
    "duration": 13,
    "start_time": "2021-12-18T21:02:42.125Z"
   },
   {
    "duration": 4,
    "start_time": "2021-12-18T21:02:45.798Z"
   },
   {
    "duration": 11,
    "start_time": "2021-12-18T21:02:46.586Z"
   },
   {
    "duration": 4,
    "start_time": "2021-12-18T21:02:47.886Z"
   },
   {
    "duration": 19,
    "start_time": "2021-12-18T21:02:50.006Z"
   },
   {
    "duration": 11,
    "start_time": "2021-12-18T21:02:53.649Z"
   },
   {
    "duration": 13,
    "start_time": "2021-12-18T21:02:59.524Z"
   },
   {
    "duration": 7,
    "start_time": "2021-12-18T21:03:07.460Z"
   },
   {
    "duration": 4,
    "start_time": "2021-12-18T21:03:08.873Z"
   },
   {
    "duration": 3,
    "start_time": "2021-12-18T21:03:15.199Z"
   },
   {
    "duration": 25,
    "start_time": "2021-12-18T21:03:16.786Z"
   },
   {
    "duration": 24,
    "start_time": "2021-12-18T21:03:46.276Z"
   },
   {
    "duration": 27,
    "start_time": "2021-12-18T21:03:55.478Z"
   },
   {
    "duration": 285,
    "start_time": "2021-12-18T21:04:03.536Z"
   },
   {
    "duration": 289,
    "start_time": "2021-12-18T21:04:30.222Z"
   },
   {
    "duration": 14,
    "start_time": "2021-12-18T21:04:39.665Z"
   },
   {
    "duration": 15,
    "start_time": "2021-12-18T21:05:02.804Z"
   },
   {
    "duration": 272,
    "start_time": "2021-12-18T21:05:09.280Z"
   },
   {
    "duration": 260,
    "start_time": "2021-12-18T21:05:13.484Z"
   },
   {
    "duration": 320,
    "start_time": "2021-12-18T21:08:09.622Z"
   },
   {
    "duration": 253,
    "start_time": "2021-12-18T21:08:13.637Z"
   },
   {
    "duration": 6,
    "start_time": "2021-12-18T21:08:29.732Z"
   },
   {
    "duration": 10,
    "start_time": "2021-12-18T21:09:31.124Z"
   },
   {
    "duration": 15,
    "start_time": "2021-12-18T21:09:52.700Z"
   },
   {
    "duration": 12,
    "start_time": "2021-12-18T21:10:37.500Z"
   },
   {
    "duration": 4,
    "start_time": "2021-12-18T21:10:39.147Z"
   },
   {
    "duration": 9,
    "start_time": "2021-12-18T21:10:40.726Z"
   },
   {
    "duration": 38,
    "start_time": "2021-12-18T21:10:42.106Z"
   },
   {
    "duration": 8,
    "start_time": "2021-12-18T21:10:42.834Z"
   },
   {
    "duration": 4,
    "start_time": "2021-12-18T21:10:44.211Z"
   },
   {
    "duration": 12,
    "start_time": "2021-12-18T21:10:45.076Z"
   },
   {
    "duration": 10,
    "start_time": "2021-12-18T21:10:46.165Z"
   },
   {
    "duration": 4,
    "start_time": "2021-12-18T21:10:47.381Z"
   },
   {
    "duration": 8,
    "start_time": "2021-12-18T21:10:48.474Z"
   },
   {
    "duration": 6,
    "start_time": "2021-12-18T21:10:49.795Z"
   },
   {
    "duration": 7,
    "start_time": "2021-12-18T21:10:51.407Z"
   },
   {
    "duration": 6,
    "start_time": "2021-12-18T21:10:53.299Z"
   },
   {
    "duration": 14,
    "start_time": "2021-12-18T21:10:54.075Z"
   },
   {
    "duration": 4,
    "start_time": "2021-12-18T21:10:55.670Z"
   },
   {
    "duration": 10,
    "start_time": "2021-12-18T21:10:56.256Z"
   },
   {
    "duration": 3,
    "start_time": "2021-12-18T21:10:57.216Z"
   },
   {
    "duration": 13,
    "start_time": "2021-12-18T21:10:58.855Z"
   },
   {
    "duration": 279,
    "start_time": "2021-12-18T21:10:59.971Z"
   },
   {
    "duration": 13,
    "start_time": "2021-12-18T21:11:05.059Z"
   },
   {
    "duration": 7,
    "start_time": "2021-12-18T21:11:11.330Z"
   },
   {
    "duration": 2,
    "start_time": "2021-12-18T21:11:12.365Z"
   },
   {
    "duration": 3,
    "start_time": "2021-12-18T21:11:14.035Z"
   },
   {
    "duration": 6,
    "start_time": "2021-12-18T21:11:24.967Z"
   },
   {
    "duration": 287,
    "start_time": "2021-12-18T21:14:00.476Z"
   },
   {
    "duration": 33,
    "start_time": "2021-12-18T21:14:09.767Z"
   },
   {
    "duration": 24,
    "start_time": "2021-12-18T21:14:32.055Z"
   },
   {
    "duration": 7,
    "start_time": "2021-12-18T21:14:36.807Z"
   },
   {
    "duration": 6,
    "start_time": "2021-12-18T21:14:49.868Z"
   },
   {
    "duration": 39,
    "start_time": "2021-12-18T21:14:52.264Z"
   },
   {
    "duration": 23,
    "start_time": "2021-12-18T21:14:53.211Z"
   },
   {
    "duration": 6,
    "start_time": "2021-12-18T21:15:10.494Z"
   },
   {
    "duration": 271,
    "start_time": "2021-12-18T21:15:20.737Z"
   },
   {
    "duration": 24,
    "start_time": "2021-12-18T21:15:31.829Z"
   },
   {
    "duration": 4,
    "start_time": "2021-12-18T21:15:35.950Z"
   },
   {
    "duration": 3,
    "start_time": "2021-12-18T21:15:36.542Z"
   },
   {
    "duration": 22,
    "start_time": "2021-12-18T21:15:37.551Z"
   },
   {
    "duration": 23,
    "start_time": "2021-12-18T21:15:45.236Z"
   },
   {
    "duration": 67,
    "start_time": "2021-12-18T21:15:46.057Z"
   },
   {
    "duration": 23,
    "start_time": "2021-12-18T21:15:46.755Z"
   },
   {
    "duration": 14,
    "start_time": "2021-12-18T21:15:48.820Z"
   },
   {
    "duration": 4,
    "start_time": "2021-12-18T21:15:50.795Z"
   },
   {
    "duration": 23,
    "start_time": "2021-12-18T21:15:56.077Z"
   },
   {
    "duration": 7038,
    "start_time": "2021-12-18T21:16:30.369Z"
   },
   {
    "duration": -621,
    "start_time": "2021-12-18T21:16:38.031Z"
   },
   {
    "duration": 7101,
    "start_time": "2021-12-18T21:16:42.593Z"
   },
   {
    "duration": -348,
    "start_time": "2021-12-18T21:16:50.044Z"
   },
   {
    "duration": 6,
    "start_time": "2021-12-18T21:17:01.642Z"
   },
   {
    "duration": 3,
    "start_time": "2021-12-18T21:17:06.532Z"
   },
   {
    "duration": 4,
    "start_time": "2021-12-18T21:17:12.022Z"
   },
   {
    "duration": 30,
    "start_time": "2021-12-18T21:17:23.312Z"
   },
   {
    "duration": 11,
    "start_time": "2021-12-18T21:17:26.656Z"
   },
   {
    "duration": 2,
    "start_time": "2021-12-18T21:17:33.771Z"
   },
   {
    "duration": 44,
    "start_time": "2021-12-18T21:18:02.126Z"
   },
   {
    "duration": 45,
    "start_time": "2021-12-18T21:18:19.321Z"
   },
   {
    "duration": 46,
    "start_time": "2021-12-18T21:18:50.855Z"
   },
   {
    "duration": 38,
    "start_time": "2021-12-18T21:19:17.660Z"
   },
   {
    "duration": 39,
    "start_time": "2021-12-18T21:19:29.951Z"
   },
   {
    "duration": 55,
    "start_time": "2021-12-18T21:20:19.882Z"
   },
   {
    "duration": 295,
    "start_time": "2021-12-18T21:21:28.112Z"
   },
   {
    "duration": 38,
    "start_time": "2021-12-18T21:21:42.736Z"
   },
   {
    "duration": 49,
    "start_time": "2021-12-18T21:21:48.866Z"
   },
   {
    "duration": 319,
    "start_time": "2021-12-18T21:22:38.625Z"
   },
   {
    "duration": 320,
    "start_time": "2021-12-18T21:22:53.588Z"
   },
   {
    "duration": 317,
    "start_time": "2021-12-18T21:23:28.056Z"
   },
   {
    "duration": 51,
    "start_time": "2021-12-18T21:23:37.822Z"
   },
   {
    "duration": 49,
    "start_time": "2021-12-18T21:25:39.292Z"
   },
   {
    "duration": 13,
    "start_time": "2021-12-18T21:26:52.548Z"
   },
   {
    "duration": 9,
    "start_time": "2021-12-18T21:27:01.768Z"
   },
   {
    "duration": 15,
    "start_time": "2021-12-18T21:28:34.919Z"
   },
   {
    "duration": 51,
    "start_time": "2021-12-18T21:28:46.236Z"
   },
   {
    "duration": 10,
    "start_time": "2021-12-18T21:29:23.122Z"
   },
   {
    "duration": 8,
    "start_time": "2021-12-18T21:29:57.823Z"
   },
   {
    "duration": 14,
    "start_time": "2021-12-18T21:30:10.079Z"
   },
   {
    "duration": 57,
    "start_time": "2021-12-18T21:31:48.802Z"
   },
   {
    "duration": 58,
    "start_time": "2021-12-18T21:34:06.098Z"
   },
   {
    "duration": 56,
    "start_time": "2021-12-18T21:36:04.037Z"
   },
   {
    "duration": 22,
    "start_time": "2021-12-18T21:41:42.743Z"
   },
   {
    "duration": 7,
    "start_time": "2021-12-18T21:41:46.788Z"
   },
   {
    "duration": 3,
    "start_time": "2021-12-18T21:41:47.631Z"
   },
   {
    "duration": 3,
    "start_time": "2021-12-18T21:41:48.112Z"
   },
   {
    "duration": 24,
    "start_time": "2021-12-18T21:41:49.012Z"
   },
   {
    "duration": 26,
    "start_time": "2021-12-18T21:41:49.577Z"
   },
   {
    "duration": 22,
    "start_time": "2021-12-18T21:41:50.088Z"
   },
   {
    "duration": 18,
    "start_time": "2021-12-18T21:41:50.666Z"
   },
   {
    "duration": 3,
    "start_time": "2021-12-18T21:41:53.536Z"
   },
   {
    "duration": 7300,
    "start_time": "2021-12-18T21:41:55.462Z"
   },
   {
    "duration": -187,
    "start_time": "2021-12-18T21:42:02.953Z"
   },
   {
    "duration": -192,
    "start_time": "2021-12-18T21:42:02.959Z"
   },
   {
    "duration": -195,
    "start_time": "2021-12-18T21:42:02.964Z"
   },
   {
    "duration": -198,
    "start_time": "2021-12-18T21:42:02.969Z"
   },
   {
    "duration": -200,
    "start_time": "2021-12-18T21:42:02.974Z"
   },
   {
    "duration": -203,
    "start_time": "2021-12-18T21:42:02.979Z"
   },
   {
    "duration": 98,
    "start_time": "2021-12-18T21:42:04.102Z"
   },
   {
    "duration": 3,
    "start_time": "2021-12-18T21:43:14.743Z"
   },
   {
    "duration": 3,
    "start_time": "2021-12-18T21:43:16.031Z"
   },
   {
    "duration": 3,
    "start_time": "2021-12-18T21:43:16.561Z"
   },
   {
    "duration": 6963,
    "start_time": "2021-12-18T21:43:51.077Z"
   },
   {
    "duration": -184,
    "start_time": "2021-12-18T21:43:58.226Z"
   },
   {
    "duration": -194,
    "start_time": "2021-12-18T21:43:58.238Z"
   },
   {
    "duration": -198,
    "start_time": "2021-12-18T21:43:58.243Z"
   },
   {
    "duration": -201,
    "start_time": "2021-12-18T21:43:58.248Z"
   },
   {
    "duration": -204,
    "start_time": "2021-12-18T21:43:58.252Z"
   },
   {
    "duration": -209,
    "start_time": "2021-12-18T21:43:58.258Z"
   },
   {
    "duration": -211,
    "start_time": "2021-12-18T21:43:58.262Z"
   },
   {
    "duration": -215,
    "start_time": "2021-12-18T21:43:58.267Z"
   },
   {
    "duration": 4,
    "start_time": "2021-12-18T21:43:58.054Z"
   },
   {
    "duration": 4,
    "start_time": "2021-12-18T21:43:58.456Z"
   },
   {
    "duration": 3,
    "start_time": "2021-12-18T21:43:59.332Z"
   },
   {
    "duration": 10,
    "start_time": "2021-12-18T21:44:35.802Z"
   },
   {
    "duration": 13,
    "start_time": "2021-12-18T21:44:50.952Z"
   },
   {
    "duration": 12,
    "start_time": "2021-12-18T21:45:12.571Z"
   },
   {
    "duration": 37,
    "start_time": "2021-12-18T21:47:06.206Z"
   },
   {
    "duration": 47,
    "start_time": "2021-12-18T21:48:21.127Z"
   },
   {
    "duration": 3,
    "start_time": "2021-12-18T21:48:21.862Z"
   },
   {
    "duration": 3,
    "start_time": "2021-12-18T21:48:22.418Z"
   },
   {
    "duration": 3,
    "start_time": "2021-12-18T21:48:23.942Z"
   },
   {
    "duration": 3,
    "start_time": "2021-12-18T21:48:24.447Z"
   },
   {
    "duration": 3,
    "start_time": "2021-12-18T21:48:25.051Z"
   },
   {
    "duration": 3,
    "start_time": "2021-12-18T21:48:25.618Z"
   },
   {
    "duration": 3,
    "start_time": "2021-12-18T21:48:26.512Z"
   },
   {
    "duration": 12,
    "start_time": "2021-12-18T21:48:27.742Z"
   },
   {
    "duration": 57,
    "start_time": "2021-12-18T21:49:04.951Z"
   },
   {
    "duration": 11,
    "start_time": "2021-12-18T21:49:41.948Z"
   },
   {
    "duration": 264,
    "start_time": "2021-12-18T21:50:16.168Z"
   },
   {
    "duration": 90,
    "start_time": "2021-12-18T21:50:37.574Z"
   },
   {
    "duration": 102,
    "start_time": "2021-12-18T21:50:45.386Z"
   },
   {
    "duration": 3,
    "start_time": "2021-12-18T21:50:49.371Z"
   },
   {
    "duration": 3,
    "start_time": "2021-12-18T21:50:49.997Z"
   },
   {
    "duration": 85,
    "start_time": "2021-12-18T21:50:51.203Z"
   },
   {
    "duration": 105,
    "start_time": "2021-12-18T21:50:56.751Z"
   },
   {
    "duration": 280,
    "start_time": "2021-12-18T21:51:10.101Z"
   },
   {
    "duration": 11,
    "start_time": "2021-12-18T21:52:01.845Z"
   },
   {
    "duration": 11,
    "start_time": "2021-12-18T21:53:09.228Z"
   },
   {
    "duration": 444,
    "start_time": "2021-12-18T21:55:06.145Z"
   },
   {
    "duration": 481,
    "start_time": "2021-12-18T21:58:09.687Z"
   },
   {
    "duration": 441,
    "start_time": "2021-12-18T21:58:29.577Z"
   },
   {
    "duration": 260,
    "start_time": "2021-12-18T21:59:39.569Z"
   },
   {
    "duration": 524,
    "start_time": "2021-12-18T22:04:52.277Z"
   },
   {
    "duration": 6,
    "start_time": "2021-12-18T22:06:33.272Z"
   },
   {
    "duration": 6,
    "start_time": "2021-12-18T22:07:03.367Z"
   },
   {
    "duration": 6602,
    "start_time": "2021-12-18T22:07:51.325Z"
   },
   {
    "duration": -181,
    "start_time": "2021-12-18T22:07:58.113Z"
   },
   {
    "duration": 80,
    "start_time": "2021-12-18T22:08:03.307Z"
   },
   {
    "duration": 17,
    "start_time": "2021-12-18T22:08:04.168Z"
   },
   {
    "duration": 20,
    "start_time": "2021-12-18T22:08:05.323Z"
   },
   {
    "duration": 4,
    "start_time": "2021-12-18T22:08:06.609Z"
   },
   {
    "duration": 8,
    "start_time": "2021-12-18T22:08:07.589Z"
   },
   {
    "duration": 16,
    "start_time": "2021-12-18T22:08:08.600Z"
   },
   {
    "duration": 12,
    "start_time": "2021-12-18T22:08:09.459Z"
   },
   {
    "duration": 9,
    "start_time": "2021-12-18T22:08:09.892Z"
   },
   {
    "duration": 3,
    "start_time": "2021-12-18T22:08:10.897Z"
   },
   {
    "duration": 16,
    "start_time": "2021-12-18T22:08:11.843Z"
   },
   {
    "duration": 4,
    "start_time": "2021-12-18T22:08:12.964Z"
   },
   {
    "duration": 6,
    "start_time": "2021-12-18T22:08:14.355Z"
   },
   {
    "duration": 24,
    "start_time": "2021-12-18T22:08:14.960Z"
   },
   {
    "duration": 9,
    "start_time": "2021-12-18T22:08:15.652Z"
   },
   {
    "duration": 4,
    "start_time": "2021-12-18T22:08:16.787Z"
   },
   {
    "duration": 10,
    "start_time": "2021-12-18T22:08:17.781Z"
   },
   {
    "duration": 8,
    "start_time": "2021-12-18T22:08:19.334Z"
   },
   {
    "duration": 11,
    "start_time": "2021-12-18T22:08:21.009Z"
   },
   {
    "duration": 8,
    "start_time": "2021-12-18T22:08:35.732Z"
   },
   {
    "duration": 6,
    "start_time": "2021-12-18T22:08:38.787Z"
   },
   {
    "duration": 7,
    "start_time": "2021-12-18T22:08:40.612Z"
   },
   {
    "duration": 6,
    "start_time": "2021-12-18T22:08:42.952Z"
   },
   {
    "duration": 18,
    "start_time": "2021-12-18T22:08:45.810Z"
   },
   {
    "duration": 4,
    "start_time": "2021-12-18T22:08:48.678Z"
   },
   {
    "duration": 10,
    "start_time": "2021-12-18T22:08:49.472Z"
   },
   {
    "duration": 3,
    "start_time": "2021-12-18T22:08:51.048Z"
   },
   {
    "duration": 18,
    "start_time": "2021-12-18T22:08:52.319Z"
   },
   {
    "duration": 11,
    "start_time": "2021-12-18T22:08:53.002Z"
   },
   {
    "duration": 14,
    "start_time": "2021-12-18T22:08:54.769Z"
   },
   {
    "duration": 7,
    "start_time": "2021-12-18T22:08:56.923Z"
   },
   {
    "duration": 3,
    "start_time": "2021-12-18T22:08:58.314Z"
   },
   {
    "duration": 3,
    "start_time": "2021-12-18T22:09:00.337Z"
   },
   {
    "duration": 24,
    "start_time": "2021-12-18T22:09:03.719Z"
   },
   {
    "duration": 27,
    "start_time": "2021-12-18T22:09:12.017Z"
   },
   {
    "duration": 24,
    "start_time": "2021-12-18T22:09:12.742Z"
   },
   {
    "duration": 14,
    "start_time": "2021-12-18T22:09:13.820Z"
   },
   {
    "duration": 4,
    "start_time": "2021-12-18T22:09:19.622Z"
   },
   {
    "duration": 20,
    "start_time": "2021-12-18T22:09:22.542Z"
   },
   {
    "duration": 5,
    "start_time": "2021-12-18T22:09:36.904Z"
   },
   {
    "duration": 3,
    "start_time": "2021-12-18T22:09:43.059Z"
   },
   {
    "duration": 3,
    "start_time": "2021-12-18T22:09:43.523Z"
   },
   {
    "duration": 50,
    "start_time": "2021-12-18T22:09:45.295Z"
   },
   {
    "duration": 4,
    "start_time": "2021-12-18T22:09:46.137Z"
   },
   {
    "duration": 3,
    "start_time": "2021-12-18T22:09:46.844Z"
   },
   {
    "duration": 3,
    "start_time": "2021-12-18T22:09:48.483Z"
   },
   {
    "duration": 4,
    "start_time": "2021-12-18T22:09:49.142Z"
   },
   {
    "duration": 4,
    "start_time": "2021-12-18T22:09:49.633Z"
   },
   {
    "duration": 3,
    "start_time": "2021-12-18T22:09:50.017Z"
   },
   {
    "duration": 4,
    "start_time": "2021-12-18T22:09:50.819Z"
   },
   {
    "duration": 12,
    "start_time": "2021-12-18T22:09:52.517Z"
   },
   {
    "duration": 3,
    "start_time": "2021-12-18T22:09:56.338Z"
   },
   {
    "duration": 3,
    "start_time": "2021-12-18T22:09:58.079Z"
   },
   {
    "duration": 944,
    "start_time": "2021-12-18T22:10:00.679Z"
   },
   {
    "duration": 3,
    "start_time": "2021-12-18T22:10:46.729Z"
   },
   {
    "duration": 4,
    "start_time": "2021-12-18T22:10:47.513Z"
   },
   {
    "duration": 4,
    "start_time": "2021-12-18T22:10:48.080Z"
   },
   {
    "duration": 4,
    "start_time": "2021-12-18T22:10:48.829Z"
   },
   {
    "duration": 3,
    "start_time": "2021-12-18T22:10:50.023Z"
   },
   {
    "duration": 6,
    "start_time": "2021-12-18T22:10:51.467Z"
   },
   {
    "duration": 3,
    "start_time": "2021-12-18T22:10:52.809Z"
   },
   {
    "duration": 4,
    "start_time": "2021-12-18T22:10:54.095Z"
   },
   {
    "duration": 4,
    "start_time": "2021-12-18T22:10:54.540Z"
   },
   {
    "duration": 8,
    "start_time": "2021-12-18T22:21:20.829Z"
   },
   {
    "duration": 448,
    "start_time": "2021-12-18T22:24:48.739Z"
   },
   {
    "duration": 9,
    "start_time": "2021-12-18T22:25:43.125Z"
   },
   {
    "duration": 6,
    "start_time": "2021-12-18T22:25:50.775Z"
   },
   {
    "duration": 10,
    "start_time": "2021-12-18T22:26:08.986Z"
   },
   {
    "duration": 7,
    "start_time": "2021-12-18T22:31:28.001Z"
   },
   {
    "duration": 8,
    "start_time": "2021-12-18T22:31:59.880Z"
   },
   {
    "duration": 9,
    "start_time": "2021-12-18T22:33:13.235Z"
   },
   {
    "duration": 6,
    "start_time": "2021-12-18T22:49:23.102Z"
   },
   {
    "duration": 6,
    "start_time": "2021-12-18T22:49:56.592Z"
   },
   {
    "duration": 7,
    "start_time": "2021-12-18T22:50:06.716Z"
   },
   {
    "duration": 6,
    "start_time": "2021-12-18T22:50:22.723Z"
   },
   {
    "duration": 5,
    "start_time": "2021-12-18T22:50:34.641Z"
   },
   {
    "duration": 6,
    "start_time": "2021-12-18T22:50:53.413Z"
   },
   {
    "duration": 57,
    "start_time": "2021-12-18T22:55:07.252Z"
   },
   {
    "duration": 56,
    "start_time": "2021-12-18T22:55:25.287Z"
   },
   {
    "duration": 294,
    "start_time": "2021-12-18T22:56:51.071Z"
   },
   {
    "duration": 53,
    "start_time": "2021-12-18T22:57:15.794Z"
   },
   {
    "duration": 16,
    "start_time": "2021-12-18T22:57:16.870Z"
   },
   {
    "duration": 21,
    "start_time": "2021-12-18T22:57:17.576Z"
   },
   {
    "duration": 3,
    "start_time": "2021-12-18T22:57:18.826Z"
   },
   {
    "duration": 7,
    "start_time": "2021-12-18T22:57:19.858Z"
   },
   {
    "duration": 14,
    "start_time": "2021-12-18T22:57:20.983Z"
   },
   {
    "duration": 11,
    "start_time": "2021-12-18T22:57:22.058Z"
   },
   {
    "duration": 7,
    "start_time": "2021-12-18T22:57:23.755Z"
   },
   {
    "duration": 3,
    "start_time": "2021-12-18T22:57:25.605Z"
   },
   {
    "duration": 12,
    "start_time": "2021-12-18T22:57:28.271Z"
   },
   {
    "duration": 3,
    "start_time": "2021-12-18T22:57:32.448Z"
   },
   {
    "duration": 8,
    "start_time": "2021-12-18T22:57:34.038Z"
   },
   {
    "duration": 23,
    "start_time": "2021-12-18T22:57:36.511Z"
   },
   {
    "duration": 7,
    "start_time": "2021-12-18T22:57:37.807Z"
   },
   {
    "duration": 3,
    "start_time": "2021-12-18T22:57:39.386Z"
   },
   {
    "duration": 10,
    "start_time": "2021-12-18T22:57:43.602Z"
   },
   {
    "duration": 8,
    "start_time": "2021-12-18T22:57:44.883Z"
   },
   {
    "duration": 9,
    "start_time": "2021-12-18T22:57:47.444Z"
   },
   {
    "duration": 8,
    "start_time": "2021-12-18T22:57:49.101Z"
   },
   {
    "duration": 7,
    "start_time": "2021-12-18T22:57:50.136Z"
   },
   {
    "duration": 7,
    "start_time": "2021-12-18T22:57:52.732Z"
   },
   {
    "duration": 6,
    "start_time": "2021-12-18T22:58:09.942Z"
   },
   {
    "duration": 13,
    "start_time": "2021-12-18T22:58:11.483Z"
   },
   {
    "duration": 3,
    "start_time": "2021-12-18T22:58:13.588Z"
   },
   {
    "duration": 9,
    "start_time": "2021-12-18T22:58:14.327Z"
   },
   {
    "duration": 3,
    "start_time": "2021-12-18T22:58:18.090Z"
   },
   {
    "duration": 18,
    "start_time": "2021-12-18T22:58:19.717Z"
   },
   {
    "duration": 11,
    "start_time": "2021-12-18T22:58:21.221Z"
   },
   {
    "duration": 12,
    "start_time": "2021-12-18T22:58:23.001Z"
   },
   {
    "duration": 6,
    "start_time": "2021-12-18T22:58:24.746Z"
   },
   {
    "duration": 3,
    "start_time": "2021-12-18T22:58:26.373Z"
   },
   {
    "duration": 3,
    "start_time": "2021-12-18T22:58:27.126Z"
   },
   {
    "duration": 26,
    "start_time": "2021-12-18T22:58:28.166Z"
   },
   {
    "duration": 27,
    "start_time": "2021-12-18T22:58:33.276Z"
   },
   {
    "duration": 23,
    "start_time": "2021-12-18T22:58:36.396Z"
   },
   {
    "duration": 298,
    "start_time": "2021-12-18T22:59:20.948Z"
   },
   {
    "duration": 290,
    "start_time": "2021-12-18T22:59:30.749Z"
   },
   {
    "duration": 24,
    "start_time": "2021-12-18T22:59:57.133Z"
   },
   {
    "duration": 26,
    "start_time": "2021-12-18T23:00:07.048Z"
   },
   {
    "duration": 24,
    "start_time": "2021-12-18T23:00:25.927Z"
   },
   {
    "duration": 47,
    "start_time": "2021-12-18T23:03:55.326Z"
   },
   {
    "duration": 46,
    "start_time": "2021-12-18T23:05:03.361Z"
   },
   {
    "duration": 47,
    "start_time": "2021-12-18T23:05:07.316Z"
   },
   {
    "duration": 43,
    "start_time": "2021-12-18T23:05:23.303Z"
   },
   {
    "duration": 41,
    "start_time": "2021-12-18T23:05:26.667Z"
   },
   {
    "duration": 53,
    "start_time": "2021-12-18T23:05:55.968Z"
   },
   {
    "duration": 148,
    "start_time": "2021-12-18T23:06:19.209Z"
   },
   {
    "duration": 433,
    "start_time": "2021-12-18T23:08:24.402Z"
   },
   {
    "duration": 478,
    "start_time": "2021-12-18T23:08:35.634Z"
   },
   {
    "duration": 429,
    "start_time": "2021-12-18T23:09:01.312Z"
   },
   {
    "duration": 567,
    "start_time": "2021-12-18T23:09:57.536Z"
   },
   {
    "duration": 534,
    "start_time": "2021-12-18T23:10:04.528Z"
   },
   {
    "duration": 35,
    "start_time": "2021-12-18T23:10:05.877Z"
   },
   {
    "duration": 23,
    "start_time": "2021-12-18T23:10:07.008Z"
   },
   {
    "duration": 15,
    "start_time": "2021-12-18T23:10:08.394Z"
   },
   {
    "duration": 29,
    "start_time": "2021-12-18T23:10:53.594Z"
   },
   {
    "duration": 57,
    "start_time": "2021-12-18T23:11:12.999Z"
   },
   {
    "duration": 14,
    "start_time": "2021-12-18T23:11:13.540Z"
   },
   {
    "duration": 24,
    "start_time": "2021-12-18T23:11:14.653Z"
   },
   {
    "duration": 5,
    "start_time": "2021-12-18T23:11:16.873Z"
   },
   {
    "duration": 10,
    "start_time": "2021-12-18T23:11:17.911Z"
   },
   {
    "duration": 21,
    "start_time": "2021-12-18T23:11:19.135Z"
   },
   {
    "duration": 16,
    "start_time": "2021-12-18T23:11:20.430Z"
   },
   {
    "duration": 7,
    "start_time": "2021-12-18T23:11:21.038Z"
   },
   {
    "duration": 3,
    "start_time": "2021-12-18T23:11:22.221Z"
   },
   {
    "duration": 11,
    "start_time": "2021-12-18T23:11:23.503Z"
   },
   {
    "duration": 3,
    "start_time": "2021-12-18T23:11:29.968Z"
   },
   {
    "duration": 8,
    "start_time": "2021-12-18T23:11:31.833Z"
   },
   {
    "duration": 26,
    "start_time": "2021-12-18T23:11:32.424Z"
   },
   {
    "duration": 8,
    "start_time": "2021-12-18T23:11:33.017Z"
   },
   {
    "duration": 4,
    "start_time": "2021-12-18T23:11:34.328Z"
   },
   {
    "duration": 10,
    "start_time": "2021-12-18T23:11:35.425Z"
   },
   {
    "duration": 8,
    "start_time": "2021-12-18T23:11:39.338Z"
   },
   {
    "duration": 10,
    "start_time": "2021-12-18T23:11:41.202Z"
   },
   {
    "duration": 7,
    "start_time": "2021-12-18T23:11:43.039Z"
   },
   {
    "duration": 7,
    "start_time": "2021-12-18T23:11:56.267Z"
   },
   {
    "duration": 7,
    "start_time": "2021-12-18T23:11:56.941Z"
   },
   {
    "duration": 7,
    "start_time": "2021-12-18T23:12:02.439Z"
   },
   {
    "duration": 6,
    "start_time": "2021-12-18T23:12:07.538Z"
   },
   {
    "duration": 19,
    "start_time": "2021-12-18T23:12:08.288Z"
   },
   {
    "duration": 3,
    "start_time": "2021-12-18T23:12:11.912Z"
   },
   {
    "duration": 15,
    "start_time": "2021-12-18T23:12:12.597Z"
   },
   {
    "duration": 3,
    "start_time": "2021-12-18T23:12:13.563Z"
   },
   {
    "duration": 27,
    "start_time": "2021-12-18T23:12:14.874Z"
   },
   {
    "duration": 13,
    "start_time": "2021-12-18T23:12:15.802Z"
   },
   {
    "duration": 21,
    "start_time": "2021-12-18T23:12:16.519Z"
   },
   {
    "duration": 6,
    "start_time": "2021-12-18T23:12:17.984Z"
   },
   {
    "duration": 3,
    "start_time": "2021-12-18T23:12:18.973Z"
   },
   {
    "duration": 3,
    "start_time": "2021-12-18T23:12:19.576Z"
   },
   {
    "duration": 80,
    "start_time": "2021-12-18T23:12:21.455Z"
   },
   {
    "duration": 17,
    "start_time": "2021-12-18T23:14:08.596Z"
   },
   {
    "duration": 21,
    "start_time": "2021-12-18T23:14:21.583Z"
   },
   {
    "duration": 7225,
    "start_time": "2021-12-18T23:14:42.542Z"
   },
   {
    "duration": 7412,
    "start_time": "2021-12-18T23:14:55.851Z"
   },
   {
    "duration": 6,
    "start_time": "2021-12-18T23:15:03.712Z"
   },
   {
    "duration": 4,
    "start_time": "2021-12-18T23:15:04.881Z"
   },
   {
    "duration": 4,
    "start_time": "2021-12-18T23:15:05.468Z"
   },
   {
    "duration": 69,
    "start_time": "2021-12-18T23:15:11.126Z"
   },
   {
    "duration": 327,
    "start_time": "2021-12-18T23:15:58.153Z"
   },
   {
    "duration": 60,
    "start_time": "2021-12-18T23:16:06.563Z"
   },
   {
    "duration": 60,
    "start_time": "2021-12-18T23:16:13.276Z"
   },
   {
    "duration": 61,
    "start_time": "2021-12-18T23:16:42.883Z"
   },
   {
    "duration": 64,
    "start_time": "2021-12-18T23:16:52.828Z"
   },
   {
    "duration": 189,
    "start_time": "2021-12-18T23:17:57.036Z"
   },
   {
    "duration": 94,
    "start_time": "2021-12-18T23:18:32.692Z"
   },
   {
    "duration": 59,
    "start_time": "2021-12-19T00:00:14.645Z"
   },
   {
    "duration": 870,
    "start_time": "2021-12-19T13:05:45.154Z"
   },
   {
    "duration": 16,
    "start_time": "2021-12-19T13:05:46.753Z"
   },
   {
    "duration": 30,
    "start_time": "2021-12-19T13:05:47.563Z"
   },
   {
    "duration": 3,
    "start_time": "2021-12-19T13:05:48.902Z"
   },
   {
    "duration": 8,
    "start_time": "2021-12-19T13:05:50.463Z"
   },
   {
    "duration": 14,
    "start_time": "2021-12-19T13:05:51.904Z"
   },
   {
    "duration": 13,
    "start_time": "2021-12-19T13:05:53.310Z"
   },
   {
    "duration": 9,
    "start_time": "2021-12-19T13:05:54.713Z"
   },
   {
    "duration": 3,
    "start_time": "2021-12-19T13:05:56.446Z"
   },
   {
    "duration": 14,
    "start_time": "2021-12-19T13:05:57.759Z"
   },
   {
    "duration": 7,
    "start_time": "2021-12-19T13:05:59.114Z"
   },
   {
    "duration": 6,
    "start_time": "2021-12-19T13:06:01.496Z"
   },
   {
    "duration": 24,
    "start_time": "2021-12-19T13:06:02.639Z"
   },
   {
    "duration": 8,
    "start_time": "2021-12-19T13:06:17.294Z"
   },
   {
    "duration": 4,
    "start_time": "2021-12-19T13:06:19.139Z"
   },
   {
    "duration": 10,
    "start_time": "2021-12-19T13:06:24.670Z"
   },
   {
    "duration": 7,
    "start_time": "2021-12-19T13:06:29.203Z"
   },
   {
    "duration": 10,
    "start_time": "2021-12-19T13:06:34.467Z"
   },
   {
    "duration": 8,
    "start_time": "2021-12-19T13:06:43.615Z"
   },
   {
    "duration": 7,
    "start_time": "2021-12-19T13:06:44.793Z"
   },
   {
    "duration": 8,
    "start_time": "2021-12-19T13:07:02.188Z"
   },
   {
    "duration": 5,
    "start_time": "2021-12-19T13:07:04.209Z"
   },
   {
    "duration": 14,
    "start_time": "2021-12-19T13:07:11.104Z"
   },
   {
    "duration": 4,
    "start_time": "2021-12-19T13:07:15.967Z"
   },
   {
    "duration": 10,
    "start_time": "2021-12-19T13:07:16.722Z"
   },
   {
    "duration": 3,
    "start_time": "2021-12-19T13:07:17.764Z"
   },
   {
    "duration": 18,
    "start_time": "2021-12-19T13:07:20.388Z"
   },
   {
    "duration": 11,
    "start_time": "2021-12-19T13:07:21.719Z"
   },
   {
    "duration": 13,
    "start_time": "2021-12-19T13:07:24.386Z"
   },
   {
    "duration": 6,
    "start_time": "2021-12-19T13:07:29.393Z"
   },
   {
    "duration": 3,
    "start_time": "2021-12-19T13:07:31.412Z"
   },
   {
    "duration": 3,
    "start_time": "2021-12-19T13:07:37.814Z"
   },
   {
    "duration": 51,
    "start_time": "2021-12-19T13:07:44.943Z"
   },
   {
    "duration": 3,
    "start_time": "2021-12-19T13:07:58.958Z"
   },
   {
    "duration": 22,
    "start_time": "2021-12-19T13:08:11.304Z"
   },
   {
    "duration": 90,
    "start_time": "2021-12-19T13:08:26.624Z"
   },
   {
    "duration": 27,
    "start_time": "2021-12-19T13:08:35.976Z"
   },
   {
    "duration": 23,
    "start_time": "2021-12-19T13:08:37.149Z"
   },
   {
    "duration": 14,
    "start_time": "2021-12-19T13:08:38.442Z"
   },
   {
    "duration": 19,
    "start_time": "2021-12-19T13:10:25.979Z"
   },
   {
    "duration": 6663,
    "start_time": "2021-12-19T13:11:09.982Z"
   },
   {
    "duration": 7605,
    "start_time": "2021-12-19T13:11:21.016Z"
   },
   {
    "duration": -642,
    "start_time": "2021-12-19T13:11:29.266Z"
   },
   {
    "duration": 6409,
    "start_time": "2021-12-19T13:12:05.423Z"
   },
   {
    "duration": 64,
    "start_time": "2021-12-19T13:12:29.933Z"
   },
   {
    "duration": 15,
    "start_time": "2021-12-19T13:12:30.628Z"
   },
   {
    "duration": 20,
    "start_time": "2021-12-19T13:12:30.912Z"
   },
   {
    "duration": 3,
    "start_time": "2021-12-19T13:12:31.974Z"
   },
   {
    "duration": 10,
    "start_time": "2021-12-19T13:12:33.019Z"
   },
   {
    "duration": 24,
    "start_time": "2021-12-19T13:12:34.798Z"
   },
   {
    "duration": 13,
    "start_time": "2021-12-19T13:12:36.498Z"
   },
   {
    "duration": 8,
    "start_time": "2021-12-19T13:12:38.573Z"
   },
   {
    "duration": 3,
    "start_time": "2021-12-19T13:12:50.960Z"
   },
   {
    "duration": 12,
    "start_time": "2021-12-19T13:12:52.279Z"
   },
   {
    "duration": 11,
    "start_time": "2021-12-19T13:51:45.393Z"
   },
   {
    "duration": 4,
    "start_time": "2021-12-19T13:51:46.920Z"
   },
   {
    "duration": 7,
    "start_time": "2021-12-19T13:51:50.334Z"
   },
   {
    "duration": 28,
    "start_time": "2021-12-19T13:51:51.430Z"
   },
   {
    "duration": 6,
    "start_time": "2021-12-19T13:51:52.961Z"
   },
   {
    "duration": 4,
    "start_time": "2021-12-19T13:51:56.192Z"
   },
   {
    "duration": 11,
    "start_time": "2021-12-19T13:51:59.265Z"
   },
   {
    "duration": 8,
    "start_time": "2021-12-19T13:52:00.266Z"
   },
   {
    "duration": 11,
    "start_time": "2021-12-19T13:52:03.125Z"
   },
   {
    "duration": 7,
    "start_time": "2021-12-19T13:52:07.402Z"
   },
   {
    "duration": 7,
    "start_time": "2021-12-19T13:52:09.352Z"
   },
   {
    "duration": 7,
    "start_time": "2021-12-19T13:52:16.120Z"
   },
   {
    "duration": 6,
    "start_time": "2021-12-19T13:52:20.019Z"
   },
   {
    "duration": 12,
    "start_time": "2021-12-19T13:52:23.685Z"
   },
   {
    "duration": 7,
    "start_time": "2021-12-19T13:52:37.657Z"
   },
   {
    "duration": 12,
    "start_time": "2021-12-19T13:53:18.730Z"
   },
   {
    "duration": 7,
    "start_time": "2021-12-19T13:53:30.035Z"
   },
   {
    "duration": 3,
    "start_time": "2021-12-19T13:53:39.292Z"
   },
   {
    "duration": 11,
    "start_time": "2021-12-19T13:53:40.065Z"
   },
   {
    "duration": 4,
    "start_time": "2021-12-19T13:53:41.025Z"
   },
   {
    "duration": 19,
    "start_time": "2021-12-19T13:53:45.976Z"
   },
   {
    "duration": 11,
    "start_time": "2021-12-19T13:53:47.155Z"
   },
   {
    "duration": 13,
    "start_time": "2021-12-19T13:53:55.777Z"
   },
   {
    "duration": 10,
    "start_time": "2021-12-19T13:54:23.635Z"
   },
   {
    "duration": 8,
    "start_time": "2021-12-19T13:54:28.118Z"
   },
   {
    "duration": 3,
    "start_time": "2021-12-19T13:54:33.256Z"
   },
   {
    "duration": 3,
    "start_time": "2021-12-19T13:54:36.639Z"
   },
   {
    "duration": 47,
    "start_time": "2021-12-19T13:54:39.350Z"
   },
   {
    "duration": 26,
    "start_time": "2021-12-19T13:54:40.632Z"
   },
   {
    "duration": 23,
    "start_time": "2021-12-19T13:54:43.910Z"
   },
   {
    "duration": 14,
    "start_time": "2021-12-19T13:54:45.911Z"
   },
   {
    "duration": 6890,
    "start_time": "2021-12-19T13:56:06.916Z"
   },
   {
    "duration": -475,
    "start_time": "2021-12-19T13:56:14.285Z"
   },
   {
    "duration": 6760,
    "start_time": "2021-12-19T13:57:13.082Z"
   },
   {
    "duration": 17,
    "start_time": "2021-12-19T13:57:52.730Z"
   },
   {
    "duration": 4,
    "start_time": "2021-12-19T13:57:55.547Z"
   },
   {
    "duration": 7813,
    "start_time": "2021-12-19T13:57:57.645Z"
   },
   {
    "duration": -596,
    "start_time": "2021-12-19T13:58:06.057Z"
   },
   {
    "duration": 59,
    "start_time": "2021-12-19T13:58:24.571Z"
   },
   {
    "duration": 15,
    "start_time": "2021-12-19T13:58:25.007Z"
   },
   {
    "duration": 20,
    "start_time": "2021-12-19T13:58:25.281Z"
   },
   {
    "duration": 4,
    "start_time": "2021-12-19T13:58:25.671Z"
   },
   {
    "duration": 7,
    "start_time": "2021-12-19T13:58:26.042Z"
   },
   {
    "duration": 16,
    "start_time": "2021-12-19T13:58:26.391Z"
   },
   {
    "duration": 12,
    "start_time": "2021-12-19T13:58:26.755Z"
   },
   {
    "duration": 7,
    "start_time": "2021-12-19T13:58:26.936Z"
   },
   {
    "duration": 3,
    "start_time": "2021-12-19T13:58:27.321Z"
   },
   {
    "duration": 11,
    "start_time": "2021-12-19T13:58:27.737Z"
   },
   {
    "duration": 4,
    "start_time": "2021-12-19T13:58:28.267Z"
   },
   {
    "duration": 7,
    "start_time": "2021-12-19T13:58:29.488Z"
   },
   {
    "duration": 29,
    "start_time": "2021-12-19T13:58:30.473Z"
   },
   {
    "duration": 11,
    "start_time": "2021-12-19T13:58:30.930Z"
   },
   {
    "duration": 4,
    "start_time": "2021-12-19T13:58:32.013Z"
   },
   {
    "duration": 11,
    "start_time": "2021-12-19T13:58:33.031Z"
   },
   {
    "duration": 8,
    "start_time": "2021-12-19T13:58:33.552Z"
   },
   {
    "duration": 10,
    "start_time": "2021-12-19T13:58:34.695Z"
   },
   {
    "duration": 7,
    "start_time": "2021-12-19T13:58:35.728Z"
   },
   {
    "duration": 10,
    "start_time": "2021-12-19T13:58:36.479Z"
   },
   {
    "duration": 7,
    "start_time": "2021-12-19T13:58:38.511Z"
   },
   {
    "duration": 6,
    "start_time": "2021-12-19T13:58:40.455Z"
   },
   {
    "duration": 15,
    "start_time": "2021-12-19T13:58:41.066Z"
   },
   {
    "duration": 3,
    "start_time": "2021-12-19T13:58:42.202Z"
   },
   {
    "duration": 10,
    "start_time": "2021-12-19T13:58:42.687Z"
   },
   {
    "duration": 4,
    "start_time": "2021-12-19T13:58:43.282Z"
   },
   {
    "duration": 20,
    "start_time": "2021-12-19T13:58:44.560Z"
   },
   {
    "duration": 11,
    "start_time": "2021-12-19T13:58:45.200Z"
   },
   {
    "duration": 13,
    "start_time": "2021-12-19T13:58:45.943Z"
   },
   {
    "duration": 10,
    "start_time": "2021-12-19T13:58:47.641Z"
   },
   {
    "duration": 3,
    "start_time": "2021-12-19T13:58:48.817Z"
   },
   {
    "duration": 3,
    "start_time": "2021-12-19T13:58:49.623Z"
   },
   {
    "duration": 51,
    "start_time": "2021-12-19T13:58:50.398Z"
   },
   {
    "duration": 25,
    "start_time": "2021-12-19T13:58:52.883Z"
   },
   {
    "duration": 23,
    "start_time": "2021-12-19T13:58:53.790Z"
   },
   {
    "duration": 15,
    "start_time": "2021-12-19T13:58:54.476Z"
   },
   {
    "duration": 3,
    "start_time": "2021-12-19T13:58:56.961Z"
   },
   {
    "duration": 20,
    "start_time": "2021-12-19T13:58:58.980Z"
   },
   {
    "duration": 6393,
    "start_time": "2021-12-19T13:59:13.315Z"
   },
   {
    "duration": -484,
    "start_time": "2021-12-19T13:59:20.194Z"
   },
   {
    "duration": 56,
    "start_time": "2021-12-19T13:59:22.611Z"
   },
   {
    "duration": 15,
    "start_time": "2021-12-19T13:59:24.151Z"
   },
   {
    "duration": 19,
    "start_time": "2021-12-19T13:59:24.169Z"
   },
   {
    "duration": 6,
    "start_time": "2021-12-19T13:59:24.191Z"
   },
   {
    "duration": 10,
    "start_time": "2021-12-19T13:59:24.199Z"
   },
   {
    "duration": 15,
    "start_time": "2021-12-19T13:59:24.255Z"
   },
   {
    "duration": 12,
    "start_time": "2021-12-19T13:59:24.616Z"
   },
   {
    "duration": 7,
    "start_time": "2021-12-19T13:59:24.786Z"
   },
   {
    "duration": 4,
    "start_time": "2021-12-19T13:59:25.131Z"
   },
   {
    "duration": 20,
    "start_time": "2021-12-19T13:59:25.478Z"
   },
   {
    "duration": 3,
    "start_time": "2021-12-19T13:59:25.841Z"
   },
   {
    "duration": 8,
    "start_time": "2021-12-19T13:59:26.405Z"
   },
   {
    "duration": 24,
    "start_time": "2021-12-19T13:59:26.581Z"
   },
   {
    "duration": 7,
    "start_time": "2021-12-19T13:59:26.785Z"
   },
   {
    "duration": 3,
    "start_time": "2021-12-19T13:59:27.152Z"
   },
   {
    "duration": 10,
    "start_time": "2021-12-19T13:59:28.236Z"
   },
   {
    "duration": 8,
    "start_time": "2021-12-19T13:59:28.684Z"
   },
   {
    "duration": 10,
    "start_time": "2021-12-19T13:59:29.218Z"
   },
   {
    "duration": 9,
    "start_time": "2021-12-19T13:59:29.721Z"
   },
   {
    "duration": 6,
    "start_time": "2021-12-19T13:59:29.981Z"
   },
   {
    "duration": 6,
    "start_time": "2021-12-19T13:59:31.336Z"
   },
   {
    "duration": 5,
    "start_time": "2021-12-19T13:59:48.026Z"
   },
   {
    "duration": 14,
    "start_time": "2021-12-19T13:59:51.951Z"
   },
   {
    "duration": 4,
    "start_time": "2021-12-19T13:59:53.905Z"
   },
   {
    "duration": 10,
    "start_time": "2021-12-19T13:59:55.432Z"
   },
   {
    "duration": 3,
    "start_time": "2021-12-19T13:59:56.107Z"
   },
   {
    "duration": 19,
    "start_time": "2021-12-19T13:59:59.238Z"
   },
   {
    "duration": 11,
    "start_time": "2021-12-19T14:00:00.650Z"
   },
   {
    "duration": 15,
    "start_time": "2021-12-19T14:00:01.677Z"
   },
   {
    "duration": 8,
    "start_time": "2021-12-19T14:00:03.406Z"
   },
   {
    "duration": 3,
    "start_time": "2021-12-19T14:00:04.327Z"
   },
   {
    "duration": 3,
    "start_time": "2021-12-19T14:00:05.800Z"
   },
   {
    "duration": 50,
    "start_time": "2021-12-19T14:00:09.683Z"
   },
   {
    "duration": 26,
    "start_time": "2021-12-19T14:00:10.326Z"
   },
   {
    "duration": 23,
    "start_time": "2021-12-19T14:00:11.436Z"
   },
   {
    "duration": 16,
    "start_time": "2021-12-19T14:00:12.843Z"
   },
   {
    "duration": 4,
    "start_time": "2021-12-19T14:00:14.746Z"
   },
   {
    "duration": 20,
    "start_time": "2021-12-19T14:00:21.121Z"
   },
   {
    "duration": 7,
    "start_time": "2021-12-19T14:00:22.858Z"
   },
   {
    "duration": 7638,
    "start_time": "2021-12-19T14:04:01.867Z"
   },
   {
    "duration": 8,
    "start_time": "2021-12-19T14:04:22.255Z"
   },
   {
    "duration": 7,
    "start_time": "2021-12-19T14:04:27.497Z"
   },
   {
    "duration": 52,
    "start_time": "2021-12-19T14:06:43.350Z"
   },
   {
    "duration": 66,
    "start_time": "2021-12-19T14:07:13.378Z"
   },
   {
    "duration": 9,
    "start_time": "2021-12-19T14:08:12.918Z"
   },
   {
    "duration": 9,
    "start_time": "2021-12-19T14:08:14.456Z"
   },
   {
    "duration": 7,
    "start_time": "2021-12-19T14:08:40.035Z"
   },
   {
    "duration": 5,
    "start_time": "2021-12-19T14:08:40.715Z"
   },
   {
    "duration": 3,
    "start_time": "2021-12-19T14:08:44.775Z"
   },
   {
    "duration": 3,
    "start_time": "2021-12-19T14:08:45.015Z"
   },
   {
    "duration": 4,
    "start_time": "2021-12-19T14:08:45.205Z"
   },
   {
    "duration": 3,
    "start_time": "2021-12-19T14:08:45.505Z"
   },
   {
    "duration": 6,
    "start_time": "2021-12-19T14:08:45.796Z"
   },
   {
    "duration": 3,
    "start_time": "2021-12-19T14:08:46.062Z"
   },
   {
    "duration": 3,
    "start_time": "2021-12-19T14:08:46.346Z"
   },
   {
    "duration": 3,
    "start_time": "2021-12-19T14:08:46.491Z"
   },
   {
    "duration": 3,
    "start_time": "2021-12-19T14:08:46.806Z"
   },
   {
    "duration": 3,
    "start_time": "2021-12-19T14:08:46.951Z"
   },
   {
    "duration": 3,
    "start_time": "2021-12-19T14:08:47.220Z"
   },
   {
    "duration": 3,
    "start_time": "2021-12-19T14:08:47.367Z"
   },
   {
    "duration": 3,
    "start_time": "2021-12-19T14:08:47.522Z"
   },
   {
    "duration": 3,
    "start_time": "2021-12-19T14:08:47.956Z"
   },
   {
    "duration": 3,
    "start_time": "2021-12-19T14:08:48.398Z"
   },
   {
    "duration": 3,
    "start_time": "2021-12-19T14:08:49.370Z"
   },
   {
    "duration": 4,
    "start_time": "2021-12-19T14:08:49.950Z"
   },
   {
    "duration": 57,
    "start_time": "2021-12-19T14:09:08.827Z"
   },
   {
    "duration": 16,
    "start_time": "2021-12-19T14:09:09.135Z"
   },
   {
    "duration": 25,
    "start_time": "2021-12-19T14:09:09.302Z"
   },
   {
    "duration": 3,
    "start_time": "2021-12-19T14:09:09.651Z"
   },
   {
    "duration": 8,
    "start_time": "2021-12-19T14:09:09.987Z"
   },
   {
    "duration": 14,
    "start_time": "2021-12-19T14:09:10.318Z"
   },
   {
    "duration": 10,
    "start_time": "2021-12-19T14:09:10.607Z"
   },
   {
    "duration": 7,
    "start_time": "2021-12-19T14:09:10.763Z"
   },
   {
    "duration": 3,
    "start_time": "2021-12-19T14:09:11.073Z"
   },
   {
    "duration": 13,
    "start_time": "2021-12-19T14:09:11.367Z"
   },
   {
    "duration": 3,
    "start_time": "2021-12-19T14:09:11.644Z"
   },
   {
    "duration": 8,
    "start_time": "2021-12-19T14:09:12.060Z"
   },
   {
    "duration": 23,
    "start_time": "2021-12-19T14:09:12.195Z"
   },
   {
    "duration": 8,
    "start_time": "2021-12-19T14:09:12.369Z"
   },
   {
    "duration": 4,
    "start_time": "2021-12-19T14:09:12.765Z"
   },
   {
    "duration": 9,
    "start_time": "2021-12-19T14:09:13.097Z"
   },
   {
    "duration": 7,
    "start_time": "2021-12-19T14:09:13.258Z"
   },
   {
    "duration": 11,
    "start_time": "2021-12-19T14:09:13.742Z"
   },
   {
    "duration": 7,
    "start_time": "2021-12-19T14:09:14.103Z"
   },
   {
    "duration": 6,
    "start_time": "2021-12-19T14:09:14.392Z"
   },
   {
    "duration": 7,
    "start_time": "2021-12-19T14:09:14.910Z"
   },
   {
    "duration": 5,
    "start_time": "2021-12-19T14:09:16.005Z"
   },
   {
    "duration": 12,
    "start_time": "2021-12-19T14:09:16.697Z"
   },
   {
    "duration": 2,
    "start_time": "2021-12-19T14:09:18.298Z"
   },
   {
    "duration": 9,
    "start_time": "2021-12-19T14:09:19.148Z"
   },
   {
    "duration": 3,
    "start_time": "2021-12-19T14:09:19.848Z"
   },
   {
    "duration": 21,
    "start_time": "2021-12-19T14:09:21.079Z"
   },
   {
    "duration": 10,
    "start_time": "2021-12-19T14:09:21.919Z"
   },
   {
    "duration": 15,
    "start_time": "2021-12-19T14:09:22.567Z"
   },
   {
    "duration": 11,
    "start_time": "2021-12-19T14:09:24.112Z"
   },
   {
    "duration": 3,
    "start_time": "2021-12-19T14:09:24.804Z"
   },
   {
    "duration": 12,
    "start_time": "2021-12-19T14:09:25.838Z"
   },
   {
    "duration": 58,
    "start_time": "2021-12-19T14:09:26.945Z"
   },
   {
    "duration": 25,
    "start_time": "2021-12-19T14:09:27.697Z"
   },
   {
    "duration": 26,
    "start_time": "2021-12-19T14:09:28.552Z"
   },
   {
    "duration": 14,
    "start_time": "2021-12-19T14:09:30.026Z"
   },
   {
    "duration": 3,
    "start_time": "2021-12-19T14:09:32.976Z"
   },
   {
    "duration": 8,
    "start_time": "2021-12-19T14:09:34.476Z"
   },
   {
    "duration": 6,
    "start_time": "2021-12-19T14:09:39.215Z"
   },
   {
    "duration": 3,
    "start_time": "2021-12-19T14:09:46.557Z"
   },
   {
    "duration": 3,
    "start_time": "2021-12-19T14:09:47.386Z"
   },
   {
    "duration": 318,
    "start_time": "2021-12-19T14:09:48.978Z"
   },
   {
    "duration": 4,
    "start_time": "2021-12-19T14:09:50.435Z"
   },
   {
    "duration": 3,
    "start_time": "2021-12-19T14:09:51.853Z"
   },
   {
    "duration": 3,
    "start_time": "2021-12-19T14:09:52.706Z"
   },
   {
    "duration": 3,
    "start_time": "2021-12-19T14:09:53.305Z"
   },
   {
    "duration": 3,
    "start_time": "2021-12-19T14:09:53.710Z"
   },
   {
    "duration": 3,
    "start_time": "2021-12-19T14:09:53.997Z"
   },
   {
    "duration": 3,
    "start_time": "2021-12-19T14:09:54.451Z"
   },
   {
    "duration": 16,
    "start_time": "2021-12-19T14:09:55.270Z"
   },
   {
    "duration": 3,
    "start_time": "2021-12-19T14:09:57.662Z"
   },
   {
    "duration": 4,
    "start_time": "2021-12-19T14:09:57.990Z"
   },
   {
    "duration": 9,
    "start_time": "2021-12-19T14:10:00.861Z"
   },
   {
    "duration": 6,
    "start_time": "2021-12-19T14:10:01.883Z"
   },
   {
    "duration": 61,
    "start_time": "2021-12-19T14:10:45.832Z"
   },
   {
    "duration": 16,
    "start_time": "2021-12-19T14:10:46.146Z"
   },
   {
    "duration": 20,
    "start_time": "2021-12-19T14:10:46.316Z"
   },
   {
    "duration": 3,
    "start_time": "2021-12-19T14:10:46.638Z"
   },
   {
    "duration": 9,
    "start_time": "2021-12-19T14:10:46.963Z"
   },
   {
    "duration": 17,
    "start_time": "2021-12-19T14:10:47.269Z"
   },
   {
    "duration": 12,
    "start_time": "2021-12-19T14:10:47.578Z"
   },
   {
    "duration": 7,
    "start_time": "2021-12-19T14:10:47.703Z"
   },
   {
    "duration": 3,
    "start_time": "2021-12-19T14:10:47.986Z"
   },
   {
    "duration": 11,
    "start_time": "2021-12-19T14:10:48.251Z"
   },
   {
    "duration": 3,
    "start_time": "2021-12-19T14:10:48.521Z"
   },
   {
    "duration": 6,
    "start_time": "2021-12-19T14:10:48.921Z"
   },
   {
    "duration": 23,
    "start_time": "2021-12-19T14:10:49.041Z"
   },
   {
    "duration": 7,
    "start_time": "2021-12-19T14:10:49.220Z"
   },
   {
    "duration": 3,
    "start_time": "2021-12-19T14:10:49.503Z"
   },
   {
    "duration": 11,
    "start_time": "2021-12-19T14:10:49.767Z"
   },
   {
    "duration": 9,
    "start_time": "2021-12-19T14:10:49.921Z"
   },
   {
    "duration": 10,
    "start_time": "2021-12-19T14:10:50.225Z"
   },
   {
    "duration": 9,
    "start_time": "2021-12-19T14:10:50.496Z"
   },
   {
    "duration": 7,
    "start_time": "2021-12-19T14:10:50.600Z"
   },
   {
    "duration": 9,
    "start_time": "2021-12-19T14:10:50.940Z"
   },
   {
    "duration": 6,
    "start_time": "2021-12-19T14:10:51.288Z"
   },
   {
    "duration": 11,
    "start_time": "2021-12-19T14:10:51.521Z"
   },
   {
    "duration": 3,
    "start_time": "2021-12-19T14:10:51.877Z"
   },
   {
    "duration": 11,
    "start_time": "2021-12-19T14:10:52.036Z"
   },
   {
    "duration": 3,
    "start_time": "2021-12-19T14:10:52.181Z"
   },
   {
    "duration": 18,
    "start_time": "2021-12-19T14:10:52.609Z"
   },
   {
    "duration": 12,
    "start_time": "2021-12-19T14:10:52.761Z"
   },
   {
    "duration": 14,
    "start_time": "2021-12-19T14:10:52.907Z"
   },
   {
    "duration": 11,
    "start_time": "2021-12-19T14:10:53.420Z"
   },
   {
    "duration": 3,
    "start_time": "2021-12-19T14:10:53.660Z"
   },
   {
    "duration": 4,
    "start_time": "2021-12-19T14:10:53.972Z"
   },
   {
    "duration": 53,
    "start_time": "2021-12-19T14:10:54.510Z"
   },
   {
    "duration": 29,
    "start_time": "2021-12-19T14:10:55.127Z"
   },
   {
    "duration": 46,
    "start_time": "2021-12-19T14:10:55.646Z"
   },
   {
    "duration": 17,
    "start_time": "2021-12-19T14:10:57.273Z"
   },
   {
    "duration": 6,
    "start_time": "2021-12-19T14:10:59.588Z"
   },
   {
    "duration": 8,
    "start_time": "2021-12-19T14:11:00.332Z"
   },
   {
    "duration": 5,
    "start_time": "2021-12-19T14:11:01.607Z"
   },
   {
    "duration": 6,
    "start_time": "2021-12-19T14:11:02.292Z"
   },
   {
    "duration": 3,
    "start_time": "2021-12-19T14:11:02.840Z"
   },
   {
    "duration": 288,
    "start_time": "2021-12-19T14:11:03.713Z"
   },
   {
    "duration": 3,
    "start_time": "2021-12-19T14:11:04.007Z"
   },
   {
    "duration": 3,
    "start_time": "2021-12-19T14:11:04.392Z"
   },
   {
    "duration": 3,
    "start_time": "2021-12-19T14:11:05.607Z"
   },
   {
    "duration": 4,
    "start_time": "2021-12-19T14:11:05.837Z"
   },
   {
    "duration": 3,
    "start_time": "2021-12-19T14:11:06.069Z"
   },
   {
    "duration": 3,
    "start_time": "2021-12-19T14:11:06.311Z"
   },
   {
    "duration": 3,
    "start_time": "2021-12-19T14:11:06.973Z"
   },
   {
    "duration": 12,
    "start_time": "2021-12-19T14:11:07.420Z"
   },
   {
    "duration": 3,
    "start_time": "2021-12-19T14:11:08.796Z"
   },
   {
    "duration": 6,
    "start_time": "2021-12-19T14:11:09.086Z"
   },
   {
    "duration": 7,
    "start_time": "2021-12-19T14:11:09.758Z"
   },
   {
    "duration": 6,
    "start_time": "2021-12-19T14:11:10.718Z"
   },
   {
    "duration": 9,
    "start_time": "2021-12-19T14:11:24.129Z"
   },
   {
    "duration": 9,
    "start_time": "2021-12-19T14:11:24.140Z"
   },
   {
    "duration": 5,
    "start_time": "2021-12-19T14:11:43.441Z"
   },
   {
    "duration": 3,
    "start_time": "2021-12-19T14:11:44.107Z"
   },
   {
    "duration": 3,
    "start_time": "2021-12-19T14:11:44.573Z"
   },
   {
    "duration": 3,
    "start_time": "2021-12-19T14:11:45.065Z"
   },
   {
    "duration": 13,
    "start_time": "2021-12-19T14:12:21.583Z"
   },
   {
    "duration": 53,
    "start_time": "2021-12-19T14:12:32.386Z"
   },
   {
    "duration": 19,
    "start_time": "2021-12-19T14:12:32.663Z"
   },
   {
    "duration": 20,
    "start_time": "2021-12-19T14:12:32.900Z"
   },
   {
    "duration": 3,
    "start_time": "2021-12-19T14:12:33.247Z"
   },
   {
    "duration": 9,
    "start_time": "2021-12-19T14:12:33.572Z"
   },
   {
    "duration": 17,
    "start_time": "2021-12-19T14:12:33.909Z"
   },
   {
    "duration": 12,
    "start_time": "2021-12-19T14:12:34.226Z"
   },
   {
    "duration": 8,
    "start_time": "2021-12-19T14:12:34.364Z"
   },
   {
    "duration": 3,
    "start_time": "2021-12-19T14:12:34.678Z"
   },
   {
    "duration": 12,
    "start_time": "2021-12-19T14:12:34.976Z"
   },
   {
    "duration": 4,
    "start_time": "2021-12-19T14:12:35.296Z"
   },
   {
    "duration": 7,
    "start_time": "2021-12-19T14:12:35.796Z"
   },
   {
    "duration": 24,
    "start_time": "2021-12-19T14:12:35.992Z"
   },
   {
    "duration": 6,
    "start_time": "2021-12-19T14:12:36.211Z"
   },
   {
    "duration": 3,
    "start_time": "2021-12-19T14:12:36.513Z"
   },
   {
    "duration": 9,
    "start_time": "2021-12-19T14:12:52.311Z"
   },
   {
    "duration": 7,
    "start_time": "2021-12-19T14:12:56.196Z"
   },
   {
    "duration": 9,
    "start_time": "2021-12-19T14:12:57.506Z"
   },
   {
    "duration": 8,
    "start_time": "2021-12-19T14:12:59.201Z"
   },
   {
    "duration": 6,
    "start_time": "2021-12-19T14:12:59.796Z"
   },
   {
    "duration": 6,
    "start_time": "2021-12-19T14:13:06.292Z"
   },
   {
    "duration": 6,
    "start_time": "2021-12-19T14:13:07.557Z"
   },
   {
    "duration": 12,
    "start_time": "2021-12-19T14:13:08.352Z"
   },
   {
    "duration": 3,
    "start_time": "2021-12-19T14:13:10.435Z"
   },
   {
    "duration": 9,
    "start_time": "2021-12-19T14:13:10.987Z"
   },
   {
    "duration": 3,
    "start_time": "2021-12-19T14:13:11.803Z"
   },
   {
    "duration": 21,
    "start_time": "2021-12-19T14:13:13.175Z"
   },
   {
    "duration": 20,
    "start_time": "2021-12-19T14:13:13.576Z"
   },
   {
    "duration": 16,
    "start_time": "2021-12-19T14:13:14.392Z"
   },
   {
    "duration": 11,
    "start_time": "2021-12-19T14:13:15.252Z"
   },
   {
    "duration": 2,
    "start_time": "2021-12-19T14:13:15.543Z"
   },
   {
    "duration": 4,
    "start_time": "2021-12-19T14:13:16.275Z"
   },
   {
    "duration": 51,
    "start_time": "2021-12-19T14:13:16.881Z"
   },
   {
    "duration": 27,
    "start_time": "2021-12-19T14:13:17.496Z"
   },
   {
    "duration": 25,
    "start_time": "2021-12-19T14:13:17.983Z"
   },
   {
    "duration": 15,
    "start_time": "2021-12-19T14:13:18.808Z"
   },
   {
    "duration": 4,
    "start_time": "2021-12-19T14:13:20.978Z"
   },
   {
    "duration": 7,
    "start_time": "2021-12-19T14:13:22.384Z"
   },
   {
    "duration": 5,
    "start_time": "2021-12-19T14:13:26.282Z"
   },
   {
    "duration": 4,
    "start_time": "2021-12-19T14:13:27.343Z"
   },
   {
    "duration": 3,
    "start_time": "2021-12-19T14:13:28.016Z"
   },
   {
    "duration": 272,
    "start_time": "2021-12-19T14:13:32.576Z"
   },
   {
    "duration": 3,
    "start_time": "2021-12-19T14:13:34.231Z"
   },
   {
    "duration": 3,
    "start_time": "2021-12-19T14:13:35.004Z"
   },
   {
    "duration": 3,
    "start_time": "2021-12-19T14:13:36.321Z"
   },
   {
    "duration": 3,
    "start_time": "2021-12-19T14:13:36.506Z"
   },
   {
    "duration": 2,
    "start_time": "2021-12-19T14:13:36.927Z"
   },
   {
    "duration": 3,
    "start_time": "2021-12-19T14:13:37.247Z"
   },
   {
    "duration": 3,
    "start_time": "2021-12-19T14:13:37.723Z"
   },
   {
    "duration": 17,
    "start_time": "2021-12-19T14:13:38.780Z"
   },
   {
    "duration": 3,
    "start_time": "2021-12-19T14:13:42.152Z"
   },
   {
    "duration": 3,
    "start_time": "2021-12-19T14:13:42.568Z"
   },
   {
    "duration": 9,
    "start_time": "2021-12-19T14:13:44.688Z"
   },
   {
    "duration": 6,
    "start_time": "2021-12-19T14:13:45.691Z"
   },
   {
    "duration": 3,
    "start_time": "2021-12-19T14:13:46.606Z"
   },
   {
    "duration": 4,
    "start_time": "2021-12-19T14:13:47.265Z"
   },
   {
    "duration": 3,
    "start_time": "2021-12-19T14:13:47.562Z"
   },
   {
    "duration": 14,
    "start_time": "2021-12-19T14:13:50.922Z"
   },
   {
    "duration": 7,
    "start_time": "2021-12-19T14:13:52.077Z"
   },
   {
    "duration": 3,
    "start_time": "2021-12-19T14:13:52.551Z"
   },
   {
    "duration": 15,
    "start_time": "2021-12-19T14:14:33.891Z"
   },
   {
    "duration": 6,
    "start_time": "2021-12-19T14:14:45.326Z"
   },
   {
    "duration": 3,
    "start_time": "2021-12-19T14:14:48.643Z"
   },
   {
    "duration": 3,
    "start_time": "2021-12-19T14:14:49.181Z"
   },
   {
    "duration": 50,
    "start_time": "2021-12-19T14:14:50.679Z"
   },
   {
    "duration": 3,
    "start_time": "2021-12-19T14:14:51.611Z"
   },
   {
    "duration": 4,
    "start_time": "2021-12-19T14:14:52.395Z"
   },
   {
    "duration": 3,
    "start_time": "2021-12-19T14:14:54.133Z"
   },
   {
    "duration": 2,
    "start_time": "2021-12-19T14:14:54.558Z"
   },
   {
    "duration": 3,
    "start_time": "2021-12-19T14:14:55.093Z"
   },
   {
    "duration": 3,
    "start_time": "2021-12-19T14:14:55.449Z"
   },
   {
    "duration": 3,
    "start_time": "2021-12-19T14:14:55.903Z"
   },
   {
    "duration": 11,
    "start_time": "2021-12-19T14:14:56.925Z"
   },
   {
    "duration": 4,
    "start_time": "2021-12-19T14:15:07.418Z"
   },
   {
    "duration": 3,
    "start_time": "2021-12-19T14:15:07.818Z"
   },
   {
    "duration": 9,
    "start_time": "2021-12-19T14:15:10.281Z"
   },
   {
    "duration": 6,
    "start_time": "2021-12-19T14:15:12.046Z"
   },
   {
    "duration": 3,
    "start_time": "2021-12-19T14:15:13.489Z"
   },
   {
    "duration": 3,
    "start_time": "2021-12-19T14:15:14.349Z"
   },
   {
    "duration": 3,
    "start_time": "2021-12-19T14:15:14.787Z"
   },
   {
    "duration": 19,
    "start_time": "2021-12-19T14:15:15.858Z"
   },
   {
    "duration": 7,
    "start_time": "2021-12-19T14:15:18.427Z"
   },
   {
    "duration": 3,
    "start_time": "2021-12-19T14:15:19.598Z"
   },
   {
    "duration": 4,
    "start_time": "2021-12-19T14:15:20.840Z"
   },
   {
    "duration": 3,
    "start_time": "2021-12-19T14:15:21.421Z"
   },
   {
    "duration": 10,
    "start_time": "2021-12-19T14:15:42.662Z"
   },
   {
    "duration": 67,
    "start_time": "2021-12-19T14:16:45.241Z"
   },
   {
    "duration": 336,
    "start_time": "2021-12-19T14:41:48.564Z"
   },
   {
    "duration": 15,
    "start_time": "2021-12-19T14:42:29.198Z"
   },
   {
    "duration": 16,
    "start_time": "2021-12-19T14:43:04.652Z"
   },
   {
    "duration": 17,
    "start_time": "2021-12-19T14:43:44.998Z"
   },
   {
    "duration": 9,
    "start_time": "2021-12-19T14:43:52.073Z"
   },
   {
    "duration": 8,
    "start_time": "2021-12-19T14:44:57.790Z"
   },
   {
    "duration": 9,
    "start_time": "2021-12-19T14:50:12.830Z"
   },
   {
    "duration": 20,
    "start_time": "2021-12-19T14:52:06.316Z"
   },
   {
    "duration": 8,
    "start_time": "2021-12-19T14:56:04.266Z"
   },
   {
    "duration": 6,
    "start_time": "2021-12-19T14:56:24.094Z"
   },
   {
    "duration": 260,
    "start_time": "2021-12-19T15:09:04.449Z"
   },
   {
    "duration": 26,
    "start_time": "2021-12-19T15:09:39.502Z"
   },
   {
    "duration": 19,
    "start_time": "2021-12-19T15:10:12.302Z"
   },
   {
    "duration": 62,
    "start_time": "2021-12-19T15:12:17.467Z"
   },
   {
    "duration": 49,
    "start_time": "2021-12-19T15:12:45.344Z"
   },
   {
    "duration": 89,
    "start_time": "2021-12-19T15:13:03.606Z"
   },
   {
    "duration": 50,
    "start_time": "2021-12-19T15:13:09.305Z"
   },
   {
    "duration": 49,
    "start_time": "2021-12-19T15:13:31.187Z"
   },
   {
    "duration": 49,
    "start_time": "2021-12-19T15:13:50.483Z"
   },
   {
    "duration": 50,
    "start_time": "2021-12-19T15:14:05.634Z"
   },
   {
    "duration": 62,
    "start_time": "2021-12-19T15:14:23.675Z"
   },
   {
    "duration": 15,
    "start_time": "2021-12-19T15:14:23.935Z"
   },
   {
    "duration": 20,
    "start_time": "2021-12-19T15:14:24.064Z"
   },
   {
    "duration": 3,
    "start_time": "2021-12-19T15:14:24.351Z"
   },
   {
    "duration": 10,
    "start_time": "2021-12-19T15:14:24.633Z"
   },
   {
    "duration": 21,
    "start_time": "2021-12-19T15:14:24.915Z"
   },
   {
    "duration": 14,
    "start_time": "2021-12-19T15:14:25.171Z"
   },
   {
    "duration": 9,
    "start_time": "2021-12-19T15:14:25.293Z"
   },
   {
    "duration": 4,
    "start_time": "2021-12-19T15:14:25.587Z"
   },
   {
    "duration": 16,
    "start_time": "2021-12-19T15:14:25.866Z"
   },
   {
    "duration": 3,
    "start_time": "2021-12-19T15:14:26.114Z"
   },
   {
    "duration": 8,
    "start_time": "2021-12-19T15:14:26.551Z"
   },
   {
    "duration": 26,
    "start_time": "2021-12-19T15:14:26.714Z"
   },
   {
    "duration": 10,
    "start_time": "2021-12-19T15:14:26.869Z"
   },
   {
    "duration": 5,
    "start_time": "2021-12-19T15:14:27.189Z"
   },
   {
    "duration": 13,
    "start_time": "2021-12-19T15:14:27.525Z"
   },
   {
    "duration": 11,
    "start_time": "2021-12-19T15:14:27.690Z"
   },
   {
    "duration": 9,
    "start_time": "2021-12-19T15:14:28.031Z"
   },
   {
    "duration": 9,
    "start_time": "2021-12-19T15:14:28.360Z"
   },
   {
    "duration": 7,
    "start_time": "2021-12-19T15:14:28.545Z"
   },
   {
    "duration": 7,
    "start_time": "2021-12-19T15:14:28.861Z"
   },
   {
    "duration": 7,
    "start_time": "2021-12-19T15:14:29.220Z"
   },
   {
    "duration": 18,
    "start_time": "2021-12-19T15:14:33.668Z"
   },
   {
    "duration": 4,
    "start_time": "2021-12-19T15:14:38.606Z"
   },
   {
    "duration": 15,
    "start_time": "2021-12-19T15:14:39.112Z"
   },
   {
    "duration": 5,
    "start_time": "2021-12-19T15:14:39.525Z"
   },
   {
    "duration": 19,
    "start_time": "2021-12-19T15:14:40.940Z"
   },
   {
    "duration": 11,
    "start_time": "2021-12-19T15:14:42.206Z"
   },
   {
    "duration": 20,
    "start_time": "2021-12-19T15:14:44.215Z"
   },
   {
    "duration": 11,
    "start_time": "2021-12-19T15:14:45.316Z"
   },
   {
    "duration": 3,
    "start_time": "2021-12-19T15:14:45.739Z"
   },
   {
    "duration": 8,
    "start_time": "2021-12-19T15:14:46.489Z"
   },
   {
    "duration": 48,
    "start_time": "2021-12-19T15:14:49.741Z"
   },
   {
    "duration": 28,
    "start_time": "2021-12-19T15:14:50.051Z"
   },
   {
    "duration": 24,
    "start_time": "2021-12-19T15:14:50.739Z"
   },
   {
    "duration": 14,
    "start_time": "2021-12-19T15:14:54.191Z"
   },
   {
    "duration": 3,
    "start_time": "2021-12-19T15:15:01.843Z"
   },
   {
    "duration": 15,
    "start_time": "2021-12-19T15:15:04.900Z"
   },
   {
    "duration": 5,
    "start_time": "2021-12-19T15:15:06.375Z"
   },
   {
    "duration": 3,
    "start_time": "2021-12-19T15:15:07.164Z"
   },
   {
    "duration": 3,
    "start_time": "2021-12-19T15:15:10.130Z"
   },
   {
    "duration": 49,
    "start_time": "2021-12-19T15:15:13.441Z"
   },
   {
    "duration": 3,
    "start_time": "2021-12-19T15:15:14.012Z"
   },
   {
    "duration": 3,
    "start_time": "2021-12-19T15:15:14.425Z"
   },
   {
    "duration": 4,
    "start_time": "2021-12-19T15:15:15.323Z"
   },
   {
    "duration": 3,
    "start_time": "2021-12-19T15:15:15.795Z"
   },
   {
    "duration": 3,
    "start_time": "2021-12-19T15:15:16.301Z"
   },
   {
    "duration": 4,
    "start_time": "2021-12-19T15:15:16.618Z"
   },
   {
    "duration": 4,
    "start_time": "2021-12-19T15:15:17.359Z"
   },
   {
    "duration": 14,
    "start_time": "2021-12-19T15:15:18.511Z"
   },
   {
    "duration": 4,
    "start_time": "2021-12-19T15:15:20.241Z"
   },
   {
    "duration": 3,
    "start_time": "2021-12-19T15:15:20.801Z"
   },
   {
    "duration": 10,
    "start_time": "2021-12-19T15:15:21.352Z"
   },
   {
    "duration": 16,
    "start_time": "2021-12-19T15:15:24.250Z"
   },
   {
    "duration": 3,
    "start_time": "2021-12-19T15:15:26.530Z"
   },
   {
    "duration": 3,
    "start_time": "2021-12-19T15:15:26.961Z"
   },
   {
    "duration": 3,
    "start_time": "2021-12-19T15:15:27.445Z"
   },
   {
    "duration": 13,
    "start_time": "2021-12-19T15:15:28.775Z"
   },
   {
    "duration": 70,
    "start_time": "2021-12-19T15:15:30.142Z"
   },
   {
    "duration": 51,
    "start_time": "2021-12-19T15:15:45.955Z"
   },
   {
    "duration": 50,
    "start_time": "2021-12-19T15:16:30.962Z"
   },
   {
    "duration": 52,
    "start_time": "2021-12-19T15:17:30.654Z"
   },
   {
    "duration": 51,
    "start_time": "2021-12-19T15:17:46.809Z"
   },
   {
    "duration": 52,
    "start_time": "2021-12-19T15:19:56.470Z"
   },
   {
    "duration": 53,
    "start_time": "2021-12-19T15:21:21.374Z"
   },
   {
    "duration": 348,
    "start_time": "2021-12-19T15:22:16.088Z"
   },
   {
    "duration": 48,
    "start_time": "2021-12-19T15:22:48.340Z"
   },
   {
    "duration": 331,
    "start_time": "2021-12-19T15:23:24.212Z"
   },
   {
    "duration": 55,
    "start_time": "2021-12-19T15:23:33.849Z"
   },
   {
    "duration": 57,
    "start_time": "2021-12-19T15:26:33.408Z"
   },
   {
    "duration": 84,
    "start_time": "2021-12-19T15:27:48.364Z"
   },
   {
    "duration": 99,
    "start_time": "2021-12-19T15:28:01.420Z"
   },
   {
    "duration": 93,
    "start_time": "2021-12-19T15:28:53.520Z"
   },
   {
    "duration": 87,
    "start_time": "2021-12-19T15:29:05.317Z"
   },
   {
    "duration": 116,
    "start_time": "2021-12-19T15:29:18.738Z"
   },
   {
    "duration": 54,
    "start_time": "2021-12-19T15:30:36.038Z"
   },
   {
    "duration": 64,
    "start_time": "2021-12-19T15:30:44.083Z"
   },
   {
    "duration": 51,
    "start_time": "2021-12-19T15:32:01.068Z"
   },
   {
    "duration": 106,
    "start_time": "2021-12-19T15:40:38.423Z"
   },
   {
    "duration": 64,
    "start_time": "2021-12-19T15:40:44.973Z"
   },
   {
    "duration": 6755,
    "start_time": "2021-12-19T15:51:13.662Z"
   },
   {
    "duration": -451,
    "start_time": "2021-12-19T15:51:20.871Z"
   },
   {
    "duration": 6623,
    "start_time": "2021-12-19T15:51:31.583Z"
   },
   {
    "duration": -436,
    "start_time": "2021-12-19T15:51:38.647Z"
   },
   {
    "duration": -441,
    "start_time": "2021-12-19T15:51:38.653Z"
   },
   {
    "duration": -444,
    "start_time": "2021-12-19T15:51:38.658Z"
   },
   {
    "duration": -446,
    "start_time": "2021-12-19T15:51:38.663Z"
   },
   {
    "duration": -501,
    "start_time": "2021-12-19T15:51:38.720Z"
   },
   {
    "duration": -505,
    "start_time": "2021-12-19T15:51:38.726Z"
   },
   {
    "duration": -507,
    "start_time": "2021-12-19T15:51:38.730Z"
   },
   {
    "duration": -511,
    "start_time": "2021-12-19T15:51:38.736Z"
   },
   {
    "duration": 3,
    "start_time": "2021-12-19T15:51:38.517Z"
   },
   {
    "duration": 12,
    "start_time": "2021-12-19T15:51:39.119Z"
   },
   {
    "duration": 4,
    "start_time": "2021-12-19T15:51:40.242Z"
   },
   {
    "duration": 6,
    "start_time": "2021-12-19T15:51:41.729Z"
   },
   {
    "duration": 25,
    "start_time": "2021-12-19T15:51:44.487Z"
   },
   {
    "duration": 7,
    "start_time": "2021-12-19T15:51:48.222Z"
   },
   {
    "duration": 3,
    "start_time": "2021-12-19T15:51:49.724Z"
   },
   {
    "duration": 9,
    "start_time": "2021-12-19T15:51:50.998Z"
   },
   {
    "duration": 7,
    "start_time": "2021-12-19T15:51:52.710Z"
   },
   {
    "duration": 13,
    "start_time": "2021-12-19T15:51:55.373Z"
   },
   {
    "duration": 8,
    "start_time": "2021-12-19T15:52:10.893Z"
   },
   {
    "duration": 6,
    "start_time": "2021-12-19T15:52:14.408Z"
   },
   {
    "duration": 7971,
    "start_time": "2021-12-19T15:52:16.523Z"
   },
   {
    "duration": -437,
    "start_time": "2021-12-19T15:52:24.933Z"
   },
   {
    "duration": -433,
    "start_time": "2021-12-19T15:52:36.695Z"
   },
   {
    "duration": -434,
    "start_time": "2021-12-19T15:53:42.190Z"
   },
   {
    "duration": -443,
    "start_time": "2021-12-19T15:53:42.200Z"
   },
   {
    "duration": 62,
    "start_time": "2021-12-19T15:53:44.784Z"
   },
   {
    "duration": 15,
    "start_time": "2021-12-19T15:53:45.557Z"
   },
   {
    "duration": 20,
    "start_time": "2021-12-19T15:53:47.622Z"
   },
   {
    "duration": 4,
    "start_time": "2021-12-19T15:53:49.964Z"
   },
   {
    "duration": 11,
    "start_time": "2021-12-19T15:53:51.242Z"
   },
   {
    "duration": 23,
    "start_time": "2021-12-19T15:53:53.443Z"
   },
   {
    "duration": 12,
    "start_time": "2021-12-19T15:53:58.183Z"
   },
   {
    "duration": 8,
    "start_time": "2021-12-19T15:53:59.042Z"
   },
   {
    "duration": 4,
    "start_time": "2021-12-19T15:54:04.297Z"
   },
   {
    "duration": 16,
    "start_time": "2021-12-19T15:54:24.417Z"
   },
   {
    "duration": 4,
    "start_time": "2021-12-19T15:54:26.378Z"
   },
   {
    "duration": 7,
    "start_time": "2021-12-19T15:54:28.684Z"
   },
   {
    "duration": 23,
    "start_time": "2021-12-19T15:54:30.762Z"
   },
   {
    "duration": 7,
    "start_time": "2021-12-19T15:54:32.507Z"
   },
   {
    "duration": 4,
    "start_time": "2021-12-19T15:54:34.724Z"
   },
   {
    "duration": 10,
    "start_time": "2021-12-19T15:54:36.363Z"
   },
   {
    "duration": 9,
    "start_time": "2021-12-19T15:54:38.644Z"
   },
   {
    "duration": 13,
    "start_time": "2021-12-19T15:54:41.298Z"
   },
   {
    "duration": 12,
    "start_time": "2021-12-19T15:54:47.899Z"
   },
   {
    "duration": 11,
    "start_time": "2021-12-19T15:54:59.333Z"
   },
   {
    "duration": 9,
    "start_time": "2021-12-19T15:55:26.406Z"
   },
   {
    "duration": 7,
    "start_time": "2021-12-19T15:55:26.512Z"
   },
   {
    "duration": 8,
    "start_time": "2021-12-19T15:55:28.698Z"
   },
   {
    "duration": 5,
    "start_time": "2021-12-19T15:55:37.149Z"
   },
   {
    "duration": 16,
    "start_time": "2021-12-19T15:55:39.332Z"
   },
   {
    "duration": 4,
    "start_time": "2021-12-19T15:55:43.097Z"
   },
   {
    "duration": 14,
    "start_time": "2021-12-19T15:55:43.978Z"
   },
   {
    "duration": 3,
    "start_time": "2021-12-19T15:55:44.973Z"
   },
   {
    "duration": 29,
    "start_time": "2021-12-19T15:55:46.597Z"
   },
   {
    "duration": 15,
    "start_time": "2021-12-19T15:55:48.558Z"
   },
   {
    "duration": 15,
    "start_time": "2021-12-19T15:55:49.364Z"
   },
   {
    "duration": 12,
    "start_time": "2021-12-19T15:55:51.136Z"
   },
   {
    "duration": 4,
    "start_time": "2021-12-19T15:55:51.984Z"
   },
   {
    "duration": 3,
    "start_time": "2021-12-19T15:55:52.657Z"
   },
   {
    "duration": 50,
    "start_time": "2021-12-19T15:55:54.079Z"
   },
   {
    "duration": 26,
    "start_time": "2021-12-19T15:55:55.142Z"
   },
   {
    "duration": 24,
    "start_time": "2021-12-19T15:55:56.730Z"
   },
   {
    "duration": 15,
    "start_time": "2021-12-19T15:55:59.843Z"
   },
   {
    "duration": 4,
    "start_time": "2021-12-19T15:56:03.627Z"
   },
   {
    "duration": 15,
    "start_time": "2021-12-19T15:56:06.693Z"
   },
   {
    "duration": 6,
    "start_time": "2021-12-19T15:56:11.867Z"
   },
   {
    "duration": 3,
    "start_time": "2021-12-19T15:56:14.839Z"
   },
   {
    "duration": 6355,
    "start_time": "2021-12-19T17:18:14.038Z"
   },
   {
    "duration": 6889,
    "start_time": "2021-12-19T17:18:41.177Z"
   },
   {
    "duration": 6416,
    "start_time": "2021-12-19T17:19:07.872Z"
   },
   {
    "duration": 7363,
    "start_time": "2021-12-19T17:19:20.948Z"
   },
   {
    "duration": 6963,
    "start_time": "2021-12-19T17:20:13.963Z"
   },
   {
    "duration": 8,
    "start_time": "2021-12-19T17:20:37.533Z"
   },
   {
    "duration": 6,
    "start_time": "2021-12-19T17:20:52.688Z"
   },
   {
    "duration": 57,
    "start_time": "2021-12-19T17:21:17.372Z"
   },
   {
    "duration": 15,
    "start_time": "2021-12-19T17:21:17.814Z"
   },
   {
    "duration": 20,
    "start_time": "2021-12-19T17:21:18.007Z"
   },
   {
    "duration": 4,
    "start_time": "2021-12-19T17:21:18.397Z"
   },
   {
    "duration": 8,
    "start_time": "2021-12-19T17:21:18.797Z"
   },
   {
    "duration": 15,
    "start_time": "2021-12-19T17:21:19.193Z"
   },
   {
    "duration": 12,
    "start_time": "2021-12-19T17:21:19.593Z"
   },
   {
    "duration": 7,
    "start_time": "2021-12-19T17:21:19.818Z"
   },
   {
    "duration": 3,
    "start_time": "2021-12-19T17:21:20.203Z"
   },
   {
    "duration": 13,
    "start_time": "2021-12-19T17:21:20.648Z"
   },
   {
    "duration": 7,
    "start_time": "2021-12-19T17:21:21.088Z"
   },
   {
    "duration": 8,
    "start_time": "2021-12-19T17:21:21.709Z"
   },
   {
    "duration": 24,
    "start_time": "2021-12-19T17:21:21.951Z"
   },
   {
    "duration": 6,
    "start_time": "2021-12-19T17:21:22.444Z"
   },
   {
    "duration": 4,
    "start_time": "2021-12-19T17:21:24.229Z"
   },
   {
    "duration": 10,
    "start_time": "2021-12-19T17:21:24.412Z"
   },
   {
    "duration": 10,
    "start_time": "2021-12-19T17:21:25.730Z"
   },
   {
    "duration": 10,
    "start_time": "2021-12-19T17:21:27.478Z"
   },
   {
    "duration": 9,
    "start_time": "2021-12-19T17:21:29.524Z"
   },
   {
    "duration": 7,
    "start_time": "2021-12-19T17:21:30.377Z"
   },
   {
    "duration": -419,
    "start_time": "2021-12-19T17:21:41.383Z"
   },
   {
    "duration": -429,
    "start_time": "2021-12-19T17:21:41.395Z"
   },
   {
    "duration": 6,
    "start_time": "2021-12-19T17:21:49.790Z"
   },
   {
    "duration": 8,
    "start_time": "2021-12-19T17:22:13.258Z"
   },
   {
    "duration": 88,
    "start_time": "2021-12-19T17:23:08.779Z"
   },
   {
    "duration": 8,
    "start_time": "2021-12-19T17:23:27.164Z"
   },
   {
    "duration": 3,
    "start_time": "2021-12-19T17:24:09.998Z"
   },
   {
    "duration": 5,
    "start_time": "2021-12-19T17:24:12.188Z"
   },
   {
    "duration": 13,
    "start_time": "2021-12-19T17:24:13.141Z"
   },
   {
    "duration": 12,
    "start_time": "2021-12-19T17:24:41.693Z"
   },
   {
    "duration": 3,
    "start_time": "2021-12-19T17:24:43.445Z"
   },
   {
    "duration": 10,
    "start_time": "2021-12-19T17:24:44.364Z"
   },
   {
    "duration": 3,
    "start_time": "2021-12-19T17:24:45.217Z"
   },
   {
    "duration": 19,
    "start_time": "2021-12-19T17:24:46.454Z"
   },
   {
    "duration": 10,
    "start_time": "2021-12-19T17:24:47.562Z"
   },
   {
    "duration": 12,
    "start_time": "2021-12-19T17:24:48.304Z"
   },
   {
    "duration": 9,
    "start_time": "2021-12-19T17:24:49.916Z"
   },
   {
    "duration": 3,
    "start_time": "2021-12-19T17:24:50.812Z"
   },
   {
    "duration": 3,
    "start_time": "2021-12-19T17:24:51.543Z"
   },
   {
    "duration": 51,
    "start_time": "2021-12-19T17:24:53.032Z"
   },
   {
    "duration": 31,
    "start_time": "2021-12-19T17:24:57.969Z"
   },
   {
    "duration": 26,
    "start_time": "2021-12-19T17:24:58.852Z"
   },
   {
    "duration": 14,
    "start_time": "2021-12-19T17:25:01.898Z"
   },
   {
    "duration": 3,
    "start_time": "2021-12-19T17:25:05.088Z"
   },
   {
    "duration": 15,
    "start_time": "2021-12-19T17:25:07.142Z"
   },
   {
    "duration": 5,
    "start_time": "2021-12-19T17:25:08.354Z"
   },
   {
    "duration": 3,
    "start_time": "2021-12-19T17:25:09.237Z"
   },
   {
    "duration": 4,
    "start_time": "2021-12-19T17:25:09.895Z"
   },
   {
    "duration": 47,
    "start_time": "2021-12-19T17:25:11.629Z"
   },
   {
    "duration": 3,
    "start_time": "2021-12-19T17:25:12.913Z"
   },
   {
    "duration": 3,
    "start_time": "2021-12-19T17:25:13.724Z"
   },
   {
    "duration": 3,
    "start_time": "2021-12-19T17:25:15.269Z"
   },
   {
    "duration": 3,
    "start_time": "2021-12-19T17:25:15.713Z"
   },
   {
    "duration": 3,
    "start_time": "2021-12-19T17:25:16.147Z"
   },
   {
    "duration": 4,
    "start_time": "2021-12-19T17:25:16.518Z"
   },
   {
    "duration": 3,
    "start_time": "2021-12-19T17:25:17.282Z"
   },
   {
    "duration": 12,
    "start_time": "2021-12-19T17:25:18.032Z"
   },
   {
    "duration": 4,
    "start_time": "2021-12-19T17:25:21.172Z"
   },
   {
    "duration": 3,
    "start_time": "2021-12-19T17:25:21.584Z"
   },
   {
    "duration": 12,
    "start_time": "2021-12-19T17:27:03.928Z"
   },
   {
    "duration": 13,
    "start_time": "2021-12-19T17:27:26.278Z"
   },
   {
    "duration": 13,
    "start_time": "2021-12-19T17:27:29.077Z"
   },
   {
    "duration": 4,
    "start_time": "2021-12-19T17:27:29.863Z"
   },
   {
    "duration": 61,
    "start_time": "2021-12-19T17:27:33.763Z"
   },
   {
    "duration": 15,
    "start_time": "2021-12-19T17:27:34.083Z"
   },
   {
    "duration": 21,
    "start_time": "2021-12-19T17:27:34.244Z"
   },
   {
    "duration": 3,
    "start_time": "2021-12-19T17:27:34.598Z"
   },
   {
    "duration": 8,
    "start_time": "2021-12-19T17:27:34.913Z"
   },
   {
    "duration": 16,
    "start_time": "2021-12-19T17:27:35.256Z"
   },
   {
    "duration": 11,
    "start_time": "2021-12-19T17:27:35.583Z"
   },
   {
    "duration": 7,
    "start_time": "2021-12-19T17:27:35.749Z"
   },
   {
    "duration": 3,
    "start_time": "2021-12-19T17:27:36.603Z"
   },
   {
    "duration": 13,
    "start_time": "2021-12-19T17:27:37.580Z"
   },
   {
    "duration": 3,
    "start_time": "2021-12-19T17:27:38.622Z"
   },
   {
    "duration": 8,
    "start_time": "2021-12-19T17:27:39.919Z"
   },
   {
    "duration": 23,
    "start_time": "2021-12-19T17:27:40.290Z"
   },
   {
    "duration": 7,
    "start_time": "2021-12-19T17:27:40.797Z"
   },
   {
    "duration": 3,
    "start_time": "2021-12-19T17:27:41.665Z"
   },
   {
    "duration": 9,
    "start_time": "2021-12-19T17:27:42.529Z"
   },
   {
    "duration": 8,
    "start_time": "2021-12-19T17:27:42.974Z"
   },
   {
    "duration": 10,
    "start_time": "2021-12-19T17:27:44.005Z"
   },
   {
    "duration": 8,
    "start_time": "2021-12-19T17:27:45.265Z"
   },
   {
    "duration": 6,
    "start_time": "2021-12-19T17:27:45.877Z"
   },
   {
    "duration": 3,
    "start_time": "2021-12-19T17:27:47.405Z"
   },
   {
    "duration": 5,
    "start_time": "2021-12-19T17:27:48.526Z"
   },
   {
    "duration": 13,
    "start_time": "2021-12-19T17:27:49.102Z"
   },
   {
    "duration": 3,
    "start_time": "2021-12-19T17:27:50.799Z"
   },
   {
    "duration": 10,
    "start_time": "2021-12-19T17:27:51.460Z"
   },
   {
    "duration": 4,
    "start_time": "2021-12-19T17:27:52.877Z"
   },
   {
    "duration": 19,
    "start_time": "2021-12-19T17:27:54.428Z"
   },
   {
    "duration": 11,
    "start_time": "2021-12-19T17:27:55.763Z"
   },
   {
    "duration": 13,
    "start_time": "2021-12-19T17:27:56.424Z"
   },
   {
    "duration": 9,
    "start_time": "2021-12-19T17:27:57.819Z"
   },
   {
    "duration": 3,
    "start_time": "2021-12-19T17:27:58.469Z"
   },
   {
    "duration": 3,
    "start_time": "2021-12-19T17:27:59.523Z"
   },
   {
    "duration": 50,
    "start_time": "2021-12-19T17:28:01.117Z"
   },
   {
    "duration": 27,
    "start_time": "2021-12-19T17:28:02.438Z"
   },
   {
    "duration": 24,
    "start_time": "2021-12-19T17:28:03.087Z"
   },
   {
    "duration": 16,
    "start_time": "2021-12-19T17:28:03.962Z"
   },
   {
    "duration": 3,
    "start_time": "2021-12-19T17:28:07.009Z"
   },
   {
    "duration": 16,
    "start_time": "2021-12-19T17:28:13.735Z"
   },
   {
    "duration": 5,
    "start_time": "2021-12-19T17:28:15.049Z"
   },
   {
    "duration": 3,
    "start_time": "2021-12-19T17:28:16.413Z"
   },
   {
    "duration": 3,
    "start_time": "2021-12-19T17:28:20.206Z"
   },
   {
    "duration": 49,
    "start_time": "2021-12-19T17:28:22.266Z"
   },
   {
    "duration": 3,
    "start_time": "2021-12-19T17:28:23.174Z"
   },
   {
    "duration": 3,
    "start_time": "2021-12-19T17:28:23.857Z"
   },
   {
    "duration": 4,
    "start_time": "2021-12-19T17:28:25.634Z"
   },
   {
    "duration": 3,
    "start_time": "2021-12-19T17:28:26.587Z"
   },
   {
    "duration": 3,
    "start_time": "2021-12-19T17:28:27.108Z"
   },
   {
    "duration": 4,
    "start_time": "2021-12-19T17:28:27.558Z"
   },
   {
    "duration": 3,
    "start_time": "2021-12-19T17:28:28.559Z"
   },
   {
    "duration": 13,
    "start_time": "2021-12-19T17:28:30.047Z"
   },
   {
    "duration": 14,
    "start_time": "2021-12-19T17:28:33.635Z"
   },
   {
    "duration": 23,
    "start_time": "2021-12-19T17:28:43.645Z"
   },
   {
    "duration": 30,
    "start_time": "2021-12-19T17:29:55.760Z"
   },
   {
    "duration": -536,
    "start_time": "2021-12-19T17:37:36.837Z"
   },
   {
    "duration": 57,
    "start_time": "2021-12-19T17:37:37.778Z"
   },
   {
    "duration": 17,
    "start_time": "2021-12-19T17:37:38.643Z"
   },
   {
    "duration": 21,
    "start_time": "2021-12-19T17:37:39.059Z"
   },
   {
    "duration": 4,
    "start_time": "2021-12-19T17:37:40.024Z"
   },
   {
    "duration": 8,
    "start_time": "2021-12-19T17:37:40.930Z"
   },
   {
    "duration": 16,
    "start_time": "2021-12-19T17:37:41.955Z"
   },
   {
    "duration": 12,
    "start_time": "2021-12-19T17:37:43.179Z"
   },
   {
    "duration": 7,
    "start_time": "2021-12-19T17:37:43.913Z"
   },
   {
    "duration": 4,
    "start_time": "2021-12-19T17:37:45.353Z"
   },
   {
    "duration": 14,
    "start_time": "2021-12-19T17:37:46.444Z"
   },
   {
    "duration": 4,
    "start_time": "2021-12-19T17:37:47.736Z"
   },
   {
    "duration": 9,
    "start_time": "2021-12-19T17:37:49.365Z"
   },
   {
    "duration": 27,
    "start_time": "2021-12-19T17:37:50.457Z"
   },
   {
    "duration": 7,
    "start_time": "2021-12-19T17:37:51.624Z"
   },
   {
    "duration": 8,
    "start_time": "2021-12-19T17:37:52.896Z"
   },
   {
    "duration": 13,
    "start_time": "2021-12-19T17:37:54.044Z"
   },
   {
    "duration": 9,
    "start_time": "2021-12-19T17:37:54.984Z"
   },
   {
    "duration": 9,
    "start_time": "2021-12-19T17:37:56.350Z"
   },
   {
    "duration": 11,
    "start_time": "2021-12-19T17:37:57.952Z"
   },
   {
    "duration": 6,
    "start_time": "2021-12-19T17:37:58.971Z"
   },
   {
    "duration": 7,
    "start_time": "2021-12-19T17:38:02.756Z"
   },
   {
    "duration": 7548,
    "start_time": "2021-12-19T17:52:53.439Z"
   },
   {
    "duration": 5187,
    "start_time": "2021-12-19T18:00:18.608Z"
   },
   {
    "duration": 5630,
    "start_time": "2021-12-19T18:01:08.201Z"
   },
   {
    "duration": 5362,
    "start_time": "2021-12-19T18:01:46.712Z"
   },
   {
    "duration": 5051,
    "start_time": "2021-12-19T18:02:17.596Z"
   },
   {
    "duration": 5138,
    "start_time": "2021-12-19T18:02:24.025Z"
   },
   {
    "duration": 5226,
    "start_time": "2021-12-19T18:03:24.167Z"
   },
   {
    "duration": 5424,
    "start_time": "2021-12-19T18:05:15.182Z"
   },
   {
    "duration": 261,
    "start_time": "2021-12-19T18:06:21.497Z"
   },
   {
    "duration": 292,
    "start_time": "2021-12-19T18:08:52.770Z"
   },
   {
    "duration": 100,
    "start_time": "2021-12-19T18:16:52.825Z"
   },
   {
    "duration": 8421,
    "start_time": "2021-12-19T18:17:21.171Z"
   },
   {
    "duration": 27,
    "start_time": "2021-12-19T18:27:31.309Z"
   },
   {
    "duration": 43,
    "start_time": "2021-12-19T18:28:02.928Z"
   },
   {
    "duration": 39,
    "start_time": "2021-12-19T18:29:29.472Z"
   },
   {
    "duration": 22,
    "start_time": "2021-12-19T18:32:22.328Z"
   },
   {
    "duration": 7,
    "start_time": "2021-12-19T18:32:23.083Z"
   },
   {
    "duration": 4,
    "start_time": "2021-12-19T18:32:26.655Z"
   },
   {
    "duration": 3,
    "start_time": "2021-12-19T18:32:27.422Z"
   },
   {
    "duration": 303,
    "start_time": "2021-12-19T18:32:30.086Z"
   },
   {
    "duration": 38,
    "start_time": "2021-12-19T18:34:02.020Z"
   },
   {
    "duration": 37,
    "start_time": "2021-12-19T18:36:52.913Z"
   },
   {
    "duration": 6619,
    "start_time": "2021-12-19T18:47:33.289Z"
   },
   {
    "duration": 27,
    "start_time": "2021-12-19T18:48:16.407Z"
   },
   {
    "duration": 6772,
    "start_time": "2021-12-19T18:48:53.439Z"
   },
   {
    "duration": 7455,
    "start_time": "2021-12-19T18:49:56.113Z"
   },
   {
    "duration": 10,
    "start_time": "2021-12-19T18:50:15.877Z"
   },
   {
    "duration": 6,
    "start_time": "2021-12-19T18:50:16.301Z"
   },
   {
    "duration": 3,
    "start_time": "2021-12-19T18:50:16.711Z"
   },
   {
    "duration": 3,
    "start_time": "2021-12-19T18:50:17.156Z"
   },
   {
    "duration": 3,
    "start_time": "2021-12-19T18:50:17.587Z"
   },
   {
    "duration": 82,
    "start_time": "2021-12-19T18:50:24.843Z"
   },
   {
    "duration": 15,
    "start_time": "2021-12-19T18:50:25.673Z"
   },
   {
    "duration": 21,
    "start_time": "2021-12-19T18:50:26.243Z"
   },
   {
    "duration": 4,
    "start_time": "2021-12-19T18:50:27.526Z"
   },
   {
    "duration": 8,
    "start_time": "2021-12-19T18:50:28.577Z"
   },
   {
    "duration": 15,
    "start_time": "2021-12-19T18:50:29.777Z"
   },
   {
    "duration": 35,
    "start_time": "2021-12-19T18:50:31.167Z"
   },
   {
    "duration": 13,
    "start_time": "2021-12-19T18:50:31.660Z"
   },
   {
    "duration": 4,
    "start_time": "2021-12-19T18:50:33.061Z"
   },
   {
    "duration": 12,
    "start_time": "2021-12-19T18:50:34.282Z"
   },
   {
    "duration": 4,
    "start_time": "2021-12-19T18:50:36.546Z"
   },
   {
    "duration": 7,
    "start_time": "2021-12-19T18:50:38.083Z"
   },
   {
    "duration": 24,
    "start_time": "2021-12-19T18:50:39.198Z"
   },
   {
    "duration": 9,
    "start_time": "2021-12-19T18:50:40.152Z"
   },
   {
    "duration": 3,
    "start_time": "2021-12-19T18:50:41.621Z"
   },
   {
    "duration": 11,
    "start_time": "2021-12-19T18:50:42.798Z"
   },
   {
    "duration": 8,
    "start_time": "2021-12-19T18:50:44.237Z"
   },
   {
    "duration": 11,
    "start_time": "2021-12-19T18:50:46.607Z"
   },
   {
    "duration": 9,
    "start_time": "2021-12-19T18:50:48.958Z"
   },
   {
    "duration": 7,
    "start_time": "2021-12-19T18:50:49.692Z"
   },
   {
    "duration": 9,
    "start_time": "2021-12-19T18:50:52.047Z"
   },
   {
    "duration": 8,
    "start_time": "2021-12-19T18:50:53.792Z"
   },
   {
    "duration": 17,
    "start_time": "2021-12-19T18:50:54.478Z"
   },
   {
    "duration": 3,
    "start_time": "2021-12-19T18:50:55.846Z"
   },
   {
    "duration": 13,
    "start_time": "2021-12-19T18:50:56.452Z"
   },
   {
    "duration": 3,
    "start_time": "2021-12-19T18:50:57.087Z"
   },
   {
    "duration": 26,
    "start_time": "2021-12-19T18:50:58.467Z"
   },
   {
    "duration": 11,
    "start_time": "2021-12-19T18:50:59.481Z"
   },
   {
    "duration": 13,
    "start_time": "2021-12-19T18:51:00.152Z"
   },
   {
    "duration": 9,
    "start_time": "2021-12-19T18:51:01.288Z"
   },
   {
    "duration": 4,
    "start_time": "2021-12-19T18:51:02.019Z"
   },
   {
    "duration": 3,
    "start_time": "2021-12-19T18:51:02.719Z"
   },
   {
    "duration": 50,
    "start_time": "2021-12-19T18:51:03.742Z"
   },
   {
    "duration": 27,
    "start_time": "2021-12-19T18:51:04.723Z"
   },
   {
    "duration": 24,
    "start_time": "2021-12-19T18:51:05.352Z"
   },
   {
    "duration": 22,
    "start_time": "2021-12-19T18:51:06.028Z"
   },
   {
    "duration": 4,
    "start_time": "2021-12-19T18:51:08.586Z"
   },
   {
    "duration": 34,
    "start_time": "2021-12-19T18:51:10.437Z"
   },
   {
    "duration": 6,
    "start_time": "2021-12-19T18:51:22.918Z"
   },
   {
    "duration": 4,
    "start_time": "2021-12-19T18:51:24.674Z"
   },
   {
    "duration": 4,
    "start_time": "2021-12-19T18:51:25.232Z"
   },
   {
    "duration": 280,
    "start_time": "2021-12-19T18:51:27.204Z"
   },
   {
    "duration": 61,
    "start_time": "2021-12-19T18:51:50.718Z"
   },
   {
    "duration": 3,
    "start_time": "2021-12-19T18:51:52.068Z"
   },
   {
    "duration": 5,
    "start_time": "2021-12-19T18:51:52.974Z"
   },
   {
    "duration": 9,
    "start_time": "2021-12-19T18:51:54.985Z"
   },
   {
    "duration": 6,
    "start_time": "2021-12-19T18:51:55.551Z"
   },
   {
    "duration": 3,
    "start_time": "2021-12-19T18:51:56.203Z"
   },
   {
    "duration": 3,
    "start_time": "2021-12-19T18:51:56.748Z"
   },
   {
    "duration": 4,
    "start_time": "2021-12-19T18:51:57.762Z"
   },
   {
    "duration": 11,
    "start_time": "2021-12-19T18:51:58.942Z"
   },
   {
    "duration": 68,
    "start_time": "2021-12-19T18:52:01.315Z"
   },
   {
    "duration": 46,
    "start_time": "2021-12-19T18:52:30.472Z"
   },
   {
    "duration": 9,
    "start_time": "2021-12-19T18:55:52.869Z"
   },
   {
    "duration": 6,
    "start_time": "2021-12-19T18:55:53.711Z"
   },
   {
    "duration": 63,
    "start_time": "2021-12-19T18:59:34.655Z"
   },
   {
    "duration": 59,
    "start_time": "2021-12-19T18:59:47.565Z"
   },
   {
    "duration": 6,
    "start_time": "2021-12-19T19:13:37.233Z"
   },
   {
    "duration": 3,
    "start_time": "2021-12-19T19:13:38.281Z"
   },
   {
    "duration": 2,
    "start_time": "2021-12-19T19:13:38.960Z"
   },
   {
    "duration": 4,
    "start_time": "2021-12-19T19:13:39.525Z"
   },
   {
    "duration": 14,
    "start_time": "2021-12-19T19:13:41.320Z"
   },
   {
    "duration": 7780,
    "start_time": "2021-12-19T19:13:50.507Z"
   },
   {
    "duration": -395,
    "start_time": "2021-12-19T19:13:58.685Z"
   },
   {
    "duration": 85,
    "start_time": "2021-12-19T19:14:32.643Z"
   },
   {
    "duration": 266,
    "start_time": "2021-12-19T19:15:39.757Z"
   },
   {
    "duration": 3,
    "start_time": "2021-12-19T19:15:54.430Z"
   },
   {
    "duration": 16,
    "start_time": "2021-12-19T19:24:32.311Z"
   },
   {
    "duration": 288,
    "start_time": "2021-12-19T19:24:42.706Z"
   },
   {
    "duration": 295,
    "start_time": "2021-12-19T19:25:01.033Z"
   },
   {
    "duration": 68,
    "start_time": "2021-12-19T19:25:10.889Z"
   },
   {
    "duration": 11,
    "start_time": "2021-12-19T19:29:18.986Z"
   },
   {
    "duration": 15,
    "start_time": "2021-12-19T19:29:30.841Z"
   },
   {
    "duration": 64,
    "start_time": "2021-12-19T20:18:42.659Z"
   },
   {
    "duration": 66,
    "start_time": "2021-12-19T20:28:39.831Z"
   },
   {
    "duration": 67,
    "start_time": "2021-12-19T20:33:28.062Z"
   },
   {
    "duration": 69,
    "start_time": "2021-12-19T20:34:04.335Z"
   },
   {
    "duration": 78,
    "start_time": "2021-12-19T20:40:33.723Z"
   },
   {
    "duration": 60,
    "start_time": "2021-12-19T20:47:30.090Z"
   },
   {
    "duration": 58,
    "start_time": "2021-12-19T20:47:37.646Z"
   },
   {
    "duration": 16,
    "start_time": "2021-12-19T20:47:38.686Z"
   },
   {
    "duration": 20,
    "start_time": "2021-12-19T20:47:39.126Z"
   },
   {
    "duration": 3,
    "start_time": "2021-12-19T20:47:39.933Z"
   },
   {
    "duration": 7,
    "start_time": "2021-12-19T20:47:40.645Z"
   },
   {
    "duration": 14,
    "start_time": "2021-12-19T20:47:41.461Z"
   },
   {
    "duration": 11,
    "start_time": "2021-12-19T20:47:42.242Z"
   },
   {
    "duration": 7,
    "start_time": "2021-12-19T20:47:42.626Z"
   },
   {
    "duration": 3,
    "start_time": "2021-12-19T20:47:43.390Z"
   },
   {
    "duration": 11,
    "start_time": "2021-12-19T20:47:44.110Z"
   },
   {
    "duration": 3,
    "start_time": "2021-12-19T20:47:44.873Z"
   },
   {
    "duration": 6,
    "start_time": "2021-12-19T20:47:46.060Z"
   },
   {
    "duration": 22,
    "start_time": "2021-12-19T20:47:46.455Z"
   },
   {
    "duration": 8,
    "start_time": "2021-12-19T20:47:46.868Z"
   },
   {
    "duration": 3,
    "start_time": "2021-12-19T20:47:47.676Z"
   },
   {
    "duration": 11,
    "start_time": "2021-12-19T20:47:48.551Z"
   },
   {
    "duration": 8,
    "start_time": "2021-12-19T20:47:48.986Z"
   },
   {
    "duration": 9,
    "start_time": "2021-12-19T20:47:49.817Z"
   },
   {
    "duration": 8,
    "start_time": "2021-12-19T20:47:50.692Z"
   },
   {
    "duration": 6,
    "start_time": "2021-12-19T20:47:51.435Z"
   },
   {
    "duration": 6,
    "start_time": "2021-12-19T20:47:52.612Z"
   },
   {
    "duration": 6,
    "start_time": "2021-12-19T20:47:53.816Z"
   },
   {
    "duration": 12,
    "start_time": "2021-12-19T20:47:54.266Z"
   },
   {
    "duration": 3,
    "start_time": "2021-12-19T20:47:55.257Z"
   },
   {
    "duration": 10,
    "start_time": "2021-12-19T20:47:55.716Z"
   },
   {
    "duration": 3,
    "start_time": "2021-12-19T20:47:56.160Z"
   },
   {
    "duration": 19,
    "start_time": "2021-12-19T20:47:57.181Z"
   },
   {
    "duration": 11,
    "start_time": "2021-12-19T20:47:57.697Z"
   },
   {
    "duration": 12,
    "start_time": "2021-12-19T20:47:58.276Z"
   },
   {
    "duration": 9,
    "start_time": "2021-12-19T20:47:59.225Z"
   },
   {
    "duration": 3,
    "start_time": "2021-12-19T20:47:59.716Z"
   },
   {
    "duration": 4,
    "start_time": "2021-12-19T20:48:00.192Z"
   },
   {
    "duration": 51,
    "start_time": "2021-12-19T20:48:01.140Z"
   },
   {
    "duration": 27,
    "start_time": "2021-12-19T20:48:01.858Z"
   },
   {
    "duration": 25,
    "start_time": "2021-12-19T20:48:02.971Z"
   },
   {
    "duration": 23,
    "start_time": "2021-12-19T20:48:04.050Z"
   },
   {
    "duration": 3,
    "start_time": "2021-12-19T20:48:06.781Z"
   },
   {
    "duration": 23,
    "start_time": "2021-12-19T20:48:08.796Z"
   },
   {
    "duration": 5,
    "start_time": "2021-12-19T20:48:09.604Z"
   },
   {
    "duration": 2,
    "start_time": "2021-12-19T20:48:10.256Z"
   },
   {
    "duration": 3,
    "start_time": "2021-12-19T20:48:10.867Z"
   },
   {
    "duration": 42,
    "start_time": "2021-12-19T20:48:12.551Z"
   },
   {
    "duration": 3,
    "start_time": "2021-12-19T20:48:13.322Z"
   },
   {
    "duration": 3,
    "start_time": "2021-12-19T20:48:14.516Z"
   },
   {
    "duration": 2,
    "start_time": "2021-12-19T20:48:17.651Z"
   },
   {
    "duration": 3,
    "start_time": "2021-12-19T20:48:18.080Z"
   },
   {
    "duration": 3,
    "start_time": "2021-12-19T20:48:18.613Z"
   },
   {
    "duration": 3,
    "start_time": "2021-12-19T20:48:19.113Z"
   },
   {
    "duration": 3,
    "start_time": "2021-12-19T20:48:20.235Z"
   },
   {
    "duration": 11,
    "start_time": "2021-12-19T20:48:21.696Z"
   },
   {
    "duration": 27,
    "start_time": "2021-12-19T20:49:20.894Z"
   },
   {
    "duration": 5,
    "start_time": "2021-12-19T20:49:22.690Z"
   },
   {
    "duration": 3,
    "start_time": "2021-12-19T20:49:23.612Z"
   },
   {
    "duration": 3,
    "start_time": "2021-12-19T20:49:24.273Z"
   },
   {
    "duration": 39,
    "start_time": "2021-12-19T20:49:26.557Z"
   },
   {
    "duration": 3,
    "start_time": "2021-12-19T20:49:28.194Z"
   },
   {
    "duration": 5,
    "start_time": "2021-12-19T20:49:28.200Z"
   },
   {
    "duration": 3,
    "start_time": "2021-12-19T20:49:29.250Z"
   },
   {
    "duration": 3,
    "start_time": "2021-12-19T20:49:29.701Z"
   },
   {
    "duration": 3,
    "start_time": "2021-12-19T20:49:30.242Z"
   },
   {
    "duration": 3,
    "start_time": "2021-12-19T20:49:30.761Z"
   },
   {
    "duration": 3,
    "start_time": "2021-12-19T20:49:31.771Z"
   },
   {
    "duration": 11,
    "start_time": "2021-12-19T20:49:33.017Z"
   },
   {
    "duration": 62,
    "start_time": "2021-12-19T20:49:34.956Z"
   },
   {
    "duration": 58,
    "start_time": "2021-12-19T20:53:24.387Z"
   },
   {
    "duration": 61,
    "start_time": "2021-12-19T20:56:17.077Z"
   },
   {
    "duration": 17,
    "start_time": "2021-12-19T21:02:00.832Z"
   },
   {
    "duration": 49,
    "start_time": "2021-12-19T21:02:09.786Z"
   },
   {
    "duration": 9,
    "start_time": "2021-12-19T21:02:51.613Z"
   },
   {
    "duration": 6,
    "start_time": "2021-12-19T21:03:03.223Z"
   },
   {
    "duration": 49,
    "start_time": "2021-12-19T21:03:34.742Z"
   },
   {
    "duration": 3,
    "start_time": "2021-12-19T21:03:49.526Z"
   },
   {
    "duration": 3,
    "start_time": "2021-12-19T21:03:50.287Z"
   },
   {
    "duration": 4,
    "start_time": "2021-12-19T21:03:50.751Z"
   },
   {
    "duration": 48,
    "start_time": "2021-12-19T21:03:52.133Z"
   },
   {
    "duration": 76,
    "start_time": "2021-12-19T21:03:56.302Z"
   },
   {
    "duration": 58,
    "start_time": "2021-12-19T21:05:06.565Z"
   },
   {
    "duration": 4,
    "start_time": "2021-12-19T21:05:08.483Z"
   },
   {
    "duration": 9,
    "start_time": "2021-12-19T21:05:09.658Z"
   },
   {
    "duration": 51,
    "start_time": "2021-12-19T21:05:11.421Z"
   },
   {
    "duration": 3,
    "start_time": "2021-12-19T21:05:21.868Z"
   },
   {
    "duration": 3,
    "start_time": "2021-12-19T21:05:22.829Z"
   },
   {
    "duration": 3,
    "start_time": "2021-12-19T21:05:23.385Z"
   },
   {
    "duration": 46,
    "start_time": "2021-12-19T21:05:24.667Z"
   },
   {
    "duration": 92,
    "start_time": "2021-12-19T21:05:26.793Z"
   },
   {
    "duration": 3,
    "start_time": "2021-12-19T21:05:28.168Z"
   },
   {
    "duration": 4,
    "start_time": "2021-12-19T21:05:29.448Z"
   },
   {
    "duration": 3,
    "start_time": "2021-12-19T21:05:30.028Z"
   },
   {
    "duration": 4,
    "start_time": "2021-12-19T21:05:31.194Z"
   },
   {
    "duration": 3,
    "start_time": "2021-12-19T21:05:54.175Z"
   },
   {
    "duration": 3,
    "start_time": "2021-12-19T21:05:55.442Z"
   },
   {
    "duration": 3,
    "start_time": "2021-12-19T21:05:55.937Z"
   },
   {
    "duration": 4,
    "start_time": "2021-12-19T21:05:56.474Z"
   },
   {
    "duration": 145,
    "start_time": "2021-12-19T21:15:20.643Z"
   },
   {
    "duration": 149,
    "start_time": "2021-12-19T21:15:33.348Z"
   },
   {
    "duration": 141,
    "start_time": "2021-12-19T21:16:35.961Z"
   },
   {
    "duration": 59,
    "start_time": "2021-12-19T22:59:20.039Z"
   },
   {
    "duration": 14,
    "start_time": "2021-12-19T22:59:21.078Z"
   },
   {
    "duration": 20,
    "start_time": "2021-12-19T22:59:21.592Z"
   },
   {
    "duration": 3,
    "start_time": "2021-12-19T22:59:22.635Z"
   },
   {
    "duration": 7,
    "start_time": "2021-12-19T22:59:23.655Z"
   },
   {
    "duration": 15,
    "start_time": "2021-12-19T22:59:24.860Z"
   },
   {
    "duration": 12,
    "start_time": "2021-12-19T22:59:26.016Z"
   },
   {
    "duration": 6,
    "start_time": "2021-12-19T22:59:26.523Z"
   },
   {
    "duration": 4,
    "start_time": "2021-12-19T22:59:27.738Z"
   },
   {
    "duration": 13,
    "start_time": "2021-12-19T22:59:28.734Z"
   },
   {
    "duration": 3,
    "start_time": "2021-12-19T22:59:29.955Z"
   },
   {
    "duration": 8,
    "start_time": "2021-12-19T22:59:31.448Z"
   },
   {
    "duration": 23,
    "start_time": "2021-12-19T22:59:32.144Z"
   },
   {
    "duration": 6,
    "start_time": "2021-12-19T22:59:32.851Z"
   },
   {
    "duration": 3,
    "start_time": "2021-12-19T22:59:34.220Z"
   },
   {
    "duration": 9,
    "start_time": "2021-12-19T22:59:36.185Z"
   },
   {
    "duration": 8,
    "start_time": "2021-12-19T22:59:37.295Z"
   },
   {
    "duration": 10,
    "start_time": "2021-12-19T22:59:38.860Z"
   },
   {
    "duration": 8,
    "start_time": "2021-12-19T22:59:46.307Z"
   },
   {
    "duration": 7,
    "start_time": "2021-12-19T22:59:56.673Z"
   },
   {
    "duration": 7,
    "start_time": "2021-12-19T22:59:59.938Z"
   },
   {
    "duration": 6,
    "start_time": "2021-12-19T23:00:01.443Z"
   },
   {
    "duration": 17,
    "start_time": "2021-12-19T23:00:02.100Z"
   },
   {
    "duration": 3,
    "start_time": "2021-12-19T23:00:03.498Z"
   },
   {
    "duration": 11,
    "start_time": "2021-12-19T23:00:04.084Z"
   },
   {
    "duration": 3,
    "start_time": "2021-12-19T23:00:04.698Z"
   },
   {
    "duration": 21,
    "start_time": "2021-12-19T23:00:06.199Z"
   },
   {
    "duration": 11,
    "start_time": "2021-12-19T23:00:07.061Z"
   },
   {
    "duration": 12,
    "start_time": "2021-12-19T23:00:07.709Z"
   },
   {
    "duration": 12,
    "start_time": "2021-12-19T23:00:08.909Z"
   },
   {
    "duration": 3,
    "start_time": "2021-12-19T23:00:09.558Z"
   },
   {
    "duration": 4,
    "start_time": "2021-12-19T23:00:10.224Z"
   },
   {
    "duration": 48,
    "start_time": "2021-12-19T23:00:11.304Z"
   },
   {
    "duration": 26,
    "start_time": "2021-12-19T23:00:12.245Z"
   },
   {
    "duration": 23,
    "start_time": "2021-12-19T23:00:12.904Z"
   },
   {
    "duration": 15,
    "start_time": "2021-12-19T23:00:13.600Z"
   },
   {
    "duration": 3,
    "start_time": "2021-12-19T23:00:16.003Z"
   },
   {
    "duration": 24,
    "start_time": "2021-12-19T23:00:18.006Z"
   },
   {
    "duration": 5,
    "start_time": "2021-12-19T23:00:19.288Z"
   },
   {
    "duration": 3,
    "start_time": "2021-12-19T23:00:23.280Z"
   },
   {
    "duration": 3,
    "start_time": "2021-12-19T23:00:24.129Z"
   },
   {
    "duration": 42,
    "start_time": "2021-12-19T23:00:26.533Z"
   },
   {
    "duration": 3,
    "start_time": "2021-12-19T23:00:27.449Z"
   },
   {
    "duration": 3,
    "start_time": "2021-12-19T23:00:28.042Z"
   },
   {
    "duration": 3,
    "start_time": "2021-12-19T23:00:29.864Z"
   },
   {
    "duration": 4,
    "start_time": "2021-12-19T23:00:30.504Z"
   },
   {
    "duration": 3,
    "start_time": "2021-12-19T23:00:31.126Z"
   },
   {
    "duration": 3,
    "start_time": "2021-12-19T23:00:31.801Z"
   },
   {
    "duration": 3,
    "start_time": "2021-12-19T23:00:32.898Z"
   },
   {
    "duration": 11,
    "start_time": "2021-12-19T23:00:34.250Z"
   },
   {
    "duration": 61,
    "start_time": "2021-12-19T23:00:35.569Z"
   },
   {
    "duration": 5,
    "start_time": "2021-12-19T23:00:41.538Z"
   },
   {
    "duration": 9,
    "start_time": "2021-12-19T23:00:43.048Z"
   },
   {
    "duration": 47,
    "start_time": "2021-12-19T23:00:45.393Z"
   },
   {
    "duration": 3,
    "start_time": "2021-12-19T23:00:46.153Z"
   },
   {
    "duration": 3,
    "start_time": "2021-12-19T23:00:46.758Z"
   },
   {
    "duration": 3,
    "start_time": "2021-12-19T23:00:47.307Z"
   },
   {
    "duration": 47,
    "start_time": "2021-12-19T23:00:48.665Z"
   },
   {
    "duration": 125,
    "start_time": "2021-12-19T23:00:52.699Z"
   },
   {
    "duration": 3,
    "start_time": "2021-12-19T23:00:54.159Z"
   },
   {
    "duration": 3,
    "start_time": "2021-12-19T23:00:57.422Z"
   },
   {
    "duration": 5,
    "start_time": "2021-12-19T23:00:57.429Z"
   },
   {
    "duration": 3,
    "start_time": "2021-12-19T23:00:58.091Z"
   },
   {
    "duration": 3,
    "start_time": "2021-12-19T23:00:58.619Z"
   },
   {
    "duration": 2,
    "start_time": "2021-12-19T23:00:59.795Z"
   },
   {
    "duration": 4,
    "start_time": "2021-12-19T23:01:00.740Z"
   },
   {
    "duration": 3,
    "start_time": "2021-12-19T23:01:01.723Z"
   },
   {
    "duration": 727,
    "start_time": "2021-12-19T23:04:25.454Z"
   },
   {
    "duration": 662,
    "start_time": "2021-12-19T23:05:56.067Z"
   },
   {
    "duration": 1082,
    "start_time": "2021-12-19T23:06:02.535Z"
   },
   {
    "duration": 21,
    "start_time": "2021-12-19T23:09:49.391Z"
   },
   {
    "duration": 269,
    "start_time": "2021-12-19T23:09:56.886Z"
   },
   {
    "duration": 20,
    "start_time": "2021-12-19T23:10:04.194Z"
   },
   {
    "duration": 21,
    "start_time": "2021-12-19T23:10:26.070Z"
   },
   {
    "duration": 21,
    "start_time": "2021-12-19T23:15:37.849Z"
   },
   {
    "duration": 19,
    "start_time": "2021-12-19T23:16:42.526Z"
   },
   {
    "duration": 13,
    "start_time": "2021-12-19T23:19:55.256Z"
   },
   {
    "duration": 13,
    "start_time": "2021-12-19T23:20:54.916Z"
   },
   {
    "duration": 20,
    "start_time": "2021-12-19T23:22:43.256Z"
   },
   {
    "duration": 139,
    "start_time": "2021-12-19T23:23:52.499Z"
   },
   {
    "duration": 20,
    "start_time": "2021-12-19T23:26:16.589Z"
   },
   {
    "duration": 16,
    "start_time": "2021-12-19T23:28:45.360Z"
   },
   {
    "duration": 20,
    "start_time": "2021-12-19T23:29:04.907Z"
   },
   {
    "duration": 18,
    "start_time": "2021-12-19T23:32:39.536Z"
   },
   {
    "duration": 28,
    "start_time": "2021-12-19T23:33:18.003Z"
   },
   {
    "duration": 28,
    "start_time": "2021-12-19T23:33:46.672Z"
   },
   {
    "duration": 23,
    "start_time": "2021-12-19T23:33:56.801Z"
   },
   {
    "duration": 13,
    "start_time": "2021-12-19T23:34:10.169Z"
   },
   {
    "duration": 39,
    "start_time": "2021-12-19T23:39:43.901Z"
   },
   {
    "duration": 26,
    "start_time": "2021-12-19T23:41:37.492Z"
   },
   {
    "duration": 10,
    "start_time": "2021-12-19T23:41:44.647Z"
   },
   {
    "duration": 424,
    "start_time": "2021-12-21T02:01:20.493Z"
   },
   {
    "duration": 1376,
    "start_time": "2021-12-21T02:01:30.263Z"
   },
   {
    "duration": 14,
    "start_time": "2021-12-21T02:01:31.641Z"
   },
   {
    "duration": 21,
    "start_time": "2021-12-21T02:01:31.846Z"
   },
   {
    "duration": 4,
    "start_time": "2021-12-21T02:01:32.969Z"
   },
   {
    "duration": 7,
    "start_time": "2021-12-21T02:01:33.972Z"
   },
   {
    "duration": 7,
    "start_time": "2021-12-21T02:01:35.133Z"
   },
   {
    "duration": 11,
    "start_time": "2021-12-21T02:01:36.528Z"
   },
   {
    "duration": 16,
    "start_time": "2021-12-21T02:01:42.733Z"
   },
   {
    "duration": 2,
    "start_time": "2021-12-21T02:01:44.409Z"
   },
   {
    "duration": 12,
    "start_time": "2021-12-21T02:01:45.542Z"
   },
   {
    "duration": 3,
    "start_time": "2021-12-21T02:01:46.868Z"
   },
   {
    "duration": 6,
    "start_time": "2021-12-21T02:01:48.583Z"
   },
   {
    "duration": 23,
    "start_time": "2021-12-21T02:01:49.442Z"
   },
   {
    "duration": 6,
    "start_time": "2021-12-21T02:01:50.109Z"
   },
   {
    "duration": 3,
    "start_time": "2021-12-21T02:01:51.460Z"
   },
   {
    "duration": 9,
    "start_time": "2021-12-21T02:01:52.599Z"
   },
   {
    "duration": 7,
    "start_time": "2021-12-21T02:01:53.349Z"
   },
   {
    "duration": 9,
    "start_time": "2021-12-21T02:01:54.765Z"
   },
   {
    "duration": 10,
    "start_time": "2021-12-21T02:01:58.592Z"
   },
   {
    "duration": 5,
    "start_time": "2021-12-21T02:01:59.492Z"
   },
   {
    "duration": 6,
    "start_time": "2021-12-21T02:02:01.443Z"
   },
   {
    "duration": 6,
    "start_time": "2021-12-21T02:02:03.395Z"
   },
   {
    "duration": 12,
    "start_time": "2021-12-21T02:02:04.246Z"
   },
   {
    "duration": 4,
    "start_time": "2021-12-21T02:02:07.302Z"
   },
   {
    "duration": 10,
    "start_time": "2021-12-21T02:02:08.219Z"
   },
   {
    "duration": 3,
    "start_time": "2021-12-21T02:02:09.121Z"
   },
   {
    "duration": 20,
    "start_time": "2021-12-21T02:02:10.749Z"
   },
   {
    "duration": 13,
    "start_time": "2021-12-21T02:02:11.958Z"
   },
   {
    "duration": 13,
    "start_time": "2021-12-21T02:02:13.214Z"
   },
   {
    "duration": 10,
    "start_time": "2021-12-21T02:02:14.799Z"
   },
   {
    "duration": 3,
    "start_time": "2021-12-21T02:02:15.518Z"
   },
   {
    "duration": 3,
    "start_time": "2021-12-21T02:02:16.253Z"
   },
   {
    "duration": 47,
    "start_time": "2021-12-21T02:02:17.765Z"
   },
   {
    "duration": 27,
    "start_time": "2021-12-21T02:02:19.854Z"
   },
   {
    "duration": 23,
    "start_time": "2021-12-21T02:02:20.780Z"
   },
   {
    "duration": 15,
    "start_time": "2021-12-21T02:02:21.488Z"
   },
   {
    "duration": 3,
    "start_time": "2021-12-21T02:02:23.844Z"
   },
   {
    "duration": 24,
    "start_time": "2021-12-21T02:02:25.704Z"
   },
   {
    "duration": 6,
    "start_time": "2021-12-21T02:02:27.845Z"
   },
   {
    "duration": 3,
    "start_time": "2021-12-21T02:02:28.914Z"
   },
   {
    "duration": 3,
    "start_time": "2021-12-21T02:02:29.579Z"
   },
   {
    "duration": 43,
    "start_time": "2021-12-21T02:02:31.307Z"
   },
   {
    "duration": 3,
    "start_time": "2021-12-21T02:02:32.132Z"
   },
   {
    "duration": 3,
    "start_time": "2021-12-21T02:02:32.659Z"
   },
   {
    "duration": 4,
    "start_time": "2021-12-21T02:02:34.291Z"
   },
   {
    "duration": 3,
    "start_time": "2021-12-21T02:02:34.851Z"
   },
   {
    "duration": 3,
    "start_time": "2021-12-21T02:02:35.482Z"
   },
   {
    "duration": 4,
    "start_time": "2021-12-21T02:02:35.998Z"
   },
   {
    "duration": 3,
    "start_time": "2021-12-21T02:02:38.139Z"
   },
   {
    "duration": 11,
    "start_time": "2021-12-21T02:02:39.308Z"
   },
   {
    "duration": 57,
    "start_time": "2021-12-21T02:02:41.292Z"
   },
   {
    "duration": 5,
    "start_time": "2021-12-21T02:02:42.243Z"
   },
   {
    "duration": 9,
    "start_time": "2021-12-21T02:02:44.699Z"
   },
   {
    "duration": 46,
    "start_time": "2021-12-21T02:02:46.471Z"
   },
   {
    "duration": 3,
    "start_time": "2021-12-21T02:02:47.633Z"
   },
   {
    "duration": 3,
    "start_time": "2021-12-21T02:02:48.424Z"
   },
   {
    "duration": 3,
    "start_time": "2021-12-21T02:02:48.934Z"
   },
   {
    "duration": 48,
    "start_time": "2021-12-21T02:02:50.157Z"
   },
   {
    "duration": 130,
    "start_time": "2021-12-21T02:02:51.774Z"
   },
   {
    "duration": 2,
    "start_time": "2021-12-21T02:03:35.929Z"
   },
   {
    "duration": 3,
    "start_time": "2021-12-21T02:03:36.895Z"
   },
   {
    "duration": 2,
    "start_time": "2021-12-21T02:03:37.369Z"
   },
   {
    "duration": 3,
    "start_time": "2021-12-21T02:03:38.239Z"
   },
   {
    "duration": 3,
    "start_time": "2021-12-21T02:03:39.268Z"
   },
   {
    "duration": 3,
    "start_time": "2021-12-21T02:03:40.227Z"
   },
   {
    "duration": 3,
    "start_time": "2021-12-21T02:03:40.661Z"
   },
   {
    "duration": 4,
    "start_time": "2021-12-21T02:03:41.222Z"
   },
   {
    "duration": 7,
    "start_time": "2021-12-21T02:04:30.336Z"
   },
   {
    "duration": 40,
    "start_time": "2021-12-21T02:05:36.275Z"
   },
   {
    "duration": 14,
    "start_time": "2021-12-21T02:05:42.087Z"
   },
   {
    "duration": 172,
    "start_time": "2021-12-21T02:05:54.443Z"
   },
   {
    "duration": 35,
    "start_time": "2021-12-21T02:06:15.878Z"
   },
   {
    "duration": 8,
    "start_time": "2021-12-21T02:08:23.137Z"
   },
   {
    "duration": 12,
    "start_time": "2021-12-21T02:08:27.503Z"
   },
   {
    "duration": 174,
    "start_time": "2021-12-21T02:10:28.532Z"
   },
   {
    "duration": 14,
    "start_time": "2021-12-21T02:10:35.508Z"
   },
   {
    "duration": 18,
    "start_time": "2021-12-21T02:10:45.948Z"
   },
   {
    "duration": 406,
    "start_time": "2021-12-21T02:13:16.759Z"
   },
   {
    "duration": 383,
    "start_time": "2021-12-21T02:13:20.453Z"
   },
   {
    "duration": 126,
    "start_time": "2021-12-21T02:13:42.776Z"
   },
   {
    "duration": 43,
    "start_time": "2021-12-21T02:13:46.004Z"
   },
   {
    "duration": 14,
    "start_time": "2021-12-21T02:14:29.541Z"
   },
   {
    "duration": 184,
    "start_time": "2021-12-21T02:14:39.075Z"
   },
   {
    "duration": 18,
    "start_time": "2021-12-21T02:15:07.921Z"
   },
   {
    "duration": 14,
    "start_time": "2021-12-21T02:15:41.071Z"
   },
   {
    "duration": 2594,
    "start_time": "2021-12-21T02:16:48.473Z"
   },
   {
    "duration": 2526,
    "start_time": "2021-12-21T02:17:11.387Z"
   },
   {
    "duration": 2540,
    "start_time": "2021-12-21T02:17:17.359Z"
   },
   {
    "duration": 18,
    "start_time": "2021-12-21T02:18:32.964Z"
   },
   {
    "duration": 22,
    "start_time": "2021-12-21T02:25:18.221Z"
   },
   {
    "duration": 21,
    "start_time": "2021-12-21T02:26:01.507Z"
   },
   {
    "duration": 840,
    "start_time": "2021-12-22T01:46:04.213Z"
   },
   {
    "duration": 18,
    "start_time": "2021-12-22T01:46:05.057Z"
   },
   {
    "duration": 27,
    "start_time": "2021-12-22T01:46:05.184Z"
   },
   {
    "duration": 4,
    "start_time": "2021-12-22T01:46:05.927Z"
   },
   {
    "duration": 8,
    "start_time": "2021-12-22T01:46:07.508Z"
   },
   {
    "duration": 9,
    "start_time": "2021-12-22T01:46:09.233Z"
   },
   {
    "duration": 12,
    "start_time": "2021-12-22T01:46:12.147Z"
   },
   {
    "duration": 8,
    "start_time": "2021-12-22T01:46:12.752Z"
   },
   {
    "duration": 3,
    "start_time": "2021-12-22T01:46:13.953Z"
   },
   {
    "duration": 13,
    "start_time": "2021-12-22T01:46:14.968Z"
   },
   {
    "duration": 4,
    "start_time": "2021-12-22T01:46:15.988Z"
   },
   {
    "duration": 8,
    "start_time": "2021-12-22T01:46:17.311Z"
   },
   {
    "duration": 26,
    "start_time": "2021-12-22T01:46:17.921Z"
   },
   {
    "duration": 7,
    "start_time": "2021-12-22T01:46:18.602Z"
   },
   {
    "duration": 4,
    "start_time": "2021-12-22T01:46:19.793Z"
   },
   {
    "duration": 10,
    "start_time": "2021-12-22T01:46:25.313Z"
   },
   {
    "duration": 8,
    "start_time": "2021-12-22T01:46:26.039Z"
   },
   {
    "duration": 10,
    "start_time": "2021-12-22T01:46:27.470Z"
   },
   {
    "duration": 14,
    "start_time": "2021-12-22T01:46:29.012Z"
   },
   {
    "duration": 7,
    "start_time": "2021-12-22T01:46:29.539Z"
   },
   {
    "duration": 9,
    "start_time": "2021-12-22T01:46:33.873Z"
   },
   {
    "duration": 8,
    "start_time": "2021-12-22T01:46:36.042Z"
   },
   {
    "duration": 16,
    "start_time": "2021-12-22T01:46:50.093Z"
   },
   {
    "duration": 4,
    "start_time": "2021-12-22T01:47:00.246Z"
   },
   {
    "duration": 14,
    "start_time": "2021-12-22T01:47:00.934Z"
   },
   {
    "duration": 4,
    "start_time": "2021-12-22T01:47:01.996Z"
   },
   {
    "duration": 19,
    "start_time": "2021-12-22T01:47:05.727Z"
   },
   {
    "duration": 11,
    "start_time": "2021-12-22T01:47:06.765Z"
   },
   {
    "duration": 13,
    "start_time": "2021-12-22T01:47:07.477Z"
   },
   {
    "duration": 10,
    "start_time": "2021-12-22T01:47:09.192Z"
   },
   {
    "duration": 3,
    "start_time": "2021-12-22T01:47:09.842Z"
   },
   {
    "duration": 3,
    "start_time": "2021-12-22T01:47:10.432Z"
   },
   {
    "duration": 51,
    "start_time": "2021-12-22T01:47:11.448Z"
   },
   {
    "duration": 29,
    "start_time": "2021-12-22T01:47:12.564Z"
   },
   {
    "duration": 25,
    "start_time": "2021-12-22T01:47:13.916Z"
   },
   {
    "duration": 15,
    "start_time": "2021-12-22T01:47:33.124Z"
   },
   {
    "duration": 4,
    "start_time": "2021-12-22T01:47:37.078Z"
   },
   {
    "duration": 34,
    "start_time": "2021-12-22T01:47:39.697Z"
   },
   {
    "duration": 7,
    "start_time": "2021-12-22T01:47:54.441Z"
   },
   {
    "duration": 3,
    "start_time": "2021-12-22T01:47:56.629Z"
   },
   {
    "duration": 3,
    "start_time": "2021-12-22T01:47:58.148Z"
   },
   {
    "duration": 59,
    "start_time": "2021-12-22T01:48:02.254Z"
   },
   {
    "duration": 4,
    "start_time": "2021-12-22T01:48:02.316Z"
   },
   {
    "duration": 4,
    "start_time": "2021-12-22T01:48:02.909Z"
   },
   {
    "duration": 3,
    "start_time": "2021-12-22T01:48:04.714Z"
   },
   {
    "duration": 4,
    "start_time": "2021-12-22T01:48:05.329Z"
   },
   {
    "duration": 4,
    "start_time": "2021-12-22T01:48:05.954Z"
   },
   {
    "duration": 3,
    "start_time": "2021-12-22T01:48:06.542Z"
   },
   {
    "duration": 4,
    "start_time": "2021-12-22T01:48:08.110Z"
   },
   {
    "duration": 13,
    "start_time": "2021-12-22T01:48:09.258Z"
   },
   {
    "duration": 85,
    "start_time": "2021-12-22T01:48:19.687Z"
   },
   {
    "duration": 10,
    "start_time": "2021-12-22T01:52:56.704Z"
   },
   {
    "duration": 51,
    "start_time": "2021-12-22T01:53:00.497Z"
   },
   {
    "duration": 4,
    "start_time": "2021-12-22T01:53:03.963Z"
   },
   {
    "duration": 4,
    "start_time": "2021-12-22T01:53:04.123Z"
   },
   {
    "duration": 4,
    "start_time": "2021-12-22T01:53:06.511Z"
   },
   {
    "duration": 49,
    "start_time": "2021-12-22T01:53:08.013Z"
   },
   {
    "duration": 146,
    "start_time": "2021-12-22T01:53:24.033Z"
   },
   {
    "duration": 3,
    "start_time": "2021-12-22T01:53:26.484Z"
   },
   {
    "duration": 3,
    "start_time": "2021-12-22T01:53:27.498Z"
   },
   {
    "duration": 3,
    "start_time": "2021-12-22T01:53:27.923Z"
   },
   {
    "duration": 3,
    "start_time": "2021-12-22T01:53:29.171Z"
   },
   {
    "duration": 3,
    "start_time": "2021-12-22T01:53:29.711Z"
   },
   {
    "duration": 4,
    "start_time": "2021-12-22T01:53:31.117Z"
   },
   {
    "duration": 3,
    "start_time": "2021-12-22T01:53:31.831Z"
   },
   {
    "duration": 4,
    "start_time": "2021-12-22T01:53:32.313Z"
   },
   {
    "duration": 14,
    "start_time": "2021-12-22T01:53:38.201Z"
   },
   {
    "duration": 373,
    "start_time": "2021-12-22T01:58:56.352Z"
   },
   {
    "duration": 273,
    "start_time": "2021-12-22T01:59:04.598Z"
   },
   {
    "duration": 21,
    "start_time": "2021-12-22T01:59:18.942Z"
   },
   {
    "duration": 22,
    "start_time": "2021-12-22T01:59:57.440Z"
   },
   {
    "duration": 30,
    "start_time": "2021-12-22T02:00:10.742Z"
   },
   {
    "duration": 24,
    "start_time": "2021-12-22T02:00:34.966Z"
   },
   {
    "duration": 290,
    "start_time": "2021-12-22T02:01:08.968Z"
   },
   {
    "duration": 293,
    "start_time": "2021-12-22T02:01:19.954Z"
   },
   {
    "duration": 23,
    "start_time": "2021-12-22T02:01:32.790Z"
   },
   {
    "duration": 23,
    "start_time": "2021-12-22T02:02:23.987Z"
   },
   {
    "duration": 29,
    "start_time": "2021-12-22T02:02:50.497Z"
   },
   {
    "duration": 25,
    "start_time": "2021-12-22T02:03:53.270Z"
   },
   {
    "duration": 23,
    "start_time": "2021-12-22T02:10:19.113Z"
   },
   {
    "duration": 14,
    "start_time": "2021-12-22T02:10:43.754Z"
   },
   {
    "duration": 24,
    "start_time": "2021-12-22T02:10:49.000Z"
   },
   {
    "duration": 24,
    "start_time": "2021-12-22T02:13:01.194Z"
   },
   {
    "duration": 34,
    "start_time": "2021-12-22T02:13:09.944Z"
   },
   {
    "duration": 28,
    "start_time": "2021-12-22T02:13:30.025Z"
   },
   {
    "duration": 30,
    "start_time": "2021-12-22T02:14:05.533Z"
   },
   {
    "duration": 23,
    "start_time": "2021-12-22T02:15:17.272Z"
   },
   {
    "duration": 31,
    "start_time": "2021-12-22T02:17:18.063Z"
   },
   {
    "duration": 15,
    "start_time": "2021-12-22T02:22:38.035Z"
   },
   {
    "duration": 15,
    "start_time": "2021-12-22T02:25:43.095Z"
   },
   {
    "duration": 19,
    "start_time": "2021-12-22T02:27:04.619Z"
   },
   {
    "duration": 24,
    "start_time": "2021-12-22T02:27:14.336Z"
   },
   {
    "duration": 20,
    "start_time": "2021-12-22T02:33:20.393Z"
   },
   {
    "duration": 24,
    "start_time": "2021-12-22T02:34:02.691Z"
   },
   {
    "duration": 20,
    "start_time": "2021-12-22T02:35:11.790Z"
   },
   {
    "duration": 25,
    "start_time": "2021-12-22T02:36:07.168Z"
   },
   {
    "duration": 24,
    "start_time": "2021-12-22T02:36:22.880Z"
   },
   {
    "duration": 20,
    "start_time": "2021-12-22T02:37:04.110Z"
   },
   {
    "duration": 6,
    "start_time": "2021-12-22T02:43:51.675Z"
   },
   {
    "duration": 8,
    "start_time": "2021-12-22T02:58:05.192Z"
   },
   {
    "duration": 1013,
    "start_time": "2021-12-22T16:22:17.495Z"
   },
   {
    "duration": 16,
    "start_time": "2021-12-22T16:22:18.511Z"
   },
   {
    "duration": 52,
    "start_time": "2021-12-22T16:22:18.531Z"
   },
   {
    "duration": 4,
    "start_time": "2021-12-22T16:22:18.587Z"
   },
   {
    "duration": 13,
    "start_time": "2021-12-22T16:22:18.594Z"
   },
   {
    "duration": 9,
    "start_time": "2021-12-22T16:22:18.611Z"
   },
   {
    "duration": 48,
    "start_time": "2021-12-22T16:22:18.622Z"
   },
   {
    "duration": 7,
    "start_time": "2021-12-22T16:22:18.676Z"
   },
   {
    "duration": 10,
    "start_time": "2021-12-22T16:22:18.687Z"
   },
   {
    "duration": 20,
    "start_time": "2021-12-22T16:22:18.700Z"
   },
   {
    "duration": 4,
    "start_time": "2021-12-22T16:22:18.723Z"
   },
   {
    "duration": 10,
    "start_time": "2021-12-22T16:22:18.761Z"
   },
   {
    "duration": 25,
    "start_time": "2021-12-22T16:22:18.773Z"
   },
   {
    "duration": 10,
    "start_time": "2021-12-22T16:22:18.801Z"
   },
   {
    "duration": 45,
    "start_time": "2021-12-22T16:22:18.814Z"
   },
   {
    "duration": 15,
    "start_time": "2021-12-22T16:22:18.862Z"
   },
   {
    "duration": 8,
    "start_time": "2021-12-22T16:22:18.879Z"
   },
   {
    "duration": 14,
    "start_time": "2021-12-22T16:22:18.889Z"
   },
   {
    "duration": 11,
    "start_time": "2021-12-22T16:22:18.905Z"
   },
   {
    "duration": 44,
    "start_time": "2021-12-22T16:22:18.919Z"
   },
   {
    "duration": 9,
    "start_time": "2021-12-22T16:22:18.967Z"
   },
   {
    "duration": 11,
    "start_time": "2021-12-22T16:22:18.979Z"
   },
   {
    "duration": 18,
    "start_time": "2021-12-22T16:22:18.997Z"
   },
   {
    "duration": 6,
    "start_time": "2021-12-22T16:22:19.062Z"
   },
   {
    "duration": 18,
    "start_time": "2021-12-22T16:22:19.071Z"
   },
   {
    "duration": 12,
    "start_time": "2021-12-22T16:22:19.092Z"
   },
   {
    "duration": 29,
    "start_time": "2021-12-22T16:22:19.107Z"
   },
   {
    "duration": 30,
    "start_time": "2021-12-22T16:22:19.139Z"
   },
   {
    "duration": 17,
    "start_time": "2021-12-22T16:22:19.171Z"
   },
   {
    "duration": 12,
    "start_time": "2021-12-22T16:22:19.191Z"
   },
   {
    "duration": 17,
    "start_time": "2021-12-22T16:22:19.205Z"
   },
   {
    "duration": 17,
    "start_time": "2021-12-22T16:22:19.225Z"
   },
   {
    "duration": 60,
    "start_time": "2021-12-22T16:22:19.245Z"
   },
   {
    "duration": 26,
    "start_time": "2021-12-22T16:22:19.307Z"
   },
   {
    "duration": 22,
    "start_time": "2021-12-22T16:22:19.360Z"
   },
   {
    "duration": 14,
    "start_time": "2021-12-22T16:22:19.385Z"
   },
   {
    "duration": 5,
    "start_time": "2021-12-22T16:22:19.401Z"
   },
   {
    "duration": 58,
    "start_time": "2021-12-22T16:22:19.409Z"
   },
   {
    "duration": 5,
    "start_time": "2021-12-22T16:22:19.469Z"
   },
   {
    "duration": 22,
    "start_time": "2021-12-22T16:22:19.477Z"
   },
   {
    "duration": 9,
    "start_time": "2021-12-22T16:22:19.502Z"
   },
   {
    "duration": 53,
    "start_time": "2021-12-22T16:22:19.513Z"
   },
   {
    "duration": 4,
    "start_time": "2021-12-22T16:22:19.568Z"
   },
   {
    "duration": 6,
    "start_time": "2021-12-22T16:22:19.575Z"
   },
   {
    "duration": 14,
    "start_time": "2021-12-22T16:22:19.583Z"
   },
   {
    "duration": 10,
    "start_time": "2021-12-22T16:22:19.599Z"
   },
   {
    "duration": 10,
    "start_time": "2021-12-22T16:22:19.611Z"
   },
   {
    "duration": 17,
    "start_time": "2021-12-22T16:22:19.624Z"
   },
   {
    "duration": 6,
    "start_time": "2021-12-22T16:22:19.644Z"
   },
   {
    "duration": 27,
    "start_time": "2021-12-22T16:22:19.653Z"
   },
   {
    "duration": 64,
    "start_time": "2021-12-22T16:22:19.682Z"
   },
   {
    "duration": 12,
    "start_time": "2021-12-22T16:22:19.748Z"
   },
   {
    "duration": 21,
    "start_time": "2021-12-22T16:22:19.762Z"
   },
   {
    "duration": 78,
    "start_time": "2021-12-22T16:22:19.786Z"
   },
   {
    "duration": 3,
    "start_time": "2021-12-22T16:22:19.867Z"
   },
   {
    "duration": 14,
    "start_time": "2021-12-22T16:22:19.874Z"
   },
   {
    "duration": 14,
    "start_time": "2021-12-22T16:22:19.891Z"
   },
   {
    "duration": 59,
    "start_time": "2021-12-22T16:22:19.908Z"
   },
   {
    "duration": 231,
    "start_time": "2021-12-22T16:22:19.971Z"
   },
   {
    "duration": 4,
    "start_time": "2021-12-22T16:22:20.205Z"
   },
   {
    "duration": 26,
    "start_time": "2021-12-22T16:22:20.212Z"
   },
   {
    "duration": 8,
    "start_time": "2021-12-22T16:22:20.242Z"
   },
   {
    "duration": 16,
    "start_time": "2021-12-22T16:22:20.260Z"
   },
   {
    "duration": 16,
    "start_time": "2021-12-22T16:22:20.279Z"
   },
   {
    "duration": 14,
    "start_time": "2021-12-22T16:22:20.298Z"
   },
   {
    "duration": 12,
    "start_time": "2021-12-22T16:22:20.314Z"
   },
   {
    "duration": 17,
    "start_time": "2021-12-22T16:22:20.328Z"
   },
   {
    "duration": 18,
    "start_time": "2021-12-22T16:22:20.353Z"
   },
   {
    "duration": 24,
    "start_time": "2021-12-22T16:22:20.374Z"
   },
   {
    "duration": 29,
    "start_time": "2021-12-22T16:22:20.401Z"
   },
   {
    "duration": 54,
    "start_time": "2021-12-22T16:22:20.433Z"
   },
   {
    "duration": 3,
    "start_time": "2021-12-22T16:22:20.490Z"
   },
   {
    "duration": 18,
    "start_time": "2021-12-22T16:22:20.497Z"
   },
   {
    "duration": 34,
    "start_time": "2021-12-22T16:22:20.518Z"
   },
   {
    "duration": 24,
    "start_time": "2021-12-22T16:22:20.554Z"
   },
   {
    "duration": 782,
    "start_time": "2021-12-24T19:33:26.951Z"
   },
   {
    "duration": 11,
    "start_time": "2021-12-24T19:33:28.102Z"
   },
   {
    "duration": 20,
    "start_time": "2021-12-24T19:33:29.002Z"
   },
   {
    "duration": 2,
    "start_time": "2021-12-24T19:33:31.057Z"
   },
   {
    "duration": 7,
    "start_time": "2021-12-24T19:33:32.536Z"
   },
   {
    "duration": 6,
    "start_time": "2021-12-24T19:33:34.112Z"
   },
   {
    "duration": 8,
    "start_time": "2021-12-24T19:33:35.195Z"
   },
   {
    "duration": 5,
    "start_time": "2021-12-24T19:33:35.672Z"
   },
   {
    "duration": 3,
    "start_time": "2021-12-24T19:33:37.776Z"
   },
   {
    "duration": 9,
    "start_time": "2021-12-24T19:33:39.763Z"
   },
   {
    "duration": 2,
    "start_time": "2021-12-24T19:33:41.471Z"
   },
   {
    "duration": 6,
    "start_time": "2021-12-24T19:33:43.357Z"
   },
   {
    "duration": 17,
    "start_time": "2021-12-24T19:33:43.818Z"
   },
   {
    "duration": 5,
    "start_time": "2021-12-24T19:33:44.903Z"
   },
   {
    "duration": 2,
    "start_time": "2021-12-24T19:33:46.277Z"
   },
   {
    "duration": 7,
    "start_time": "2021-12-24T19:33:47.513Z"
   },
   {
    "duration": 6,
    "start_time": "2021-12-24T19:34:00.777Z"
   },
   {
    "duration": 6,
    "start_time": "2021-12-24T19:34:02.413Z"
   },
   {
    "duration": 10,
    "start_time": "2021-12-24T19:34:18.678Z"
   },
   {
    "duration": 5,
    "start_time": "2021-12-24T19:34:22.757Z"
   },
   {
    "duration": 7,
    "start_time": "2021-12-24T19:34:24.839Z"
   },
   {
    "duration": 4,
    "start_time": "2021-12-24T19:34:26.221Z"
   },
   {
    "duration": 9,
    "start_time": "2021-12-24T19:34:26.976Z"
   },
   {
    "duration": 2,
    "start_time": "2021-12-24T19:34:28.201Z"
   },
   {
    "duration": 7,
    "start_time": "2021-12-24T19:34:28.861Z"
   },
   {
    "duration": 2,
    "start_time": "2021-12-24T19:34:29.627Z"
   },
   {
    "duration": 11,
    "start_time": "2021-12-24T19:34:31.183Z"
   },
   {
    "duration": 9,
    "start_time": "2021-12-24T19:34:32.052Z"
   },
   {
    "duration": 9,
    "start_time": "2021-12-24T19:34:32.732Z"
   },
   {
    "duration": 7,
    "start_time": "2021-12-24T19:34:34.074Z"
   },
   {
    "duration": 2,
    "start_time": "2021-12-24T19:34:34.721Z"
   },
   {
    "duration": 3,
    "start_time": "2021-12-24T19:34:35.378Z"
   },
   {
    "duration": 31,
    "start_time": "2021-12-24T19:34:37.008Z"
   },
   {
    "duration": 19,
    "start_time": "2021-12-24T19:34:37.715Z"
   },
   {
    "duration": 16,
    "start_time": "2021-12-24T19:34:38.407Z"
   },
   {
    "duration": 10,
    "start_time": "2021-12-24T19:34:39.101Z"
   },
   {
    "duration": 3,
    "start_time": "2021-12-24T19:34:41.677Z"
   },
   {
    "duration": 16,
    "start_time": "2021-12-24T19:34:43.263Z"
   },
   {
    "duration": 4,
    "start_time": "2021-12-24T19:34:44.636Z"
   },
   {
    "duration": 6,
    "start_time": "2021-12-24T19:34:45.428Z"
   },
   {
    "duration": 2,
    "start_time": "2021-12-24T19:34:45.966Z"
   },
   {
    "duration": 30,
    "start_time": "2021-12-24T19:34:47.758Z"
   },
   {
    "duration": 3,
    "start_time": "2021-12-24T19:34:49.375Z"
   },
   {
    "duration": 3,
    "start_time": "2021-12-24T19:34:50.041Z"
   },
   {
    "duration": 3,
    "start_time": "2021-12-24T19:34:51.867Z"
   },
   {
    "duration": 2,
    "start_time": "2021-12-24T19:34:52.483Z"
   },
   {
    "duration": 2,
    "start_time": "2021-12-24T19:34:53.876Z"
   },
   {
    "duration": 6,
    "start_time": "2021-12-24T19:34:53.880Z"
   },
   {
    "duration": 2,
    "start_time": "2021-12-24T19:34:54.683Z"
   },
   {
    "duration": 8,
    "start_time": "2021-12-24T19:34:55.762Z"
   },
   {
    "duration": 40,
    "start_time": "2021-12-24T19:35:00.973Z"
   },
   {
    "duration": 3,
    "start_time": "2021-12-24T19:35:01.866Z"
   },
   {
    "duration": 7,
    "start_time": "2021-12-24T19:35:04.443Z"
   },
   {
    "duration": 29,
    "start_time": "2021-12-24T19:35:05.592Z"
   },
   {
    "duration": 2,
    "start_time": "2021-12-24T19:35:07.216Z"
   },
   {
    "duration": 3,
    "start_time": "2021-12-24T19:35:07.941Z"
   },
   {
    "duration": 3,
    "start_time": "2021-12-24T19:35:08.411Z"
   },
   {
    "duration": 33,
    "start_time": "2021-12-24T19:35:09.441Z"
   },
   {
    "duration": 91,
    "start_time": "2021-12-24T19:35:17.822Z"
   },
   {
    "duration": 86,
    "start_time": "2021-12-24T19:35:47.584Z"
   },
   {
    "duration": 88,
    "start_time": "2021-12-24T19:36:57.434Z"
   },
   {
    "duration": 96,
    "start_time": "2021-12-24T19:37:14.678Z"
   },
   {
    "duration": 99,
    "start_time": "2021-12-24T19:38:36.337Z"
   },
   {
    "duration": 88,
    "start_time": "2021-12-24T19:38:46.392Z"
   },
   {
    "duration": 92,
    "start_time": "2021-12-24T19:39:56.482Z"
   },
   {
    "duration": 94,
    "start_time": "2021-12-24T19:41:19.093Z"
   },
   {
    "duration": 469,
    "start_time": "2021-12-24T19:41:27.677Z"
   },
   {
    "duration": 90,
    "start_time": "2021-12-24T19:44:28.711Z"
   },
   {
    "duration": 87,
    "start_time": "2021-12-24T19:45:08.488Z"
   },
   {
    "duration": 88,
    "start_time": "2021-12-24T19:45:44.929Z"
   },
   {
    "duration": 352,
    "start_time": "2021-12-24T19:46:07.695Z"
   },
   {
    "duration": 90,
    "start_time": "2021-12-24T19:46:14.108Z"
   },
   {
    "duration": 88,
    "start_time": "2021-12-24T19:46:26.803Z"
   },
   {
    "duration": 6792,
    "start_time": "2021-12-24T19:46:54.460Z"
   },
   {
    "duration": 6546,
    "start_time": "2021-12-24T19:47:01.918Z"
   },
   {
    "duration": 325,
    "start_time": "2021-12-24T19:47:17.689Z"
   },
   {
    "duration": 6607,
    "start_time": "2021-12-24T19:47:25.062Z"
   },
   {
    "duration": 7345,
    "start_time": "2021-12-24T19:47:58.356Z"
   },
   {
    "duration": 6604,
    "start_time": "2021-12-24T19:48:16.388Z"
   },
   {
    "duration": 88,
    "start_time": "2021-12-24T19:48:25.705Z"
   },
   {
    "duration": 92,
    "start_time": "2021-12-24T19:48:29.478Z"
   },
   {
    "duration": 6466,
    "start_time": "2021-12-24T19:48:45.284Z"
   },
   {
    "duration": 45,
    "start_time": "2021-12-24T19:48:52.082Z"
   },
   {
    "duration": 11,
    "start_time": "2021-12-24T19:48:53.523Z"
   },
   {
    "duration": 13,
    "start_time": "2021-12-24T19:48:53.787Z"
   },
   {
    "duration": 2,
    "start_time": "2021-12-24T19:48:56.711Z"
   },
   {
    "duration": 5,
    "start_time": "2021-12-24T19:48:58.478Z"
   },
   {
    "duration": 5,
    "start_time": "2021-12-24T19:49:02.577Z"
   },
   {
    "duration": 8,
    "start_time": "2021-12-24T19:49:05.358Z"
   },
   {
    "duration": 5,
    "start_time": "2021-12-24T19:49:06.774Z"
   },
   {
    "duration": 3,
    "start_time": "2021-12-24T19:49:08.234Z"
   },
   {
    "duration": 9,
    "start_time": "2021-12-24T19:49:09.324Z"
   },
   {
    "duration": 2,
    "start_time": "2021-12-24T19:49:11.490Z"
   },
   {
    "duration": 4,
    "start_time": "2021-12-24T19:49:13.123Z"
   },
   {
    "duration": 15,
    "start_time": "2021-12-24T19:49:13.918Z"
   },
   {
    "duration": 5,
    "start_time": "2021-12-24T19:49:14.578Z"
   },
   {
    "duration": 3,
    "start_time": "2021-12-24T19:49:16.097Z"
   },
   {
    "duration": 7,
    "start_time": "2021-12-24T19:49:17.214Z"
   },
   {
    "duration": 6,
    "start_time": "2021-12-24T19:49:17.967Z"
   },
   {
    "duration": 6,
    "start_time": "2021-12-24T19:49:19.973Z"
   },
   {
    "duration": 6,
    "start_time": "2021-12-24T19:49:21.279Z"
   },
   {
    "duration": 6,
    "start_time": "2021-12-24T19:49:22.642Z"
   },
   {
    "duration": 5,
    "start_time": "2021-12-24T19:49:23.974Z"
   },
   {
    "duration": 4,
    "start_time": "2021-12-24T19:49:25.539Z"
   },
   {
    "duration": 9,
    "start_time": "2021-12-24T19:49:26.230Z"
   },
   {
    "duration": 2,
    "start_time": "2021-12-24T19:49:27.487Z"
   },
   {
    "duration": 9,
    "start_time": "2021-12-24T19:49:28.092Z"
   },
   {
    "duration": 2,
    "start_time": "2021-12-24T19:49:29.028Z"
   },
   {
    "duration": 12,
    "start_time": "2021-12-24T19:49:30.194Z"
   },
   {
    "duration": 8,
    "start_time": "2021-12-24T19:49:30.978Z"
   },
   {
    "duration": 9,
    "start_time": "2021-12-24T19:49:31.738Z"
   },
   {
    "duration": 6,
    "start_time": "2021-12-24T19:49:33.088Z"
   },
   {
    "duration": 3,
    "start_time": "2021-12-24T19:49:33.744Z"
   },
   {
    "duration": 2,
    "start_time": "2021-12-24T19:49:34.395Z"
   },
   {
    "duration": 36,
    "start_time": "2021-12-24T19:49:35.642Z"
   },
   {
    "duration": 23,
    "start_time": "2021-12-24T19:49:36.437Z"
   },
   {
    "duration": 16,
    "start_time": "2021-12-24T19:49:37.054Z"
   },
   {
    "duration": 10,
    "start_time": "2021-12-24T19:49:37.777Z"
   },
   {
    "duration": 2,
    "start_time": "2021-12-24T19:49:40.254Z"
   },
   {
    "duration": 16,
    "start_time": "2021-12-24T19:49:42.269Z"
   },
   {
    "duration": 3,
    "start_time": "2021-12-24T19:49:42.917Z"
   },
   {
    "duration": 5,
    "start_time": "2021-12-24T19:49:43.759Z"
   },
   {
    "duration": 2,
    "start_time": "2021-12-24T19:49:44.782Z"
   },
   {
    "duration": 26,
    "start_time": "2021-12-24T19:49:47.159Z"
   },
   {
    "duration": 3,
    "start_time": "2021-12-24T19:49:48.717Z"
   },
   {
    "duration": 2,
    "start_time": "2021-12-24T19:49:49.357Z"
   },
   {
    "duration": 2,
    "start_time": "2021-12-24T19:49:51.197Z"
   },
   {
    "duration": 2,
    "start_time": "2021-12-24T19:49:51.798Z"
   },
   {
    "duration": 2,
    "start_time": "2021-12-24T19:49:52.357Z"
   },
   {
    "duration": 2,
    "start_time": "2021-12-24T19:49:52.854Z"
   },
   {
    "duration": 3,
    "start_time": "2021-12-24T19:49:53.773Z"
   },
   {
    "duration": 8,
    "start_time": "2021-12-24T19:49:54.784Z"
   },
   {
    "duration": 40,
    "start_time": "2021-12-24T19:49:56.212Z"
   },
   {
    "duration": 4,
    "start_time": "2021-12-24T19:49:56.845Z"
   },
   {
    "duration": 7,
    "start_time": "2021-12-24T19:50:00.884Z"
   },
   {
    "duration": 35,
    "start_time": "2021-12-24T19:50:02.939Z"
   },
   {
    "duration": 3,
    "start_time": "2021-12-24T19:50:03.938Z"
   },
   {
    "duration": 3,
    "start_time": "2021-12-24T19:50:04.720Z"
   },
   {
    "duration": 2,
    "start_time": "2021-12-24T19:50:05.334Z"
   },
   {
    "duration": 32,
    "start_time": "2021-12-24T19:50:06.233Z"
   },
   {
    "duration": 7073,
    "start_time": "2021-12-24T19:50:09.115Z"
   },
   {
    "duration": 165,
    "start_time": "2021-12-24T19:50:16.025Z"
   },
   {
    "duration": 152,
    "start_time": "2021-12-24T19:50:16.039Z"
   },
   {
    "duration": 147,
    "start_time": "2021-12-24T19:50:16.045Z"
   },
   {
    "duration": 142,
    "start_time": "2021-12-24T19:50:16.051Z"
   },
   {
    "duration": 137,
    "start_time": "2021-12-24T19:50:16.057Z"
   },
   {
    "duration": 131,
    "start_time": "2021-12-24T19:50:16.063Z"
   },
   {
    "duration": 127,
    "start_time": "2021-12-24T19:50:16.068Z"
   },
   {
    "duration": 122,
    "start_time": "2021-12-24T19:50:16.074Z"
   },
   {
    "duration": 13,
    "start_time": "2021-12-24T19:50:18.402Z"
   },
   {
    "duration": 12,
    "start_time": "2021-12-24T19:50:21.197Z"
   },
   {
    "duration": 12,
    "start_time": "2021-12-24T19:50:44.421Z"
   },
   {
    "duration": 15,
    "start_time": "2021-12-24T19:51:11.154Z"
   },
   {
    "duration": 3,
    "start_time": "2021-12-24T19:51:19.393Z"
   },
   {
    "duration": 2,
    "start_time": "2021-12-24T19:51:19.904Z"
   },
   {
    "duration": 2,
    "start_time": "2021-12-24T19:51:20.490Z"
   },
   {
    "duration": 3,
    "start_time": "2021-12-24T19:51:20.966Z"
   },
   {
    "duration": 11,
    "start_time": "2021-12-24T20:10:16.184Z"
   },
   {
    "duration": 249,
    "start_time": "2021-12-24T20:10:39.180Z"
   },
   {
    "duration": 12,
    "start_time": "2021-12-24T20:10:52.669Z"
   },
   {
    "duration": 6,
    "start_time": "2021-12-24T20:10:56.265Z"
   },
   {
    "duration": 11,
    "start_time": "2021-12-24T20:10:57.520Z"
   },
   {
    "duration": 7,
    "start_time": "2021-12-24T20:16:10.625Z"
   },
   {
    "duration": 7,
    "start_time": "2021-12-24T20:18:31.674Z"
   },
   {
    "duration": 6,
    "start_time": "2021-12-24T20:18:54.280Z"
   },
   {
    "duration": 6,
    "start_time": "2021-12-24T20:19:53.135Z"
   },
   {
    "duration": 80,
    "start_time": "2021-12-24T20:20:43.421Z"
   },
   {
    "duration": 5,
    "start_time": "2021-12-24T20:20:51.371Z"
   },
   {
    "duration": 5,
    "start_time": "2021-12-24T20:21:46.795Z"
   },
   {
    "duration": 5,
    "start_time": "2021-12-24T20:22:50.315Z"
   },
   {
    "duration": 46,
    "start_time": "2021-12-24T20:23:10.491Z"
   },
   {
    "duration": 14,
    "start_time": "2021-12-24T20:23:11.713Z"
   },
   {
    "duration": 17,
    "start_time": "2021-12-24T20:23:14.139Z"
   },
   {
    "duration": 7,
    "start_time": "2021-12-24T20:23:18.759Z"
   },
   {
    "duration": 10,
    "start_time": "2021-12-24T20:23:19.899Z"
   },
   {
    "duration": 7,
    "start_time": "2021-12-24T20:23:26.504Z"
   },
   {
    "duration": 5,
    "start_time": "2021-12-24T20:23:30.901Z"
   },
   {
    "duration": 7,
    "start_time": "2021-12-24T20:23:32.547Z"
   },
   {
    "duration": 5,
    "start_time": "2021-12-24T20:23:37.555Z"
   },
   {
    "duration": 6,
    "start_time": "2021-12-24T20:23:40.206Z"
   },
   {
    "duration": 25,
    "start_time": "2021-12-24T20:28:39.935Z"
   },
   {
    "duration": 14,
    "start_time": "2021-12-24T20:29:32.827Z"
   },
   {
    "duration": 12,
    "start_time": "2021-12-24T20:29:38.582Z"
   },
   {
    "duration": 260,
    "start_time": "2021-12-24T20:30:06.232Z"
   },
   {
    "duration": 14,
    "start_time": "2021-12-24T20:30:14.037Z"
   },
   {
    "duration": 243,
    "start_time": "2021-12-24T20:30:15.575Z"
   },
   {
    "duration": 263,
    "start_time": "2021-12-24T20:30:31.811Z"
   },
   {
    "duration": 307,
    "start_time": "2021-12-24T20:30:43.555Z"
   },
   {
    "duration": 261,
    "start_time": "2021-12-24T20:38:42.666Z"
   },
   {
    "duration": 246,
    "start_time": "2021-12-24T20:38:57.478Z"
   },
   {
    "duration": 288,
    "start_time": "2021-12-24T20:40:32.106Z"
   },
   {
    "duration": 262,
    "start_time": "2021-12-24T20:40:36.201Z"
   },
   {
    "duration": 160,
    "start_time": "2021-12-24T20:40:41.238Z"
   },
   {
    "duration": 250,
    "start_time": "2021-12-24T20:40:56.418Z"
   },
   {
    "duration": 343,
    "start_time": "2021-12-24T20:40:59.017Z"
   },
   {
    "duration": 89,
    "start_time": "2021-12-24T20:41:55.258Z"
   },
   {
    "duration": 22,
    "start_time": "2021-12-24T20:42:04.368Z"
   },
   {
    "duration": 30,
    "start_time": "2021-12-24T20:43:47.631Z"
   },
   {
    "duration": 8,
    "start_time": "2021-12-24T20:44:42.126Z"
   },
   {
    "duration": 6,
    "start_time": "2021-12-24T20:44:46.381Z"
   },
   {
    "duration": 5,
    "start_time": "2021-12-24T20:44:50.276Z"
   },
   {
    "duration": 6,
    "start_time": "2021-12-24T20:44:55.554Z"
   },
   {
    "duration": 2,
    "start_time": "2021-12-24T20:44:57.316Z"
   },
   {
    "duration": 3,
    "start_time": "2021-12-24T20:46:30.352Z"
   },
   {
    "duration": 8,
    "start_time": "2021-12-24T20:46:39.751Z"
   },
   {
    "duration": 7,
    "start_time": "2021-12-24T20:47:08.769Z"
   },
   {
    "duration": 10,
    "start_time": "2021-12-24T20:47:12.590Z"
   },
   {
    "duration": 5,
    "start_time": "2021-12-24T20:47:43.586Z"
   },
   {
    "duration": 10,
    "start_time": "2021-12-24T20:49:48.106Z"
   },
   {
    "duration": 15,
    "start_time": "2021-12-24T20:56:20.401Z"
   },
   {
    "duration": 3,
    "start_time": "2021-12-24T20:57:34.204Z"
   },
   {
    "duration": 3,
    "start_time": "2021-12-24T20:57:37.817Z"
   },
   {
    "duration": 31,
    "start_time": "2021-12-24T20:58:12.215Z"
   },
   {
    "duration": 30,
    "start_time": "2021-12-24T20:58:32.968Z"
   },
   {
    "duration": 14,
    "start_time": "2021-12-24T20:59:06.262Z"
   },
   {
    "duration": 15,
    "start_time": "2021-12-24T20:59:35.019Z"
   },
   {
    "duration": 261,
    "start_time": "2021-12-24T21:00:12.006Z"
   },
   {
    "duration": 11,
    "start_time": "2021-12-24T21:00:19.082Z"
   },
   {
    "duration": 5,
    "start_time": "2021-12-24T21:07:45.994Z"
   },
   {
    "duration": 9,
    "start_time": "2021-12-24T21:07:51.949Z"
   },
   {
    "duration": 8,
    "start_time": "2021-12-24T21:11:23.705Z"
   },
   {
    "duration": 11,
    "start_time": "2021-12-24T21:12:21.063Z"
   },
   {
    "duration": 8,
    "start_time": "2021-12-24T21:12:30.986Z"
   },
   {
    "duration": 7,
    "start_time": "2021-12-24T21:12:47.301Z"
   },
   {
    "duration": 276,
    "start_time": "2021-12-24T21:12:54.641Z"
   },
   {
    "duration": 6,
    "start_time": "2021-12-24T21:12:59.086Z"
   },
   {
    "duration": 13,
    "start_time": "2021-12-24T21:13:21.071Z"
   },
   {
    "duration": 83,
    "start_time": "2021-12-24T21:17:27.537Z"
   },
   {
    "duration": 91,
    "start_time": "2021-12-24T21:17:31.469Z"
   },
   {
    "duration": 91,
    "start_time": "2021-12-24T21:17:40.319Z"
   },
   {
    "duration": 20,
    "start_time": "2021-12-24T21:18:06.766Z"
   },
   {
    "duration": 10,
    "start_time": "2021-12-24T21:18:09.808Z"
   },
   {
    "duration": 10,
    "start_time": "2021-12-24T21:18:12.941Z"
   },
   {
    "duration": 5,
    "start_time": "2021-12-24T21:18:15.393Z"
   },
   {
    "duration": 6,
    "start_time": "2021-12-24T21:18:17.582Z"
   },
   {
    "duration": 7,
    "start_time": "2021-12-24T21:18:19.058Z"
   },
   {
    "duration": 5,
    "start_time": "2021-12-24T21:18:20.339Z"
   },
   {
    "duration": 6,
    "start_time": "2021-12-24T21:18:21.909Z"
   },
   {
    "duration": 11,
    "start_time": "2021-12-24T21:18:22.553Z"
   },
   {
    "duration": 8,
    "start_time": "2021-12-24T21:18:23.889Z"
   },
   {
    "duration": 13,
    "start_time": "2021-12-24T21:18:25.887Z"
   },
   {
    "duration": 6,
    "start_time": "2021-12-24T21:18:27.226Z"
   },
   {
    "duration": 41,
    "start_time": "2021-12-24T21:18:29.180Z"
   },
   {
    "duration": 15,
    "start_time": "2021-12-24T21:18:30.414Z"
   },
   {
    "duration": 10,
    "start_time": "2021-12-24T21:18:38.668Z"
   },
   {
    "duration": 13,
    "start_time": "2021-12-24T21:19:27.935Z"
   },
   {
    "duration": 12,
    "start_time": "2021-12-24T21:19:31.153Z"
   },
   {
    "duration": 8,
    "start_time": "2021-12-24T21:19:57.026Z"
   },
   {
    "duration": 6,
    "start_time": "2021-12-24T21:24:36.597Z"
   },
   {
    "duration": 283,
    "start_time": "2021-12-24T21:24:43.042Z"
   },
   {
    "duration": 319,
    "start_time": "2021-12-24T21:24:50.728Z"
   },
   {
    "duration": 266,
    "start_time": "2021-12-24T21:24:59.425Z"
   },
   {
    "duration": 8,
    "start_time": "2021-12-24T21:25:13.719Z"
   },
   {
    "duration": 10,
    "start_time": "2021-12-24T21:25:30.787Z"
   },
   {
    "duration": 11,
    "start_time": "2021-12-24T21:26:08.447Z"
   },
   {
    "duration": 17,
    "start_time": "2021-12-24T21:27:24.858Z"
   },
   {
    "duration": 88,
    "start_time": "2021-12-24T21:28:30.392Z"
   },
   {
    "duration": 7,
    "start_time": "2021-12-24T21:29:17.223Z"
   },
   {
    "duration": 8,
    "start_time": "2021-12-24T21:29:41.624Z"
   },
   {
    "duration": 6,
    "start_time": "2021-12-24T21:31:00.594Z"
   },
   {
    "duration": 9,
    "start_time": "2021-12-24T21:31:01.408Z"
   },
   {
    "duration": 5,
    "start_time": "2021-12-24T21:32:02.988Z"
   },
   {
    "duration": 5,
    "start_time": "2021-12-24T21:33:29.603Z"
   },
   {
    "duration": 5,
    "start_time": "2021-12-24T21:33:48.317Z"
   },
   {
    "duration": 14,
    "start_time": "2021-12-24T21:38:53.839Z"
   },
   {
    "duration": 9,
    "start_time": "2021-12-24T21:40:26.066Z"
   },
   {
    "duration": 5,
    "start_time": "2021-12-24T21:41:10.992Z"
   },
   {
    "duration": 6,
    "start_time": "2021-12-24T21:44:58.500Z"
   },
   {
    "duration": 7,
    "start_time": "2021-12-24T21:46:19.890Z"
   },
   {
    "duration": 7,
    "start_time": "2021-12-24T21:46:40.411Z"
   },
   {
    "duration": 9,
    "start_time": "2021-12-24T21:47:05.948Z"
   },
   {
    "duration": 4,
    "start_time": "2021-12-24T21:49:19.426Z"
   },
   {
    "duration": 4,
    "start_time": "2021-12-24T21:49:22.681Z"
   },
   {
    "duration": 4,
    "start_time": "2021-12-24T21:52:51.391Z"
   },
   {
    "duration": 6,
    "start_time": "2021-12-24T21:53:15.429Z"
   },
   {
    "duration": 6,
    "start_time": "2021-12-24T21:53:48.307Z"
   },
   {
    "duration": 8,
    "start_time": "2021-12-24T21:58:13.558Z"
   },
   {
    "duration": 8,
    "start_time": "2021-12-24T21:59:57.441Z"
   },
   {
    "duration": 6,
    "start_time": "2021-12-24T22:02:06.659Z"
   },
   {
    "duration": 4,
    "start_time": "2021-12-24T22:03:25.277Z"
   },
   {
    "duration": 6,
    "start_time": "2021-12-24T22:03:57.799Z"
   },
   {
    "duration": 5,
    "start_time": "2021-12-24T22:04:20.412Z"
   },
   {
    "duration": 6,
    "start_time": "2021-12-24T22:04:32.579Z"
   },
   {
    "duration": 6,
    "start_time": "2021-12-24T22:04:55.637Z"
   },
   {
    "duration": 6,
    "start_time": "2021-12-24T22:05:18.813Z"
   },
   {
    "duration": 6,
    "start_time": "2021-12-24T22:05:59.348Z"
   },
   {
    "duration": 7,
    "start_time": "2021-12-24T22:06:36.950Z"
   },
   {
    "duration": 5,
    "start_time": "2021-12-24T22:06:40.862Z"
   },
   {
    "duration": 10,
    "start_time": "2021-12-24T22:07:25.549Z"
   },
   {
    "duration": 6,
    "start_time": "2021-12-24T22:07:32.858Z"
   },
   {
    "duration": 5,
    "start_time": "2021-12-24T22:08:32.163Z"
   },
   {
    "duration": 6,
    "start_time": "2021-12-24T22:08:46.363Z"
   },
   {
    "duration": 5,
    "start_time": "2021-12-24T22:10:04.216Z"
   },
   {
    "duration": 5,
    "start_time": "2021-12-24T22:12:43.776Z"
   },
   {
    "duration": 5,
    "start_time": "2021-12-24T22:14:02.038Z"
   },
   {
    "duration": 9,
    "start_time": "2021-12-24T22:14:03.017Z"
   },
   {
    "duration": 7,
    "start_time": "2021-12-24T22:14:15.185Z"
   },
   {
    "duration": 5,
    "start_time": "2021-12-24T22:14:17.902Z"
   },
   {
    "duration": 9,
    "start_time": "2021-12-24T22:14:18.634Z"
   },
   {
    "duration": 5,
    "start_time": "2021-12-24T22:16:06.381Z"
   },
   {
    "duration": 6,
    "start_time": "2021-12-24T22:16:37.095Z"
   },
   {
    "duration": 6,
    "start_time": "2021-12-24T22:17:02.061Z"
   },
   {
    "duration": 7,
    "start_time": "2021-12-24T22:17:41.680Z"
   },
   {
    "duration": 5,
    "start_time": "2021-12-24T22:18:30.577Z"
   },
   {
    "duration": 4,
    "start_time": "2021-12-24T22:19:36.896Z"
   },
   {
    "duration": 8,
    "start_time": "2021-12-24T22:19:48.172Z"
   },
   {
    "duration": 6,
    "start_time": "2021-12-24T22:20:00.894Z"
   },
   {
    "duration": 5,
    "start_time": "2021-12-24T22:21:58.489Z"
   },
   {
    "duration": 5,
    "start_time": "2021-12-24T22:22:01.603Z"
   },
   {
    "duration": 7,
    "start_time": "2021-12-24T22:22:12.585Z"
   },
   {
    "duration": 5,
    "start_time": "2021-12-24T22:22:14.126Z"
   },
   {
    "duration": 10,
    "start_time": "2021-12-24T22:22:15.071Z"
   },
   {
    "duration": 6,
    "start_time": "2021-12-24T22:22:17.616Z"
   },
   {
    "duration": 8,
    "start_time": "2021-12-24T22:22:18.743Z"
   },
   {
    "duration": 5,
    "start_time": "2021-12-24T22:22:20.021Z"
   },
   {
    "duration": 4,
    "start_time": "2021-12-24T22:22:23.491Z"
   },
   {
    "duration": 5,
    "start_time": "2021-12-24T22:22:24.066Z"
   },
   {
    "duration": 5,
    "start_time": "2021-12-24T22:23:19.505Z"
   },
   {
    "duration": 6,
    "start_time": "2021-12-24T22:23:34.151Z"
   },
   {
    "duration": 7,
    "start_time": "2021-12-24T22:23:54.365Z"
   },
   {
    "duration": 10,
    "start_time": "2021-12-24T22:24:06.734Z"
   },
   {
    "duration": 9,
    "start_time": "2021-12-24T22:24:28.404Z"
   },
   {
    "duration": 7,
    "start_time": "2021-12-24T22:25:29.754Z"
   },
   {
    "duration": 4,
    "start_time": "2021-12-24T22:26:13.191Z"
   },
   {
    "duration": 11,
    "start_time": "2021-12-24T22:26:30.516Z"
   },
   {
    "duration": 95,
    "start_time": "2021-12-24T22:27:50.570Z"
   },
   {
    "duration": 11,
    "start_time": "2021-12-24T22:27:59.110Z"
   },
   {
    "duration": 29,
    "start_time": "2021-12-24T22:28:00.642Z"
   },
   {
    "duration": 7,
    "start_time": "2021-12-24T22:28:24.416Z"
   },
   {
    "duration": 8,
    "start_time": "2021-12-24T22:28:59.088Z"
   },
   {
    "duration": 6,
    "start_time": "2021-12-24T22:29:09.432Z"
   },
   {
    "duration": 7,
    "start_time": "2021-12-24T22:30:16.605Z"
   },
   {
    "duration": 4,
    "start_time": "2021-12-24T22:30:56.387Z"
   },
   {
    "duration": 14,
    "start_time": "2021-12-24T22:30:58.635Z"
   },
   {
    "duration": 5,
    "start_time": "2021-12-24T22:31:06.634Z"
   },
   {
    "duration": 7,
    "start_time": "2021-12-24T22:31:43.693Z"
   },
   {
    "duration": 7,
    "start_time": "2021-12-24T22:31:52.336Z"
   },
   {
    "duration": 35,
    "start_time": "2021-12-24T22:33:02.611Z"
   },
   {
    "duration": 17,
    "start_time": "2021-12-24T22:33:48.627Z"
   },
   {
    "duration": 252,
    "start_time": "2021-12-24T22:34:39.455Z"
   },
   {
    "duration": 15,
    "start_time": "2021-12-24T22:34:43.002Z"
   },
   {
    "duration": 253,
    "start_time": "2021-12-24T22:35:14.879Z"
   },
   {
    "duration": 26,
    "start_time": "2021-12-24T22:35:19.354Z"
   },
   {
    "duration": 253,
    "start_time": "2021-12-24T22:35:32.895Z"
   },
   {
    "duration": 16,
    "start_time": "2021-12-24T22:35:40.200Z"
   },
   {
    "duration": 14,
    "start_time": "2021-12-24T22:36:11.397Z"
   },
   {
    "duration": 39,
    "start_time": "2021-12-24T22:36:53.629Z"
   },
   {
    "duration": 247,
    "start_time": "2021-12-24T22:52:27.354Z"
   },
   {
    "duration": 15,
    "start_time": "2021-12-24T22:52:33.266Z"
   },
   {
    "duration": 249,
    "start_time": "2021-12-24T22:52:45.561Z"
   },
   {
    "duration": 15,
    "start_time": "2021-12-24T22:52:48.629Z"
   },
   {
    "duration": 17,
    "start_time": "2021-12-24T22:53:50.548Z"
   },
   {
    "duration": 24,
    "start_time": "2021-12-24T22:54:33.943Z"
   },
   {
    "duration": 16,
    "start_time": "2021-12-24T22:54:59.914Z"
   },
   {
    "duration": 20,
    "start_time": "2021-12-24T22:55:46.836Z"
   },
   {
    "duration": 14,
    "start_time": "2021-12-24T22:55:56.879Z"
   },
   {
    "duration": 15,
    "start_time": "2021-12-24T22:56:05.626Z"
   },
   {
    "duration": 14,
    "start_time": "2021-12-24T22:56:10.402Z"
   },
   {
    "duration": 28,
    "start_time": "2021-12-24T22:59:26.213Z"
   },
   {
    "duration": 8,
    "start_time": "2021-12-24T23:00:05.473Z"
   },
   {
    "duration": 7,
    "start_time": "2021-12-24T23:00:21.843Z"
   },
   {
    "duration": 15,
    "start_time": "2021-12-24T23:03:46.803Z"
   },
   {
    "duration": 11,
    "start_time": "2021-12-24T23:07:04.854Z"
   },
   {
    "duration": 4,
    "start_time": "2021-12-24T23:07:58.819Z"
   },
   {
    "duration": 2,
    "start_time": "2021-12-24T23:08:07.833Z"
   },
   {
    "duration": 11,
    "start_time": "2021-12-24T23:08:12.485Z"
   },
   {
    "duration": 6,
    "start_time": "2021-12-24T23:10:02.498Z"
   },
   {
    "duration": 4,
    "start_time": "2021-12-24T23:10:18.113Z"
   },
   {
    "duration": 4,
    "start_time": "2021-12-24T23:10:47.629Z"
   },
   {
    "duration": 4,
    "start_time": "2021-12-24T23:10:51.069Z"
   },
   {
    "duration": 13,
    "start_time": "2021-12-24T23:10:52.057Z"
   },
   {
    "duration": 4,
    "start_time": "2021-12-24T23:11:02.469Z"
   },
   {
    "duration": 9,
    "start_time": "2021-12-24T23:24:01.575Z"
   },
   {
    "duration": 4,
    "start_time": "2021-12-24T23:24:27.110Z"
   },
   {
    "duration": 4,
    "start_time": "2021-12-24T23:25:12.758Z"
   },
   {
    "duration": 4,
    "start_time": "2021-12-24T23:25:15.736Z"
   },
   {
    "duration": 79,
    "start_time": "2021-12-24T23:27:07.044Z"
   },
   {
    "duration": 225,
    "start_time": "2021-12-24T23:28:35.935Z"
   },
   {
    "duration": 6110,
    "start_time": "2021-12-24T23:28:38.594Z"
   },
   {
    "duration": 158,
    "start_time": "2021-12-24T23:28:44.548Z"
   },
   {
    "duration": 145,
    "start_time": "2021-12-24T23:28:44.562Z"
   },
   {
    "duration": 135,
    "start_time": "2021-12-24T23:28:44.573Z"
   },
   {
    "duration": 6184,
    "start_time": "2021-12-24T23:28:46.281Z"
   },
   {
    "duration": 48,
    "start_time": "2021-12-24T23:28:53.837Z"
   },
   {
    "duration": 15,
    "start_time": "2021-12-24T23:28:53.887Z"
   },
   {
    "duration": 18,
    "start_time": "2021-12-24T23:28:53.914Z"
   },
   {
    "duration": 6,
    "start_time": "2021-12-24T23:28:55.933Z"
   },
   {
    "duration": 10,
    "start_time": "2021-12-24T23:28:56.113Z"
   },
   {
    "duration": 18,
    "start_time": "2021-12-24T23:28:56.654Z"
   },
   {
    "duration": 13,
    "start_time": "2021-12-24T23:28:56.843Z"
   },
   {
    "duration": 7,
    "start_time": "2021-12-24T23:28:57.380Z"
   },
   {
    "duration": 5,
    "start_time": "2021-12-24T23:28:57.759Z"
   },
   {
    "duration": 9,
    "start_time": "2021-12-24T23:28:57.944Z"
   },
   {
    "duration": 5,
    "start_time": "2021-12-24T23:28:58.301Z"
   },
   {
    "duration": 6,
    "start_time": "2021-12-24T23:28:58.694Z"
   },
   {
    "duration": 7,
    "start_time": "2021-12-24T23:28:59.084Z"
   },
   {
    "duration": 11,
    "start_time": "2021-12-24T23:28:59.515Z"
   },
   {
    "duration": 7,
    "start_time": "2021-12-24T23:29:00.555Z"
   },
   {
    "duration": 16,
    "start_time": "2021-12-24T23:29:02.151Z"
   },
   {
    "duration": 6,
    "start_time": "2021-12-24T23:29:04.021Z"
   },
   {
    "duration": 33,
    "start_time": "2021-12-24T23:29:06.598Z"
   },
   {
    "duration": 9,
    "start_time": "2021-12-24T23:29:07.910Z"
   },
   {
    "duration": 15,
    "start_time": "2021-12-24T23:29:08.889Z"
   },
   {
    "duration": 6,
    "start_time": "2021-12-24T23:29:10.480Z"
   },
   {
    "duration": 22,
    "start_time": "2021-12-24T23:29:11.698Z"
   },
   {
    "duration": 10,
    "start_time": "2021-12-24T23:29:18.659Z"
   },
   {
    "duration": 5,
    "start_time": "2021-12-24T23:29:19.566Z"
   },
   {
    "duration": 6,
    "start_time": "2021-12-24T23:29:23.258Z"
   },
   {
    "duration": 8,
    "start_time": "2021-12-24T23:29:24.469Z"
   },
   {
    "duration": 6,
    "start_time": "2021-12-24T23:29:25.456Z"
   },
   {
    "duration": 5,
    "start_time": "2021-12-24T23:29:27.900Z"
   },
   {
    "duration": 6,
    "start_time": "2021-12-24T23:29:31.118Z"
   },
   {
    "duration": 9,
    "start_time": "2021-12-24T23:29:32.374Z"
   },
   {
    "duration": 5,
    "start_time": "2021-12-24T23:29:37.505Z"
   },
   {
    "duration": 6,
    "start_time": "2021-12-24T23:29:38.621Z"
   },
   {
    "duration": 4,
    "start_time": "2021-12-24T23:29:39.748Z"
   },
   {
    "duration": 6,
    "start_time": "2021-12-24T23:29:40.261Z"
   },
   {
    "duration": 5,
    "start_time": "2021-12-24T23:29:41.050Z"
   },
   {
    "duration": 7,
    "start_time": "2021-12-24T23:29:42.129Z"
   },
   {
    "duration": 6,
    "start_time": "2021-12-24T23:29:47.951Z"
   },
   {
    "duration": 7,
    "start_time": "2021-12-24T23:29:50.365Z"
   },
   {
    "duration": 7,
    "start_time": "2021-12-24T23:29:51.435Z"
   },
   {
    "duration": 5,
    "start_time": "2021-12-24T23:29:52.400Z"
   },
   {
    "duration": 8,
    "start_time": "2021-12-24T23:29:52.846Z"
   },
   {
    "duration": 6,
    "start_time": "2021-12-24T23:29:53.310Z"
   },
   {
    "duration": 5,
    "start_time": "2021-12-24T23:29:53.757Z"
   },
   {
    "duration": 5,
    "start_time": "2021-12-24T23:29:54.185Z"
   },
   {
    "duration": 5,
    "start_time": "2021-12-24T23:29:54.977Z"
   },
   {
    "duration": 5,
    "start_time": "2021-12-24T23:29:55.813Z"
   },
   {
    "duration": 8,
    "start_time": "2021-12-24T23:29:56.089Z"
   },
   {
    "duration": 4,
    "start_time": "2021-12-24T23:29:57.404Z"
   },
   {
    "duration": 5,
    "start_time": "2021-12-24T23:29:57.936Z"
   },
   {
    "duration": 5,
    "start_time": "2021-12-24T23:29:58.410Z"
   },
   {
    "duration": 4,
    "start_time": "2021-12-24T23:29:59.416Z"
   },
   {
    "duration": 5,
    "start_time": "2021-12-24T23:29:59.976Z"
   },
   {
    "duration": 6,
    "start_time": "2021-12-24T23:30:00.466Z"
   },
   {
    "duration": 7,
    "start_time": "2021-12-24T23:30:00.749Z"
   },
   {
    "duration": 10,
    "start_time": "2021-12-24T23:30:01.214Z"
   },
   {
    "duration": 7,
    "start_time": "2021-12-24T23:30:01.624Z"
   },
   {
    "duration": 3,
    "start_time": "2021-12-24T23:30:02.164Z"
   },
   {
    "duration": 5,
    "start_time": "2021-12-24T23:30:03.365Z"
   },
   {
    "duration": 13,
    "start_time": "2021-12-24T23:30:03.702Z"
   },
   {
    "duration": 31,
    "start_time": "2021-12-24T23:30:04.220Z"
   },
   {
    "duration": 7,
    "start_time": "2021-12-24T23:30:05.088Z"
   },
   {
    "duration": 6,
    "start_time": "2021-12-24T23:30:05.734Z"
   },
   {
    "duration": 9,
    "start_time": "2021-12-24T23:30:06.879Z"
   },
   {
    "duration": 5,
    "start_time": "2021-12-24T23:30:07.395Z"
   },
   {
    "duration": 5,
    "start_time": "2021-12-24T23:30:07.931Z"
   },
   {
    "duration": 7,
    "start_time": "2021-12-24T23:30:08.459Z"
   },
   {
    "duration": 15,
    "start_time": "2021-12-24T23:30:09.392Z"
   },
   {
    "duration": 32,
    "start_time": "2021-12-24T23:30:10.149Z"
   },
   {
    "duration": 3,
    "start_time": "2021-12-24T23:30:10.798Z"
   },
   {
    "duration": 15,
    "start_time": "2021-12-24T23:30:11.479Z"
   },
   {
    "duration": 10,
    "start_time": "2021-12-24T23:30:11.956Z"
   },
   {
    "duration": 9,
    "start_time": "2021-12-24T23:30:15.924Z"
   },
   {
    "duration": 4,
    "start_time": "2021-12-24T23:30:16.514Z"
   },
   {
    "duration": 10,
    "start_time": "2021-12-24T23:30:17.830Z"
   },
   {
    "duration": 5,
    "start_time": "2021-12-24T23:30:18.431Z"
   },
   {
    "duration": 5,
    "start_time": "2021-12-24T23:30:19.916Z"
   },
   {
    "duration": 5,
    "start_time": "2021-12-24T23:30:20.426Z"
   },
   {
    "duration": 12,
    "start_time": "2021-12-24T23:30:20.898Z"
   },
   {
    "duration": 6002,
    "start_time": "2021-12-24T23:30:23.506Z"
   },
   {
    "duration": 11,
    "start_time": "2021-12-24T23:31:29.325Z"
   },
   {
    "duration": 6,
    "start_time": "2021-12-24T23:33:22.435Z"
   },
   {
    "duration": 9,
    "start_time": "2021-12-24T23:34:31.414Z"
   },
   {
    "duration": 14,
    "start_time": "2021-12-24T23:34:44.390Z"
   },
   {
    "duration": 16,
    "start_time": "2021-12-24T23:35:01.195Z"
   },
   {
    "duration": 14,
    "start_time": "2021-12-24T23:35:21.664Z"
   },
   {
    "duration": 16,
    "start_time": "2021-12-24T23:35:58.356Z"
   },
   {
    "duration": 14,
    "start_time": "2021-12-24T23:36:23.625Z"
   },
   {
    "duration": 8,
    "start_time": "2021-12-24T23:39:26.653Z"
   },
   {
    "duration": 10,
    "start_time": "2021-12-24T23:39:28.626Z"
   },
   {
    "duration": 5,
    "start_time": "2021-12-24T23:39:59.426Z"
   },
   {
    "duration": 5,
    "start_time": "2021-12-24T23:40:41.561Z"
   },
   {
    "duration": 14,
    "start_time": "2021-12-24T23:40:44.874Z"
   },
   {
    "duration": 5,
    "start_time": "2021-12-24T23:40:47.290Z"
   },
   {
    "duration": 6,
    "start_time": "2021-12-24T23:40:55.589Z"
   },
   {
    "duration": 5,
    "start_time": "2021-12-24T23:40:56.714Z"
   },
   {
    "duration": 11,
    "start_time": "2021-12-24T23:40:57.815Z"
   },
   {
    "duration": 12,
    "start_time": "2021-12-24T23:41:02.974Z"
   },
   {
    "duration": 12,
    "start_time": "2021-12-24T23:41:13.973Z"
   },
   {
    "duration": 5,
    "start_time": "2021-12-24T23:41:16.706Z"
   },
   {
    "duration": 16,
    "start_time": "2021-12-24T23:41:21.375Z"
   },
   {
    "duration": 15,
    "start_time": "2021-12-24T23:41:30.291Z"
   },
   {
    "duration": 15,
    "start_time": "2021-12-24T23:41:32.693Z"
   },
   {
    "duration": 14,
    "start_time": "2021-12-24T23:41:35.291Z"
   },
   {
    "duration": 260,
    "start_time": "2021-12-24T23:42:13.564Z"
   },
   {
    "duration": 25,
    "start_time": "2021-12-24T23:42:22.069Z"
   },
   {
    "duration": 337,
    "start_time": "2021-12-25T16:30:10.553Z"
   },
   {
    "duration": 330,
    "start_time": "2021-12-25T16:30:19.487Z"
   },
   {
    "duration": 994,
    "start_time": "2021-12-25T16:30:31.906Z"
   },
   {
    "duration": 19,
    "start_time": "2021-12-25T16:30:33.422Z"
   },
   {
    "duration": 22,
    "start_time": "2021-12-25T16:30:34.550Z"
   },
   {
    "duration": 8,
    "start_time": "2021-12-25T16:30:40.485Z"
   },
   {
    "duration": 19,
    "start_time": "2021-12-25T16:30:42.093Z"
   },
   {
    "duration": 27,
    "start_time": "2021-12-25T16:31:09.137Z"
   },
   {
    "duration": 22,
    "start_time": "2021-12-25T16:31:32.060Z"
   },
   {
    "duration": 8,
    "start_time": "2021-12-25T16:32:24.363Z"
   },
   {
    "duration": 11,
    "start_time": "2021-12-25T16:32:34.397Z"
   },
   {
    "duration": 8,
    "start_time": "2021-12-25T16:32:42.938Z"
   },
   {
    "duration": 8,
    "start_time": "2021-12-25T16:32:44.622Z"
   },
   {
    "duration": 8,
    "start_time": "2021-12-25T16:32:52.894Z"
   },
   {
    "duration": 9,
    "start_time": "2021-12-25T16:34:10.697Z"
   },
   {
    "duration": 9,
    "start_time": "2021-12-25T16:34:11.691Z"
   },
   {
    "duration": 11,
    "start_time": "2021-12-25T16:34:13.649Z"
   },
   {
    "duration": 10,
    "start_time": "2021-12-25T16:34:22.250Z"
   },
   {
    "duration": 10,
    "start_time": "2021-12-25T16:34:24.570Z"
   },
   {
    "duration": 18,
    "start_time": "2021-12-25T16:34:38.800Z"
   },
   {
    "duration": 18,
    "start_time": "2021-12-25T16:37:12.628Z"
   },
   {
    "duration": 47,
    "start_time": "2021-12-25T16:38:12.749Z"
   },
   {
    "duration": 13,
    "start_time": "2021-12-25T16:38:21.058Z"
   },
   {
    "duration": 367,
    "start_time": "2021-12-25T16:40:40.158Z"
   },
   {
    "duration": 657,
    "start_time": "2021-12-25T16:40:54.345Z"
   },
   {
    "duration": 13,
    "start_time": "2021-12-25T16:41:04.194Z"
   },
   {
    "duration": 12,
    "start_time": "2021-12-25T16:41:34.710Z"
   },
   {
    "duration": 12,
    "start_time": "2021-12-25T16:41:41.620Z"
   },
   {
    "duration": 12,
    "start_time": "2021-12-25T16:41:52.608Z"
   },
   {
    "duration": 16,
    "start_time": "2021-12-25T16:41:55.613Z"
   },
   {
    "duration": 7,
    "start_time": "2021-12-25T16:42:04.968Z"
   },
   {
    "duration": 22,
    "start_time": "2021-12-25T16:42:10.709Z"
   },
   {
    "duration": 11,
    "start_time": "2021-12-25T16:42:13.405Z"
   },
   {
    "duration": 6,
    "start_time": "2021-12-25T16:42:14.124Z"
   },
   {
    "duration": 9,
    "start_time": "2021-12-25T16:42:15.566Z"
   },
   {
    "duration": 11,
    "start_time": "2021-12-25T16:42:16.852Z"
   },
   {
    "duration": 5,
    "start_time": "2021-12-25T16:42:18.803Z"
   },
   {
    "duration": 7,
    "start_time": "2021-12-25T16:42:20.828Z"
   },
   {
    "duration": 6,
    "start_time": "2021-12-25T16:42:35.964Z"
   },
   {
    "duration": 16,
    "start_time": "2021-12-25T16:42:45.279Z"
   },
   {
    "duration": 7,
    "start_time": "2021-12-25T16:43:00.607Z"
   },
   {
    "duration": 10,
    "start_time": "2021-12-25T16:43:26.682Z"
   },
   {
    "duration": 9,
    "start_time": "2021-12-25T16:44:36.930Z"
   },
   {
    "duration": 9,
    "start_time": "2021-12-25T16:44:54.550Z"
   },
   {
    "duration": 10,
    "start_time": "2021-12-25T16:45:05.407Z"
   },
   {
    "duration": 8,
    "start_time": "2021-12-25T16:45:28.659Z"
   },
   {
    "duration": 9,
    "start_time": "2021-12-25T16:46:15.249Z"
   },
   {
    "duration": 5,
    "start_time": "2021-12-25T16:46:25.265Z"
   },
   {
    "duration": 8,
    "start_time": "2021-12-25T16:46:25.842Z"
   },
   {
    "duration": 6,
    "start_time": "2021-12-25T16:46:27.057Z"
   },
   {
    "duration": 10,
    "start_time": "2021-12-25T16:47:12.181Z"
   },
   {
    "duration": 8,
    "start_time": "2021-12-25T16:47:12.931Z"
   },
   {
    "duration": 7,
    "start_time": "2021-12-25T16:48:12.642Z"
   },
   {
    "duration": 12,
    "start_time": "2021-12-25T16:48:55.818Z"
   },
   {
    "duration": 9,
    "start_time": "2021-12-25T16:48:58.553Z"
   },
   {
    "duration": 7,
    "start_time": "2021-12-25T16:49:17.073Z"
   },
   {
    "duration": 11,
    "start_time": "2021-12-25T16:49:18.272Z"
   },
   {
    "duration": 7,
    "start_time": "2021-12-25T16:49:19.498Z"
   },
   {
    "duration": 7,
    "start_time": "2021-12-25T16:49:20.614Z"
   },
   {
    "duration": 7,
    "start_time": "2021-12-25T16:49:27.324Z"
   },
   {
    "duration": 8,
    "start_time": "2021-12-25T16:49:53.015Z"
   },
   {
    "duration": 7,
    "start_time": "2021-12-25T16:49:55.769Z"
   },
   {
    "duration": 11,
    "start_time": "2021-12-25T16:49:57.134Z"
   },
   {
    "duration": 13,
    "start_time": "2021-12-25T16:50:00.353Z"
   },
   {
    "duration": 7,
    "start_time": "2021-12-25T16:50:26.655Z"
   },
   {
    "duration": 6,
    "start_time": "2021-12-25T16:50:29.663Z"
   },
   {
    "duration": 6,
    "start_time": "2021-12-25T16:50:42.248Z"
   },
   {
    "duration": 7,
    "start_time": "2021-12-25T16:50:58.425Z"
   },
   {
    "duration": 5,
    "start_time": "2021-12-25T16:52:19.033Z"
   },
   {
    "duration": 7,
    "start_time": "2021-12-25T16:52:24.215Z"
   },
   {
    "duration": 7,
    "start_time": "2021-12-25T16:52:28.088Z"
   },
   {
    "duration": 7,
    "start_time": "2021-12-25T16:52:29.793Z"
   },
   {
    "duration": 13,
    "start_time": "2021-12-25T16:52:30.658Z"
   },
   {
    "duration": 10,
    "start_time": "2021-12-25T16:52:32.239Z"
   },
   {
    "duration": 4,
    "start_time": "2021-12-25T16:52:33.018Z"
   },
   {
    "duration": 7,
    "start_time": "2021-12-25T16:52:35.520Z"
   },
   {
    "duration": 18,
    "start_time": "2021-12-25T16:52:36.088Z"
   },
   {
    "duration": 54,
    "start_time": "2021-12-25T16:53:01.709Z"
   },
   {
    "duration": 22,
    "start_time": "2021-12-25T16:53:19.705Z"
   },
   {
    "duration": 57,
    "start_time": "2021-12-25T16:53:20.725Z"
   },
   {
    "duration": 12,
    "start_time": "2021-12-25T16:53:44.063Z"
   },
   {
    "duration": 8,
    "start_time": "2021-12-25T16:53:45.355Z"
   },
   {
    "duration": 14,
    "start_time": "2021-12-25T16:53:48.944Z"
   },
   {
    "duration": 7,
    "start_time": "2021-12-25T16:53:51.242Z"
   },
   {
    "duration": 8,
    "start_time": "2021-12-25T16:53:53.279Z"
   },
   {
    "duration": 11,
    "start_time": "2021-12-25T16:53:54.234Z"
   },
   {
    "duration": 27,
    "start_time": "2021-12-25T16:53:58.208Z"
   },
   {
    "duration": 56,
    "start_time": "2021-12-25T16:54:19.013Z"
   },
   {
    "duration": 3,
    "start_time": "2021-12-25T16:58:14.311Z"
   },
   {
    "duration": 3,
    "start_time": "2021-12-25T16:58:16.461Z"
   },
   {
    "duration": 25,
    "start_time": "2021-12-25T16:58:17.141Z"
   },
   {
    "duration": 16,
    "start_time": "2021-12-25T16:58:17.873Z"
   },
   {
    "duration": 11,
    "start_time": "2021-12-25T16:58:37.626Z"
   },
   {
    "duration": 6,
    "start_time": "2021-12-25T16:58:38.563Z"
   },
   {
    "duration": 12,
    "start_time": "2021-12-25T16:58:40.304Z"
   },
   {
    "duration": 4,
    "start_time": "2021-12-25T16:58:44.907Z"
   },
   {
    "duration": 18,
    "start_time": "2021-12-25T16:58:49.253Z"
   },
   {
    "duration": 6,
    "start_time": "2021-12-25T16:58:56.541Z"
   },
   {
    "duration": 7,
    "start_time": "2021-12-25T16:58:58.372Z"
   },
   {
    "duration": 6,
    "start_time": "2021-12-25T16:58:59.227Z"
   },
   {
    "duration": 20,
    "start_time": "2021-12-25T16:59:05.348Z"
   },
   {
    "duration": 21,
    "start_time": "2021-12-25T16:59:16.238Z"
   },
   {
    "duration": 8,
    "start_time": "2021-12-25T16:59:19.413Z"
   },
   {
    "duration": 25,
    "start_time": "2021-12-25T16:59:25.736Z"
   },
   {
    "duration": 24,
    "start_time": "2021-12-25T16:59:26.778Z"
   },
   {
    "duration": 22,
    "start_time": "2021-12-25T16:59:27.995Z"
   },
   {
    "duration": 25,
    "start_time": "2021-12-25T16:59:29.256Z"
   },
   {
    "duration": 17,
    "start_time": "2021-12-25T17:00:46.769Z"
   },
   {
    "duration": 16,
    "start_time": "2021-12-25T18:20:34.060Z"
   },
   {
    "duration": 6,
    "start_time": "2021-12-25T18:20:36.240Z"
   },
   {
    "duration": 12,
    "start_time": "2021-12-25T18:26:45.854Z"
   },
   {
    "duration": 6,
    "start_time": "2021-12-25T18:26:51.739Z"
   },
   {
    "duration": 8,
    "start_time": "2021-12-25T18:27:12.094Z"
   },
   {
    "duration": 29,
    "start_time": "2021-12-25T18:28:27.423Z"
   },
   {
    "duration": 27,
    "start_time": "2021-12-25T18:28:43.566Z"
   },
   {
    "duration": 28,
    "start_time": "2021-12-25T18:29:08.600Z"
   },
   {
    "duration": 8,
    "start_time": "2021-12-25T18:32:47.594Z"
   },
   {
    "duration": 50,
    "start_time": "2021-12-25T18:32:57.331Z"
   },
   {
    "duration": 16,
    "start_time": "2021-12-25T18:35:02.629Z"
   },
   {
    "duration": 20,
    "start_time": "2021-12-25T19:23:01.772Z"
   },
   {
    "duration": 20,
    "start_time": "2021-12-25T19:23:10.517Z"
   },
   {
    "duration": 21,
    "start_time": "2021-12-25T19:23:19.441Z"
   },
   {
    "duration": 19,
    "start_time": "2021-12-25T19:23:29.220Z"
   },
   {
    "duration": 21,
    "start_time": "2021-12-25T19:23:39.688Z"
   },
   {
    "duration": 14,
    "start_time": "2021-12-25T19:25:53.702Z"
   },
   {
    "duration": 11,
    "start_time": "2021-12-25T19:26:07.539Z"
   },
   {
    "duration": 22,
    "start_time": "2021-12-25T19:26:19.294Z"
   },
   {
    "duration": 28,
    "start_time": "2021-12-25T19:26:59.017Z"
   },
   {
    "duration": 29,
    "start_time": "2021-12-25T19:27:28.353Z"
   },
   {
    "duration": 29,
    "start_time": "2021-12-25T19:28:09.789Z"
   },
   {
    "duration": 41,
    "start_time": "2021-12-25T19:28:24.596Z"
   },
   {
    "duration": 24,
    "start_time": "2021-12-25T19:34:22.597Z"
   },
   {
    "duration": 14,
    "start_time": "2021-12-25T19:52:37.689Z"
   },
   {
    "duration": 1992,
    "start_time": "2021-12-25T19:54:22.176Z"
   },
   {
    "duration": 107,
    "start_time": "2021-12-25T19:54:47.229Z"
   },
   {
    "duration": 658,
    "start_time": "2021-12-25T19:54:51.753Z"
   },
   {
    "duration": 274,
    "start_time": "2021-12-25T19:54:58.078Z"
   },
   {
    "duration": 1862,
    "start_time": "2021-12-25T19:55:24.158Z"
   },
   {
    "duration": 99,
    "start_time": "2021-12-25T19:57:26.610Z"
   },
   {
    "duration": 1166,
    "start_time": "2021-12-25T19:57:33.395Z"
   },
   {
    "duration": 1233,
    "start_time": "2021-12-25T19:57:40.371Z"
   },
   {
    "duration": 5530,
    "start_time": "2021-12-25T19:58:23.964Z"
   },
   {
    "duration": 1317,
    "start_time": "2021-12-25T19:58:43.336Z"
   },
   {
    "duration": 17,
    "start_time": "2021-12-25T20:01:07.572Z"
   },
   {
    "duration": 311,
    "start_time": "2021-12-25T20:33:01.223Z"
   },
   {
    "duration": 38,
    "start_time": "2021-12-25T20:33:18.825Z"
   },
   {
    "duration": 38,
    "start_time": "2021-12-25T20:34:01.261Z"
   },
   {
    "duration": 26,
    "start_time": "2021-12-25T20:43:06.813Z"
   },
   {
    "duration": 27,
    "start_time": "2021-12-25T20:46:09.572Z"
   },
   {
    "duration": 90,
    "start_time": "2021-12-25T20:48:58.237Z"
   },
   {
    "duration": 14,
    "start_time": "2021-12-25T20:49:07.867Z"
   },
   {
    "duration": 409,
    "start_time": "2021-12-25T20:49:16.546Z"
   },
   {
    "duration": 42,
    "start_time": "2021-12-25T20:49:37.144Z"
   },
   {
    "duration": 20,
    "start_time": "2021-12-25T20:49:37.358Z"
   },
   {
    "duration": 37,
    "start_time": "2021-12-25T20:49:47.017Z"
   },
   {
    "duration": 23,
    "start_time": "2021-12-25T20:49:47.983Z"
   },
   {
    "duration": 29,
    "start_time": "2021-12-25T20:49:48.619Z"
   },
   {
    "duration": 19,
    "start_time": "2021-12-25T20:49:49.222Z"
   },
   {
    "duration": 288,
    "start_time": "2021-12-25T20:49:49.778Z"
   },
   {
    "duration": 18,
    "start_time": "2021-12-25T20:50:03.106Z"
   },
   {
    "duration": 16,
    "start_time": "2021-12-25T20:51:59.533Z"
   },
   {
    "duration": 22,
    "start_time": "2021-12-25T21:02:56.154Z"
   },
   {
    "duration": 7,
    "start_time": "2021-12-25T21:07:37.222Z"
   },
   {
    "duration": 20,
    "start_time": "2021-12-25T21:08:29.449Z"
   },
   {
    "duration": 12,
    "start_time": "2021-12-25T21:09:16.833Z"
   },
   {
    "duration": 18,
    "start_time": "2021-12-25T21:09:32.943Z"
   },
   {
    "duration": 8,
    "start_time": "2021-12-25T21:10:20.699Z"
   },
   {
    "duration": 17,
    "start_time": "2021-12-25T21:13:02.251Z"
   },
   {
    "duration": 17,
    "start_time": "2021-12-25T21:33:21.869Z"
   },
   {
    "duration": 5,
    "start_time": "2021-12-25T21:33:22.464Z"
   },
   {
    "duration": 7,
    "start_time": "2021-12-25T21:33:23.300Z"
   },
   {
    "duration": 6,
    "start_time": "2021-12-25T21:33:23.669Z"
   },
   {
    "duration": 20,
    "start_time": "2021-12-25T21:33:23.981Z"
   },
   {
    "duration": 19,
    "start_time": "2021-12-25T21:33:24.618Z"
   },
   {
    "duration": 8,
    "start_time": "2021-12-25T21:33:24.938Z"
   },
   {
    "duration": 23,
    "start_time": "2021-12-25T21:33:25.531Z"
   },
   {
    "duration": 22,
    "start_time": "2021-12-25T21:33:25.910Z"
   },
   {
    "duration": 22,
    "start_time": "2021-12-25T21:33:26.240Z"
   },
   {
    "duration": 25,
    "start_time": "2021-12-25T21:33:26.550Z"
   },
   {
    "duration": 3,
    "start_time": "2021-12-25T21:33:27.200Z"
   },
   {
    "duration": 3,
    "start_time": "2021-12-25T21:33:27.629Z"
   },
   {
    "duration": 3,
    "start_time": "2021-12-25T21:33:28.511Z"
   },
   {
    "duration": 3,
    "start_time": "2021-12-25T21:33:28.785Z"
   },
   {
    "duration": 27,
    "start_time": "2021-12-25T21:33:44.078Z"
   },
   {
    "duration": 29,
    "start_time": "2021-12-25T21:33:44.664Z"
   },
   {
    "duration": 30,
    "start_time": "2021-12-25T21:33:45.949Z"
   },
   {
    "duration": 11,
    "start_time": "2021-12-25T21:33:51.195Z"
   },
   {
    "duration": 49,
    "start_time": "2021-12-25T21:33:51.999Z"
   },
   {
    "duration": 16,
    "start_time": "2021-12-25T21:33:53.248Z"
   },
   {
    "duration": 47,
    "start_time": "2021-12-25T21:33:54.155Z"
   },
   {
    "duration": 19,
    "start_time": "2021-12-25T21:33:56.564Z"
   },
   {
    "duration": 20,
    "start_time": "2021-12-25T21:33:58.454Z"
   },
   {
    "duration": 22,
    "start_time": "2021-12-25T21:34:10.844Z"
   },
   {
    "duration": 20,
    "start_time": "2021-12-25T21:34:12.013Z"
   },
   {
    "duration": 21,
    "start_time": "2021-12-25T21:35:12.227Z"
   },
   {
    "duration": 23,
    "start_time": "2021-12-25T21:35:13.923Z"
   },
   {
    "duration": 30,
    "start_time": "2021-12-25T21:35:15.083Z"
   },
   {
    "duration": 31,
    "start_time": "2021-12-25T21:35:18.873Z"
   },
   {
    "duration": 31,
    "start_time": "2021-12-25T21:35:20.489Z"
   },
   {
    "duration": 42,
    "start_time": "2021-12-25T21:35:21.557Z"
   },
   {
    "duration": 22,
    "start_time": "2021-12-25T21:35:23.824Z"
   },
   {
    "duration": 38,
    "start_time": "2021-12-25T21:35:33.001Z"
   },
   {
    "duration": 23,
    "start_time": "2021-12-25T21:35:33.931Z"
   },
   {
    "duration": 24,
    "start_time": "2021-12-25T21:35:34.543Z"
   },
   {
    "duration": 14,
    "start_time": "2021-12-25T21:35:34.986Z"
   },
   {
    "duration": 17,
    "start_time": "2021-12-25T21:35:35.486Z"
   },
   {
    "duration": 14,
    "start_time": "2021-12-25T21:35:39.446Z"
   },
   {
    "duration": 7,
    "start_time": "2021-12-25T21:35:40.715Z"
   },
   {
    "duration": 17,
    "start_time": "2021-12-25T21:35:43.481Z"
   },
   {
    "duration": 18,
    "start_time": "2021-12-25T21:35:45.596Z"
   },
   {
    "duration": 3,
    "start_time": "2021-12-25T21:35:46.270Z"
   },
   {
    "duration": 16,
    "start_time": "2021-12-25T21:35:48.173Z"
   },
   {
    "duration": 7,
    "start_time": "2021-12-25T21:35:48.989Z"
   },
   {
    "duration": 4,
    "start_time": "2021-12-25T21:35:49.707Z"
   },
   {
    "duration": 815,
    "start_time": "2021-12-26T15:00:33.416Z"
   },
   {
    "duration": 11,
    "start_time": "2021-12-26T15:00:34.232Z"
   },
   {
    "duration": 12,
    "start_time": "2021-12-26T15:00:34.244Z"
   },
   {
    "duration": 5,
    "start_time": "2021-12-26T15:00:36.430Z"
   },
   {
    "duration": 13,
    "start_time": "2021-12-26T15:00:36.776Z"
   },
   {
    "duration": 19,
    "start_time": "2021-12-26T15:00:37.689Z"
   },
   {
    "duration": 9,
    "start_time": "2021-12-26T15:00:37.932Z"
   },
   {
    "duration": 7,
    "start_time": "2021-12-26T15:00:38.410Z"
   },
   {
    "duration": 5,
    "start_time": "2021-12-26T15:00:39.212Z"
   },
   {
    "duration": 6,
    "start_time": "2021-12-26T15:00:39.526Z"
   },
   {
    "duration": 5,
    "start_time": "2021-12-26T15:00:40.029Z"
   },
   {
    "duration": 5,
    "start_time": "2021-12-26T15:00:40.544Z"
   },
   {
    "duration": 6,
    "start_time": "2021-12-26T15:00:41.040Z"
   },
   {
    "duration": 10,
    "start_time": "2021-12-26T15:00:41.315Z"
   },
   {
    "duration": 8,
    "start_time": "2021-12-26T15:00:41.596Z"
   },
   {
    "duration": 15,
    "start_time": "2021-12-26T15:00:42.131Z"
   },
   {
    "duration": 5,
    "start_time": "2021-12-26T15:00:42.777Z"
   },
   {
    "duration": 30,
    "start_time": "2021-12-26T15:01:09.924Z"
   },
   {
    "duration": 9,
    "start_time": "2021-12-26T15:01:11.021Z"
   },
   {
    "duration": 8,
    "start_time": "2021-12-26T15:01:11.492Z"
   },
   {
    "duration": 4,
    "start_time": "2021-12-26T15:01:13.349Z"
   },
   {
    "duration": 22,
    "start_time": "2021-12-26T15:01:14.182Z"
   },
   {
    "duration": 7,
    "start_time": "2021-12-26T15:01:15.132Z"
   },
   {
    "duration": 5,
    "start_time": "2021-12-26T15:01:15.501Z"
   },
   {
    "duration": 6,
    "start_time": "2021-12-26T15:01:16.330Z"
   },
   {
    "duration": 8,
    "start_time": "2021-12-26T15:01:16.639Z"
   },
   {
    "duration": 4,
    "start_time": "2021-12-26T15:01:17.258Z"
   },
   {
    "duration": 5,
    "start_time": "2021-12-26T15:01:18.016Z"
   },
   {
    "duration": 6,
    "start_time": "2021-12-26T15:01:18.540Z"
   },
   {
    "duration": 10,
    "start_time": "2021-12-26T15:01:19.317Z"
   },
   {
    "duration": 5,
    "start_time": "2021-12-26T15:01:21.705Z"
   },
   {
    "duration": 7,
    "start_time": "2021-12-26T15:01:23.200Z"
   },
   {
    "duration": 3,
    "start_time": "2021-12-26T15:01:24.035Z"
   },
   {
    "duration": 7,
    "start_time": "2021-12-26T15:01:24.382Z"
   },
   {
    "duration": 5,
    "start_time": "2021-12-26T15:01:40.829Z"
   },
   {
    "duration": 8,
    "start_time": "2021-12-26T15:01:41.595Z"
   },
   {
    "duration": 4,
    "start_time": "2021-12-26T15:01:42.079Z"
   },
   {
    "duration": 5,
    "start_time": "2021-12-26T15:01:42.681Z"
   },
   {
    "duration": 8,
    "start_time": "2021-12-26T15:01:44.316Z"
   },
   {
    "duration": 6,
    "start_time": "2021-12-26T15:01:54.091Z"
   },
   {
    "duration": 4,
    "start_time": "2021-12-26T15:02:03.896Z"
   },
   {
    "duration": 7,
    "start_time": "2021-12-26T15:02:07.214Z"
   },
   {
    "duration": 4,
    "start_time": "2021-12-26T15:02:08.596Z"
   },
   {
    "duration": 4,
    "start_time": "2021-12-26T15:02:10.057Z"
   },
   {
    "duration": 4,
    "start_time": "2021-12-26T15:02:16.586Z"
   },
   {
    "duration": 6,
    "start_time": "2021-12-26T15:02:21.554Z"
   },
   {
    "duration": 4,
    "start_time": "2021-12-26T15:02:32.536Z"
   },
   {
    "duration": 8,
    "start_time": "2021-12-26T15:02:33.504Z"
   },
   {
    "duration": 4,
    "start_time": "2021-12-26T15:02:35.705Z"
   },
   {
    "duration": 5,
    "start_time": "2021-12-26T15:02:41.944Z"
   },
   {
    "duration": 6,
    "start_time": "2021-12-26T15:02:44.207Z"
   },
   {
    "duration": 4,
    "start_time": "2021-12-26T15:02:48.096Z"
   },
   {
    "duration": 5,
    "start_time": "2021-12-26T15:02:48.844Z"
   },
   {
    "duration": 5,
    "start_time": "2021-12-26T15:02:49.699Z"
   },
   {
    "duration": 6,
    "start_time": "2021-12-26T15:02:50.355Z"
   },
   {
    "duration": 8,
    "start_time": "2021-12-26T15:02:52.490Z"
   },
   {
    "duration": 8,
    "start_time": "2021-12-26T15:02:53.243Z"
   },
   {
    "duration": 3,
    "start_time": "2021-12-26T15:02:53.784Z"
   },
   {
    "duration": 5,
    "start_time": "2021-12-26T15:02:54.884Z"
   },
   {
    "duration": 12,
    "start_time": "2021-12-26T15:02:55.655Z"
   },
   {
    "duration": 26,
    "start_time": "2021-12-26T15:02:56.334Z"
   },
   {
    "duration": 9,
    "start_time": "2021-12-26T15:02:57.761Z"
   },
   {
    "duration": 7,
    "start_time": "2021-12-26T15:02:58.980Z"
   },
   {
    "duration": 9,
    "start_time": "2021-12-26T15:03:09.041Z"
   },
   {
    "duration": 5,
    "start_time": "2021-12-26T15:03:09.805Z"
   },
   {
    "duration": 5,
    "start_time": "2021-12-26T15:03:10.319Z"
   },
   {
    "duration": 7,
    "start_time": "2021-12-26T15:03:11.159Z"
   },
   {
    "duration": 16,
    "start_time": "2021-12-26T15:03:19.405Z"
   },
   {
    "duration": 28,
    "start_time": "2021-12-26T15:03:22.769Z"
   },
   {
    "duration": 2,
    "start_time": "2021-12-26T15:03:58.411Z"
   },
   {
    "duration": 2,
    "start_time": "2021-12-26T15:04:02.231Z"
   },
   {
    "duration": 20,
    "start_time": "2021-12-26T15:04:02.235Z"
   },
   {
    "duration": 14,
    "start_time": "2021-12-26T15:09:55.597Z"
   },
   {
    "duration": 14,
    "start_time": "2021-12-26T15:10:08.091Z"
   },
   {
    "duration": 18,
    "start_time": "2021-12-26T15:12:16.569Z"
   },
   {
    "duration": 14,
    "start_time": "2021-12-26T15:12:22.191Z"
   },
   {
    "duration": 10,
    "start_time": "2021-12-26T15:12:25.967Z"
   },
   {
    "duration": 7,
    "start_time": "2021-12-26T15:22:44.067Z"
   },
   {
    "duration": 4,
    "start_time": "2021-12-26T15:22:44.684Z"
   },
   {
    "duration": 8,
    "start_time": "2021-12-26T15:22:46.038Z"
   },
   {
    "duration": 4,
    "start_time": "2021-12-26T15:22:49.322Z"
   },
   {
    "duration": 9,
    "start_time": "2021-12-26T15:22:51.060Z"
   },
   {
    "duration": 4,
    "start_time": "2021-12-26T15:22:52.001Z"
   },
   {
    "duration": 4,
    "start_time": "2021-12-26T15:22:53.552Z"
   },
   {
    "duration": 5,
    "start_time": "2021-12-26T15:22:54.281Z"
   },
   {
    "duration": 12,
    "start_time": "2021-12-26T15:22:56.232Z"
   },
   {
    "duration": 15,
    "start_time": "2021-12-26T15:22:59.353Z"
   },
   {
    "duration": 5,
    "start_time": "2021-12-26T15:23:02.430Z"
   },
   {
    "duration": 15,
    "start_time": "2021-12-26T15:23:04.800Z"
   },
   {
    "duration": 15,
    "start_time": "2021-12-26T15:23:26.524Z"
   },
   {
    "duration": 13,
    "start_time": "2021-12-26T15:23:42.720Z"
   },
   {
    "duration": 13,
    "start_time": "2021-12-26T15:23:45.478Z"
   },
   {
    "duration": 137,
    "start_time": "2021-12-26T15:24:25.116Z"
   },
   {
    "duration": 19,
    "start_time": "2021-12-26T15:29:17.456Z"
   },
   {
    "duration": 19,
    "start_time": "2021-12-26T15:29:38.632Z"
   },
   {
    "duration": 18,
    "start_time": "2021-12-26T15:32:58.868Z"
   },
   {
    "duration": 7,
    "start_time": "2021-12-26T15:41:19.503Z"
   },
   {
    "duration": 4,
    "start_time": "2021-12-26T15:41:20.309Z"
   },
   {
    "duration": 4,
    "start_time": "2021-12-26T15:41:23.426Z"
   },
   {
    "duration": 10,
    "start_time": "2021-12-26T15:41:24.548Z"
   },
   {
    "duration": -226,
    "start_time": "2021-12-26T15:41:35.558Z"
   },
   {
    "duration": -232,
    "start_time": "2021-12-26T15:41:35.566Z"
   },
   {
    "duration": 9710,
    "start_time": "2021-12-26T15:41:38.270Z"
   },
   {
    "duration": -221,
    "start_time": "2021-12-26T15:41:48.204Z"
   },
   {
    "duration": -227,
    "start_time": "2021-12-26T15:41:48.212Z"
   },
   {
    "duration": -235,
    "start_time": "2021-12-26T15:41:48.221Z"
   },
   {
    "duration": -250,
    "start_time": "2021-12-26T15:41:48.237Z"
   },
   {
    "duration": -258,
    "start_time": "2021-12-26T15:41:48.246Z"
   },
   {
    "duration": -348,
    "start_time": "2021-12-26T15:41:48.337Z"
   },
   {
    "duration": -542,
    "start_time": "2021-12-26T15:41:48.532Z"
   },
   {
    "duration": -549,
    "start_time": "2021-12-26T15:41:48.540Z"
   },
   {
    "duration": -557,
    "start_time": "2021-12-26T15:41:48.549Z"
   },
   {
    "duration": -565,
    "start_time": "2021-12-26T15:41:48.557Z"
   },
   {
    "duration": -573,
    "start_time": "2021-12-26T15:41:48.566Z"
   },
   {
    "duration": -627,
    "start_time": "2021-12-26T15:41:48.621Z"
   },
   {
    "duration": -635,
    "start_time": "2021-12-26T15:41:48.630Z"
   },
   {
    "duration": -642,
    "start_time": "2021-12-26T15:41:48.638Z"
   },
   {
    "duration": -650,
    "start_time": "2021-12-26T15:41:48.647Z"
   },
   {
    "duration": -657,
    "start_time": "2021-12-26T15:41:48.655Z"
   },
   {
    "duration": -665,
    "start_time": "2021-12-26T15:41:48.664Z"
   },
   {
    "duration": -672,
    "start_time": "2021-12-26T15:41:48.672Z"
   },
   {
    "duration": -680,
    "start_time": "2021-12-26T15:41:48.681Z"
   },
   {
    "duration": -687,
    "start_time": "2021-12-26T15:41:48.689Z"
   },
   {
    "duration": -693,
    "start_time": "2021-12-26T15:41:48.697Z"
   },
   {
    "duration": -701,
    "start_time": "2021-12-26T15:41:48.706Z"
   },
   {
    "duration": -709,
    "start_time": "2021-12-26T15:41:48.715Z"
   },
   {
    "duration": -723,
    "start_time": "2021-12-26T15:41:48.732Z"
   },
   {
    "duration": -732,
    "start_time": "2021-12-26T15:41:48.742Z"
   },
   {
    "duration": -738,
    "start_time": "2021-12-26T15:41:48.750Z"
   },
   {
    "duration": -746,
    "start_time": "2021-12-26T15:41:48.759Z"
   },
   {
    "duration": 5,
    "start_time": "2021-12-26T15:41:48.499Z"
   },
   {
    "duration": 5,
    "start_time": "2021-12-26T15:41:48.982Z"
   },
   {
    "duration": 11,
    "start_time": "2021-12-26T15:41:49.771Z"
   },
   {
    "duration": 11,
    "start_time": "2021-12-26T15:41:51.513Z"
   },
   {
    "duration": 5,
    "start_time": "2021-12-26T15:41:52.509Z"
   },
   {
    "duration": 16,
    "start_time": "2021-12-26T15:41:55.256Z"
   },
   {
    "duration": 14,
    "start_time": "2021-12-26T15:41:56.686Z"
   },
   {
    "duration": 16,
    "start_time": "2021-12-26T15:41:57.441Z"
   },
   {
    "duration": 15,
    "start_time": "2021-12-26T15:41:58.272Z"
   },
   {
    "duration": 3,
    "start_time": "2021-12-26T15:42:13.178Z"
   },
   {
    "duration": 2,
    "start_time": "2021-12-26T15:42:13.643Z"
   },
   {
    "duration": 2,
    "start_time": "2021-12-26T15:42:13.943Z"
   },
   {
    "duration": 2,
    "start_time": "2021-12-26T15:42:14.546Z"
   },
   {
    "duration": 9,
    "start_time": "2021-12-26T15:42:15.461Z"
   },
   {
    "duration": 5,
    "start_time": "2021-12-26T15:42:16.026Z"
   },
   {
    "duration": 18,
    "start_time": "2021-12-26T15:42:19.346Z"
   },
   {
    "duration": 18,
    "start_time": "2021-12-26T15:42:20.752Z"
   },
   {
    "duration": 18,
    "start_time": "2021-12-26T15:42:21.804Z"
   },
   {
    "duration": 10,
    "start_time": "2021-12-26T15:49:01.803Z"
   },
   {
    "duration": 13,
    "start_time": "2021-12-26T15:49:01.815Z"
   },
   {
    "duration": 5,
    "start_time": "2021-12-26T15:49:02.625Z"
   },
   {
    "duration": 5,
    "start_time": "2021-12-26T15:49:02.728Z"
   },
   {
    "duration": 11,
    "start_time": "2021-12-26T15:49:03.396Z"
   },
   {
    "duration": 12,
    "start_time": "2021-12-26T15:49:04.424Z"
   },
   {
    "duration": 5,
    "start_time": "2021-12-26T15:49:05.042Z"
   },
   {
    "duration": 15,
    "start_time": "2021-12-26T15:49:06.808Z"
   },
   {
    "duration": 14,
    "start_time": "2021-12-26T15:49:07.348Z"
   },
   {
    "duration": 13,
    "start_time": "2021-12-26T15:49:07.909Z"
   },
   {
    "duration": 17,
    "start_time": "2021-12-26T15:49:08.424Z"
   },
   {
    "duration": 2,
    "start_time": "2021-12-26T15:49:09.878Z"
   },
   {
    "duration": 3,
    "start_time": "2021-12-26T15:49:10.307Z"
   },
   {
    "duration": 3,
    "start_time": "2021-12-26T15:49:10.744Z"
   },
   {
    "duration": 2,
    "start_time": "2021-12-26T15:49:11.746Z"
   },
   {
    "duration": 8,
    "start_time": "2021-12-26T15:49:12.187Z"
   },
   {
    "duration": 5,
    "start_time": "2021-12-26T15:49:12.751Z"
   },
   {
    "duration": 18,
    "start_time": "2021-12-26T15:49:14.712Z"
   },
   {
    "duration": 17,
    "start_time": "2021-12-26T15:49:28.964Z"
   },
   {
    "duration": 17,
    "start_time": "2021-12-26T15:49:30.282Z"
   },
   {
    "duration": 19,
    "start_time": "2021-12-26T15:59:29.133Z"
   },
   {
    "duration": 12,
    "start_time": "2021-12-26T16:04:04.509Z"
   },
   {
    "duration": 16,
    "start_time": "2021-12-26T16:04:12.939Z"
   },
   {
    "duration": 9,
    "start_time": "2021-12-26T16:04:19.272Z"
   },
   {
    "duration": 16,
    "start_time": "2021-12-26T16:11:07.841Z"
   },
   {
    "duration": 29,
    "start_time": "2021-12-26T16:11:24.575Z"
   },
   {
    "duration": 22,
    "start_time": "2021-12-26T16:11:31.711Z"
   },
   {
    "duration": 17,
    "start_time": "2021-12-26T16:11:34.748Z"
   },
   {
    "duration": 9,
    "start_time": "2021-12-26T16:11:35.465Z"
   },
   {
    "duration": 12,
    "start_time": "2021-12-26T16:11:36.359Z"
   },
   {
    "duration": 342,
    "start_time": "2021-12-26T16:14:00.356Z"
   },
   {
    "duration": 309,
    "start_time": "2021-12-26T16:14:03.686Z"
   },
   {
    "duration": 380,
    "start_time": "2021-12-26T16:14:09.560Z"
   },
   {
    "duration": 112,
    "start_time": "2021-12-26T16:14:22.597Z"
   },
   {
    "duration": 5,
    "start_time": "2021-12-26T16:14:26.198Z"
   },
   {
    "duration": 337,
    "start_time": "2021-12-26T16:14:52.963Z"
   },
   {
    "duration": 4,
    "start_time": "2021-12-26T16:15:02.194Z"
   },
   {
    "duration": 18,
    "start_time": "2021-12-26T16:16:33.642Z"
   },
   {
    "duration": 20,
    "start_time": "2021-12-26T16:16:58.746Z"
   },
   {
    "duration": 10,
    "start_time": "2021-12-26T16:19:46.634Z"
   },
   {
    "duration": 13,
    "start_time": "2021-12-26T16:20:02.580Z"
   },
   {
    "duration": 6,
    "start_time": "2021-12-26T16:48:38.323Z"
   },
   {
    "duration": 10,
    "start_time": "2021-12-26T16:57:31.085Z"
   },
   {
    "duration": 5,
    "start_time": "2021-12-26T16:58:22.446Z"
   },
   {
    "duration": 12,
    "start_time": "2021-12-26T17:10:07.163Z"
   },
   {
    "duration": 4,
    "start_time": "2021-12-26T17:10:48.797Z"
   },
   {
    "duration": 12,
    "start_time": "2021-12-26T17:18:45.092Z"
   },
   {
    "duration": 5,
    "start_time": "2021-12-26T17:18:47.947Z"
   },
   {
    "duration": 12,
    "start_time": "2021-12-26T17:18:50.353Z"
   },
   {
    "duration": 304,
    "start_time": "2021-12-26T17:25:50.610Z"
   },
   {
    "duration": 13,
    "start_time": "2021-12-26T17:37:30.265Z"
   },
   {
    "duration": 22,
    "start_time": "2021-12-26T17:39:19.805Z"
   },
   {
    "duration": 862,
    "start_time": "2022-05-30T09:23:15.881Z"
   },
   {
    "duration": 18,
    "start_time": "2022-05-30T09:23:16.745Z"
   },
   {
    "duration": 38,
    "start_time": "2022-05-30T09:23:16.767Z"
   },
   {
    "duration": 12,
    "start_time": "2022-05-30T09:23:16.807Z"
   },
   {
    "duration": 16,
    "start_time": "2022-05-30T09:23:16.820Z"
   },
   {
    "duration": 32,
    "start_time": "2022-05-30T09:23:16.837Z"
   },
   {
    "duration": 14,
    "start_time": "2022-05-30T09:23:16.878Z"
   },
   {
    "duration": 8,
    "start_time": "2022-05-30T09:23:16.894Z"
   },
   {
    "duration": 6,
    "start_time": "2022-05-30T09:23:16.904Z"
   },
   {
    "duration": 6,
    "start_time": "2022-05-30T09:23:16.914Z"
   },
   {
    "duration": 10,
    "start_time": "2022-05-30T09:23:16.922Z"
   },
   {
    "duration": 5,
    "start_time": "2022-05-30T09:23:16.933Z"
   },
   {
    "duration": 31,
    "start_time": "2022-05-30T09:23:16.940Z"
   },
   {
    "duration": 37,
    "start_time": "2022-05-30T09:23:16.972Z"
   },
   {
    "duration": 6,
    "start_time": "2022-05-30T09:23:17.011Z"
   },
   {
    "duration": 29,
    "start_time": "2022-05-30T09:23:17.019Z"
   },
   {
    "duration": 49,
    "start_time": "2022-05-30T09:23:17.050Z"
   },
   {
    "duration": 39,
    "start_time": "2022-05-30T09:23:17.101Z"
   },
   {
    "duration": 20,
    "start_time": "2022-05-30T09:23:17.142Z"
   },
   {
    "duration": 27,
    "start_time": "2022-05-30T09:23:17.167Z"
   },
   {
    "duration": 24,
    "start_time": "2022-05-30T09:23:17.196Z"
   },
   {
    "duration": 22,
    "start_time": "2022-05-30T09:23:17.222Z"
   },
   {
    "duration": 9,
    "start_time": "2022-05-30T09:23:17.246Z"
   },
   {
    "duration": 38,
    "start_time": "2022-05-30T09:23:17.259Z"
   },
   {
    "duration": 11,
    "start_time": "2022-05-30T09:23:17.299Z"
   },
   {
    "duration": 16,
    "start_time": "2022-05-30T09:23:17.311Z"
   },
   {
    "duration": 6,
    "start_time": "2022-05-30T09:23:17.328Z"
   },
   {
    "duration": 6,
    "start_time": "2022-05-30T09:23:17.338Z"
   },
   {
    "duration": 40,
    "start_time": "2022-05-30T09:23:17.346Z"
   },
   {
    "duration": 22,
    "start_time": "2022-05-30T09:23:17.388Z"
   },
   {
    "duration": 7,
    "start_time": "2022-05-30T09:23:17.412Z"
   },
   {
    "duration": 13,
    "start_time": "2022-05-30T09:23:17.420Z"
   },
   {
    "duration": 15,
    "start_time": "2022-05-30T09:23:17.435Z"
   },
   {
    "duration": 36,
    "start_time": "2022-05-30T09:23:17.454Z"
   },
   {
    "duration": 6,
    "start_time": "2022-05-30T09:23:17.492Z"
   },
   {
    "duration": 12,
    "start_time": "2022-05-30T09:23:17.499Z"
   },
   {
    "duration": 5,
    "start_time": "2022-05-30T09:23:17.513Z"
   },
   {
    "duration": 5,
    "start_time": "2022-05-30T09:23:17.520Z"
   },
   {
    "duration": 21,
    "start_time": "2022-05-30T09:23:17.527Z"
   },
   {
    "duration": 20,
    "start_time": "2022-05-30T09:23:17.550Z"
   },
   {
    "duration": 15,
    "start_time": "2022-05-30T09:23:17.577Z"
   },
   {
    "duration": 9,
    "start_time": "2022-05-30T09:23:17.593Z"
   },
   {
    "duration": 6,
    "start_time": "2022-05-30T09:23:17.604Z"
   },
   {
    "duration": 7,
    "start_time": "2022-05-30T09:23:17.611Z"
   },
   {
    "duration": 8,
    "start_time": "2022-05-30T09:23:17.620Z"
   },
   {
    "duration": 90,
    "start_time": "2022-05-30T09:23:17.629Z"
   },
   {
    "duration": 0,
    "start_time": "2022-05-30T09:23:17.722Z"
   },
   {
    "duration": 0,
    "start_time": "2022-05-30T09:23:17.723Z"
   },
   {
    "duration": 0,
    "start_time": "2022-05-30T09:23:17.724Z"
   },
   {
    "duration": 0,
    "start_time": "2022-05-30T09:23:17.726Z"
   },
   {
    "duration": 0,
    "start_time": "2022-05-30T09:23:17.727Z"
   },
   {
    "duration": 0,
    "start_time": "2022-05-30T09:23:17.728Z"
   },
   {
    "duration": 0,
    "start_time": "2022-05-30T09:23:17.729Z"
   },
   {
    "duration": 0,
    "start_time": "2022-05-30T09:23:17.730Z"
   },
   {
    "duration": 0,
    "start_time": "2022-05-30T09:23:17.731Z"
   },
   {
    "duration": 0,
    "start_time": "2022-05-30T09:23:17.732Z"
   },
   {
    "duration": 0,
    "start_time": "2022-05-30T09:23:17.733Z"
   },
   {
    "duration": 0,
    "start_time": "2022-05-30T09:23:17.734Z"
   },
   {
    "duration": 2,
    "start_time": "2022-05-30T09:23:17.753Z"
   },
   {
    "duration": 0,
    "start_time": "2022-05-30T09:23:17.756Z"
   },
   {
    "duration": 0,
    "start_time": "2022-05-30T09:23:17.757Z"
   },
   {
    "duration": 0,
    "start_time": "2022-05-30T09:23:17.760Z"
   },
   {
    "duration": 0,
    "start_time": "2022-05-30T09:23:17.760Z"
   },
   {
    "duration": 0,
    "start_time": "2022-05-30T09:23:17.761Z"
   },
   {
    "duration": 0,
    "start_time": "2022-05-30T09:23:17.762Z"
   },
   {
    "duration": 0,
    "start_time": "2022-05-30T09:23:17.762Z"
   },
   {
    "duration": 0,
    "start_time": "2022-05-30T09:23:17.763Z"
   },
   {
    "duration": 0,
    "start_time": "2022-05-30T09:23:17.763Z"
   },
   {
    "duration": 0,
    "start_time": "2022-05-30T09:23:17.764Z"
   },
   {
    "duration": 0,
    "start_time": "2022-05-30T09:23:17.764Z"
   },
   {
    "duration": 0,
    "start_time": "2022-05-30T09:23:17.765Z"
   },
   {
    "duration": 0,
    "start_time": "2022-05-30T09:23:17.766Z"
   },
   {
    "duration": 0,
    "start_time": "2022-05-30T09:23:17.766Z"
   },
   {
    "duration": 0,
    "start_time": "2022-05-30T09:23:17.767Z"
   },
   {
    "duration": 0,
    "start_time": "2022-05-30T09:23:17.767Z"
   },
   {
    "duration": 0,
    "start_time": "2022-05-30T09:23:17.768Z"
   },
   {
    "duration": 0,
    "start_time": "2022-05-30T09:23:17.769Z"
   },
   {
    "duration": 0,
    "start_time": "2022-05-30T09:23:17.769Z"
   },
   {
    "duration": 0,
    "start_time": "2022-05-30T09:23:17.770Z"
   },
   {
    "duration": 0,
    "start_time": "2022-05-30T09:23:17.772Z"
   },
   {
    "duration": 0,
    "start_time": "2022-05-30T09:23:17.773Z"
   },
   {
    "duration": 0,
    "start_time": "2022-05-30T09:23:17.773Z"
   },
   {
    "duration": 0,
    "start_time": "2022-05-30T09:23:17.774Z"
   },
   {
    "duration": 0,
    "start_time": "2022-05-30T09:23:17.775Z"
   },
   {
    "duration": 0,
    "start_time": "2022-05-30T09:23:17.775Z"
   },
   {
    "duration": 0,
    "start_time": "2022-05-30T09:23:17.776Z"
   },
   {
    "duration": 0,
    "start_time": "2022-05-30T09:23:17.776Z"
   },
   {
    "duration": 0,
    "start_time": "2022-05-30T09:23:17.777Z"
   },
   {
    "duration": 0,
    "start_time": "2022-05-30T09:23:17.778Z"
   },
   {
    "duration": 0,
    "start_time": "2022-05-30T09:23:17.778Z"
   },
   {
    "duration": 0,
    "start_time": "2022-05-30T09:23:17.779Z"
   },
   {
    "duration": 0,
    "start_time": "2022-05-30T09:23:17.779Z"
   },
   {
    "duration": 0,
    "start_time": "2022-05-30T09:23:17.780Z"
   },
   {
    "duration": 0,
    "start_time": "2022-05-30T09:23:17.782Z"
   },
   {
    "duration": 0,
    "start_time": "2022-05-30T09:23:17.783Z"
   },
   {
    "duration": 0,
    "start_time": "2022-05-30T09:23:17.784Z"
   },
   {
    "duration": 0,
    "start_time": "2022-05-30T09:23:17.787Z"
   },
   {
    "duration": 0,
    "start_time": "2022-05-30T09:23:17.788Z"
   },
   {
    "duration": 0,
    "start_time": "2022-05-30T09:23:17.789Z"
   },
   {
    "duration": 0,
    "start_time": "2022-05-30T09:23:17.791Z"
   },
   {
    "duration": 0,
    "start_time": "2022-05-30T09:23:17.794Z"
   },
   {
    "duration": 0,
    "start_time": "2022-05-30T09:23:17.795Z"
   },
   {
    "duration": 0,
    "start_time": "2022-05-30T09:23:17.796Z"
   },
   {
    "duration": 0,
    "start_time": "2022-05-30T09:23:17.797Z"
   },
   {
    "duration": 0,
    "start_time": "2022-05-30T09:23:17.799Z"
   },
   {
    "duration": 0,
    "start_time": "2022-05-30T09:23:17.800Z"
   },
   {
    "duration": 0,
    "start_time": "2022-05-30T09:23:17.801Z"
   },
   {
    "duration": 0,
    "start_time": "2022-05-30T09:23:17.802Z"
   },
   {
    "duration": 0,
    "start_time": "2022-05-30T09:23:17.855Z"
   },
   {
    "duration": 0,
    "start_time": "2022-05-30T09:23:17.857Z"
   },
   {
    "duration": 0,
    "start_time": "2022-05-30T09:23:17.858Z"
   },
   {
    "duration": 0,
    "start_time": "2022-05-30T09:23:17.859Z"
   },
   {
    "duration": 0,
    "start_time": "2022-05-30T09:23:17.861Z"
   },
   {
    "duration": 0,
    "start_time": "2022-05-30T09:23:17.862Z"
   },
   {
    "duration": 0,
    "start_time": "2022-05-30T09:23:17.863Z"
   },
   {
    "duration": 0,
    "start_time": "2022-05-30T09:23:17.864Z"
   },
   {
    "duration": 0,
    "start_time": "2022-05-30T09:23:17.866Z"
   },
   {
    "duration": 0,
    "start_time": "2022-05-30T09:23:17.867Z"
   },
   {
    "duration": 0,
    "start_time": "2022-05-30T09:23:17.868Z"
   },
   {
    "duration": 0,
    "start_time": "2022-05-30T09:23:17.869Z"
   },
   {
    "duration": 0,
    "start_time": "2022-05-30T09:23:17.871Z"
   },
   {
    "duration": 0,
    "start_time": "2022-05-30T09:23:17.872Z"
   },
   {
    "duration": 0,
    "start_time": "2022-05-30T09:23:17.873Z"
   },
   {
    "duration": 0,
    "start_time": "2022-05-30T09:23:17.874Z"
   },
   {
    "duration": 0,
    "start_time": "2022-05-30T09:23:17.876Z"
   },
   {
    "duration": 0,
    "start_time": "2022-05-30T09:23:17.877Z"
   },
   {
    "duration": 0,
    "start_time": "2022-05-30T09:23:17.878Z"
   },
   {
    "duration": 0,
    "start_time": "2022-05-30T09:23:17.880Z"
   },
   {
    "duration": 0,
    "start_time": "2022-05-30T09:23:17.881Z"
   },
   {
    "duration": 0,
    "start_time": "2022-05-30T09:23:17.883Z"
   },
   {
    "duration": 0,
    "start_time": "2022-05-30T09:23:17.884Z"
   },
   {
    "duration": 0,
    "start_time": "2022-05-30T09:23:17.885Z"
   },
   {
    "duration": 0,
    "start_time": "2022-05-30T09:23:17.887Z"
   }
  ],
  "kernelspec": {
   "display_name": "Python 3 (ipykernel)",
   "language": "python",
   "name": "python3"
  },
  "language_info": {
   "codemirror_mode": {
    "name": "ipython",
    "version": 3
   },
   "file_extension": ".py",
   "mimetype": "text/x-python",
   "name": "python",
   "nbconvert_exporter": "python",
   "pygments_lexer": "ipython3",
   "version": "3.9.7"
  },
  "toc": {
   "base_numbering": 1,
   "nav_menu": {},
   "number_sections": true,
   "sideBar": true,
   "skip_h1_title": true,
   "title_cell": "Table of Contents",
   "title_sidebar": "Contents",
   "toc_cell": false,
   "toc_position": {},
   "toc_section_display": true,
   "toc_window_display": false
  }
 },
 "nbformat": 4,
 "nbformat_minor": 2
}
